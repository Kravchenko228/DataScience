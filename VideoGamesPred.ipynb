{
 "cells": [
  {
   "cell_type": "markdown",
   "metadata": {
    "pycharm": {
     "name": "#%% md\n"
    }
   },
   "source": [
    "# Scrapping\n"
   ]
  },
  {
   "cell_type": "code",
   "execution_count": 55,
   "metadata": {
    "pycharm": {
     "name": "#%%\n"
    }
   },
   "outputs": [],
   "source": [
    "from selenium import webdriver\n",
    "\n",
    "import requests\n",
    "import time\n",
    "import pandas as pd\n",
    "import random\n",
    "from bs4 import BeautifulSoup\n",
    "\n",
    "url=\"https://itch.io/games/top-rated\""
   ]
  },
  {
   "cell_type": "markdown",
   "source": [
    "Script for scrolling down the page"
   ],
   "metadata": {
    "collapsed": false,
    "pycharm": {
     "name": "#%% md\n"
    }
   }
  },
  {
   "cell_type": "code",
   "execution_count": null,
   "outputs": [],
   "source": [
    "browser = webdriver.Firefox()\n",
    "browser.get(url)\n",
    "\n",
    "i=0\n",
    "j=3631\n",
    "while i<j:\n",
    "    browser.execute_script(\"window.scrollTo(0,document.body.scrollHeight)\")\n",
    "    time.sleep(2)\n",
    "    i=i+1\n",
    "\n",
    "\n",
    "\n",
    "soup=BeautifulSoup(browser.page_source,\"html.parser\")\n",
    "browser.close()"
   ],
   "metadata": {
    "collapsed": false,
    "pycharm": {
     "name": "#%%\n"
    }
   }
  },
  {
   "cell_type": "markdown",
   "source": [],
   "metadata": {
    "collapsed": false,
    "pycharm": {
     "name": "#%% md\n"
    }
   }
  },
  {
   "cell_type": "markdown",
   "source": [
    "Extracting titles, links, authors and prices"
   ],
   "metadata": {
    "collapsed": false,
    "pycharm": {
     "name": "#%% md\n"
    }
   }
  },
  {
   "cell_type": "code",
   "execution_count": null,
   "outputs": [],
   "source": [
    "game_url=[]\n",
    "game_author=[]\n",
    "game_title=[]\n",
    "game_price=[]\n",
    "games =soup.findAll('div',{\"class\":\"game_cell_data\"})\n",
    "for game in games:\n",
    "    try:\n",
    "        title=game.find('a',{\"class\":\"title\"}).get_text()\n",
    "    except:\n",
    "        title=''\n",
    "    try:\n",
    "        price=game.find('div',{'class':'price_value'}).get_text()\n",
    "    except:\n",
    "        price=\"\"\n",
    "    try:\n",
    "        author=game.find('div',{\"class\":\"game_author\"}).get_text()\n",
    "    except:\n",
    "           author=\"\"\n",
    "    try:\n",
    "        urls=game.find('a')['href']\n",
    "    except:\n",
    "        urls=''\n",
    "\n",
    "    game_title.append(title)\n",
    "    game_price.append(price)\n",
    "    game_author.append(author)\n",
    "    game_url.append(urls)"
   ],
   "metadata": {
    "collapsed": false,
    "pycharm": {
     "name": "#%%\n"
    }
   }
  },
  {
   "cell_type": "markdown",
   "source": [
    "Creating a dataframe"
   ],
   "metadata": {
    "collapsed": false,
    "pycharm": {
     "name": "#%% md\n"
    }
   }
  },
  {
   "cell_type": "code",
   "execution_count": null,
   "outputs": [],
   "source": [
    "\n",
    "d={'title':game_title,'author':game_author,'price':game_price,'url':game_url}\n",
    "df=pd.DataFrame(d)\n"
   ],
   "metadata": {
    "collapsed": false,
    "pycharm": {
     "name": "#%%\n"
    }
   }
  },
  {
   "cell_type": "code",
   "execution_count": null,
   "outputs": [],
   "source": [
    "df.to_csv('game_data.csv', sep='\\t',index=False)"
   ],
   "metadata": {
    "collapsed": false,
    "pycharm": {
     "name": "#%%\n"
    }
   }
  },
  {
   "cell_type": "code",
   "execution_count": null,
   "outputs": [],
   "source": [
    "df1 = pd.read_csv('game_data.csv',error_bad_lines=False,sep='\\t')\n"
   ],
   "metadata": {
    "collapsed": false,
    "pycharm": {
     "name": "#%%\n"
    }
   }
  },
  {
   "cell_type": "markdown",
   "source": [
    "Scrapping the data from the game pages"
   ],
   "metadata": {
    "collapsed": false,
    "pycharm": {
     "name": "#%% md\n"
    }
   }
  },
  {
   "cell_type": "code",
   "execution_count": null,
   "outputs": [],
   "source": [
    "game_status=[]\n",
    "game_platform=[]\n",
    "game_rating=[]\n",
    "made_with=[]\n",
    "game_tags=[]\n",
    "game_accessibility=[]\n",
    "game_ASL=[]\n",
    "\n",
    "for g_url in df1.url:\n",
    "    time.sleep(random.randint(1, 5))\n",
    "    g_html=requests.get(g_url)\n",
    "    game_soup=BeautifulSoup(g_html.content,\"html.parser\")\n",
    "\n",
    "\n",
    "    g_status=''\n",
    "    g_platform=''\n",
    "    g_rating=''\n",
    "    g_made_with=''\n",
    "    g_tags=''\n",
    "    g_accessibility=''\n",
    "    g_ASL=''\n",
    "    i=0\n",
    "    try:\n",
    "        tbl=game_soup('table')[i]\n",
    "    except:\n",
    "        1\n",
    "    else:\n",
    "        tbl=game_soup('table')[i]\n",
    "        tbl_rows = tbl.findAll('tr')\n",
    "        for rows in tbl_rows:\n",
    "            try:\n",
    "                rows.find('td').get_text()\n",
    "            except:\n",
    "                i=i+1\n",
    "                tbl=game_soup('table')[i]\n",
    "            else:\n",
    "                if rows.find('td').get_text()=='Status':\n",
    "                    g_status=rows.findAll('td')[1].get_text()\n",
    "                if rows.find('td').get_text()=='Platform':\n",
    "                    g_platform=rows.findAll('td')[1].get_text()\n",
    "                if rows.find('td').get_text()=='Rating':\n",
    "                    g_rating=(game_soup.find(\"div\", {\"class\": \"aggregate_rating\"})[\"title\"])\n",
    "                if rows.find('td').get_text()=='Made with':\n",
    "                    g_made_with=rows.findAll('td')[1].get_text()\n",
    "                if rows.find('td').get_text()=='Tags':\n",
    "                    g_tags=rows.findAll('td')[1].get_text()\n",
    "                if rows.find('td').get_text()=='Accessibility':\n",
    "                    g_accessibility=rows.findAll('td')[1].get_text()\n",
    "                if rows.find('td').get_text()=='ASL':\n",
    "                    g_ASL=rows.findAll('td')[1].get_text()\n",
    "    finally:\n",
    "        game_status.append(g_status)\n",
    "        game_platform.append(g_platform)\n",
    "        game_rating.append(g_rating)\n",
    "        made_with.append(g_made_with)\n",
    "        game_tags.append(g_tags)\n",
    "        game_accessibility.append(g_accessibility)\n",
    "        game_ASL.append(g_ASL)\n"
   ],
   "metadata": {
    "collapsed": false,
    "pycharm": {
     "name": "#%%\n"
    }
   }
  },
  {
   "cell_type": "markdown",
   "source": [
    "Finishing the dataframe"
   ],
   "metadata": {
    "collapsed": false,
    "pycharm": {
     "name": "#%% md\n"
    }
   }
  },
  {
   "cell_type": "code",
   "execution_count": null,
   "outputs": [],
   "source": [
    "df1['status'] = game_status\n",
    "df1['platform'] = game_platform\n",
    "df1['rating'] = game_rating\n",
    "df1['made_with'] = made_with\n",
    "df1['tags'] = game_tags\n",
    "df1['accessibility'] = game_accessibility\n",
    "df1['ASL'] = game_ASL\n",
    "df1.to_csv('final_data.csv', sep='\\t',index=False)\n",
    "\n",
    "\n",
    "\n",
    "\n",
    "\n"
   ],
   "metadata": {
    "collapsed": false,
    "pycharm": {
     "name": "#%%\n"
    }
   }
  }
 ],
 "metadata": {
  "kernelspec": {
   "display_name": "Python 3",
   "language": "python",
   "name": "python3"
  },
  "language_info": {
   "codemirror_mode": {
    "name": "ipython",
    "version": 3
   },
   "file_extension": ".py",
   "mimetype": "text/x-python",
   "name": "python",
   "nbconvert_exporter": "python",
   "pygments_lexer": "ipython3",
   "version": "3.7.6"
  }
 },
 "nbformat": 4,
 "nbformat_minor": 4
}