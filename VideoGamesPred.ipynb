{
 "cells": [
  {
   "cell_type": "markdown",
   "metadata": {
    "pycharm": {
     "name": "#%% md\n"
    }
   },
   "source": [
    "# Scrapping\n"
   ]
  },
  {
   "cell_type": "code",
   "execution_count": 55,
   "metadata": {
    "pycharm": {
     "name": "#%%\n"
    }
   },
   "outputs": [],
   "source": [
    "from selenium import webdriver\n",
    "from selenium.webdriver.common.keys import Keys\n",
    "import requests\n",
    "import time\n",
    "import pandas as pd\n",
    "from pandas import DataFrame\n",
    "import urllib3\n",
    "from bs4 import BeautifulSoup\n",
    "import csv\n",
    "import numpy as np\n",
    "from random import randint\n",
    "url=\"https://itch.io/games/new-and-popular\""
   ]
  },
  {
   "cell_type": "code",
   "execution_count": 56,
   "metadata": {
    "pycharm": {
     "name": "#%%\n"
    }
   },
   "outputs": [],
   "source": [
    "browser = webdriver.Firefox()\n",
    "browser.get(url)\n",
    "\n",
    "i=0\n",
    "j=100\n",
    "while i<j:\n",
    "    browser.execute_script(\"window.scrollTo(0,document.body.scrollHeight)\")\n",
    "    time.sleep(1)\n",
    "    i=i+1\n",
    "\n",
    "\n",
    "\n",
    "soup=BeautifulSoup(browser.page_source,\"html.parser\")\n",
    "browser.close()"
   ]
  },
  {
   "cell_type": "code",
   "execution_count": null,
   "metadata": {
    "pycharm": {
     "name": "#%%\n",
     "is_executing": true
    }
   },
   "outputs": [],
   "source": [
    "game_url=[]\n",
    "game_author=[]\n",
    "game_title=[]\n",
    "game_price=[]\n",
    "games =soup.findAll('div',{\"class\":\"game_cell_data\"})\n",
    "for game in games:\n",
    "    try:\n",
    "        title=game.find('a',{\"class\":\"title\"}).get_text()\n",
    "    except:\n",
    "        title=''\n",
    "    try:\n",
    "        price=game.find('div',{'class':'price_value'}).get_text()\n",
    "    except:\n",
    "        price=\"\"\n",
    "    try:\n",
    "        author=game.find('div',{\"class\":\"game_author\"}).get_text()\n",
    "    except:\n",
    "           author=\"\"\n",
    "    try:\n",
    "        urls=game.find('a')['href']\n",
    "    except:\n",
    "        urls=''\n",
    "\n",
    "    game_title.append(title)\n",
    "    game_price.append(price)\n",
    "    game_author.append(author)\n",
    "    game_url.append(urls)"
   ]
  },
  {
   "cell_type": "code",
   "execution_count": null,
   "metadata": {
    "pycharm": {
     "name": "#%%\n",
     "is_executing": true
    }
   },
   "outputs": [],
   "source": [
    "#soup=BeautifulSoup(html.content,\"html.parser\")\n"
   ]
  },
  {
   "cell_type": "code",
   "execution_count": null,
   "metadata": {
    "pycharm": {
     "name": "#%%\n",
     "is_executing": true
    }
   },
   "outputs": [],
   "source": []
  },
  {
   "cell_type": "code",
   "execution_count": null,
   "metadata": {
    "pycharm": {
     "name": "#%%\n",
     "is_executing": true
    }
   },
   "outputs": [],
   "source": [
    "#features1=soup.findAll(\"button\", attrs={\"class\":\"group_toggle_btn\"})\n",
    "d={'title':game_title,'author':game_author,'price':game_price,'url':game_url}\n",
    "df=pd.DataFrame(d)\n"
   ]
  },
  {
   "cell_type": "code",
   "execution_count": null,
   "metadata": {
    "pycharm": {
     "name": "#%%\n"
    }
   },
   "outputs": [],
   "source": [
    "#first_features=[]\n",
    "#for node in soup.findAll(\""
   ]
  },
  {
   "cell_type": "code",
   "execution_count": null,
   "outputs": [],
   "source": [
    "df.to_csv('game_data.csv', sep='\\t',index=False)"
   ],
   "metadata": {
    "collapsed": false,
    "pycharm": {
     "name": "#%%\n"
    }
   }
  },
  {
   "cell_type": "code",
   "execution_count": null,
   "outputs": [],
   "source": [
    "df1 = pd.read_csv('game_data.csv',error_bad_lines=False,sep='\\t')\n",
    "#data = pd.read_csv(\"file1.csv\", error_bad_lines=False)\n",
    "df1"
   ],
   "metadata": {
    "collapsed": false,
    "pycharm": {
     "name": "#%%\n"
    }
   }
  },
  {
   "cell_type": "code",
   "execution_count": null,
   "metadata": {
    "pycharm": {
     "name": "#%%\n",
     "is_executing": true
    }
   },
   "outputs": [],
   "source": [
    "#features=list()\n",
    "#for node in soup.findAll('li'):\n",
    "#    features.insert(len(features),node.get_text())\n",
    "#print(features)\n"
   ]
  },
  {
   "cell_type": "code",
   "execution_count": 63,
   "metadata": {
    "pycharm": {
     "name": "#%%\n"
    }
   },
   "outputs": [],
   "source": [
    "game_status=[]\n",
    "game_platform=[]\n",
    "game_rating=[]\n",
    "made_with=[]\n",
    "game_tags=[]\n",
    "game_accessibility=[]\n",
    "game_ASL=[]\n",
    "\n",
    "for g_url in df1.url:\n",
    "    time.sleep(random.randint(1, 5))\n",
    "    g_html=requests.get(g_url)\n",
    "    game_soup=BeautifulSoup(g_html.content,\"html.parser\")\n",
    "\n",
    "\n",
    "    g_status=''\n",
    "    g_platform=''\n",
    "    g_rating=''\n",
    "    g_made_with=''\n",
    "    g_tags=''\n",
    "    g_accessibility=''\n",
    "    g_ASL=''\n",
    "\n",
    "    try:\n",
    "        tbl=game_soup('table')[0]\n",
    "    except:\n",
    "        1\n",
    "    else:\n",
    "        tbl=game_soup('table')[0]\n",
    "        tbl_rows = tbl.findAll('tr')\n",
    "        for rows in tbl_rows:\n",
    "            try:\n",
    "                rows.find('td').get_text()\n",
    "            except\n",
    "                rows.find\n",
    "            if rows.find('td').get_text()=='Status':\n",
    "                g_status=rows.findAll('td')[1].get_text()\n",
    "            if rows.find('td').get_text()=='Platform':\n",
    "                g_platform=rows.findAll('td')[1].get_text()\n",
    "            if rows.find('td').get_text()=='Rating':\n",
    "                g_rating=rows.findAll('td')[1].get_text()\n",
    "            if rows.find('td').get_text()=='Made with':\n",
    "                g_made_with=rows.findAll('td')[1].get_text()\n",
    "            if rows.find('td').get_text()=='Tags':\n",
    "                g_tags=rows.findAll('td')[1].get_text()\n",
    "            if rows.find('td').get_text()=='Accessibility':\n",
    "                g_accessibility=rows.findAll('td')[1].get_text()\n",
    "            if rows.find('td').get_text()=='ASL':\n",
    "                g_ASL=rows.findAll('td')[1].get_text()\n",
    "    finally:\n",
    "        game_status.append(g_status)\n",
    "        game_platform.append(g_platform)\n",
    "        game_rating.append(g_rating)\n",
    "        made_with.append(g_made_with)\n",
    "        game_tags.append(g_tags)\n",
    "        game_accessibility.append(g_accessibility)\n",
    "        game_ASL.append(g_ASL)\n",
    "\n",
    "\n"
   ]
  },
  {
   "cell_type": "code",
   "execution_count": null,
   "metadata": {
    "pycharm": {
     "name": "#%%\n",
     "is_executing": true
    }
   },
   "outputs": [],
   "source": [
    "df1['status'] = game_status\n",
    "df1['platform'] = game_platform\n",
    "df1['rating'] = game_rating\n",
    "df1['made_with'] = made_with\n",
    "df1['tags'] = game_tags\n",
    "df1['accessibility'] = game_accessibility\n",
    "df1['ASL'] = game_ASL\n",
    "df1\n",
    "\n",
    "\n",
    "\n",
    "\n",
    "\n"
   ]
  },
  {
   "cell_type": "code",
   "execution_count": 196,
   "outputs": [
    {
     "data": {
      "text/plain": "['Micaka',\n 'Azaxor',\n 'deklazon',\n 'Team Terrible',\n 'Niven Hedinger',\n '616 GAMES',\n 'aislebsoupid',\n 'GAS Letal']"
     },
     "execution_count": 196,
     "metadata": {},
     "output_type": "execute_result"
    }
   ],
   "source": [
    "   \n",
    "\n",
    "\n"
   ],
   "metadata": {
    "collapsed": false,
    "pycharm": {
     "name": "#%%\n"
    }
   }
  },
  {
   "cell_type": "code",
   "execution_count": null,
   "outputs": [],
   "source": [
    "\n",
    "\n",
    "\n",
    "\n"
   ],
   "metadata": {
    "collapsed": false,
    "pycharm": {
     "name": "#%%\n"
    }
   }
  },
  {
   "cell_type": "code",
   "execution_count": 79,
   "metadata": {
    "pycharm": {
     "name": "#%%\n"
    }
   },
   "outputs": [
    {
     "ename": "AttributeError",
     "evalue": "ResultSet object has no attribute 'find'. You're probably treating a list of elements like a single element. Did you call find_all() when you meant to call find()?",
     "output_type": "error",
     "traceback": [
      "\u001B[1;31m---------------------------------------------------------------------------\u001B[0m",
      "\u001B[1;31mAttributeError\u001B[0m                            Traceback (most recent call last)",
      "\u001B[1;32m<ipython-input-79-6dad089fea33>\u001B[0m in \u001B[0;36m<module>\u001B[1;34m\u001B[0m\n\u001B[1;32m----> 1\u001B[1;33m \u001B[0mtitle\u001B[0m\u001B[1;33m=\u001B[0m\u001B[0mgames\u001B[0m\u001B[1;33m.\u001B[0m\u001B[0mfind\u001B[0m\u001B[1;33m(\u001B[0m\u001B[1;34m'div'\u001B[0m\u001B[1;33m,\u001B[0m\u001B[1;33m{\u001B[0m\u001B[1;34m\"class\"\u001B[0m\u001B[1;33m:\u001B[0m\u001B[1;34m\"game_title\"\u001B[0m\u001B[1;33m}\u001B[0m\u001B[1;33m)\u001B[0m\u001B[1;33m.\u001B[0m\u001B[0mget_text\u001B[0m\u001B[1;33m(\u001B[0m\u001B[1;33m)\u001B[0m\u001B[1;33m\u001B[0m\u001B[1;33m\u001B[0m\u001B[0m\n\u001B[0m\u001B[0;32m      2\u001B[0m \u001B[1;33m\u001B[0m\u001B[0m\n",
      "\u001B[1;32mC:\\ProgramData\\Anaconda3\\lib\\site-packages\\bs4\\element.py\u001B[0m in \u001B[0;36m__getattr__\u001B[1;34m(self, key)\u001B[0m\n\u001B[0;32m   2079\u001B[0m         \u001B[1;34m\"\"\"Raise a helpful exception to explain a common code fix.\"\"\"\u001B[0m\u001B[1;33m\u001B[0m\u001B[1;33m\u001B[0m\u001B[0m\n\u001B[0;32m   2080\u001B[0m         raise AttributeError(\n\u001B[1;32m-> 2081\u001B[1;33m             \u001B[1;34m\"ResultSet object has no attribute '%s'. You're probably treating a list of elements like a single element. Did you call find_all() when you meant to call find()?\"\u001B[0m \u001B[1;33m%\u001B[0m \u001B[0mkey\u001B[0m\u001B[1;33m\u001B[0m\u001B[1;33m\u001B[0m\u001B[0m\n\u001B[0m\u001B[0;32m   2082\u001B[0m         )\n",
      "\u001B[1;31mAttributeError\u001B[0m: ResultSet object has no attribute 'find'. You're probably treating a list of elements like a single element. Did you call find_all() when you meant to call find()?"
     ]
    }
   ],
   "source": [
    "#title=games.find('div',{\"class\":\"game_title\"}).get_text()\n"
   ]
  },
  {
   "cell_type": "code",
   "execution_count": null,
   "outputs": [],
   "source": [],
   "metadata": {
    "collapsed": false,
    "pycharm": {
     "name": "#%%\n"
    }
   }
  }
 ],
 "metadata": {
  "kernelspec": {
   "display_name": "Python 3",
   "language": "python",
   "name": "python3"
  },
  "language_info": {
   "codemirror_mode": {
    "name": "ipython",
    "version": 3
   },
   "file_extension": ".py",
   "mimetype": "text/x-python",
   "name": "python",
   "nbconvert_exporter": "python",
   "pygments_lexer": "ipython3",
   "version": "3.7.6"
  }
 },
 "nbformat": 4,
 "nbformat_minor": 4
}