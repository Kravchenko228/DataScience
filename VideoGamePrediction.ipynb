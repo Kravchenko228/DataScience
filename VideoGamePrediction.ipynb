{
 "cells": [
  {
   "cell_type": "markdown",
   "source": [
    "Data Handling"
   ],
   "metadata": {
    "collapsed": false,
    "pycharm": {
     "name": "#%% md\n"
    }
   }
  },
  {
   "cell_type": "code",
   "execution_count": 36,
   "outputs": [],
   "source": [
    "import matplotlib.pyplot as plt\n",
    "import numpy as np\n",
    "from matplotlib import patches\n",
    "import warnings\n",
    "import csv\n",
    "import pandas as pd\n",
    "from array import *\n",
    "#warnings.simplefilter('ignore')"
   ],
   "metadata": {
    "collapsed": false,
    "pycharm": {
     "name": "#%%import pandas as pd\n"
    }
   }
  },
  {
   "cell_type": "markdown",
   "source": [
    "Open Crawled Data csv file"
   ],
   "metadata": {
    "collapsed": false,
    "pycharm": {
     "name": "#%% md\n"
    }
   }
  },
  {
   "cell_type": "code",
   "execution_count": 37,
   "outputs": [
    {
     "data": {
      "text/plain": "                               title           author  price  \\\n0               Friday Night Funkin'    ninjamuffin99   0.00   \n1           Adventures With Anxiety!      Nicky Case!   0.00   \n2                     Butterfly Soup      Brianna Lei   0.00   \n3                       A Short Hike         adamgryu   5.19   \n4                        Project Kat        Leef 6010   0.00   \n...                              ...              ...    ...   \n2459                         Epitaph    Max Kreminski   0.00   \n2460                         10mg :)          torcado   0.00   \n2461         VTM - Heartless Lullaby  Entalto Studios   0.00   \n2462  everybody wants to be a tortle            onion   0.00   \n2463               what's your name?            jelli   0.00   \n\n                                                    url          status  \\\n0                 https://ninja-muffin24.itch.io/funkin  In development   \n1                         https://ncase.itch.io/anxiety        Released   \n2            https://brianna-lei.itch.io/butterfly-soup        Released   \n3                 https://adamgryu.itch.io/a-short-hike        Released   \n4                   https://leef6010.itch.io/projectkat        Released   \n...                                                 ...             ...   \n2459                   https://mkremins.itch.io/epitaph        Released   \n2460                      https://torcado.itch.io/smile        Released   \n2461  https://entaltostudios.itch.io/vtm-heartless-l...        Released   \n2462                 https://le-onionboi.itch.io/tortle        Released   \n2463                    https://sxilin.itch.io/namegame        Released   \n\n                          platform  rating                        made_with  \\\n0     Windows, macOS, Linux, HTML5     4.7          OpenFL, IndieCade, Haxe   \n1                            HTML5     4.9                              NaN   \n2            Windows, macOS, Linux     4.9                           Ren'Py   \n3            Windows, macOS, Linux     4.9                            Unity   \n4            Windows, macOS, Linux     4.8  Paint Tool SAI, Godot, Aseprite   \n...                            ...     ...                              ...   \n2459                         HTML5     4.6                              NaN   \n2460         Windows, macOS, Linux     4.9                              NaN   \n2461                Windows, macOS     4.9                            Unity   \n2462                         HTML5     4.9                            Bitsy   \n2463         Windows, macOS, Linux     4.9                              NaN   \n\n                                                   tags  accessibility  ASL  \n0                                                    2D              0  NaN  \n1                      Comedy, Mental Health, Narrative              0  NaN  \n2     2D, Anime, Female Protagonist, LGBT, Ren'Py, R...              0  NaN  \n3     3D, Atmospheric, Cute, Funny, nature, Relaxing...              1  NaN  \n4     2D, Anime, Cute, Horror, Pixel Art, RPG Maker,...              1  NaN  \n...                                                 ...            ...  ...  \n2459  Aliens, fermijam, Procedural Generation, Text ...              0  NaN  \n2460  10mg, 10-minute-games, Cute, Minimalist, Short...              0  NaN  \n2461  Dark, Horror, Isometric, Meaningful Choices, M...              1  NaN  \n2462              Bitsy, everyone-is-nonbinary, turtles              0  NaN  \n2463                             Furry, LGBT, Narrative              0  NaN  \n\n[2464 rows x 11 columns]",
      "text/html": "<div>\n<style scoped>\n    .dataframe tbody tr th:only-of-type {\n        vertical-align: middle;\n    }\n\n    .dataframe tbody tr th {\n        vertical-align: top;\n    }\n\n    .dataframe thead th {\n        text-align: right;\n    }\n</style>\n<table border=\"1\" class=\"dataframe\">\n  <thead>\n    <tr style=\"text-align: right;\">\n      <th></th>\n      <th>title</th>\n      <th>author</th>\n      <th>price</th>\n      <th>url</th>\n      <th>status</th>\n      <th>platform</th>\n      <th>rating</th>\n      <th>made_with</th>\n      <th>tags</th>\n      <th>accessibility</th>\n      <th>ASL</th>\n    </tr>\n  </thead>\n  <tbody>\n    <tr>\n      <th>0</th>\n      <td>Friday Night Funkin'</td>\n      <td>ninjamuffin99</td>\n      <td>0.00</td>\n      <td>https://ninja-muffin24.itch.io/funkin</td>\n      <td>In development</td>\n      <td>Windows, macOS, Linux, HTML5</td>\n      <td>4.7</td>\n      <td>OpenFL, IndieCade, Haxe</td>\n      <td>2D</td>\n      <td>0</td>\n      <td>NaN</td>\n    </tr>\n    <tr>\n      <th>1</th>\n      <td>Adventures With Anxiety!</td>\n      <td>Nicky Case!</td>\n      <td>0.00</td>\n      <td>https://ncase.itch.io/anxiety</td>\n      <td>Released</td>\n      <td>HTML5</td>\n      <td>4.9</td>\n      <td>NaN</td>\n      <td>Comedy, Mental Health, Narrative</td>\n      <td>0</td>\n      <td>NaN</td>\n    </tr>\n    <tr>\n      <th>2</th>\n      <td>Butterfly Soup</td>\n      <td>Brianna Lei</td>\n      <td>0.00</td>\n      <td>https://brianna-lei.itch.io/butterfly-soup</td>\n      <td>Released</td>\n      <td>Windows, macOS, Linux</td>\n      <td>4.9</td>\n      <td>Ren'Py</td>\n      <td>2D, Anime, Female Protagonist, LGBT, Ren'Py, R...</td>\n      <td>0</td>\n      <td>NaN</td>\n    </tr>\n    <tr>\n      <th>3</th>\n      <td>A Short Hike</td>\n      <td>adamgryu</td>\n      <td>5.19</td>\n      <td>https://adamgryu.itch.io/a-short-hike</td>\n      <td>Released</td>\n      <td>Windows, macOS, Linux</td>\n      <td>4.9</td>\n      <td>Unity</td>\n      <td>3D, Atmospheric, Cute, Funny, nature, Relaxing...</td>\n      <td>1</td>\n      <td>NaN</td>\n    </tr>\n    <tr>\n      <th>4</th>\n      <td>Project Kat</td>\n      <td>Leef 6010</td>\n      <td>0.00</td>\n      <td>https://leef6010.itch.io/projectkat</td>\n      <td>Released</td>\n      <td>Windows, macOS, Linux</td>\n      <td>4.8</td>\n      <td>Paint Tool SAI, Godot, Aseprite</td>\n      <td>2D, Anime, Cute, Horror, Pixel Art, RPG Maker,...</td>\n      <td>1</td>\n      <td>NaN</td>\n    </tr>\n    <tr>\n      <th>...</th>\n      <td>...</td>\n      <td>...</td>\n      <td>...</td>\n      <td>...</td>\n      <td>...</td>\n      <td>...</td>\n      <td>...</td>\n      <td>...</td>\n      <td>...</td>\n      <td>...</td>\n      <td>...</td>\n    </tr>\n    <tr>\n      <th>2459</th>\n      <td>Epitaph</td>\n      <td>Max Kreminski</td>\n      <td>0.00</td>\n      <td>https://mkremins.itch.io/epitaph</td>\n      <td>Released</td>\n      <td>HTML5</td>\n      <td>4.6</td>\n      <td>NaN</td>\n      <td>Aliens, fermijam, Procedural Generation, Text ...</td>\n      <td>0</td>\n      <td>NaN</td>\n    </tr>\n    <tr>\n      <th>2460</th>\n      <td>10mg :)</td>\n      <td>torcado</td>\n      <td>0.00</td>\n      <td>https://torcado.itch.io/smile</td>\n      <td>Released</td>\n      <td>Windows, macOS, Linux</td>\n      <td>4.9</td>\n      <td>NaN</td>\n      <td>10mg, 10-minute-games, Cute, Minimalist, Short...</td>\n      <td>0</td>\n      <td>NaN</td>\n    </tr>\n    <tr>\n      <th>2461</th>\n      <td>VTM - Heartless Lullaby</td>\n      <td>Entalto Studios</td>\n      <td>0.00</td>\n      <td>https://entaltostudios.itch.io/vtm-heartless-l...</td>\n      <td>Released</td>\n      <td>Windows, macOS</td>\n      <td>4.9</td>\n      <td>Unity</td>\n      <td>Dark, Horror, Isometric, Meaningful Choices, M...</td>\n      <td>1</td>\n      <td>NaN</td>\n    </tr>\n    <tr>\n      <th>2462</th>\n      <td>everybody wants to be a tortle</td>\n      <td>onion</td>\n      <td>0.00</td>\n      <td>https://le-onionboi.itch.io/tortle</td>\n      <td>Released</td>\n      <td>HTML5</td>\n      <td>4.9</td>\n      <td>Bitsy</td>\n      <td>Bitsy, everyone-is-nonbinary, turtles</td>\n      <td>0</td>\n      <td>NaN</td>\n    </tr>\n    <tr>\n      <th>2463</th>\n      <td>what's your name?</td>\n      <td>jelli</td>\n      <td>0.00</td>\n      <td>https://sxilin.itch.io/namegame</td>\n      <td>Released</td>\n      <td>Windows, macOS, Linux</td>\n      <td>4.9</td>\n      <td>NaN</td>\n      <td>Furry, LGBT, Narrative</td>\n      <td>0</td>\n      <td>NaN</td>\n    </tr>\n  </tbody>\n</table>\n<p>2464 rows × 11 columns</p>\n</div>"
     },
     "execution_count": 37,
     "metadata": {},
     "output_type": "execute_result"
    }
   ],
   "source": [
    "df = pd.read_csv(\"final_data.tsv\",sep='\\t')\n",
    "#data = pd.read_csv(\"file1.csv\", error_bad_lines=False)\n",
    "df"
   ],
   "metadata": {
    "collapsed": false,
    "pycharm": {
     "name": "#%%\n"
    }
   }
  },
  {
   "cell_type": "markdown",
   "source": [],
   "metadata": {
    "collapsed": false,
    "pycharm": {
     "name": "#%% md\n"
    }
   }
  },
  {
   "cell_type": "code",
   "execution_count": 38,
   "outputs": [
    {
     "data": {
      "text/plain": "                               title           author  price  \\\n0               Friday Night Funkin'    ninjamuffin99   0.00   \n1           Adventures With Anxiety!      Nicky Case!   0.00   \n2                     Butterfly Soup      Brianna Lei   0.00   \n3                       A Short Hike         adamgryu   5.19   \n4                        Project Kat        Leef 6010   0.00   \n...                              ...              ...    ...   \n2459                         Epitaph    Max Kreminski   0.00   \n2460                         10mg :)          torcado   0.00   \n2461         VTM - Heartless Lullaby  Entalto Studios   0.00   \n2462  everybody wants to be a tortle            onion   0.00   \n2463               what's your name?            jelli   0.00   \n\n                                                    url          status  \\\n0                 https://ninja-muffin24.itch.io/funkin  In development   \n1                         https://ncase.itch.io/anxiety        Released   \n2            https://brianna-lei.itch.io/butterfly-soup        Released   \n3                 https://adamgryu.itch.io/a-short-hike        Released   \n4                   https://leef6010.itch.io/projectkat        Released   \n...                                                 ...             ...   \n2459                   https://mkremins.itch.io/epitaph        Released   \n2460                      https://torcado.itch.io/smile        Released   \n2461  https://entaltostudios.itch.io/vtm-heartless-l...        Released   \n2462                 https://le-onionboi.itch.io/tortle        Released   \n2463                    https://sxilin.itch.io/namegame        Released   \n\n                          platform  rating                        made_with  \\\n0     Windows, macOS, Linux, HTML5     4.7          OpenFL, IndieCade, Haxe   \n1                            HTML5     4.9                              NaN   \n2            Windows, macOS, Linux     4.9                           Ren'Py   \n3            Windows, macOS, Linux     4.9                            Unity   \n4            Windows, macOS, Linux     4.8  Paint Tool SAI, Godot, Aseprite   \n...                            ...     ...                              ...   \n2459                         HTML5     4.6                              NaN   \n2460         Windows, macOS, Linux     4.9                              NaN   \n2461                Windows, macOS     4.9                            Unity   \n2462                         HTML5     4.9                            Bitsy   \n2463         Windows, macOS, Linux     4.9                              NaN   \n\n                                                   tags  accessibility  ASL  \n0                                                    2D              0  NaN  \n1                      Comedy, Mental Health, Narrative              0  NaN  \n2     2D, Anime, Female Protagonist, LGBT, Ren'Py, R...              0  NaN  \n3     3D, Atmospheric, Cute, Funny, nature, Relaxing...              1  NaN  \n4     2D, Anime, Cute, Horror, Pixel Art, RPG Maker,...              1  NaN  \n...                                                 ...            ...  ...  \n2459  Aliens, fermijam, Procedural Generation, Text ...              0  NaN  \n2460  10mg, 10-minute-games, Cute, Minimalist, Short...              0  NaN  \n2461  Dark, Horror, Isometric, Meaningful Choices, M...              1  NaN  \n2462              Bitsy, everyone-is-nonbinary, turtles              0  NaN  \n2463                             Furry, LGBT, Narrative              0  NaN  \n\n[2464 rows x 11 columns]",
      "text/html": "<div>\n<style scoped>\n    .dataframe tbody tr th:only-of-type {\n        vertical-align: middle;\n    }\n\n    .dataframe tbody tr th {\n        vertical-align: top;\n    }\n\n    .dataframe thead th {\n        text-align: right;\n    }\n</style>\n<table border=\"1\" class=\"dataframe\">\n  <thead>\n    <tr style=\"text-align: right;\">\n      <th></th>\n      <th>title</th>\n      <th>author</th>\n      <th>price</th>\n      <th>url</th>\n      <th>status</th>\n      <th>platform</th>\n      <th>rating</th>\n      <th>made_with</th>\n      <th>tags</th>\n      <th>accessibility</th>\n      <th>ASL</th>\n    </tr>\n  </thead>\n  <tbody>\n    <tr>\n      <th>0</th>\n      <td>Friday Night Funkin'</td>\n      <td>ninjamuffin99</td>\n      <td>0.00</td>\n      <td>https://ninja-muffin24.itch.io/funkin</td>\n      <td>In development</td>\n      <td>Windows, macOS, Linux, HTML5</td>\n      <td>4.7</td>\n      <td>OpenFL, IndieCade, Haxe</td>\n      <td>2D</td>\n      <td>0</td>\n      <td>NaN</td>\n    </tr>\n    <tr>\n      <th>1</th>\n      <td>Adventures With Anxiety!</td>\n      <td>Nicky Case!</td>\n      <td>0.00</td>\n      <td>https://ncase.itch.io/anxiety</td>\n      <td>Released</td>\n      <td>HTML5</td>\n      <td>4.9</td>\n      <td>NaN</td>\n      <td>Comedy, Mental Health, Narrative</td>\n      <td>0</td>\n      <td>NaN</td>\n    </tr>\n    <tr>\n      <th>2</th>\n      <td>Butterfly Soup</td>\n      <td>Brianna Lei</td>\n      <td>0.00</td>\n      <td>https://brianna-lei.itch.io/butterfly-soup</td>\n      <td>Released</td>\n      <td>Windows, macOS, Linux</td>\n      <td>4.9</td>\n      <td>Ren'Py</td>\n      <td>2D, Anime, Female Protagonist, LGBT, Ren'Py, R...</td>\n      <td>0</td>\n      <td>NaN</td>\n    </tr>\n    <tr>\n      <th>3</th>\n      <td>A Short Hike</td>\n      <td>adamgryu</td>\n      <td>5.19</td>\n      <td>https://adamgryu.itch.io/a-short-hike</td>\n      <td>Released</td>\n      <td>Windows, macOS, Linux</td>\n      <td>4.9</td>\n      <td>Unity</td>\n      <td>3D, Atmospheric, Cute, Funny, nature, Relaxing...</td>\n      <td>1</td>\n      <td>NaN</td>\n    </tr>\n    <tr>\n      <th>4</th>\n      <td>Project Kat</td>\n      <td>Leef 6010</td>\n      <td>0.00</td>\n      <td>https://leef6010.itch.io/projectkat</td>\n      <td>Released</td>\n      <td>Windows, macOS, Linux</td>\n      <td>4.8</td>\n      <td>Paint Tool SAI, Godot, Aseprite</td>\n      <td>2D, Anime, Cute, Horror, Pixel Art, RPG Maker,...</td>\n      <td>1</td>\n      <td>NaN</td>\n    </tr>\n    <tr>\n      <th>...</th>\n      <td>...</td>\n      <td>...</td>\n      <td>...</td>\n      <td>...</td>\n      <td>...</td>\n      <td>...</td>\n      <td>...</td>\n      <td>...</td>\n      <td>...</td>\n      <td>...</td>\n      <td>...</td>\n    </tr>\n    <tr>\n      <th>2459</th>\n      <td>Epitaph</td>\n      <td>Max Kreminski</td>\n      <td>0.00</td>\n      <td>https://mkremins.itch.io/epitaph</td>\n      <td>Released</td>\n      <td>HTML5</td>\n      <td>4.6</td>\n      <td>NaN</td>\n      <td>Aliens, fermijam, Procedural Generation, Text ...</td>\n      <td>0</td>\n      <td>NaN</td>\n    </tr>\n    <tr>\n      <th>2460</th>\n      <td>10mg :)</td>\n      <td>torcado</td>\n      <td>0.00</td>\n      <td>https://torcado.itch.io/smile</td>\n      <td>Released</td>\n      <td>Windows, macOS, Linux</td>\n      <td>4.9</td>\n      <td>NaN</td>\n      <td>10mg, 10-minute-games, Cute, Minimalist, Short...</td>\n      <td>0</td>\n      <td>NaN</td>\n    </tr>\n    <tr>\n      <th>2461</th>\n      <td>VTM - Heartless Lullaby</td>\n      <td>Entalto Studios</td>\n      <td>0.00</td>\n      <td>https://entaltostudios.itch.io/vtm-heartless-l...</td>\n      <td>Released</td>\n      <td>Windows, macOS</td>\n      <td>4.9</td>\n      <td>Unity</td>\n      <td>Dark, Horror, Isometric, Meaningful Choices, M...</td>\n      <td>1</td>\n      <td>NaN</td>\n    </tr>\n    <tr>\n      <th>2462</th>\n      <td>everybody wants to be a tortle</td>\n      <td>onion</td>\n      <td>0.00</td>\n      <td>https://le-onionboi.itch.io/tortle</td>\n      <td>Released</td>\n      <td>HTML5</td>\n      <td>4.9</td>\n      <td>Bitsy</td>\n      <td>Bitsy, everyone-is-nonbinary, turtles</td>\n      <td>0</td>\n      <td>NaN</td>\n    </tr>\n    <tr>\n      <th>2463</th>\n      <td>what's your name?</td>\n      <td>jelli</td>\n      <td>0.00</td>\n      <td>https://sxilin.itch.io/namegame</td>\n      <td>Released</td>\n      <td>Windows, macOS, Linux</td>\n      <td>4.9</td>\n      <td>NaN</td>\n      <td>Furry, LGBT, Narrative</td>\n      <td>0</td>\n      <td>NaN</td>\n    </tr>\n  </tbody>\n</table>\n<p>2464 rows × 11 columns</p>\n</div>"
     },
     "execution_count": 38,
     "metadata": {},
     "output_type": "execute_result"
    }
   ],
   "source": [
    "df1=df\n",
    "df1"
   ],
   "metadata": {
    "collapsed": false,
    "pycharm": {
     "name": "#%%\n"
    }
   }
  },
  {
   "cell_type": "code",
   "execution_count": null,
   "outputs": [],
   "source": [
    "df1['price'] = df1['price'].str.replace('$','')\n",
    "df1=df1.fillna(value = {'price': 0.0})\n",
    "df1=df1.fillna(value = {'accessibility': 0})\n",
    "df1.accessibility[df1.accessibility != 0] = 1\n",
    "df1=df1.dropna(subset=['platform','rating','tags','status'])\n",
    "df1=df1.reset_index()\n",
    "df1=df1.drop('index', axis=1)\n",
    "df1=df1.drop_duplicates()\n",
    "df1\n"
   ],
   "metadata": {
    "collapsed": false,
    "pycharm": {
     "name": "#%%\n"
    }
   }
  },
  {
   "cell_type": "code",
   "execution_count": 39,
   "outputs": [
    {
     "data": {
      "text/plain": "                               title           author  price  \\\n0               Friday Night Funkin'    ninjamuffin99   0.00   \n1           Adventures With Anxiety!      Nicky Case!   0.00   \n2                     Butterfly Soup      Brianna Lei   0.00   \n3                       A Short Hike         adamgryu   5.19   \n4                        Project Kat        Leef 6010   0.00   \n...                              ...              ...    ...   \n2368                         Epitaph    Max Kreminski   0.00   \n2369                         10mg :)          torcado   0.00   \n2370         VTM - Heartless Lullaby  Entalto Studios   0.00   \n2371  everybody wants to be a tortle            onion   0.00   \n2372               what's your name?            jelli   0.00   \n\n                                                    url          status  \\\n0                 https://ninja-muffin24.itch.io/funkin  In development   \n1                         https://ncase.itch.io/anxiety        Released   \n2            https://brianna-lei.itch.io/butterfly-soup        Released   \n3                 https://adamgryu.itch.io/a-short-hike        Released   \n4                   https://leef6010.itch.io/projectkat        Released   \n...                                                 ...             ...   \n2368                   https://mkremins.itch.io/epitaph        Released   \n2369                      https://torcado.itch.io/smile        Released   \n2370  https://entaltostudios.itch.io/vtm-heartless-l...        Released   \n2371                 https://le-onionboi.itch.io/tortle        Released   \n2372                    https://sxilin.itch.io/namegame        Released   \n\n                          platform  rating                        made_with  \\\n0     Windows, macOS, Linux, HTML5     4.7          OpenFL, IndieCade, Haxe   \n1                            HTML5     4.9                              NaN   \n2            Windows, macOS, Linux     4.9                           Ren'Py   \n3            Windows, macOS, Linux     4.9                            Unity   \n4            Windows, macOS, Linux     4.8  Paint Tool SAI, Godot, Aseprite   \n...                            ...     ...                              ...   \n2368                         HTML5     4.6                              NaN   \n2369         Windows, macOS, Linux     4.9                              NaN   \n2370                Windows, macOS     4.9                            Unity   \n2371                         HTML5     4.9                            Bitsy   \n2372         Windows, macOS, Linux     4.9                              NaN   \n\n                                                   tags  accessibility  ASL  \n0                                                    2D              0  NaN  \n1                      Comedy, Mental Health, Narrative              0  NaN  \n2     2D, Anime, Female Protagonist, LGBT, Ren'Py, R...              0  NaN  \n3     3D, Atmospheric, Cute, Funny, nature, Relaxing...              1  NaN  \n4     2D, Anime, Cute, Horror, Pixel Art, RPG Maker,...              1  NaN  \n...                                                 ...            ...  ...  \n2368  Aliens, fermijam, Procedural Generation, Text ...              0  NaN  \n2369  10mg, 10-minute-games, Cute, Minimalist, Short...              0  NaN  \n2370  Dark, Horror, Isometric, Meaningful Choices, M...              1  NaN  \n2371              Bitsy, everyone-is-nonbinary, turtles              0  NaN  \n2372                             Furry, LGBT, Narrative              0  NaN  \n\n[2373 rows x 11 columns]",
      "text/html": "<div>\n<style scoped>\n    .dataframe tbody tr th:only-of-type {\n        vertical-align: middle;\n    }\n\n    .dataframe tbody tr th {\n        vertical-align: top;\n    }\n\n    .dataframe thead th {\n        text-align: right;\n    }\n</style>\n<table border=\"1\" class=\"dataframe\">\n  <thead>\n    <tr style=\"text-align: right;\">\n      <th></th>\n      <th>title</th>\n      <th>author</th>\n      <th>price</th>\n      <th>url</th>\n      <th>status</th>\n      <th>platform</th>\n      <th>rating</th>\n      <th>made_with</th>\n      <th>tags</th>\n      <th>accessibility</th>\n      <th>ASL</th>\n    </tr>\n  </thead>\n  <tbody>\n    <tr>\n      <th>0</th>\n      <td>Friday Night Funkin'</td>\n      <td>ninjamuffin99</td>\n      <td>0.00</td>\n      <td>https://ninja-muffin24.itch.io/funkin</td>\n      <td>In development</td>\n      <td>Windows, macOS, Linux, HTML5</td>\n      <td>4.7</td>\n      <td>OpenFL, IndieCade, Haxe</td>\n      <td>2D</td>\n      <td>0</td>\n      <td>NaN</td>\n    </tr>\n    <tr>\n      <th>1</th>\n      <td>Adventures With Anxiety!</td>\n      <td>Nicky Case!</td>\n      <td>0.00</td>\n      <td>https://ncase.itch.io/anxiety</td>\n      <td>Released</td>\n      <td>HTML5</td>\n      <td>4.9</td>\n      <td>NaN</td>\n      <td>Comedy, Mental Health, Narrative</td>\n      <td>0</td>\n      <td>NaN</td>\n    </tr>\n    <tr>\n      <th>2</th>\n      <td>Butterfly Soup</td>\n      <td>Brianna Lei</td>\n      <td>0.00</td>\n      <td>https://brianna-lei.itch.io/butterfly-soup</td>\n      <td>Released</td>\n      <td>Windows, macOS, Linux</td>\n      <td>4.9</td>\n      <td>Ren'Py</td>\n      <td>2D, Anime, Female Protagonist, LGBT, Ren'Py, R...</td>\n      <td>0</td>\n      <td>NaN</td>\n    </tr>\n    <tr>\n      <th>3</th>\n      <td>A Short Hike</td>\n      <td>adamgryu</td>\n      <td>5.19</td>\n      <td>https://adamgryu.itch.io/a-short-hike</td>\n      <td>Released</td>\n      <td>Windows, macOS, Linux</td>\n      <td>4.9</td>\n      <td>Unity</td>\n      <td>3D, Atmospheric, Cute, Funny, nature, Relaxing...</td>\n      <td>1</td>\n      <td>NaN</td>\n    </tr>\n    <tr>\n      <th>4</th>\n      <td>Project Kat</td>\n      <td>Leef 6010</td>\n      <td>0.00</td>\n      <td>https://leef6010.itch.io/projectkat</td>\n      <td>Released</td>\n      <td>Windows, macOS, Linux</td>\n      <td>4.8</td>\n      <td>Paint Tool SAI, Godot, Aseprite</td>\n      <td>2D, Anime, Cute, Horror, Pixel Art, RPG Maker,...</td>\n      <td>1</td>\n      <td>NaN</td>\n    </tr>\n    <tr>\n      <th>...</th>\n      <td>...</td>\n      <td>...</td>\n      <td>...</td>\n      <td>...</td>\n      <td>...</td>\n      <td>...</td>\n      <td>...</td>\n      <td>...</td>\n      <td>...</td>\n      <td>...</td>\n      <td>...</td>\n    </tr>\n    <tr>\n      <th>2368</th>\n      <td>Epitaph</td>\n      <td>Max Kreminski</td>\n      <td>0.00</td>\n      <td>https://mkremins.itch.io/epitaph</td>\n      <td>Released</td>\n      <td>HTML5</td>\n      <td>4.6</td>\n      <td>NaN</td>\n      <td>Aliens, fermijam, Procedural Generation, Text ...</td>\n      <td>0</td>\n      <td>NaN</td>\n    </tr>\n    <tr>\n      <th>2369</th>\n      <td>10mg :)</td>\n      <td>torcado</td>\n      <td>0.00</td>\n      <td>https://torcado.itch.io/smile</td>\n      <td>Released</td>\n      <td>Windows, macOS, Linux</td>\n      <td>4.9</td>\n      <td>NaN</td>\n      <td>10mg, 10-minute-games, Cute, Minimalist, Short...</td>\n      <td>0</td>\n      <td>NaN</td>\n    </tr>\n    <tr>\n      <th>2370</th>\n      <td>VTM - Heartless Lullaby</td>\n      <td>Entalto Studios</td>\n      <td>0.00</td>\n      <td>https://entaltostudios.itch.io/vtm-heartless-l...</td>\n      <td>Released</td>\n      <td>Windows, macOS</td>\n      <td>4.9</td>\n      <td>Unity</td>\n      <td>Dark, Horror, Isometric, Meaningful Choices, M...</td>\n      <td>1</td>\n      <td>NaN</td>\n    </tr>\n    <tr>\n      <th>2371</th>\n      <td>everybody wants to be a tortle</td>\n      <td>onion</td>\n      <td>0.00</td>\n      <td>https://le-onionboi.itch.io/tortle</td>\n      <td>Released</td>\n      <td>HTML5</td>\n      <td>4.9</td>\n      <td>Bitsy</td>\n      <td>Bitsy, everyone-is-nonbinary, turtles</td>\n      <td>0</td>\n      <td>NaN</td>\n    </tr>\n    <tr>\n      <th>2372</th>\n      <td>what's your name?</td>\n      <td>jelli</td>\n      <td>0.00</td>\n      <td>https://sxilin.itch.io/namegame</td>\n      <td>Released</td>\n      <td>Windows, macOS, Linux</td>\n      <td>4.9</td>\n      <td>NaN</td>\n      <td>Furry, LGBT, Narrative</td>\n      <td>0</td>\n      <td>NaN</td>\n    </tr>\n  </tbody>\n</table>\n<p>2373 rows × 11 columns</p>\n</div>"
     },
     "execution_count": 39,
     "metadata": {},
     "output_type": "execute_result"
    }
   ],
   "source": [
    "df1=df1.fillna(value = {'price': 0.0})\n",
    "df1=df1.dropna(subset=['platform','rating','tags','status'])\n",
    "df1=df1.reset_index()\n",
    "df1=df1.drop('index', axis=1)\n",
    "df1\n"
   ],
   "metadata": {
    "collapsed": false,
    "pycharm": {
     "name": "#%%\n"
    }
   }
  },
  {
   "cell_type": "code",
   "execution_count": 40,
   "outputs": [],
   "source": [
    "def column_to_bit_columns(column_name: str, base_df: pd.DataFrame):\n",
    "    cols = base_df.columns.tolist()\n",
    "    new_cols = list(set(', '.join(base_df[column_name].unique().tolist()).split(', ')))\n",
    "    print(new_cols)\n",
    "    cols.remove(column_name)\n",
    "    cols.extend(new_cols)\n",
    "    new_df = pd.DataFrame(columns=cols, data=base_df)\n",
    "\n",
    "    for i in range(len(base_df[column_name])):\n",
    "        for col in base_df.loc[i, column_name].split(', '):\n",
    "            new_df.loc[i, col] = 1.0\n",
    "    new_df = new_df.fillna(0.0)\n",
    "    return new_df"
   ],
   "metadata": {
    "collapsed": false,
    "pycharm": {
     "name": "#%%\n"
    }
   }
  },
  {
   "cell_type": "code",
   "execution_count": 41,
   "outputs": [
    {
     "name": "stdout",
     "output_type": "stream",
     "text": [
      "['Android', 'Windows', 'Linux', 'HTML5', 'macOS', 'Unity', 'Flash']\n"
     ]
    },
    {
     "data": {
      "text/plain": "                               title           author  price  \\\n0               Friday Night Funkin'    ninjamuffin99   0.00   \n1           Adventures With Anxiety!      Nicky Case!   0.00   \n2                     Butterfly Soup      Brianna Lei   0.00   \n3                       A Short Hike         adamgryu   5.19   \n4                        Project Kat        Leef 6010   0.00   \n...                              ...              ...    ...   \n2368                         Epitaph    Max Kreminski   0.00   \n2369                         10mg :)          torcado   0.00   \n2370         VTM - Heartless Lullaby  Entalto Studios   0.00   \n2371  everybody wants to be a tortle            onion   0.00   \n2372               what's your name?            jelli   0.00   \n\n                                                    url          status  \\\n0                 https://ninja-muffin24.itch.io/funkin  In development   \n1                         https://ncase.itch.io/anxiety        Released   \n2            https://brianna-lei.itch.io/butterfly-soup        Released   \n3                 https://adamgryu.itch.io/a-short-hike        Released   \n4                   https://leef6010.itch.io/projectkat        Released   \n...                                                 ...             ...   \n2368                   https://mkremins.itch.io/epitaph        Released   \n2369                      https://torcado.itch.io/smile        Released   \n2370  https://entaltostudios.itch.io/vtm-heartless-l...        Released   \n2371                 https://le-onionboi.itch.io/tortle        Released   \n2372                    https://sxilin.itch.io/namegame        Released   \n\n      rating                        made_with  \\\n0        4.7          OpenFL, IndieCade, Haxe   \n1        4.9                              0.0   \n2        4.9                           Ren'Py   \n3        4.9                            Unity   \n4        4.8  Paint Tool SAI, Godot, Aseprite   \n...      ...                              ...   \n2368     4.6                              0.0   \n2369     4.9                              0.0   \n2370     4.9                            Unity   \n2371     4.9                            Bitsy   \n2372     4.9                              0.0   \n\n                                                   tags  accessibility  ASL  \\\n0                                                    2D              0  0.0   \n1                      Comedy, Mental Health, Narrative              0  0.0   \n2     2D, Anime, Female Protagonist, LGBT, Ren'Py, R...              0  0.0   \n3     3D, Atmospheric, Cute, Funny, nature, Relaxing...              1  0.0   \n4     2D, Anime, Cute, Horror, Pixel Art, RPG Maker,...              1  0.0   \n...                                                 ...            ...  ...   \n2368  Aliens, fermijam, Procedural Generation, Text ...              0  0.0   \n2369  10mg, 10-minute-games, Cute, Minimalist, Short...              0  0.0   \n2370  Dark, Horror, Isometric, Meaningful Choices, M...              1  0.0   \n2371              Bitsy, everyone-is-nonbinary, turtles              0  0.0   \n2372                             Furry, LGBT, Narrative              0  0.0   \n\n      Android  Windows  Linux  HTML5  macOS  Unity  Flash  \n0         0.0      1.0    1.0    1.0    1.0    0.0    0.0  \n1         0.0      0.0    0.0    1.0    0.0    0.0    0.0  \n2         0.0      1.0    1.0    0.0    1.0    0.0    0.0  \n3         0.0      1.0    1.0    0.0    1.0    0.0    0.0  \n4         0.0      1.0    1.0    0.0    1.0    0.0    0.0  \n...       ...      ...    ...    ...    ...    ...    ...  \n2368      0.0      0.0    0.0    1.0    0.0    0.0    0.0  \n2369      0.0      1.0    1.0    0.0    1.0    0.0    0.0  \n2370      0.0      1.0    0.0    0.0    1.0    0.0    0.0  \n2371      0.0      0.0    0.0    1.0    0.0    0.0    0.0  \n2372      0.0      1.0    1.0    0.0    1.0    0.0    0.0  \n\n[2373 rows x 17 columns]",
      "text/html": "<div>\n<style scoped>\n    .dataframe tbody tr th:only-of-type {\n        vertical-align: middle;\n    }\n\n    .dataframe tbody tr th {\n        vertical-align: top;\n    }\n\n    .dataframe thead th {\n        text-align: right;\n    }\n</style>\n<table border=\"1\" class=\"dataframe\">\n  <thead>\n    <tr style=\"text-align: right;\">\n      <th></th>\n      <th>title</th>\n      <th>author</th>\n      <th>price</th>\n      <th>url</th>\n      <th>status</th>\n      <th>rating</th>\n      <th>made_with</th>\n      <th>tags</th>\n      <th>accessibility</th>\n      <th>ASL</th>\n      <th>Android</th>\n      <th>Windows</th>\n      <th>Linux</th>\n      <th>HTML5</th>\n      <th>macOS</th>\n      <th>Unity</th>\n      <th>Flash</th>\n    </tr>\n  </thead>\n  <tbody>\n    <tr>\n      <th>0</th>\n      <td>Friday Night Funkin'</td>\n      <td>ninjamuffin99</td>\n      <td>0.00</td>\n      <td>https://ninja-muffin24.itch.io/funkin</td>\n      <td>In development</td>\n      <td>4.7</td>\n      <td>OpenFL, IndieCade, Haxe</td>\n      <td>2D</td>\n      <td>0</td>\n      <td>0.0</td>\n      <td>0.0</td>\n      <td>1.0</td>\n      <td>1.0</td>\n      <td>1.0</td>\n      <td>1.0</td>\n      <td>0.0</td>\n      <td>0.0</td>\n    </tr>\n    <tr>\n      <th>1</th>\n      <td>Adventures With Anxiety!</td>\n      <td>Nicky Case!</td>\n      <td>0.00</td>\n      <td>https://ncase.itch.io/anxiety</td>\n      <td>Released</td>\n      <td>4.9</td>\n      <td>0.0</td>\n      <td>Comedy, Mental Health, Narrative</td>\n      <td>0</td>\n      <td>0.0</td>\n      <td>0.0</td>\n      <td>0.0</td>\n      <td>0.0</td>\n      <td>1.0</td>\n      <td>0.0</td>\n      <td>0.0</td>\n      <td>0.0</td>\n    </tr>\n    <tr>\n      <th>2</th>\n      <td>Butterfly Soup</td>\n      <td>Brianna Lei</td>\n      <td>0.00</td>\n      <td>https://brianna-lei.itch.io/butterfly-soup</td>\n      <td>Released</td>\n      <td>4.9</td>\n      <td>Ren'Py</td>\n      <td>2D, Anime, Female Protagonist, LGBT, Ren'Py, R...</td>\n      <td>0</td>\n      <td>0.0</td>\n      <td>0.0</td>\n      <td>1.0</td>\n      <td>1.0</td>\n      <td>0.0</td>\n      <td>1.0</td>\n      <td>0.0</td>\n      <td>0.0</td>\n    </tr>\n    <tr>\n      <th>3</th>\n      <td>A Short Hike</td>\n      <td>adamgryu</td>\n      <td>5.19</td>\n      <td>https://adamgryu.itch.io/a-short-hike</td>\n      <td>Released</td>\n      <td>4.9</td>\n      <td>Unity</td>\n      <td>3D, Atmospheric, Cute, Funny, nature, Relaxing...</td>\n      <td>1</td>\n      <td>0.0</td>\n      <td>0.0</td>\n      <td>1.0</td>\n      <td>1.0</td>\n      <td>0.0</td>\n      <td>1.0</td>\n      <td>0.0</td>\n      <td>0.0</td>\n    </tr>\n    <tr>\n      <th>4</th>\n      <td>Project Kat</td>\n      <td>Leef 6010</td>\n      <td>0.00</td>\n      <td>https://leef6010.itch.io/projectkat</td>\n      <td>Released</td>\n      <td>4.8</td>\n      <td>Paint Tool SAI, Godot, Aseprite</td>\n      <td>2D, Anime, Cute, Horror, Pixel Art, RPG Maker,...</td>\n      <td>1</td>\n      <td>0.0</td>\n      <td>0.0</td>\n      <td>1.0</td>\n      <td>1.0</td>\n      <td>0.0</td>\n      <td>1.0</td>\n      <td>0.0</td>\n      <td>0.0</td>\n    </tr>\n    <tr>\n      <th>...</th>\n      <td>...</td>\n      <td>...</td>\n      <td>...</td>\n      <td>...</td>\n      <td>...</td>\n      <td>...</td>\n      <td>...</td>\n      <td>...</td>\n      <td>...</td>\n      <td>...</td>\n      <td>...</td>\n      <td>...</td>\n      <td>...</td>\n      <td>...</td>\n      <td>...</td>\n      <td>...</td>\n      <td>...</td>\n    </tr>\n    <tr>\n      <th>2368</th>\n      <td>Epitaph</td>\n      <td>Max Kreminski</td>\n      <td>0.00</td>\n      <td>https://mkremins.itch.io/epitaph</td>\n      <td>Released</td>\n      <td>4.6</td>\n      <td>0.0</td>\n      <td>Aliens, fermijam, Procedural Generation, Text ...</td>\n      <td>0</td>\n      <td>0.0</td>\n      <td>0.0</td>\n      <td>0.0</td>\n      <td>0.0</td>\n      <td>1.0</td>\n      <td>0.0</td>\n      <td>0.0</td>\n      <td>0.0</td>\n    </tr>\n    <tr>\n      <th>2369</th>\n      <td>10mg :)</td>\n      <td>torcado</td>\n      <td>0.00</td>\n      <td>https://torcado.itch.io/smile</td>\n      <td>Released</td>\n      <td>4.9</td>\n      <td>0.0</td>\n      <td>10mg, 10-minute-games, Cute, Minimalist, Short...</td>\n      <td>0</td>\n      <td>0.0</td>\n      <td>0.0</td>\n      <td>1.0</td>\n      <td>1.0</td>\n      <td>0.0</td>\n      <td>1.0</td>\n      <td>0.0</td>\n      <td>0.0</td>\n    </tr>\n    <tr>\n      <th>2370</th>\n      <td>VTM - Heartless Lullaby</td>\n      <td>Entalto Studios</td>\n      <td>0.00</td>\n      <td>https://entaltostudios.itch.io/vtm-heartless-l...</td>\n      <td>Released</td>\n      <td>4.9</td>\n      <td>Unity</td>\n      <td>Dark, Horror, Isometric, Meaningful Choices, M...</td>\n      <td>1</td>\n      <td>0.0</td>\n      <td>0.0</td>\n      <td>1.0</td>\n      <td>0.0</td>\n      <td>0.0</td>\n      <td>1.0</td>\n      <td>0.0</td>\n      <td>0.0</td>\n    </tr>\n    <tr>\n      <th>2371</th>\n      <td>everybody wants to be a tortle</td>\n      <td>onion</td>\n      <td>0.00</td>\n      <td>https://le-onionboi.itch.io/tortle</td>\n      <td>Released</td>\n      <td>4.9</td>\n      <td>Bitsy</td>\n      <td>Bitsy, everyone-is-nonbinary, turtles</td>\n      <td>0</td>\n      <td>0.0</td>\n      <td>0.0</td>\n      <td>0.0</td>\n      <td>0.0</td>\n      <td>1.0</td>\n      <td>0.0</td>\n      <td>0.0</td>\n      <td>0.0</td>\n    </tr>\n    <tr>\n      <th>2372</th>\n      <td>what's your name?</td>\n      <td>jelli</td>\n      <td>0.00</td>\n      <td>https://sxilin.itch.io/namegame</td>\n      <td>Released</td>\n      <td>4.9</td>\n      <td>0.0</td>\n      <td>Furry, LGBT, Narrative</td>\n      <td>0</td>\n      <td>0.0</td>\n      <td>0.0</td>\n      <td>1.0</td>\n      <td>1.0</td>\n      <td>0.0</td>\n      <td>1.0</td>\n      <td>0.0</td>\n      <td>0.0</td>\n    </tr>\n  </tbody>\n</table>\n<p>2373 rows × 17 columns</p>\n</div>"
     },
     "execution_count": 41,
     "metadata": {},
     "output_type": "execute_result"
    }
   ],
   "source": [
    "df2 = column_to_bit_columns('platform', df1)\n",
    "df2"
   ],
   "metadata": {
    "collapsed": false,
    "pycharm": {
     "name": "#%%\n"
    }
   }
  },
  {
   "cell_type": "code",
   "execution_count": 42,
   "outputs": [
    {
     "name": "stdout",
     "output_type": "stream",
     "text": [
      "['Time Travel', 'virtual-pets', 'your', 'Oculus Rift', 'Real time strategy', 'Escape Game', 'bullet-time', 'personality-test', 'paragliding', 'NES (Nintendo Entertainment System)', 'lost-phone', 'GBJam', 'among', 'leninthelion', 'flicksy', 'friday-night-funkin-vs-hex', 'wall-jumping', 'snoot', 'Third Person', 'Ludum Dare 40', 'utopia', 'sliding-block-puzzle', 'Nuclear Throne', 'eugenics', 'haxe', 'fae', 'modern-fantasy', 'Exploration', 'rubber', 'king-spooner', 'holidays', 'teen', 'daymaretown', 'rhythm-doctor', 'Parody', 'shark', 'supernatural', 'die-alot', 'train', 'grime', 'dress', 'alternative', 'outcast', 'gambling', 'sizeable', 'robot-combat', 'strange', 'Perma Death', 'power-star', 'Hand-drawn', 'impeach', 'greeting-cards', 'tree', 'beeswing', 'bad-art', 'prologue', 'sabot', 'among-us', 'ffxiv', 'atomic', 'drone', 'boss-rush', 'android', 'anxiety', 'clowns', 'managore', 'cafe', 'nikki', 'arg', 'Kickstarter', 'hunter-x-hunter', 'directdoggo', 'girlfriend-farming-simulator', 'feeding', 'Procedural Generation', 'autobio', 'Zero Gravity', 'camping', 'zelda', 'school', 'crocodile', 'persona-5', 'guitar', 'fearhunger', 'multicort', 'reflective', 'high', 'Touch-Friendly', 'superpowers-html5', 'vehicular-combat', 'indiecade-2017', 'html5', 'line', 'wilbur-soot', 'Roadtrip', 'quick', 'wgi20', 'siren', 'fpv', 'counter-strike', 'powerquest', 'cliff', 'nb-protag', 'low-fantasy', 'sluggish', 'indiecade', 'famicom', 'religion', 'trippy-game', 'Co-op', 'seduce-me-2-the-demon-war', 'koto', 'pixelhorrorjam', 'fwoosh', 'art-deco', 'monster-taming', 'audio-based', 'daily-challenge', 'seduce-me-the-otome', 'Clicker', 'impossible-spaces', 'auto-battle', 'Fantasy', 'Ludum Dare 30', 'rubber-duck', 'zen', 'shroud', 'bug-fables', 'Alternate History', 'keanu', 'the-witch-and-her-assistant', 'paloma-dawkins', 'jeff-bezos', 'real', 'mood', 'inventory', 'learning', 'free-roam', 'winged', 'pony-island', 'paranormal', 'cults', 'dating', 'mobile', 'sonic', 'peaceful', 'nekojishi', 'no-combat', 'metal', 'self-care-jam', 'Gay', 'Commodore 64', 'csgo', 'outsider', 'leaf', 'baking', 'simpsons', 'skutnik', 'mind', 'hauntedpsx', 'timeout', 'game-dev', 'auto-battler', 'haiku', 'Isometric', '4X', 'sluggish-morss', 'Driving', 'firemen', 'isekai', 'clouds', 'south-african', 'Moddable', 'nanoreno2017', 'roomba', 'oasis', 'gaywesternjam', 'asexuality', 'tamagotchi', 'stress', 'brain', 'jumping', 'amogus', 'murder-mystery', 'dress-up', 'Side Scroller', 'marshmallow', 'electronics', 'caves', 'lua', 'friendsim', 'wander', 'ships', 'vent', 'Lo-fi', 'morshu', 'existential', 'drama', 'escher', 'pathea-games', 'defusal', 'voice', 'Tactical RPG', '5e', \"Friday Night Funkin' (FNF)\", 'reef', 'holiday', 'yume-nikki', 'toilet-bound-jibaku-kun', 'DOS', 'hive', 'Cozy', 'made-with-bitsy', 'magicbench', 'robot-wars', 'claim', 'poverty', 'fumo', 'competition', 'flower', 'flight-sim', 'clickteam', 'awoo', 'gachaverse', 'Slasher', 'Touhou', 'asexual', 'sequencer', 'snes', 'non-eucledian', 'sm63', 'skids', 'madness', 'fortune-teller', 'gay-visual-novel', 'moe', 'ld48', 'nudity', 'Loot', 'Runner', 'Retro', 'happy', 'anthromorphic', '16-bit', 'rndgame2020', 'LOWREZJAM', 'goose', 'resident-evil', 'puzzle-plateformer', 'orbs', 'helltaker', 'Railroad', 'browser', 'monkeyball', 'secret-santa', 'hypnospace', 'crab', 'Construct 2', 'teamseas', 'couch-multiplayer', 'pet', 'sam', 'story', 'kemono-games', 'ramen', 'challenging', 'rococo', 'threes', 'haven', 'illusion', 'arcus', 'mapcore', 'compilation', 'realistic', 'illustrated', 'dance', 'torture-star-video', 'queer-romance', 'Open Source', 'indigenous', 'wgicol', 'Indie', 'keyboard-only', 'Homebrew', 'putting', 'memoir', 'undertale-2', 'lunarolexler', 'birds', 'koshkamatew', 'bitsy3d', 'bread', 'nonbinary-protagonist', 'investigator', 'college', 'spiderman', 'genetic-algorithm', 'interior-design', 'volleyball', 'scary', 'graveyard', 'Simple', 'logic', 'vhs', 'small', 'Text based', 'lost', 'Game Jam', 'mafia', 'perfume', 'orders', 'GitHub', 'ggj20', 'gothic-novel-jam', 'spanish', 'Oculus Quest', 'children', 'jasperdev', 'ld43', 'pgmmv', 'ditherpunk', 'egg', 'Cute', 'ufc', 'collaboration', 'hotline-miami', 'live-action', 'literature', 'Point & Click', 'death-positive', 'cowgirl', 'elfmail', 'necromancy', 'Stealth', 'Blender', 'ice-age-baby', 'survive', 'drugs', 'unsettling', 'Action-Adventure', 'toy', 'jenga', 'cold-war', 'horse', 'retroarch', 'asylum', 'yansim', 'grimdark', 'Gender', 'story-driven', 'stuck', 'roommate', 'under-the-bed', 'trexanddrago', 'Life Simulation', 'PvP', 'FPS', 'snail', 'Destruction', 'film-noir', 'building', 'wolfenstein3d', 'disco-elysium', 'ones-lonesome-twos-company', 'ghost', 'greek', 'kyler-kelly', 'yellowstone', 'Voice Acting', 'upgrades', 'ship', 'collecting', 'bloop', 'herd', 'fnia', 'grid-based', 'photography', 'homestuck', 'Trading', 'fna', 'hololive', '10mg', 'textless', 'enjmin', 'mario', 'ww1', 'digital-hybrid', 'white', 'villains', 'bees', 'indonesia', 'conversational', 'vive', 'mind-bending', 'Shadows', 'hanako-kun', 'artificial-intelligence', 'hospital', 'the-magnus-archives', 'single-screen', 'Time Attack', 'pixelated', 'Spoopy', 'quirky', 'rabbits', 'psychological', 'quiz', 'Doom', 'tojam', 'air-combat', 'World War II', 'seduce-me', 'Animation', 'cookie', 'highschool', 'Vampire', 'fall', 'Unreal Engine', 'team-anpim', 'madscientist', 'heaps', 'sebae', 'Global Game Jam', 'Ludum Dare 35', 'fantasy-console', 'combat', 'Cult Classic', 'eastern', 'apocalyptic', 'runouw', 'sock', 'resistjam', 'namjoon', 'music-box', 'tile', 'home', 'summer-camp', 'domino', 'design', 'flash', 'non-binary-protagonist', 'Superpowers', 'watercolor', 'totem', 'jdm', 'Music', 'transformation', 'kemonogames', '4-player', 'silver', 'frenzy', 'Roguelite', 'poetry', 'Mechs', 'sacrifices', 'baldis-basics-plus', 'sharply-dressed-demon-girls', 'PuzzleScript', 'clients', 'art-game', 'not-sure-how-a-telescope-works', 'my-little-pony', 'civilization', 'playstation', 'reflexion', 'quake', 'realism', 'motion-comic', 'Sci-fi', 'hard', 'hope', 'miraculous-ladybug', 'dread-xp', 'norm', 'engineer', 'space-bubble-cat', 'Queer', 'otome-game', 'mmf2', 'Mountains', 'love-story', 'hi-bit', 'art', 'Liminal space', 'dinn', 'horror-rpg', '1bit', 'great-soundtrack', 'minimalistic', 'rpgmaker-mv', 'text-boxes', 'virtual-youtubers', 'mlp', 'waterfall', 'cooldog', 'Virtual Pet', 'tiger', 'dani', 'breakup', 'sex', 'ue5', 'claymation', 'Godot', 'mz', 'nostalgia', 'User Interface (UI)', 'science', 'Christmas', 'harassment', 'nature', 'raft', 'stray-kids', '2017', 'nuclear', 'ducklings', 'haunted-ps1', 'Visualization', 'discord', 'hypnotism', 'megaman', 'love2drawmanga', 'Historical', 'ecology', 'Dice', 'star-trek-ish', 'serial-killer', 'morbius', 'ggj2022', 'enchantment', 'character-creator', 'Farming', 'male-protag', 'webbed', 'loop', 'cowboy', 'fps-platformer', 'Instrument', 'tower', 'hananene', 'Crime', 'desert', 'twitsy', 'museum-sim', 'bomb', 'lone-survivor', 'Tabletop role-playing game', 'metagamejam', 'hiveswap', 'killer', 'seduce-me-2', 'thinly-veiled-allegory', 'four-quarters', 'Crafting', 'Breakout', 'god', 'snowman', 'french', 'challenge', 'neural-network', 'vn', 'friendship', 'ballet', 'taehyung', 'intrigue', 'catboots', 'political', 'autobiographical', 'RPG Maker', 'store', 'venice', 'Top down shooter', 'russia', 'spells', 'secret-santa-jam', 'mining', 'liminal', 'vinesauce', 'soothing', 'Fangame', 'sitting-simulator', 'one_playthrough', 'ceda-cedovic', 'arthurian', 'harvest-moon', 'haunted-house', 'Gacha', 'gunnery', 'help-me', 'saying-goodbye', 'little-lands', 'balloons', 'Real-Time', 'kaiju', 'party-game', 'housewife', 'aromantic', 'capitalism', 'Bara', 'sebae509', 'Comics', 'Tanks', 'flashback', 'password', 'gator', 'Slice Of Life', 'zine', 'community', 'charming', 'Game Design', 'alexdor2021', 'folk-horror', 'gbstudio', 'amusement-park', 'ball', 'kawaii', 'minotaur', 'warp', 'solo', 'Two colors', 'Global Game Jam 2020', 'Kinetic Novel', 'Audio', 'narrative-design', 'dan-hett', 'young-adult', 'renjs', 'sdr2', 'example', 'Ludum Dare 48', 'dangan-ronpa', 'nordic-game-jam', 'satire', 'coin', 'autumn', 'Female Protagonist', 'mature', 'juntasaladistancia', 'My First Game Jam', 'pewdiepie', 'yo-noid-2', 'office', 'books', 'studio', 'Non violent', 'ukraine', 'jane-austen', 'ai', 'everything', 'corgi', 'interactive-narrative', 'Board Game', 'lumpy', 'men', 'deltarune', 'knitting', 'hug', 'rock_raiders', 'amaregame', 'sunset', 'water', 'narrative-geography', 'kpop', 'party', 'infiltration', 'pizza-tower', 'Tower Defense', 'military', 'Pixel Art', 'meta', 'riot-grrrl', 'gainjam2021', 'blacksmith', 'minigame', 'night-in-the-woods', 'dating-sin', 'firefighter', 'ferry', 'desktop-garden', 'disco', 'bit-rat', 'weird', 'cat', 'JRPG', 'Hex Based', 'random', 'mr-boop', 'beauty', 'cryptid', 'Internet', 'samba', 'morss', 'combos', 'demo', 'phone', 'mild-rumpus', 'time-manipulation', 'clown', 'pause', 'Stencyl', 'bugglebots', 'moon', 'quadrocopter', 'Hack and Slash', 'driller', 'Chess', 'parser', 'Management', 'cecaelia', 'dialogue-based', 'software', 'parapente', 'nawara', 'protagonist-is-a-useless-gay', 'cinematic', 'picrew', 'hiphop', 'gallery', 'gxb', 'amaze', 'roller', 'serious-sam', \"Five Nights at Freddy's\", 'yandere-dev', 'social', 'Ludum Dare 50', 'toilet', 'liar-liar', 'orion', 'Meaningful Choices', 'daniel-linssen', 'secrets', 'protagonist-is-still-a-useless-gay', 'cards', 'friendshipjam', 'demon-war', 'baldis-fun-new-school', 'Flight', 'foul-mouthed', 'adofai', 'easy', 'bartending', 'celeste', 'tanabata', 'ghost-story', 'SHARECART1000', 'supermonkeyball', 'build-a-boyfriend', 'everlasting-sapling', 'Fast-Paced', 'raymarching', 'architecture', 'minigames', 'anti-adventure', '3d-bitsy', 'Bullet Hell', 'doodle', 'Dark', '2-bit', 'family', 'my-time-at-portia', 'student', 'bug', 'grapple', 'delta-rune', 'cool-dog', 'english', 'haunty-tonk', 'raiders', 'Food', 'Creative', 'Golf', 'castlevania', 'igmc', 'boop', 'covid-19', 'ccg', 'maze', 'yandere-simulator', 'self', 'royal', 'Score Attack', 'lore', 'rc', \"Beat 'em up\", 'david-lynch', 'oelvn', 'Casual', 'rats', 'cyberpet', 'my-valentine', 'lgtb', 'tma', 'Drawing', 'rpg-maker-mv', 'hardware', '1-bit', 'tonpa', 'game-a-week', 'Versus', 'Ludum Dare 47', 'urban-fantasy', 'hand', '0451', 'vs-agoti', 'n64', 'four_quarters', 'Ludum Dare 46', 'talking-animals', 'simulator', 'clones', 'bear', 'brazil', 'japanese-language', 'boxing', 'stg', 'aviation', 'tough', 'poem', 'rainbow', 'the-hex', 'penguin', 'Dark Humor', 'MMORPG', 'autobattler', 'christianity', '2000s', 'heat', 'afro', 'parallax', 'one-hit-kill', 'rules', 'randomnick', 'smile', 'adventurex-jam', 'arcus-chroma', 'artsy', 'Generator', 'aprils-fool', 'brutalism', 'lowrezjam2021', 'ZX Spectrum', 'tic-tac-toe', 'jasperraccoon', 'madewithtyranobuilder', 'tpying', 'linux', 'valentines-day', 'romans-christmas', 'Cyberpunk', 'towerfall', 'hypnotic', 'precursors', 'Strategy RPG', 'espionage', 'game-dev-simulator', 'art-gallery', 'tails', 'ray-tracing', 'warioware', 'relationships', 'immersive-sim', 'Dinosaurs', 'Bitsy', 'Post-apocalyptic', '10-minute-games', 'Lovecraftian Horror', 'blaze', 'castle', 'binary-art', 'arrows', 'tekken', 'conspiracy', 'first-person-perspective', 'flatjam', 'jokes', 'snake', 'spring', 'toronto', 'nanoreno2019', 'homework', 'ngj17', 'princess', 'yuri-jam', 'labyrinth', 'Survival Horror', 'knuckles', 'mac-os-9', 'Level Editor', 'Sokoban', 'tracks', 'Team-Based', 'fatphobia', 'alton-towers', 'vignette', 'sisao', 'pierre', 'glitch', 'plane', 'vandalism', 'beautiful', 'artifact', 'parachute', 'sad', 'submachine', 'deer', 'Ludum Dare 49', 'rpgmakerhorror', 'euclidean-orbifold', 'royalty', 'fish', 'Anime', 'tragedy', 'superautopets', 'goblin', 'movement', 'life-is-strange', 'astrology', 'tram-simulator', 'sk8', 'btpgamejam', 'Robots', 'Soccer', 'camera', 'moss', 'islands', 'NES ROM', 'unity3d', 'boba', 'birthday', 'desktop', 'yandev', 'linear', 'multicopter', 'icarly', 'calico', 'frost', 'inkle', 'duck', 'kop', \"Baldi's Basics\", 'alchemy', 'slow', 'wlw', 'emotional', 'stardew-valley', 'tribal', 'lego', 'musical', 'paper', 'super-mario', 'resource-management', 'plurality', 'Undertale', 'leftist', 'video', 'fat', 'Mental Health', 'gadget', \"Ren'Py\", 'fez', 'Turn-Based Combat', 'PROCJAM', 'Deck Building', 'ragdoll', 'unrealengine5', 'Twine', 'obra', 'settler', 'road-trip', 'Vector', 'bonsai', 'trixie', 'communist', 'social-deduction', 'magic-school', 'battlefield', 'calm', 'xna', 'Steampunk', 'resource', 'gardenarium', 'Yaoi', 'screensaver', 'temporality', 'course', 'bloodbornepsx', 'thecatamites', 'familyfriendly', 'PICO-8', 'reading', 'chill', 'dating-sims', 'Ghosts', 'Traps', 'patricks-parabox', 'fnf-test', 'all-ages', 'cyberpink', 'people', 'moba', 'Violent', 'duckling', 'black', 'group-b', 'Medieval', 'programming', 'flow', 'picoday2021', 'mice', 'made-in-bitsy', 'catboy', 'libGDX', 'political-intrigue', 'virtual-boy', 'html', 'ld49', 'john-wick', 'jack-king-spooner', 'jhope', 'mew', 'Incremental', 'infinite-runner', 'block', 'piss', 'mif2017', 'beat', 'lovegod', 'dialogue', 'creatures', 'nonfiction', 'library', 'lol', 'toaster', 'government', 'ww2', 'hypnosis', 'mac', 'Ludum Dare 45', 'saopaulo', 'Music Production', 'flightsim', 'binaural', 'Arcade', 'phaserjs', 'High Score', 'scotland', 'grocery', 'inugami-korone', 'muscle', 'in-progress', 'Souls-like', 'pico', 'Magical Realism', 'grid', 'abduction', 'protocorgi', 'Walking simulator', 'personal', 'Family Friendly', 'daily', 'caverns', 'polyamory', 'bric-a-brac', 'knight', 'self-care', 'evolution', 'skateboarding', 'Chicken', 'gacha-simulator', 'gladiator', 'exe', 'deep', 'plug--play', 'Otome', 'Action RPG', 'wholesome', 'fire', 'k-pop', 'hxh', 'Fishing', 'Tutorial', 'evolutionary-algorithm', 'Experimental', 'Painting', 'bishoujo', 'code', 'collectathon', 'sleepover', 'crossover', 'cell-shading', 'Synthwave', 'landscape', 'Atmospheric', 'fishing-simulator', 'pokemon', 'steam', 'yandere-simulator-development-simulator', '2D', 'artemis', 'Local Co-Op', 'red-baron', 'Animals', 'short-game', 'beastman', 'Speedrun', 'bloodborne-psx', 'mason-lindroth', 'gangster', 'no-text', 'underwater', 'friend-sim', 'Futuristic', 'hiking', \"Boys' Love\", 'make', 'early-2000s', 'collection', 'Dystopian', 'gameawekk2022', 'fermijam', 'trash', 'puppets', 'street-harassment', 'LGBT', 'puzzles', 'vacation', 'rock-raiders', 'LGBTQIA', 'youtube', 'cars', 'dream-smp', 'kobold', 'interactive-story', 'island', 'earthbound', 'gbjam5', 'plural', 'croc', 'unspeakable', 'bitsyjam', 'lunime', 'life', 'stop-motion', 'carnaval', 'tetrageddon', 'yume', 'outside-the-box', 'street-fighter', 'murder', 'Neon', 'failing-to-carry', 'tiny', 'baldi-mod', 'sweden', 'Demake', 'boston', 'blood', 'arena', 'Feel Good', 'maltese', 'lisa', 'fashion', '90s', 'best-friends', 'Characters', \"Game Maker's Toolkit Jam\", 'filipino', 'canceled', 'train-station', 'io', 'computer', 'Minimalist', 'psf', 'one-button', 'marker-games', 'tender', 'another-world', 'romantic-comedy', 'bl-game', 'norway', 'horrortale', 'Comedy', 'essay', 'kentucky', 'nar8', 'bobble', 'race', 'crossplatform', 'wolfenstein', 'Coming Of Age', 'gentle', 'new-york', 'chat-noir', 'japan', 'wowie', 'Surreal', 'noa-calice', 'mspaint', 'flute', 'buddy-sim', 'yokai', 'Thriller', 'Split Screen', 'socialist', 'Ludum Dare 37', 'karamelow', 'chillwave', 'creation', 'minecraft', 'journey', 'eerie', 'kalimba', 'game-boy', 'five-nights-at-freddys', 'vintage', 'Black and White', 'random-generator', 'cryptids', 'mod', 'sortinghatchats', 'monster-girl', 'pesterquest', 'Folklore', 'flowerpower', 'pisss', 'Flying', 'rant', 'uncommonbreedvn', 'nb-protagonist', 'desktop-goose', 'pixel', 'GameMaker', 'Gravity', 'Ludum Dare 38', 'dune2', 'incubus', '7dfps', 'job-hunting', 'happy-snake-games', 'room-escape', 'mirage', 'shapes', 'Top-Down', 'witchcraft', 'sourcecode', 'bxb', 'womengamesjam', 'everyone-is-nonbinary', 'Ludum Dare 29', 'Dogs', 'boyfriend', 'pottery', 'paramotor', 'pony', 'fingers', 'multirotor', 'Relaxing', 'body-horror', 'sierra', 'chinese', 'Tabletop', 'newgrounds', 'Nonlinear', 'Meme', 'funeral', 'amare', 'Funny', 'couch-coop', 'FMV', 'car', 'superheroes', 'pastel', 'nightmare', 'dektop', 'wallace-game', 'relaxed', 'One-shot', 'Grayscale', 'therapy', 'construct-3', 'italian', 'crowds', 'matt-makes-games', 'gawr', 'mp2-games', 'conversation', 'bird', 'metal-sonic', 'sun', 'artemis-of-the-blue', 'time-pressure', 'Manga', 'Fairy Tale', 'amy', 'Immersive', 'jibaku-shounen-hanako-kun', 'hylics', 'solarpunk', '3dplatformer', 'Multiplayer', 'Creepy', 'microgames', 'plafetormer', 'twists', 'spider', 'fnaf-fangame', 'summon', 'Colorful', 'Emulator', 'ojonmrag', 'physics-simulation', 'learn', 'dungeon', 'yuri-game-jam', 'gameaweek2022', 'demon', 'winter', 'kart', 'vietnamese', 'fvn', 'ps1', 'succubus', 'gamepad', 'PSX (PlayStation)', 'sm2', 'witches', 'Unity', 'Slime', 'bisexual', 'gdscript', 'sans', 'creepypasta', 'firespike33', 'pc', 'puppet-combo', 'web-building', 'body', 'blazblue', 'three-houses', 'dinosaursavers', 'fungus', 'Seven Day Roguelike Challenge', 'fly', 'russian-roulette', 'curling', 'hookshot', 'scalie', 'black-friday', 'Tentacles', 'angels', 'base-building', 'atgm', 'components', 'contemp', 'jimin', 'glide', 'weight', 'door', 'wasteland-kings', 'Wizards', 'baldis-fun-new-school-plus', 'contains-at-least-2-dogs', 'surreal-horror', 'hunting', 'day-of-the-tentacle', 'namco', 'chiptune', 'tools', 'terraria', 'university', 'Psychological Horror', 'escape', 'hmk', 'fixitfelixjr', 'jazzy', 'far-from-noise', 'end-of-the-world', 'relationship', 'blocks', 'Puzzle-Platformer', 'mac-plus', 'ps2', 'exquisite-corpse', 'Frogs', 'house', 'packing', 'bitsy-jam', 'bl', 'demakejam', 'Dark Fantasy', 'Mystery', 'cf25', 'delicious', 'suga', 'lenin', 'Ludum Dare 36', 'collaborative', 'orc', 'moonsprout-games', 'buddy', 'track', 'Automation', 'windows', 'Explosions', 'spoons', 'virtual-youtuber', 'baldis-fun-new-school-2', 'danganronpa', 'love', 'ohrrpgce', 'turtles', 'hq-residential-house', 'TyranoBuilder', 'politics', 'clown-dating-game', 'skill-based', 'stupid', 'Physics', 'incubi', 'switch', 'Ludum Dare 33', 'minit', 'City Builder', 'entomology', 'mythology', 'seraphime-entertainment', 'polyamorous', 'gain', '3D Platformer', 'worms', 'War', 'Period Piece', 'demoscene', 'Game Boy', 'michaela-laws', 'map', 'build', 'skulls', 'trashcore', 'day-of-the-dead', 'Ludum Dare 41', 'mashup', 'Open World', 'warios-woods', 'luigi', 'meat', 'lgbtq', 'feelings', 'trashgame', 'lyne', 'walking-sim', 'fujibittersweet', 'sword', 'Short', 'sadness', 'studiodaeera', 'haunted', 'commercial', 'items', 'villain-protagonist', 'transmigration', 'yung-venuz', 'panda', 'comforting-sounds', 'body-image', '8', 'angel', 'analog-horror', 'mother', 'suspense', 'typeing', 'connected-worlds', 'voiced', 'storytelling', 'combination', 'ya', 'rio-pug-games', 'proteus', 'mini', 'punk', 'Endless', 'igf', 'death', 'Controller', 'vaporwave', 'the-last-night', 'files', 'Tycoon', 'Furry', 'Zombies', 'Virtual Reality (VR)', 'Low-poly', 'transformers', 'gliding', 'shopping', 'ducks', 'Brain Training', 'mettaton', 'prom', 'git', 'swedish', 'hardcore', 'prison', 'honest', 'grindhouse', 'Solo RPG', 'hiding', 'goblets', 'blind-accessible', 'bipsi', 'lizard', 'Tactical', 'Singleplayer', 'mascot', 'Altgame', 'recipe', 'drums', 'punk-music', 'buddy-simulator-1984', 'Metroidvania', 'uncommon-breed', 'clown-dating-sim', 'therian', 'Gothic', 'nathalie-lawhead', 'pizza', '1984', 'not-sleeping', 'cold', 'planes', 'collectible-card-game', 'Tarot', 'eek3', 'giant-level', 'skate', 'GM-Less', 'demons', 'ggj15', 'how-to-type', 'audiogame', 'superhot', 'witch', 'rainbow-serpent', 'Dating Sim', 'couch-game', 'feather', 'Story Rich', 'boss', 'digital', 'Superhero', 'jump', 'pigeon', 'soviet', 'bounce', 'bitsy-3d', \"Shoot 'Em Up\", 'bitbuddy', 'lynchian', 'Aliens', 'Cats', 'half-life-2', 'frogs', 'scifi', 'paraglide', 'live-streaming', 'hypno', 'battlebots', 'couch-gaming', 'cathartic', 'ggj2021', 'text-adventure', 'Romance', 'soft', 'chat', 'Mouse only', 'Difficult', 'robot', 'show', 'Typing', 'baby', 'acejam', 'Ludum Dare 34', 'otoge', 'chatbot', 'insects', 'marvel', 'human', 'Noir', 'fighting-game', 'cursed', 'recursion', 'ragdoll-physics', 'racer', 'rat', 'words', 'Football', 'Ludum Dare 42', 'Halloween', 'brawl', '3D', 'Western', 'bitrat', 'wip', 'Sandbox', 'non-binary', 'os-simulator', 'quadcopter', 'Pirates', 'tea', 'Cartoon', 'digimon', 'quest', 'civil-engineering', 'taigenchi', 'worker-placement', 'physical-game', 'storygame', 'atari', 'residence-gudul', 'nonbinary', 'miniboss', 'vehicle-combat', 'bbpsx', 'Turn-based Strategy', 'happy-snake', 'rwby', 'daniel-mullins', 'Economy', 'lion', 'cookies', 'frankenstein', 'speedrun-friendly', 'alt-game', 'timed-puzzle', 'city', 'meditation', 'documentary', 'army', '1GAM', 'jin', 'mansion', 'lofi', 'ink', 'Tetris', 'short-story', 'auto-biographical', 'philosophical', 'yandere', 'blade-runner', 'clickteam-fusion', 'poc-made', 'killmonday-games', 'wigar', 'hauntedps1', 'Ludum Dare 43', 'windowsill', 'flickguy', 'flowey', 'coffee', 'Ludum Dare 31', 'Voxel', 'Episodic', 'introspective', 'gender-neutral-protagonist', 'scp-foundation', 'bee', 'squirrel', 'jack-spinoza', 'crew', 'humor', 'nanoreno', 'choices-matter', 'beneath-the-surface', 'sheep', 'doll-maker', 'no-button', 'civil-engineer', 'psychological-thriller', 'ten-seconds', 'hexagon', 'dreamy', 'Narrative', 'rouge', 'romero', 'Top Down Adventure', 'narrative-experiment', 'factory', 'flamethrowers', 'melon', 'va-11-hall-a', 'Trains', 'Hacking', 'ace-aro-protag', 'ocean', 'online', 'mecha-sonic', 'mecha', 'the', 'trans-protagonist', 'gdq', 'day', 'fey', 'fullbright', 'shockwave', 'Ludum Dare 32', 'zeldalike', 'dog', 'Boss battle', 'vlambeer', 'Tilemap', 'trump', 'Soundtoy', 'Horror', 'imposter', 'World War I', 'mutant', 'Character Customization', 'language', 'triad', 'impostor', 'werewolf', 'spindlewheel', 'competitive', 'festival', 'otome-jam', 'graphic-adventure', 'Massively multiplayer', 'gem', 'flyppy-bird', 'player-choice', 'raccoon', 'fire-emblem', 'Ludum Dare 44', 'exhibition', 'bean-fart', 'palgal', 'outdoors', 'challenges', 'drift', 'Gore', 'plants', 'gura', 'Turn-based', 'bowling', 'Multiple Endings', 'non-fiction', 'fetch-quest', 'DRM Free', 'devtober', 'Male protagonist', 'Third-Person Shooter', 'philosophy', 'badtime', 'Space', 'radio', 'spielbergian', 'smpsf', 'jungkook', 'cosy', 'post-apocalyptic-1-bit-dogs', 'sleeping', 'snow', 'museum', 'girls-love', 'hello-charlotte', 'rap', 'come', 'betty-boop', 'brasil', 'Archery', 'Magic', 'Space Sim', 'superstition', 'Photorealistic', 'podcast', 'machine-learning', 'hanggliding', 'Dreams', 'Dragons', 'hopedrawals', 'time', 'funkin', 'Skeletons', 'Skating', 'bloodborne', 'anarchy', 'nostalgic', 'bongo', 'dont', '80s', 'creepycute', 'amongus', 'silly', 'role-playing-game', 'Ludum Dare', 'Spooky', 'oculus-quest-2', 'beach', 'Gardening', 'miniquad', 'wolf', 'mrbeast', 'lee-carvallo', 'Lesbian', 'of', 'Twin Stick Shooter', 'Swords', 'remnants', 'yansimdevsim', 'search', 'bendy', 'Word game', 'nawara-rolex', 'Local multiplayer', 'relax', 'Roguelike', 'taxes', 'historia', 'worm', 'foofur', 'dnd', 'pets', 'space-whale', 'archaeology', 'Abstract', 'haikyuu', 'rally', 'anthro', 'verb', 'autobattle', 'depression', 'rain', 'hypertext', 'gb-studio', 'alienmelon', 'bunnys', 'flare', 'Forest', 'coming-out', 'bts', 'unreal-5', 'railway', 'fiction', 'toast', 'LÖVE', 'blackthornprod', 'animal', 'sea', 'chicken-or-the-smegg', 'melkhior', 'Idle', 'Detective', 'Wobbly', 'civ', 'civil', 'wildlife', 'bitsyhd', 'ambient', 'world-builder', 'firstperson', 'eternal-eclipse', 'frog-jam', 'sim', 'artgame', 'web', 'Sprites', 'rollercoaster', 'wtf', 'Horrible', 'fractal', 'Transgender', 'scubabear', 'Art Book', 'regency', 'heaven', 'operating-system', 'Wordle', 'serious', 'theme-park', 'character-gen', 'construct3', 'Dungeon Crawler', 'Ludum Dare 39', 'deathmatch', 'Yuri', 'First-Person', 'future', 'free', 'brawler', 'cga', 'auto-chess', 'bitsy-editor', 'diving', '8-Bit', 'flatgame', 'magic-city', 'gothic-romance', 'kids', 'hotseat', 'pups', 'symbols', 'angst', 'contemplative', 'backrooms', 'investigation', 'Remake', 'match-3', 'mlm', 'recursive', 'zach-like', 'hidden-object', 'hps1', 'kemono', 'customization', 'rock', 'power-star-frenzy', 'nusantara', 'gmtk-2021', 'friends', 'cuckoo', 'Monsters', 'theory', 'chesnut', 'a-dance-of-fire-and-ice', 'translation', 'binary', 'cosmic', 'meteors', 'scp', 'tuning', 'grow', 'suicide', 'vectorpark', 'Classes', 'peasant', 'gamedev', 'vtuber', 'marching-band', 'dressup', 'cooking', 'armor', 'zelda-like', 'mermaid', 'mixtape', 'Parkour', 'silent-hill', 'psychedelic']\n"
     ]
    },
    {
     "data": {
      "text/plain": "                               title           author  price  \\\n0               Friday Night Funkin'    ninjamuffin99   0.00   \n1           Adventures With Anxiety!      Nicky Case!   0.00   \n2                     Butterfly Soup      Brianna Lei   0.00   \n3                       A Short Hike         adamgryu   5.19   \n4                        Project Kat        Leef 6010   0.00   \n...                              ...              ...    ...   \n2368                         Epitaph    Max Kreminski   0.00   \n2369                         10mg :)          torcado   0.00   \n2370         VTM - Heartless Lullaby  Entalto Studios   0.00   \n2371  everybody wants to be a tortle            onion   0.00   \n2372               what's your name?            jelli   0.00   \n\n                                                    url          status  \\\n0                 https://ninja-muffin24.itch.io/funkin  In development   \n1                         https://ncase.itch.io/anxiety        Released   \n2            https://brianna-lei.itch.io/butterfly-soup        Released   \n3                 https://adamgryu.itch.io/a-short-hike        Released   \n4                   https://leef6010.itch.io/projectkat        Released   \n...                                                 ...             ...   \n2368                   https://mkremins.itch.io/epitaph        Released   \n2369                      https://torcado.itch.io/smile        Released   \n2370  https://entaltostudios.itch.io/vtm-heartless-l...        Released   \n2371                 https://le-onionboi.itch.io/tortle        Released   \n2372                    https://sxilin.itch.io/namegame        Released   \n\n      rating                        made_with  accessibility  ASL  Android  \\\n0        4.7          OpenFL, IndieCade, Haxe              0  0.0      0.0   \n1        4.9                              0.0              0  0.0      0.0   \n2        4.9                           Ren'Py              0  0.0      0.0   \n3        4.9                            Unity              1  0.0      0.0   \n4        4.8  Paint Tool SAI, Godot, Aseprite              1  0.0      0.0   \n...      ...                              ...            ...  ...      ...   \n2368     4.6                              0.0              0  0.0      0.0   \n2369     4.9                              0.0              0  0.0      0.0   \n2370     4.9                            Unity              1  0.0      0.0   \n2371     4.9                            Bitsy              0  0.0      0.0   \n2372     4.9                              0.0              0  0.0      0.0   \n\n      ...  marching-band  dressup  cooking  armor  zelda-like  mermaid  \\\n0     ...            0.0      0.0      0.0    0.0         0.0      0.0   \n1     ...            0.0      0.0      0.0    0.0         0.0      0.0   \n2     ...            0.0      0.0      0.0    0.0         0.0      0.0   \n3     ...            0.0      0.0      0.0    0.0         0.0      0.0   \n4     ...            0.0      0.0      0.0    0.0         0.0      0.0   \n...   ...            ...      ...      ...    ...         ...      ...   \n2368  ...            0.0      0.0      0.0    0.0         0.0      0.0   \n2369  ...            0.0      0.0      0.0    0.0         0.0      0.0   \n2370  ...            0.0      0.0      0.0    0.0         0.0      0.0   \n2371  ...            0.0      0.0      0.0    0.0         0.0      0.0   \n2372  ...            0.0      0.0      0.0    0.0         0.0      0.0   \n\n      mixtape  Parkour  silent-hill  psychedelic  \n0         0.0      0.0          0.0          0.0  \n1         0.0      0.0          0.0          0.0  \n2         0.0      0.0          0.0          0.0  \n3         0.0      0.0          0.0          0.0  \n4         0.0      0.0          0.0          0.0  \n...       ...      ...          ...          ...  \n2368      0.0      0.0          0.0          0.0  \n2369      0.0      0.0          0.0          0.0  \n2370      0.0      0.0          0.0          0.0  \n2371      0.0      0.0          0.0          0.0  \n2372      0.0      0.0          0.0          0.0  \n\n[2373 rows x 1963 columns]",
      "text/html": "<div>\n<style scoped>\n    .dataframe tbody tr th:only-of-type {\n        vertical-align: middle;\n    }\n\n    .dataframe tbody tr th {\n        vertical-align: top;\n    }\n\n    .dataframe thead th {\n        text-align: right;\n    }\n</style>\n<table border=\"1\" class=\"dataframe\">\n  <thead>\n    <tr style=\"text-align: right;\">\n      <th></th>\n      <th>title</th>\n      <th>author</th>\n      <th>price</th>\n      <th>url</th>\n      <th>status</th>\n      <th>rating</th>\n      <th>made_with</th>\n      <th>accessibility</th>\n      <th>ASL</th>\n      <th>Android</th>\n      <th>...</th>\n      <th>marching-band</th>\n      <th>dressup</th>\n      <th>cooking</th>\n      <th>armor</th>\n      <th>zelda-like</th>\n      <th>mermaid</th>\n      <th>mixtape</th>\n      <th>Parkour</th>\n      <th>silent-hill</th>\n      <th>psychedelic</th>\n    </tr>\n  </thead>\n  <tbody>\n    <tr>\n      <th>0</th>\n      <td>Friday Night Funkin'</td>\n      <td>ninjamuffin99</td>\n      <td>0.00</td>\n      <td>https://ninja-muffin24.itch.io/funkin</td>\n      <td>In development</td>\n      <td>4.7</td>\n      <td>OpenFL, IndieCade, Haxe</td>\n      <td>0</td>\n      <td>0.0</td>\n      <td>0.0</td>\n      <td>...</td>\n      <td>0.0</td>\n      <td>0.0</td>\n      <td>0.0</td>\n      <td>0.0</td>\n      <td>0.0</td>\n      <td>0.0</td>\n      <td>0.0</td>\n      <td>0.0</td>\n      <td>0.0</td>\n      <td>0.0</td>\n    </tr>\n    <tr>\n      <th>1</th>\n      <td>Adventures With Anxiety!</td>\n      <td>Nicky Case!</td>\n      <td>0.00</td>\n      <td>https://ncase.itch.io/anxiety</td>\n      <td>Released</td>\n      <td>4.9</td>\n      <td>0.0</td>\n      <td>0</td>\n      <td>0.0</td>\n      <td>0.0</td>\n      <td>...</td>\n      <td>0.0</td>\n      <td>0.0</td>\n      <td>0.0</td>\n      <td>0.0</td>\n      <td>0.0</td>\n      <td>0.0</td>\n      <td>0.0</td>\n      <td>0.0</td>\n      <td>0.0</td>\n      <td>0.0</td>\n    </tr>\n    <tr>\n      <th>2</th>\n      <td>Butterfly Soup</td>\n      <td>Brianna Lei</td>\n      <td>0.00</td>\n      <td>https://brianna-lei.itch.io/butterfly-soup</td>\n      <td>Released</td>\n      <td>4.9</td>\n      <td>Ren'Py</td>\n      <td>0</td>\n      <td>0.0</td>\n      <td>0.0</td>\n      <td>...</td>\n      <td>0.0</td>\n      <td>0.0</td>\n      <td>0.0</td>\n      <td>0.0</td>\n      <td>0.0</td>\n      <td>0.0</td>\n      <td>0.0</td>\n      <td>0.0</td>\n      <td>0.0</td>\n      <td>0.0</td>\n    </tr>\n    <tr>\n      <th>3</th>\n      <td>A Short Hike</td>\n      <td>adamgryu</td>\n      <td>5.19</td>\n      <td>https://adamgryu.itch.io/a-short-hike</td>\n      <td>Released</td>\n      <td>4.9</td>\n      <td>Unity</td>\n      <td>1</td>\n      <td>0.0</td>\n      <td>0.0</td>\n      <td>...</td>\n      <td>0.0</td>\n      <td>0.0</td>\n      <td>0.0</td>\n      <td>0.0</td>\n      <td>0.0</td>\n      <td>0.0</td>\n      <td>0.0</td>\n      <td>0.0</td>\n      <td>0.0</td>\n      <td>0.0</td>\n    </tr>\n    <tr>\n      <th>4</th>\n      <td>Project Kat</td>\n      <td>Leef 6010</td>\n      <td>0.00</td>\n      <td>https://leef6010.itch.io/projectkat</td>\n      <td>Released</td>\n      <td>4.8</td>\n      <td>Paint Tool SAI, Godot, Aseprite</td>\n      <td>1</td>\n      <td>0.0</td>\n      <td>0.0</td>\n      <td>...</td>\n      <td>0.0</td>\n      <td>0.0</td>\n      <td>0.0</td>\n      <td>0.0</td>\n      <td>0.0</td>\n      <td>0.0</td>\n      <td>0.0</td>\n      <td>0.0</td>\n      <td>0.0</td>\n      <td>0.0</td>\n    </tr>\n    <tr>\n      <th>...</th>\n      <td>...</td>\n      <td>...</td>\n      <td>...</td>\n      <td>...</td>\n      <td>...</td>\n      <td>...</td>\n      <td>...</td>\n      <td>...</td>\n      <td>...</td>\n      <td>...</td>\n      <td>...</td>\n      <td>...</td>\n      <td>...</td>\n      <td>...</td>\n      <td>...</td>\n      <td>...</td>\n      <td>...</td>\n      <td>...</td>\n      <td>...</td>\n      <td>...</td>\n      <td>...</td>\n    </tr>\n    <tr>\n      <th>2368</th>\n      <td>Epitaph</td>\n      <td>Max Kreminski</td>\n      <td>0.00</td>\n      <td>https://mkremins.itch.io/epitaph</td>\n      <td>Released</td>\n      <td>4.6</td>\n      <td>0.0</td>\n      <td>0</td>\n      <td>0.0</td>\n      <td>0.0</td>\n      <td>...</td>\n      <td>0.0</td>\n      <td>0.0</td>\n      <td>0.0</td>\n      <td>0.0</td>\n      <td>0.0</td>\n      <td>0.0</td>\n      <td>0.0</td>\n      <td>0.0</td>\n      <td>0.0</td>\n      <td>0.0</td>\n    </tr>\n    <tr>\n      <th>2369</th>\n      <td>10mg :)</td>\n      <td>torcado</td>\n      <td>0.00</td>\n      <td>https://torcado.itch.io/smile</td>\n      <td>Released</td>\n      <td>4.9</td>\n      <td>0.0</td>\n      <td>0</td>\n      <td>0.0</td>\n      <td>0.0</td>\n      <td>...</td>\n      <td>0.0</td>\n      <td>0.0</td>\n      <td>0.0</td>\n      <td>0.0</td>\n      <td>0.0</td>\n      <td>0.0</td>\n      <td>0.0</td>\n      <td>0.0</td>\n      <td>0.0</td>\n      <td>0.0</td>\n    </tr>\n    <tr>\n      <th>2370</th>\n      <td>VTM - Heartless Lullaby</td>\n      <td>Entalto Studios</td>\n      <td>0.00</td>\n      <td>https://entaltostudios.itch.io/vtm-heartless-l...</td>\n      <td>Released</td>\n      <td>4.9</td>\n      <td>Unity</td>\n      <td>1</td>\n      <td>0.0</td>\n      <td>0.0</td>\n      <td>...</td>\n      <td>0.0</td>\n      <td>0.0</td>\n      <td>0.0</td>\n      <td>0.0</td>\n      <td>0.0</td>\n      <td>0.0</td>\n      <td>0.0</td>\n      <td>0.0</td>\n      <td>0.0</td>\n      <td>0.0</td>\n    </tr>\n    <tr>\n      <th>2371</th>\n      <td>everybody wants to be a tortle</td>\n      <td>onion</td>\n      <td>0.00</td>\n      <td>https://le-onionboi.itch.io/tortle</td>\n      <td>Released</td>\n      <td>4.9</td>\n      <td>Bitsy</td>\n      <td>0</td>\n      <td>0.0</td>\n      <td>0.0</td>\n      <td>...</td>\n      <td>0.0</td>\n      <td>0.0</td>\n      <td>0.0</td>\n      <td>0.0</td>\n      <td>0.0</td>\n      <td>0.0</td>\n      <td>0.0</td>\n      <td>0.0</td>\n      <td>0.0</td>\n      <td>0.0</td>\n    </tr>\n    <tr>\n      <th>2372</th>\n      <td>what's your name?</td>\n      <td>jelli</td>\n      <td>0.00</td>\n      <td>https://sxilin.itch.io/namegame</td>\n      <td>Released</td>\n      <td>4.9</td>\n      <td>0.0</td>\n      <td>0</td>\n      <td>0.0</td>\n      <td>0.0</td>\n      <td>...</td>\n      <td>0.0</td>\n      <td>0.0</td>\n      <td>0.0</td>\n      <td>0.0</td>\n      <td>0.0</td>\n      <td>0.0</td>\n      <td>0.0</td>\n      <td>0.0</td>\n      <td>0.0</td>\n      <td>0.0</td>\n    </tr>\n  </tbody>\n</table>\n<p>2373 rows × 1963 columns</p>\n</div>"
     },
     "execution_count": 42,
     "metadata": {},
     "output_type": "execute_result"
    }
   ],
   "source": [
    "df2 = column_to_bit_columns('tags', df2)\n",
    "df2"
   ],
   "metadata": {
    "collapsed": false,
    "pycharm": {
     "name": "#%%\n"
    }
   }
  },
  {
   "cell_type": "code",
   "execution_count": 43,
   "outputs": [
    {
     "name": "stdout",
     "output_type": "stream",
     "text": [
      "2.0\n",
      "1.0\n",
      "2.0\n",
      "7.0\n"
     ]
    }
   ],
   "source": [
    "print(sum(df2['FMV']))\n",
    "print(sum(df2['make']))\n",
    "print(sum(df2['Breakout']))\n",
    "print(sum(df2['Strategy RPG']))"
   ],
   "metadata": {
    "collapsed": false,
    "pycharm": {
     "name": "#%%\n"
    }
   }
  },
  {
   "cell_type": "code",
   "execution_count": null,
   "outputs": [],
   "source": [
    "df2.to_csv('results.tsv', sep='\\t')"
   ],
   "metadata": {
    "collapsed": false,
    "pycharm": {
     "name": "#%%\n"
    }
   }
  },
  {
   "cell_type": "code",
   "execution_count": 33,
   "outputs": [],
   "source": [
    "df2[\"status\"]= df2[\"status\"].astype('category')\n",
    "replace_map = {'In development':1,'Released':2,'On hold':3,'Prototype':4,'Canceled':5}\n",
    "df2.replace(replace_map, inplace=True)"
   ],
   "metadata": {
    "collapsed": false,
    "pycharm": {
     "name": "#%%\n"
    }
   }
  },
  {
   "cell_type": "code",
   "execution_count": 34,
   "outputs": [
    {
     "name": "stderr",
     "output_type": "stream",
     "text": [
      "C:\\Users\\User\\AppData\\Local\\Temp\\ipykernel_7860\\2252030903.py:2: FutureWarning: In a future version of pandas all arguments of DataFrame.drop except for the argument 'labels' will be keyword-only.\n",
      "  df2_encoded = df2.drop(columns_to_drop, 1)\n"
     ]
    },
    {
     "ename": "KeyError",
     "evalue": "\"['ASL' 'made_with' 'author' 'level_0'] not found in axis\"",
     "output_type": "error",
     "traceback": [
      "\u001B[1;31m---------------------------------------------------------------------------\u001B[0m",
      "\u001B[1;31mKeyError\u001B[0m                                  Traceback (most recent call last)",
      "Input \u001B[1;32mIn [34]\u001B[0m, in \u001B[0;36m<cell line: 2>\u001B[1;34m()\u001B[0m\n\u001B[0;32m      1\u001B[0m columns_to_drop \u001B[38;5;241m=\u001B[39m [\u001B[38;5;124m'\u001B[39m\u001B[38;5;124mASL\u001B[39m\u001B[38;5;124m'\u001B[39m,\u001B[38;5;124m'\u001B[39m\u001B[38;5;124mmade_with\u001B[39m\u001B[38;5;124m'\u001B[39m,\u001B[38;5;124m'\u001B[39m\u001B[38;5;124mauthor\u001B[39m\u001B[38;5;124m'\u001B[39m,\u001B[38;5;124m'\u001B[39m\u001B[38;5;124mlevel_0\u001B[39m\u001B[38;5;124m'\u001B[39m,]\n\u001B[1;32m----> 2\u001B[0m df2_encoded \u001B[38;5;241m=\u001B[39m \u001B[43mdf2\u001B[49m\u001B[38;5;241;43m.\u001B[39;49m\u001B[43mdrop\u001B[49m\u001B[43m(\u001B[49m\u001B[43mcolumns_to_drop\u001B[49m\u001B[43m,\u001B[49m\u001B[43m \u001B[49m\u001B[38;5;241;43m1\u001B[39;49m\u001B[43m)\u001B[49m\n\u001B[0;32m      3\u001B[0m df2_encoded\n",
      "File \u001B[1;32m~\\anaconda3\\envs\\DataScience\\lib\\site-packages\\pandas\\util\\_decorators.py:311\u001B[0m, in \u001B[0;36mdeprecate_nonkeyword_arguments.<locals>.decorate.<locals>.wrapper\u001B[1;34m(*args, **kwargs)\u001B[0m\n\u001B[0;32m    305\u001B[0m \u001B[38;5;28;01mif\u001B[39;00m \u001B[38;5;28mlen\u001B[39m(args) \u001B[38;5;241m>\u001B[39m num_allow_args:\n\u001B[0;32m    306\u001B[0m     warnings\u001B[38;5;241m.\u001B[39mwarn(\n\u001B[0;32m    307\u001B[0m         msg\u001B[38;5;241m.\u001B[39mformat(arguments\u001B[38;5;241m=\u001B[39marguments),\n\u001B[0;32m    308\u001B[0m         \u001B[38;5;167;01mFutureWarning\u001B[39;00m,\n\u001B[0;32m    309\u001B[0m         stacklevel\u001B[38;5;241m=\u001B[39mstacklevel,\n\u001B[0;32m    310\u001B[0m     )\n\u001B[1;32m--> 311\u001B[0m \u001B[38;5;28;01mreturn\u001B[39;00m func(\u001B[38;5;241m*\u001B[39margs, \u001B[38;5;241m*\u001B[39m\u001B[38;5;241m*\u001B[39mkwargs)\n",
      "File \u001B[1;32m~\\anaconda3\\envs\\DataScience\\lib\\site-packages\\pandas\\core\\frame.py:4954\u001B[0m, in \u001B[0;36mDataFrame.drop\u001B[1;34m(self, labels, axis, index, columns, level, inplace, errors)\u001B[0m\n\u001B[0;32m   4806\u001B[0m \u001B[38;5;129m@deprecate_nonkeyword_arguments\u001B[39m(version\u001B[38;5;241m=\u001B[39m\u001B[38;5;28;01mNone\u001B[39;00m, allowed_args\u001B[38;5;241m=\u001B[39m[\u001B[38;5;124m\"\u001B[39m\u001B[38;5;124mself\u001B[39m\u001B[38;5;124m\"\u001B[39m, \u001B[38;5;124m\"\u001B[39m\u001B[38;5;124mlabels\u001B[39m\u001B[38;5;124m\"\u001B[39m])\n\u001B[0;32m   4807\u001B[0m \u001B[38;5;28;01mdef\u001B[39;00m \u001B[38;5;21mdrop\u001B[39m(\n\u001B[0;32m   4808\u001B[0m     \u001B[38;5;28mself\u001B[39m,\n\u001B[1;32m   (...)\u001B[0m\n\u001B[0;32m   4815\u001B[0m     errors: \u001B[38;5;28mstr\u001B[39m \u001B[38;5;241m=\u001B[39m \u001B[38;5;124m\"\u001B[39m\u001B[38;5;124mraise\u001B[39m\u001B[38;5;124m\"\u001B[39m,\n\u001B[0;32m   4816\u001B[0m ):\n\u001B[0;32m   4817\u001B[0m     \u001B[38;5;124;03m\"\"\"\u001B[39;00m\n\u001B[0;32m   4818\u001B[0m \u001B[38;5;124;03m    Drop specified labels from rows or columns.\u001B[39;00m\n\u001B[0;32m   4819\u001B[0m \n\u001B[1;32m   (...)\u001B[0m\n\u001B[0;32m   4952\u001B[0m \u001B[38;5;124;03m            weight  1.0     0.8\u001B[39;00m\n\u001B[0;32m   4953\u001B[0m \u001B[38;5;124;03m    \"\"\"\u001B[39;00m\n\u001B[1;32m-> 4954\u001B[0m     \u001B[38;5;28;01mreturn\u001B[39;00m \u001B[38;5;28;43msuper\u001B[39;49m\u001B[43m(\u001B[49m\u001B[43m)\u001B[49m\u001B[38;5;241;43m.\u001B[39;49m\u001B[43mdrop\u001B[49m\u001B[43m(\u001B[49m\n\u001B[0;32m   4955\u001B[0m \u001B[43m        \u001B[49m\u001B[43mlabels\u001B[49m\u001B[38;5;241;43m=\u001B[39;49m\u001B[43mlabels\u001B[49m\u001B[43m,\u001B[49m\n\u001B[0;32m   4956\u001B[0m \u001B[43m        \u001B[49m\u001B[43maxis\u001B[49m\u001B[38;5;241;43m=\u001B[39;49m\u001B[43maxis\u001B[49m\u001B[43m,\u001B[49m\n\u001B[0;32m   4957\u001B[0m \u001B[43m        \u001B[49m\u001B[43mindex\u001B[49m\u001B[38;5;241;43m=\u001B[39;49m\u001B[43mindex\u001B[49m\u001B[43m,\u001B[49m\n\u001B[0;32m   4958\u001B[0m \u001B[43m        \u001B[49m\u001B[43mcolumns\u001B[49m\u001B[38;5;241;43m=\u001B[39;49m\u001B[43mcolumns\u001B[49m\u001B[43m,\u001B[49m\n\u001B[0;32m   4959\u001B[0m \u001B[43m        \u001B[49m\u001B[43mlevel\u001B[49m\u001B[38;5;241;43m=\u001B[39;49m\u001B[43mlevel\u001B[49m\u001B[43m,\u001B[49m\n\u001B[0;32m   4960\u001B[0m \u001B[43m        \u001B[49m\u001B[43minplace\u001B[49m\u001B[38;5;241;43m=\u001B[39;49m\u001B[43minplace\u001B[49m\u001B[43m,\u001B[49m\n\u001B[0;32m   4961\u001B[0m \u001B[43m        \u001B[49m\u001B[43merrors\u001B[49m\u001B[38;5;241;43m=\u001B[39;49m\u001B[43merrors\u001B[49m\u001B[43m,\u001B[49m\n\u001B[0;32m   4962\u001B[0m \u001B[43m    \u001B[49m\u001B[43m)\u001B[49m\n",
      "File \u001B[1;32m~\\anaconda3\\envs\\DataScience\\lib\\site-packages\\pandas\\core\\generic.py:4267\u001B[0m, in \u001B[0;36mNDFrame.drop\u001B[1;34m(self, labels, axis, index, columns, level, inplace, errors)\u001B[0m\n\u001B[0;32m   4265\u001B[0m \u001B[38;5;28;01mfor\u001B[39;00m axis, labels \u001B[38;5;129;01min\u001B[39;00m axes\u001B[38;5;241m.\u001B[39mitems():\n\u001B[0;32m   4266\u001B[0m     \u001B[38;5;28;01mif\u001B[39;00m labels \u001B[38;5;129;01mis\u001B[39;00m \u001B[38;5;129;01mnot\u001B[39;00m \u001B[38;5;28;01mNone\u001B[39;00m:\n\u001B[1;32m-> 4267\u001B[0m         obj \u001B[38;5;241m=\u001B[39m \u001B[43mobj\u001B[49m\u001B[38;5;241;43m.\u001B[39;49m\u001B[43m_drop_axis\u001B[49m\u001B[43m(\u001B[49m\u001B[43mlabels\u001B[49m\u001B[43m,\u001B[49m\u001B[43m \u001B[49m\u001B[43maxis\u001B[49m\u001B[43m,\u001B[49m\u001B[43m \u001B[49m\u001B[43mlevel\u001B[49m\u001B[38;5;241;43m=\u001B[39;49m\u001B[43mlevel\u001B[49m\u001B[43m,\u001B[49m\u001B[43m \u001B[49m\u001B[43merrors\u001B[49m\u001B[38;5;241;43m=\u001B[39;49m\u001B[43merrors\u001B[49m\u001B[43m)\u001B[49m\n\u001B[0;32m   4269\u001B[0m \u001B[38;5;28;01mif\u001B[39;00m inplace:\n\u001B[0;32m   4270\u001B[0m     \u001B[38;5;28mself\u001B[39m\u001B[38;5;241m.\u001B[39m_update_inplace(obj)\n",
      "File \u001B[1;32m~\\anaconda3\\envs\\DataScience\\lib\\site-packages\\pandas\\core\\generic.py:4340\u001B[0m, in \u001B[0;36mNDFrame._drop_axis\u001B[1;34m(self, labels, axis, level, errors, consolidate, only_slice)\u001B[0m\n\u001B[0;32m   4338\u001B[0m     labels_missing \u001B[38;5;241m=\u001B[39m (axis\u001B[38;5;241m.\u001B[39mget_indexer_for(labels) \u001B[38;5;241m==\u001B[39m \u001B[38;5;241m-\u001B[39m\u001B[38;5;241m1\u001B[39m)\u001B[38;5;241m.\u001B[39many()\n\u001B[0;32m   4339\u001B[0m     \u001B[38;5;28;01mif\u001B[39;00m errors \u001B[38;5;241m==\u001B[39m \u001B[38;5;124m\"\u001B[39m\u001B[38;5;124mraise\u001B[39m\u001B[38;5;124m\"\u001B[39m \u001B[38;5;129;01mand\u001B[39;00m labels_missing:\n\u001B[1;32m-> 4340\u001B[0m         \u001B[38;5;28;01mraise\u001B[39;00m \u001B[38;5;167;01mKeyError\u001B[39;00m(\u001B[38;5;124mf\u001B[39m\u001B[38;5;124m\"\u001B[39m\u001B[38;5;132;01m{\u001B[39;00mlabels\u001B[38;5;132;01m}\u001B[39;00m\u001B[38;5;124m not found in axis\u001B[39m\u001B[38;5;124m\"\u001B[39m)\n\u001B[0;32m   4342\u001B[0m \u001B[38;5;28;01mif\u001B[39;00m is_extension_array_dtype(mask\u001B[38;5;241m.\u001B[39mdtype):\n\u001B[0;32m   4343\u001B[0m     \u001B[38;5;66;03m# GH#45860\u001B[39;00m\n\u001B[0;32m   4344\u001B[0m     mask \u001B[38;5;241m=\u001B[39m mask\u001B[38;5;241m.\u001B[39mto_numpy(dtype\u001B[38;5;241m=\u001B[39m\u001B[38;5;28mbool\u001B[39m)\n",
      "\u001B[1;31mKeyError\u001B[0m: \"['ASL' 'made_with' 'author' 'level_0'] not found in axis\""
     ]
    }
   ],
   "source": [
    "columns_to_drop = ['ASL','made_with','author','level_0',]\n",
    "df2_encoded = df2.drop(columns_to_drop, 1)\n",
    "df2_encoded"
   ],
   "metadata": {
    "collapsed": false,
    "pycharm": {
     "name": "#%%\n"
    }
   }
  },
  {
   "cell_type": "code",
   "execution_count": null,
   "outputs": [],
   "source": [
    "df2_encoded.to_csv('results_big_data.csv', sep='\\t')"
   ],
   "metadata": {
    "collapsed": false,
    "pycharm": {
     "name": "#%%\n"
    }
   }
  },
  {
   "cell_type": "code",
   "execution_count": null,
   "outputs": [],
   "source": [
    "df = pd.read_csv(\"results_big_data.csv\",sep='\\t')\n",
    "df.accessibility[df.accessibility != '0'] = 1\n",
    "df"
   ],
   "metadata": {
    "collapsed": false,
    "pycharm": {
     "name": "#%%\n"
    }
   }
  },
  {
   "cell_type": "code",
   "execution_count": null,
   "outputs": [],
   "source": [
    "columns_to_drop_bin =['level_0','url','Unnamed: 0','price','accessibility','status','rating','title']\n",
    "df_bin = df.drop(columns_to_drop_bin, 1)\n",
    "df_bin\n"
   ],
   "metadata": {
    "collapsed": false,
    "pycharm": {
     "name": "#%%\n"
    }
   }
  },
  {
   "cell_type": "code",
   "execution_count": 44,
   "outputs": [
    {
     "data": {
      "text/plain": "Empty DataFrame\nColumns: [tags, frequency]\nIndex: []",
      "text/html": "<div>\n<style scoped>\n    .dataframe tbody tr th:only-of-type {\n        vertical-align: middle;\n    }\n\n    .dataframe tbody tr th {\n        vertical-align: top;\n    }\n\n    .dataframe thead th {\n        text-align: right;\n    }\n</style>\n<table border=\"1\" class=\"dataframe\">\n  <thead>\n    <tr style=\"text-align: right;\">\n      <th></th>\n      <th>tags</th>\n      <th>frequency</th>\n    </tr>\n  </thead>\n  <tbody>\n  </tbody>\n</table>\n</div>"
     },
     "execution_count": 44,
     "metadata": {},
     "output_type": "execute_result"
    }
   ],
   "source": [
    "freq_df=pd.DataFrame(columns=['tags','frequency'])\n",
    "freq_df\n",
    "\n",
    "\n"
   ],
   "metadata": {
    "collapsed": false,
    "pycharm": {
     "name": "#%%\n"
    }
   }
  },
  {
   "cell_type": "code",
   "execution_count": null,
   "outputs": [],
   "source": [
    "tags=[]\n",
    "frequency=[]\n",
    "for column in df_bin:\n",
    "    tag=column\n",
    "    freq=df_bin[column].value_counts()\n",
    "    print(tag + \": \" )\n",
    "    print(freq)\n",
    "    tags.append(tag)\n",
    "    frequency.append(freq)\n",
    "#freq_df.append(tags,frequency)\n",
    "#freq_df"
   ],
   "metadata": {
    "collapsed": false,
    "pycharm": {
     "name": "#%%\n"
    }
   }
  },
  {
   "cell_type": "code",
   "execution_count": null,
   "outputs": [],
   "source": [],
   "metadata": {
    "collapsed": false,
    "pycharm": {
     "name": "#%%\n"
    }
   }
  },
  {
   "cell_type": "code",
   "execution_count": null,
   "outputs": [],
   "source": [
    "import matplotlib as mpl\n",
    "import seaborn as sns\n",
    "from matplotlib import pyplot as plt\n",
    "%matplotlib inline\n"
   ],
   "metadata": {
    "collapsed": false,
    "pycharm": {
     "name": "#%%\n"
    }
   }
  },
  {
   "cell_type": "code",
   "execution_count": null,
   "outputs": [],
   "source": [
    "sns.set()"
   ],
   "metadata": {
    "collapsed": false,
    "pycharm": {
     "name": "#%%\n"
    }
   }
  },
  {
   "cell_type": "markdown",
   "source": [],
   "metadata": {
    "collapsed": false,
    "pycharm": {
     "name": "#%% md\n"
    }
   }
  },
  {
   "cell_type": "code",
   "execution_count": null,
   "outputs": [],
   "source": [],
   "metadata": {
    "collapsed": false,
    "pycharm": {
     "name": "#%%\n"
    }
   }
  },
  {
   "cell_type": "code",
   "execution_count": null,
   "outputs": [],
   "source": [
    "df_bin =df_bin.drop('title',1)\n"
   ],
   "metadata": {
    "collapsed": false,
    "pycharm": {
     "name": "#%%\n"
    }
   }
  },
  {
   "cell_type": "code",
   "execution_count": null,
   "outputs": [],
   "source": [],
   "metadata": {
    "collapsed": false,
    "pycharm": {
     "name": "#%%\n"
    }
   }
  },
  {
   "cell_type": "markdown",
   "source": [],
   "metadata": {
    "collapsed": false,
    "pycharm": {
     "name": "#%% md\n"
    }
   }
  },
  {
   "cell_type": "code",
   "execution_count": null,
   "outputs": [],
   "source": [
    "\n"
   ],
   "metadata": {
    "collapsed": false,
    "pycharm": {
     "name": "#%%\n"
    }
   }
  },
  {
   "cell_type": "code",
   "execution_count": null,
   "outputs": [],
   "source": [
    "#test1 = pd.read_csv(\"test.csv \",error_bad_lines=False,sep='\\t')"
   ],
   "metadata": {
    "collapsed": false,
    "pycharm": {
     "name": "#%%\n"
    }
   }
  },
  {
   "cell_type": "code",
   "execution_count": null,
   "outputs": [],
   "source": [],
   "metadata": {
    "collapsed": false,
    "pycharm": {
     "name": "#%%\n"
    }
   }
  },
  {
   "cell_type": "code",
   "execution_count": null,
   "outputs": [],
   "source": [],
   "metadata": {
    "collapsed": false,
    "pycharm": {
     "name": "#%%\n"
    }
   }
  },
  {
   "cell_type": "code",
   "execution_count": null,
   "outputs": [],
   "source": [],
   "metadata": {
    "collapsed": false,
    "pycharm": {
     "name": "#%%\n"
    }
   }
  },
  {
   "cell_type": "code",
   "execution_count": null,
   "outputs": [],
   "source": [],
   "metadata": {
    "collapsed": false,
    "pycharm": {
     "name": "#%%\n"
    }
   }
  },
  {
   "cell_type": "code",
   "execution_count": null,
   "outputs": [],
   "source": [],
   "metadata": {
    "collapsed": false,
    "pycharm": {
     "name": "#%%\n"
    }
   }
  },
  {
   "cell_type": "markdown",
   "source": [
    "You can use the package sklearn and its associated preprocessing utilities to normalize the data."
   ],
   "metadata": {
    "collapsed": false,
    "pycharm": {
     "name": "#%% md\n"
    }
   }
  },
  {
   "cell_type": "code",
   "execution_count": null,
   "outputs": [],
   "source": [],
   "metadata": {
    "collapsed": false,
    "pycharm": {
     "name": "#%%\n"
    }
   }
  },
  {
   "cell_type": "code",
   "execution_count": null,
   "outputs": [],
   "source": [],
   "metadata": {
    "collapsed": false,
    "pycharm": {
     "name": "#%%\n"
    }
   }
  },
  {
   "cell_type": "code",
   "execution_count": null,
   "outputs": [],
   "source": [],
   "metadata": {
    "collapsed": false,
    "pycharm": {
     "name": "#%%\n"
    }
   }
  }
 ],
 "metadata": {
  "kernelspec": {
   "display_name": "Python 3",
   "language": "python",
   "name": "python3"
  },
  "language_info": {
   "codemirror_mode": {
    "name": "ipython",
    "version": 2
   },
   "file_extension": ".py",
   "mimetype": "text/x-python",
   "name": "python",
   "nbconvert_exporter": "python",
   "pygments_lexer": "ipython2",
   "version": "2.7.6"
  }
 },
 "nbformat": 4,
 "nbformat_minor": 0
}