{
 "cells": [
  {
   "cell_type": "markdown",
   "source": [
    "Data Handling"
   ],
   "metadata": {
    "collapsed": false,
    "pycharm": {
     "name": "#%% md\n"
    }
   }
  },
  {
   "cell_type": "code",
   "execution_count": 1,
   "outputs": [],
   "source": [
    "import matplotlib.pyplot as plt\n",
    "import numpy as np\n",
    "from matplotlib import patches\n",
    "import warnings\n",
    "import csv\n",
    "import pandas as pd\n",
    "from array import *\n",
    "#warnings.simplefilter('ignore')"
   ],
   "metadata": {
    "collapsed": false,
    "pycharm": {
     "name": "#%%import pandas as pd\n"
    }
   }
  },
  {
   "cell_type": "markdown",
   "source": [
    "Open Crawled Data csv file"
   ],
   "metadata": {
    "collapsed": false,
    "pycharm": {
     "name": "#%% md\n"
    }
   }
  },
  {
   "cell_type": "code",
   "execution_count": 20,
   "outputs": [
    {
     "data": {
      "text/plain": "      index                                          title  \\\n0         0                 ​Our Life: Beginnings & Always   \n1         1                           Friday Night Funkin'   \n2         2                       Adventures With Anxiety!   \n3         3                                 Butterfly Soup   \n4         4                                   A Short Hike   \n...     ...                                            ...   \n5675   1949                                          Stay?   \n5676   1950                                   Arc Symphony   \n5677   1951  Sounds of Her Love ~We'll always be together~   \n5678   1952                                 I'm Still Here   \n5679   1953                                   Cohabitation   \n\n                  author  price  \\\n0                GBPatch    NaN   \n1          ninjamuffin99    NaN   \n2            Nicky Case!    NaN   \n3            Brianna Lei    NaN   \n4               adamgryu  $5.19   \n...                  ...    ...   \n5675          ejadelomax    NaN   \n5676  Aether Interactive  $2.99   \n5677             ds-sans    NaN   \n5678      Cozy Game Pals    NaN   \n5679       AlgebraFalcon    NaN   \n\n                                                 url          status  \\\n0                   https://gbpatch.itch.io/our-life             NaN   \n1              https://ninja-muffin24.itch.io/funkin  In development   \n2                      https://ncase.itch.io/anxiety        Released   \n3         https://brianna-lei.itch.io/butterfly-soup        Released   \n4              https://adamgryu.itch.io/a-short-hike        Released   \n...                                              ...             ...   \n5675                 https://ejadelomax.itch.io/stay        Released   \n5676  https://aetherinteractive.itch.io/arc-symphony        Released   \n5677    https://ds-sans.itch.io/soundsofherlove-wabt        Released   \n5678      https://cozygamepals.itch.io/im-still-here        Released   \n5679      https://algebrafalcon.itch.io/cohabitation        Released   \n\n                          platform  rating                made_with  \\\n0                              NaN     NaN                      NaN   \n1     Windows, macOS, Linux, HTML5     4.7  OpenFL, IndieCade, Haxe   \n2                            HTML5     4.9                      NaN   \n3            Windows, macOS, Linux     4.9                   Ren'Py   \n4            Windows, macOS, Linux     4.9                    Unity   \n...                            ...     ...                      ...   \n5675                         HTML5     4.9                      NaN   \n5676         Windows, macOS, Linux     4.5                    Twine   \n5677         Windows, macOS, Linux     4.4                   Ren'Py   \n5678         Windows, macOS, Linux     4.3                      NaN   \n5679         Windows, macOS, HTML5     4.8                RPG Maker   \n\n                                                   tags  \\\n0                                                   NaN   \n1                                                    2D   \n2                      Comedy, Mental Health, Narrative   \n3     2D, Anime, Female Protagonist, LGBT, Ren'Py, R...   \n4     3D, Atmospheric, Cute, Funny, nature, Relaxing...   \n...                                                 ...   \n5675                                   Fantasy, LGBTQIA   \n5676                                  Story Rich, Twine   \n5677                        Anime, Cute, drama, Romance   \n5678  3D, Atmospheric, Casual, Cute, Dark, Horror, R...   \n5679  2D, Creepy, Dating Sim, Horror, Psychological ...   \n\n                         accessibility  ASL  \n0                                  NaN  NaN  \n1                                  NaN  NaN  \n2                                  NaN  NaN  \n3                                  NaN  NaN  \n4     Subtitles, Configurable controls  NaN  \n...                                ...  ...  \n5675                               NaN  NaN  \n5676                               NaN  NaN  \n5677                               NaN  NaN  \n5678                               NaN  NaN  \n5679                               NaN  NaN  \n\n[5680 rows x 12 columns]",
      "text/html": "<div>\n<style scoped>\n    .dataframe tbody tr th:only-of-type {\n        vertical-align: middle;\n    }\n\n    .dataframe tbody tr th {\n        vertical-align: top;\n    }\n\n    .dataframe thead th {\n        text-align: right;\n    }\n</style>\n<table border=\"1\" class=\"dataframe\">\n  <thead>\n    <tr style=\"text-align: right;\">\n      <th></th>\n      <th>index</th>\n      <th>title</th>\n      <th>author</th>\n      <th>price</th>\n      <th>url</th>\n      <th>status</th>\n      <th>platform</th>\n      <th>rating</th>\n      <th>made_with</th>\n      <th>tags</th>\n      <th>accessibility</th>\n      <th>ASL</th>\n    </tr>\n  </thead>\n  <tbody>\n    <tr>\n      <th>0</th>\n      <td>0</td>\n      <td>​Our Life: Beginnings &amp; Always</td>\n      <td>GBPatch</td>\n      <td>NaN</td>\n      <td>https://gbpatch.itch.io/our-life</td>\n      <td>NaN</td>\n      <td>NaN</td>\n      <td>NaN</td>\n      <td>NaN</td>\n      <td>NaN</td>\n      <td>NaN</td>\n      <td>NaN</td>\n    </tr>\n    <tr>\n      <th>1</th>\n      <td>1</td>\n      <td>Friday Night Funkin'</td>\n      <td>ninjamuffin99</td>\n      <td>NaN</td>\n      <td>https://ninja-muffin24.itch.io/funkin</td>\n      <td>In development</td>\n      <td>Windows, macOS, Linux, HTML5</td>\n      <td>4.7</td>\n      <td>OpenFL, IndieCade, Haxe</td>\n      <td>2D</td>\n      <td>NaN</td>\n      <td>NaN</td>\n    </tr>\n    <tr>\n      <th>2</th>\n      <td>2</td>\n      <td>Adventures With Anxiety!</td>\n      <td>Nicky Case!</td>\n      <td>NaN</td>\n      <td>https://ncase.itch.io/anxiety</td>\n      <td>Released</td>\n      <td>HTML5</td>\n      <td>4.9</td>\n      <td>NaN</td>\n      <td>Comedy, Mental Health, Narrative</td>\n      <td>NaN</td>\n      <td>NaN</td>\n    </tr>\n    <tr>\n      <th>3</th>\n      <td>3</td>\n      <td>Butterfly Soup</td>\n      <td>Brianna Lei</td>\n      <td>NaN</td>\n      <td>https://brianna-lei.itch.io/butterfly-soup</td>\n      <td>Released</td>\n      <td>Windows, macOS, Linux</td>\n      <td>4.9</td>\n      <td>Ren'Py</td>\n      <td>2D, Anime, Female Protagonist, LGBT, Ren'Py, R...</td>\n      <td>NaN</td>\n      <td>NaN</td>\n    </tr>\n    <tr>\n      <th>4</th>\n      <td>4</td>\n      <td>A Short Hike</td>\n      <td>adamgryu</td>\n      <td>$5.19</td>\n      <td>https://adamgryu.itch.io/a-short-hike</td>\n      <td>Released</td>\n      <td>Windows, macOS, Linux</td>\n      <td>4.9</td>\n      <td>Unity</td>\n      <td>3D, Atmospheric, Cute, Funny, nature, Relaxing...</td>\n      <td>Subtitles, Configurable controls</td>\n      <td>NaN</td>\n    </tr>\n    <tr>\n      <th>...</th>\n      <td>...</td>\n      <td>...</td>\n      <td>...</td>\n      <td>...</td>\n      <td>...</td>\n      <td>...</td>\n      <td>...</td>\n      <td>...</td>\n      <td>...</td>\n      <td>...</td>\n      <td>...</td>\n      <td>...</td>\n    </tr>\n    <tr>\n      <th>5675</th>\n      <td>1949</td>\n      <td>Stay?</td>\n      <td>ejadelomax</td>\n      <td>NaN</td>\n      <td>https://ejadelomax.itch.io/stay</td>\n      <td>Released</td>\n      <td>HTML5</td>\n      <td>4.9</td>\n      <td>NaN</td>\n      <td>Fantasy, LGBTQIA</td>\n      <td>NaN</td>\n      <td>NaN</td>\n    </tr>\n    <tr>\n      <th>5676</th>\n      <td>1950</td>\n      <td>Arc Symphony</td>\n      <td>Aether Interactive</td>\n      <td>$2.99</td>\n      <td>https://aetherinteractive.itch.io/arc-symphony</td>\n      <td>Released</td>\n      <td>Windows, macOS, Linux</td>\n      <td>4.5</td>\n      <td>Twine</td>\n      <td>Story Rich, Twine</td>\n      <td>NaN</td>\n      <td>NaN</td>\n    </tr>\n    <tr>\n      <th>5677</th>\n      <td>1951</td>\n      <td>Sounds of Her Love ~We'll always be together~</td>\n      <td>ds-sans</td>\n      <td>NaN</td>\n      <td>https://ds-sans.itch.io/soundsofherlove-wabt</td>\n      <td>Released</td>\n      <td>Windows, macOS, Linux</td>\n      <td>4.4</td>\n      <td>Ren'Py</td>\n      <td>Anime, Cute, drama, Romance</td>\n      <td>NaN</td>\n      <td>NaN</td>\n    </tr>\n    <tr>\n      <th>5678</th>\n      <td>1952</td>\n      <td>I'm Still Here</td>\n      <td>Cozy Game Pals</td>\n      <td>NaN</td>\n      <td>https://cozygamepals.itch.io/im-still-here</td>\n      <td>Released</td>\n      <td>Windows, macOS, Linux</td>\n      <td>4.3</td>\n      <td>NaN</td>\n      <td>3D, Atmospheric, Casual, Cute, Dark, Horror, R...</td>\n      <td>NaN</td>\n      <td>NaN</td>\n    </tr>\n    <tr>\n      <th>5679</th>\n      <td>1953</td>\n      <td>Cohabitation</td>\n      <td>AlgebraFalcon</td>\n      <td>NaN</td>\n      <td>https://algebrafalcon.itch.io/cohabitation</td>\n      <td>Released</td>\n      <td>Windows, macOS, HTML5</td>\n      <td>4.8</td>\n      <td>RPG Maker</td>\n      <td>2D, Creepy, Dating Sim, Horror, Psychological ...</td>\n      <td>NaN</td>\n      <td>NaN</td>\n    </tr>\n  </tbody>\n</table>\n<p>5680 rows × 12 columns</p>\n</div>"
     },
     "execution_count": 20,
     "metadata": {},
     "output_type": "execute_result"
    }
   ],
   "source": [
    "df = pd.read_csv(\"game_data_final.csv\",sep='\\t')\n",
    "#data = pd.read_csv(\"file1.csv\", error_bad_lines=False)\n",
    "df"
   ],
   "metadata": {
    "collapsed": false,
    "pycharm": {
     "name": "#%%\n"
    }
   }
  },
  {
   "cell_type": "markdown",
   "source": [],
   "metadata": {
    "collapsed": false,
    "pycharm": {
     "name": "#%% md\n"
    }
   }
  },
  {
   "cell_type": "code",
   "execution_count": 21,
   "outputs": [
    {
     "data": {
      "text/plain": "      index                                          title  \\\n0         0                 ​Our Life: Beginnings & Always   \n1         1                           Friday Night Funkin'   \n2         2                       Adventures With Anxiety!   \n3         3                                 Butterfly Soup   \n4         4                                   A Short Hike   \n...     ...                                            ...   \n5675   1949                                          Stay?   \n5676   1950                                   Arc Symphony   \n5677   1951  Sounds of Her Love ~We'll always be together~   \n5678   1952                                 I'm Still Here   \n5679   1953                                   Cohabitation   \n\n                  author  price  \\\n0                GBPatch    NaN   \n1          ninjamuffin99    NaN   \n2            Nicky Case!    NaN   \n3            Brianna Lei    NaN   \n4               adamgryu  $5.19   \n...                  ...    ...   \n5675          ejadelomax    NaN   \n5676  Aether Interactive  $2.99   \n5677             ds-sans    NaN   \n5678      Cozy Game Pals    NaN   \n5679       AlgebraFalcon    NaN   \n\n                                                 url          status  \\\n0                   https://gbpatch.itch.io/our-life             NaN   \n1              https://ninja-muffin24.itch.io/funkin  In development   \n2                      https://ncase.itch.io/anxiety        Released   \n3         https://brianna-lei.itch.io/butterfly-soup        Released   \n4              https://adamgryu.itch.io/a-short-hike        Released   \n...                                              ...             ...   \n5675                 https://ejadelomax.itch.io/stay        Released   \n5676  https://aetherinteractive.itch.io/arc-symphony        Released   \n5677    https://ds-sans.itch.io/soundsofherlove-wabt        Released   \n5678      https://cozygamepals.itch.io/im-still-here        Released   \n5679      https://algebrafalcon.itch.io/cohabitation        Released   \n\n                          platform  rating                made_with  \\\n0                              NaN     NaN                      NaN   \n1     Windows, macOS, Linux, HTML5     4.7  OpenFL, IndieCade, Haxe   \n2                            HTML5     4.9                      NaN   \n3            Windows, macOS, Linux     4.9                   Ren'Py   \n4            Windows, macOS, Linux     4.9                    Unity   \n...                            ...     ...                      ...   \n5675                         HTML5     4.9                      NaN   \n5676         Windows, macOS, Linux     4.5                    Twine   \n5677         Windows, macOS, Linux     4.4                   Ren'Py   \n5678         Windows, macOS, Linux     4.3                      NaN   \n5679         Windows, macOS, HTML5     4.8                RPG Maker   \n\n                                                   tags  \\\n0                                                   NaN   \n1                                                    2D   \n2                      Comedy, Mental Health, Narrative   \n3     2D, Anime, Female Protagonist, LGBT, Ren'Py, R...   \n4     3D, Atmospheric, Cute, Funny, nature, Relaxing...   \n...                                                 ...   \n5675                                   Fantasy, LGBTQIA   \n5676                                  Story Rich, Twine   \n5677                        Anime, Cute, drama, Romance   \n5678  3D, Atmospheric, Casual, Cute, Dark, Horror, R...   \n5679  2D, Creepy, Dating Sim, Horror, Psychological ...   \n\n                         accessibility  ASL  \n0                                  NaN  NaN  \n1                                  NaN  NaN  \n2                                  NaN  NaN  \n3                                  NaN  NaN  \n4     Subtitles, Configurable controls  NaN  \n...                                ...  ...  \n5675                               NaN  NaN  \n5676                               NaN  NaN  \n5677                               NaN  NaN  \n5678                               NaN  NaN  \n5679                               NaN  NaN  \n\n[5680 rows x 12 columns]",
      "text/html": "<div>\n<style scoped>\n    .dataframe tbody tr th:only-of-type {\n        vertical-align: middle;\n    }\n\n    .dataframe tbody tr th {\n        vertical-align: top;\n    }\n\n    .dataframe thead th {\n        text-align: right;\n    }\n</style>\n<table border=\"1\" class=\"dataframe\">\n  <thead>\n    <tr style=\"text-align: right;\">\n      <th></th>\n      <th>index</th>\n      <th>title</th>\n      <th>author</th>\n      <th>price</th>\n      <th>url</th>\n      <th>status</th>\n      <th>platform</th>\n      <th>rating</th>\n      <th>made_with</th>\n      <th>tags</th>\n      <th>accessibility</th>\n      <th>ASL</th>\n    </tr>\n  </thead>\n  <tbody>\n    <tr>\n      <th>0</th>\n      <td>0</td>\n      <td>​Our Life: Beginnings &amp; Always</td>\n      <td>GBPatch</td>\n      <td>NaN</td>\n      <td>https://gbpatch.itch.io/our-life</td>\n      <td>NaN</td>\n      <td>NaN</td>\n      <td>NaN</td>\n      <td>NaN</td>\n      <td>NaN</td>\n      <td>NaN</td>\n      <td>NaN</td>\n    </tr>\n    <tr>\n      <th>1</th>\n      <td>1</td>\n      <td>Friday Night Funkin'</td>\n      <td>ninjamuffin99</td>\n      <td>NaN</td>\n      <td>https://ninja-muffin24.itch.io/funkin</td>\n      <td>In development</td>\n      <td>Windows, macOS, Linux, HTML5</td>\n      <td>4.7</td>\n      <td>OpenFL, IndieCade, Haxe</td>\n      <td>2D</td>\n      <td>NaN</td>\n      <td>NaN</td>\n    </tr>\n    <tr>\n      <th>2</th>\n      <td>2</td>\n      <td>Adventures With Anxiety!</td>\n      <td>Nicky Case!</td>\n      <td>NaN</td>\n      <td>https://ncase.itch.io/anxiety</td>\n      <td>Released</td>\n      <td>HTML5</td>\n      <td>4.9</td>\n      <td>NaN</td>\n      <td>Comedy, Mental Health, Narrative</td>\n      <td>NaN</td>\n      <td>NaN</td>\n    </tr>\n    <tr>\n      <th>3</th>\n      <td>3</td>\n      <td>Butterfly Soup</td>\n      <td>Brianna Lei</td>\n      <td>NaN</td>\n      <td>https://brianna-lei.itch.io/butterfly-soup</td>\n      <td>Released</td>\n      <td>Windows, macOS, Linux</td>\n      <td>4.9</td>\n      <td>Ren'Py</td>\n      <td>2D, Anime, Female Protagonist, LGBT, Ren'Py, R...</td>\n      <td>NaN</td>\n      <td>NaN</td>\n    </tr>\n    <tr>\n      <th>4</th>\n      <td>4</td>\n      <td>A Short Hike</td>\n      <td>adamgryu</td>\n      <td>$5.19</td>\n      <td>https://adamgryu.itch.io/a-short-hike</td>\n      <td>Released</td>\n      <td>Windows, macOS, Linux</td>\n      <td>4.9</td>\n      <td>Unity</td>\n      <td>3D, Atmospheric, Cute, Funny, nature, Relaxing...</td>\n      <td>Subtitles, Configurable controls</td>\n      <td>NaN</td>\n    </tr>\n    <tr>\n      <th>...</th>\n      <td>...</td>\n      <td>...</td>\n      <td>...</td>\n      <td>...</td>\n      <td>...</td>\n      <td>...</td>\n      <td>...</td>\n      <td>...</td>\n      <td>...</td>\n      <td>...</td>\n      <td>...</td>\n      <td>...</td>\n    </tr>\n    <tr>\n      <th>5675</th>\n      <td>1949</td>\n      <td>Stay?</td>\n      <td>ejadelomax</td>\n      <td>NaN</td>\n      <td>https://ejadelomax.itch.io/stay</td>\n      <td>Released</td>\n      <td>HTML5</td>\n      <td>4.9</td>\n      <td>NaN</td>\n      <td>Fantasy, LGBTQIA</td>\n      <td>NaN</td>\n      <td>NaN</td>\n    </tr>\n    <tr>\n      <th>5676</th>\n      <td>1950</td>\n      <td>Arc Symphony</td>\n      <td>Aether Interactive</td>\n      <td>$2.99</td>\n      <td>https://aetherinteractive.itch.io/arc-symphony</td>\n      <td>Released</td>\n      <td>Windows, macOS, Linux</td>\n      <td>4.5</td>\n      <td>Twine</td>\n      <td>Story Rich, Twine</td>\n      <td>NaN</td>\n      <td>NaN</td>\n    </tr>\n    <tr>\n      <th>5677</th>\n      <td>1951</td>\n      <td>Sounds of Her Love ~We'll always be together~</td>\n      <td>ds-sans</td>\n      <td>NaN</td>\n      <td>https://ds-sans.itch.io/soundsofherlove-wabt</td>\n      <td>Released</td>\n      <td>Windows, macOS, Linux</td>\n      <td>4.4</td>\n      <td>Ren'Py</td>\n      <td>Anime, Cute, drama, Romance</td>\n      <td>NaN</td>\n      <td>NaN</td>\n    </tr>\n    <tr>\n      <th>5678</th>\n      <td>1952</td>\n      <td>I'm Still Here</td>\n      <td>Cozy Game Pals</td>\n      <td>NaN</td>\n      <td>https://cozygamepals.itch.io/im-still-here</td>\n      <td>Released</td>\n      <td>Windows, macOS, Linux</td>\n      <td>4.3</td>\n      <td>NaN</td>\n      <td>3D, Atmospheric, Casual, Cute, Dark, Horror, R...</td>\n      <td>NaN</td>\n      <td>NaN</td>\n    </tr>\n    <tr>\n      <th>5679</th>\n      <td>1953</td>\n      <td>Cohabitation</td>\n      <td>AlgebraFalcon</td>\n      <td>NaN</td>\n      <td>https://algebrafalcon.itch.io/cohabitation</td>\n      <td>Released</td>\n      <td>Windows, macOS, HTML5</td>\n      <td>4.8</td>\n      <td>RPG Maker</td>\n      <td>2D, Creepy, Dating Sim, Horror, Psychological ...</td>\n      <td>NaN</td>\n      <td>NaN</td>\n    </tr>\n  </tbody>\n</table>\n<p>5680 rows × 12 columns</p>\n</div>"
     },
     "execution_count": 21,
     "metadata": {},
     "output_type": "execute_result"
    }
   ],
   "source": [
    "df1=df\n",
    "df1"
   ],
   "metadata": {
    "collapsed": false,
    "pycharm": {
     "name": "#%%\n"
    }
   }
  },
  {
   "cell_type": "code",
   "execution_count": 25,
   "outputs": [
    {
     "data": {
      "text/plain": "      level_0                                          title  \\\n0           1                           Friday Night Funkin'   \n1           2                       Adventures With Anxiety!   \n2           3                                 Butterfly Soup   \n3           4                                   A Short Hike   \n4           5                                    Project Kat   \n...       ...                                            ...   \n5079     5675                                          Stay?   \n5080     5676                                   Arc Symphony   \n5081     5677  Sounds of Her Love ~We'll always be together~   \n5082     5678                                 I'm Still Here   \n5083     5679                                   Cohabitation   \n\n                  author price  \\\n0          ninjamuffin99   0.0   \n1            Nicky Case!   0.0   \n2            Brianna Lei   0.0   \n3               adamgryu  5.19   \n4              Leef 6010   0.0   \n...                  ...   ...   \n5079          ejadelomax   0.0   \n5080  Aether Interactive  2.99   \n5081             ds-sans   0.0   \n5082      Cozy Game Pals   0.0   \n5083       AlgebraFalcon   0.0   \n\n                                                 url          status  \\\n0              https://ninja-muffin24.itch.io/funkin  In development   \n1                      https://ncase.itch.io/anxiety        Released   \n2         https://brianna-lei.itch.io/butterfly-soup        Released   \n3              https://adamgryu.itch.io/a-short-hike        Released   \n4                https://leef6010.itch.io/projectkat        Released   \n...                                              ...             ...   \n5079                 https://ejadelomax.itch.io/stay        Released   \n5080  https://aetherinteractive.itch.io/arc-symphony        Released   \n5081    https://ds-sans.itch.io/soundsofherlove-wabt        Released   \n5082      https://cozygamepals.itch.io/im-still-here        Released   \n5083      https://algebrafalcon.itch.io/cohabitation        Released   \n\n                          platform  rating                        made_with  \\\n0     Windows, macOS, Linux, HTML5     4.7          OpenFL, IndieCade, Haxe   \n1                            HTML5     4.9                              NaN   \n2            Windows, macOS, Linux     4.9                           Ren'Py   \n3            Windows, macOS, Linux     4.9                            Unity   \n4            Windows, macOS, Linux     4.8  Paint Tool SAI, Godot, Aseprite   \n...                            ...     ...                              ...   \n5079                         HTML5     4.9                              NaN   \n5080         Windows, macOS, Linux     4.5                            Twine   \n5081         Windows, macOS, Linux     4.4                           Ren'Py   \n5082         Windows, macOS, Linux     4.3                              NaN   \n5083         Windows, macOS, HTML5     4.8                        RPG Maker   \n\n                                                   tags  \\\n0                                                    2D   \n1                      Comedy, Mental Health, Narrative   \n2     2D, Anime, Female Protagonist, LGBT, Ren'Py, R...   \n3     3D, Atmospheric, Cute, Funny, nature, Relaxing...   \n4     2D, Anime, Cute, Horror, Pixel Art, RPG Maker,...   \n...                                                 ...   \n5079                                   Fantasy, LGBTQIA   \n5080                                  Story Rich, Twine   \n5081                        Anime, Cute, drama, Romance   \n5082  3D, Atmospheric, Casual, Cute, Dark, Horror, R...   \n5083  2D, Creepy, Dating Sim, Horror, Psychological ...   \n\n                                          accessibility  ASL  \n0                                                     0  NaN  \n1                                                     0  NaN  \n2                                                     0  NaN  \n3                      Subtitles, Configurable controls  NaN  \n4     Subtitles, Configurable controls, Interactive ...  NaN  \n...                                                 ...  ...  \n5079                                                  0  NaN  \n5080                                                  0  NaN  \n5081                                                  0  NaN  \n5082                                                  0  NaN  \n5083                                                  0  NaN  \n\n[5084 rows x 12 columns]",
      "text/html": "<div>\n<style scoped>\n    .dataframe tbody tr th:only-of-type {\n        vertical-align: middle;\n    }\n\n    .dataframe tbody tr th {\n        vertical-align: top;\n    }\n\n    .dataframe thead th {\n        text-align: right;\n    }\n</style>\n<table border=\"1\" class=\"dataframe\">\n  <thead>\n    <tr style=\"text-align: right;\">\n      <th></th>\n      <th>level_0</th>\n      <th>title</th>\n      <th>author</th>\n      <th>price</th>\n      <th>url</th>\n      <th>status</th>\n      <th>platform</th>\n      <th>rating</th>\n      <th>made_with</th>\n      <th>tags</th>\n      <th>accessibility</th>\n      <th>ASL</th>\n    </tr>\n  </thead>\n  <tbody>\n    <tr>\n      <th>0</th>\n      <td>1</td>\n      <td>Friday Night Funkin'</td>\n      <td>ninjamuffin99</td>\n      <td>0.0</td>\n      <td>https://ninja-muffin24.itch.io/funkin</td>\n      <td>In development</td>\n      <td>Windows, macOS, Linux, HTML5</td>\n      <td>4.7</td>\n      <td>OpenFL, IndieCade, Haxe</td>\n      <td>2D</td>\n      <td>0</td>\n      <td>NaN</td>\n    </tr>\n    <tr>\n      <th>1</th>\n      <td>2</td>\n      <td>Adventures With Anxiety!</td>\n      <td>Nicky Case!</td>\n      <td>0.0</td>\n      <td>https://ncase.itch.io/anxiety</td>\n      <td>Released</td>\n      <td>HTML5</td>\n      <td>4.9</td>\n      <td>NaN</td>\n      <td>Comedy, Mental Health, Narrative</td>\n      <td>0</td>\n      <td>NaN</td>\n    </tr>\n    <tr>\n      <th>2</th>\n      <td>3</td>\n      <td>Butterfly Soup</td>\n      <td>Brianna Lei</td>\n      <td>0.0</td>\n      <td>https://brianna-lei.itch.io/butterfly-soup</td>\n      <td>Released</td>\n      <td>Windows, macOS, Linux</td>\n      <td>4.9</td>\n      <td>Ren'Py</td>\n      <td>2D, Anime, Female Protagonist, LGBT, Ren'Py, R...</td>\n      <td>0</td>\n      <td>NaN</td>\n    </tr>\n    <tr>\n      <th>3</th>\n      <td>4</td>\n      <td>A Short Hike</td>\n      <td>adamgryu</td>\n      <td>5.19</td>\n      <td>https://adamgryu.itch.io/a-short-hike</td>\n      <td>Released</td>\n      <td>Windows, macOS, Linux</td>\n      <td>4.9</td>\n      <td>Unity</td>\n      <td>3D, Atmospheric, Cute, Funny, nature, Relaxing...</td>\n      <td>Subtitles, Configurable controls</td>\n      <td>NaN</td>\n    </tr>\n    <tr>\n      <th>4</th>\n      <td>5</td>\n      <td>Project Kat</td>\n      <td>Leef 6010</td>\n      <td>0.0</td>\n      <td>https://leef6010.itch.io/projectkat</td>\n      <td>Released</td>\n      <td>Windows, macOS, Linux</td>\n      <td>4.8</td>\n      <td>Paint Tool SAI, Godot, Aseprite</td>\n      <td>2D, Anime, Cute, Horror, Pixel Art, RPG Maker,...</td>\n      <td>Subtitles, Configurable controls, Interactive ...</td>\n      <td>NaN</td>\n    </tr>\n    <tr>\n      <th>...</th>\n      <td>...</td>\n      <td>...</td>\n      <td>...</td>\n      <td>...</td>\n      <td>...</td>\n      <td>...</td>\n      <td>...</td>\n      <td>...</td>\n      <td>...</td>\n      <td>...</td>\n      <td>...</td>\n      <td>...</td>\n    </tr>\n    <tr>\n      <th>5079</th>\n      <td>5675</td>\n      <td>Stay?</td>\n      <td>ejadelomax</td>\n      <td>0.0</td>\n      <td>https://ejadelomax.itch.io/stay</td>\n      <td>Released</td>\n      <td>HTML5</td>\n      <td>4.9</td>\n      <td>NaN</td>\n      <td>Fantasy, LGBTQIA</td>\n      <td>0</td>\n      <td>NaN</td>\n    </tr>\n    <tr>\n      <th>5080</th>\n      <td>5676</td>\n      <td>Arc Symphony</td>\n      <td>Aether Interactive</td>\n      <td>2.99</td>\n      <td>https://aetherinteractive.itch.io/arc-symphony</td>\n      <td>Released</td>\n      <td>Windows, macOS, Linux</td>\n      <td>4.5</td>\n      <td>Twine</td>\n      <td>Story Rich, Twine</td>\n      <td>0</td>\n      <td>NaN</td>\n    </tr>\n    <tr>\n      <th>5081</th>\n      <td>5677</td>\n      <td>Sounds of Her Love ~We'll always be together~</td>\n      <td>ds-sans</td>\n      <td>0.0</td>\n      <td>https://ds-sans.itch.io/soundsofherlove-wabt</td>\n      <td>Released</td>\n      <td>Windows, macOS, Linux</td>\n      <td>4.4</td>\n      <td>Ren'Py</td>\n      <td>Anime, Cute, drama, Romance</td>\n      <td>0</td>\n      <td>NaN</td>\n    </tr>\n    <tr>\n      <th>5082</th>\n      <td>5678</td>\n      <td>I'm Still Here</td>\n      <td>Cozy Game Pals</td>\n      <td>0.0</td>\n      <td>https://cozygamepals.itch.io/im-still-here</td>\n      <td>Released</td>\n      <td>Windows, macOS, Linux</td>\n      <td>4.3</td>\n      <td>NaN</td>\n      <td>3D, Atmospheric, Casual, Cute, Dark, Horror, R...</td>\n      <td>0</td>\n      <td>NaN</td>\n    </tr>\n    <tr>\n      <th>5083</th>\n      <td>5679</td>\n      <td>Cohabitation</td>\n      <td>AlgebraFalcon</td>\n      <td>0.0</td>\n      <td>https://algebrafalcon.itch.io/cohabitation</td>\n      <td>Released</td>\n      <td>Windows, macOS, HTML5</td>\n      <td>4.8</td>\n      <td>RPG Maker</td>\n      <td>2D, Creepy, Dating Sim, Horror, Psychological ...</td>\n      <td>0</td>\n      <td>NaN</td>\n    </tr>\n  </tbody>\n</table>\n<p>5084 rows × 12 columns</p>\n</div>"
     },
     "execution_count": 25,
     "metadata": {},
     "output_type": "execute_result"
    }
   ],
   "source": [
    "df1['price'] = df1['price'].str.replace('$','')\n",
    "df1=df1.fillna(value = {'price': 0.0})\n",
    "df1=df1.fillna(value = {'accessibility': 0})\n",
    "df1=df1.dropna(subset=['platform','rating','tags','status'])\n",
    "df1=df1.reset_index()\n",
    "df1=df1.drop('index', axis=1)\n",
    "df1=df1.drop_duplicates()\n",
    "df1\n",
    "\n",
    "\n"
   ],
   "metadata": {
    "collapsed": false,
    "pycharm": {
     "name": "#%%\n"
    }
   }
  },
  {
   "cell_type": "code",
   "execution_count": 26,
   "outputs": [],
   "source": [
    "def column_to_bit_columns(column_name: str, base_df: pd.DataFrame):\n",
    "    cols = base_df.columns.tolist()\n",
    "    new_cols = list(set(', '.join(base_df[column_name].unique().tolist()).split(', ')))\n",
    "    cols.remove(column_name)\n",
    "    cols.extend(new_cols)\n",
    "    new_df = pd.DataFrame(columns=cols, data=base_df)\n",
    "\n",
    "    for col in new_cols:\n",
    "        new_df[col] = new_df[col].astype('float64')\n",
    "\n",
    "    for i in range(len(base_df[column_name])):\n",
    "        for col in base_df.loc[:, column_name][i].split(', '):\n",
    "            new_df.loc[:, col][i] = 1.0\n",
    "\n",
    "    return new_df.fillna(0.0)"
   ],
   "metadata": {
    "collapsed": false,
    "pycharm": {
     "name": "#%%\n"
    }
   }
  },
  {
   "cell_type": "code",
   "execution_count": 27,
   "outputs": [
    {
     "data": {
      "text/plain": "      level_0                                          title  \\\n0           1                           Friday Night Funkin'   \n1           2                       Adventures With Anxiety!   \n2           3                                 Butterfly Soup   \n3           4                                   A Short Hike   \n4           5                                    Project Kat   \n...       ...                                            ...   \n5079     5675                                          Stay?   \n5080     5676                                   Arc Symphony   \n5081     5677  Sounds of Her Love ~We'll always be together~   \n5082     5678                                 I'm Still Here   \n5083     5679                                   Cohabitation   \n\n                  author price  \\\n0          ninjamuffin99   0.0   \n1            Nicky Case!   0.0   \n2            Brianna Lei   0.0   \n3               adamgryu  5.19   \n4              Leef 6010   0.0   \n...                  ...   ...   \n5079          ejadelomax   0.0   \n5080  Aether Interactive  2.99   \n5081             ds-sans   0.0   \n5082      Cozy Game Pals   0.0   \n5083       AlgebraFalcon   0.0   \n\n                                                 url          status  rating  \\\n0              https://ninja-muffin24.itch.io/funkin  In development     4.7   \n1                      https://ncase.itch.io/anxiety        Released     4.9   \n2         https://brianna-lei.itch.io/butterfly-soup        Released     4.9   \n3              https://adamgryu.itch.io/a-short-hike        Released     4.9   \n4                https://leef6010.itch.io/projectkat        Released     4.8   \n...                                              ...             ...     ...   \n5079                 https://ejadelomax.itch.io/stay        Released     4.9   \n5080  https://aetherinteractive.itch.io/arc-symphony        Released     4.5   \n5081    https://ds-sans.itch.io/soundsofherlove-wabt        Released     4.4   \n5082      https://cozygamepals.itch.io/im-still-here        Released     4.3   \n5083      https://algebrafalcon.itch.io/cohabitation        Released     4.8   \n\n                            made_with  \\\n0             OpenFL, IndieCade, Haxe   \n1                                 0.0   \n2                              Ren'Py   \n3                               Unity   \n4     Paint Tool SAI, Godot, Aseprite   \n...                               ...   \n5079                              0.0   \n5080                            Twine   \n5081                           Ren'Py   \n5082                              0.0   \n5083                        RPG Maker   \n\n                                                   tags  \\\n0                                                    2D   \n1                      Comedy, Mental Health, Narrative   \n2     2D, Anime, Female Protagonist, LGBT, Ren'Py, R...   \n3     3D, Atmospheric, Cute, Funny, nature, Relaxing...   \n4     2D, Anime, Cute, Horror, Pixel Art, RPG Maker,...   \n...                                                 ...   \n5079                                   Fantasy, LGBTQIA   \n5080                                  Story Rich, Twine   \n5081                        Anime, Cute, drama, Romance   \n5082  3D, Atmospheric, Casual, Cute, Dark, Horror, R...   \n5083  2D, Creepy, Dating Sim, Horror, Psychological ...   \n\n                                          accessibility  ASL  Linux  HTML5  \\\n0                                                     0  0.0    1.0    1.0   \n1                                                     0  0.0    0.0    1.0   \n2                                                     0  0.0    1.0    0.0   \n3                      Subtitles, Configurable controls  0.0    1.0    0.0   \n4     Subtitles, Configurable controls, Interactive ...  0.0    1.0    0.0   \n...                                                 ...  ...    ...    ...   \n5079                                                  0  0.0    0.0    1.0   \n5080                                                  0  0.0    1.0    0.0   \n5081                                                  0  0.0    1.0    0.0   \n5082                                                  0  0.0    1.0    0.0   \n5083                                                  0  0.0    0.0    1.0   \n\n      Android  Unity  Flash  macOS  Windows  \n0         0.0    0.0    0.0    1.0      1.0  \n1         0.0    0.0    0.0    0.0      0.0  \n2         0.0    0.0    0.0    1.0      1.0  \n3         0.0    0.0    0.0    1.0      1.0  \n4         0.0    0.0    0.0    1.0      1.0  \n...       ...    ...    ...    ...      ...  \n5079      0.0    0.0    0.0    0.0      0.0  \n5080      0.0    0.0    0.0    1.0      1.0  \n5081      0.0    0.0    0.0    1.0      1.0  \n5082      0.0    0.0    0.0    1.0      1.0  \n5083      0.0    0.0    0.0    1.0      1.0  \n\n[5084 rows x 18 columns]",
      "text/html": "<div>\n<style scoped>\n    .dataframe tbody tr th:only-of-type {\n        vertical-align: middle;\n    }\n\n    .dataframe tbody tr th {\n        vertical-align: top;\n    }\n\n    .dataframe thead th {\n        text-align: right;\n    }\n</style>\n<table border=\"1\" class=\"dataframe\">\n  <thead>\n    <tr style=\"text-align: right;\">\n      <th></th>\n      <th>level_0</th>\n      <th>title</th>\n      <th>author</th>\n      <th>price</th>\n      <th>url</th>\n      <th>status</th>\n      <th>rating</th>\n      <th>made_with</th>\n      <th>tags</th>\n      <th>accessibility</th>\n      <th>ASL</th>\n      <th>Linux</th>\n      <th>HTML5</th>\n      <th>Android</th>\n      <th>Unity</th>\n      <th>Flash</th>\n      <th>macOS</th>\n      <th>Windows</th>\n    </tr>\n  </thead>\n  <tbody>\n    <tr>\n      <th>0</th>\n      <td>1</td>\n      <td>Friday Night Funkin'</td>\n      <td>ninjamuffin99</td>\n      <td>0.0</td>\n      <td>https://ninja-muffin24.itch.io/funkin</td>\n      <td>In development</td>\n      <td>4.7</td>\n      <td>OpenFL, IndieCade, Haxe</td>\n      <td>2D</td>\n      <td>0</td>\n      <td>0.0</td>\n      <td>1.0</td>\n      <td>1.0</td>\n      <td>0.0</td>\n      <td>0.0</td>\n      <td>0.0</td>\n      <td>1.0</td>\n      <td>1.0</td>\n    </tr>\n    <tr>\n      <th>1</th>\n      <td>2</td>\n      <td>Adventures With Anxiety!</td>\n      <td>Nicky Case!</td>\n      <td>0.0</td>\n      <td>https://ncase.itch.io/anxiety</td>\n      <td>Released</td>\n      <td>4.9</td>\n      <td>0.0</td>\n      <td>Comedy, Mental Health, Narrative</td>\n      <td>0</td>\n      <td>0.0</td>\n      <td>0.0</td>\n      <td>1.0</td>\n      <td>0.0</td>\n      <td>0.0</td>\n      <td>0.0</td>\n      <td>0.0</td>\n      <td>0.0</td>\n    </tr>\n    <tr>\n      <th>2</th>\n      <td>3</td>\n      <td>Butterfly Soup</td>\n      <td>Brianna Lei</td>\n      <td>0.0</td>\n      <td>https://brianna-lei.itch.io/butterfly-soup</td>\n      <td>Released</td>\n      <td>4.9</td>\n      <td>Ren'Py</td>\n      <td>2D, Anime, Female Protagonist, LGBT, Ren'Py, R...</td>\n      <td>0</td>\n      <td>0.0</td>\n      <td>1.0</td>\n      <td>0.0</td>\n      <td>0.0</td>\n      <td>0.0</td>\n      <td>0.0</td>\n      <td>1.0</td>\n      <td>1.0</td>\n    </tr>\n    <tr>\n      <th>3</th>\n      <td>4</td>\n      <td>A Short Hike</td>\n      <td>adamgryu</td>\n      <td>5.19</td>\n      <td>https://adamgryu.itch.io/a-short-hike</td>\n      <td>Released</td>\n      <td>4.9</td>\n      <td>Unity</td>\n      <td>3D, Atmospheric, Cute, Funny, nature, Relaxing...</td>\n      <td>Subtitles, Configurable controls</td>\n      <td>0.0</td>\n      <td>1.0</td>\n      <td>0.0</td>\n      <td>0.0</td>\n      <td>0.0</td>\n      <td>0.0</td>\n      <td>1.0</td>\n      <td>1.0</td>\n    </tr>\n    <tr>\n      <th>4</th>\n      <td>5</td>\n      <td>Project Kat</td>\n      <td>Leef 6010</td>\n      <td>0.0</td>\n      <td>https://leef6010.itch.io/projectkat</td>\n      <td>Released</td>\n      <td>4.8</td>\n      <td>Paint Tool SAI, Godot, Aseprite</td>\n      <td>2D, Anime, Cute, Horror, Pixel Art, RPG Maker,...</td>\n      <td>Subtitles, Configurable controls, Interactive ...</td>\n      <td>0.0</td>\n      <td>1.0</td>\n      <td>0.0</td>\n      <td>0.0</td>\n      <td>0.0</td>\n      <td>0.0</td>\n      <td>1.0</td>\n      <td>1.0</td>\n    </tr>\n    <tr>\n      <th>...</th>\n      <td>...</td>\n      <td>...</td>\n      <td>...</td>\n      <td>...</td>\n      <td>...</td>\n      <td>...</td>\n      <td>...</td>\n      <td>...</td>\n      <td>...</td>\n      <td>...</td>\n      <td>...</td>\n      <td>...</td>\n      <td>...</td>\n      <td>...</td>\n      <td>...</td>\n      <td>...</td>\n      <td>...</td>\n      <td>...</td>\n    </tr>\n    <tr>\n      <th>5079</th>\n      <td>5675</td>\n      <td>Stay?</td>\n      <td>ejadelomax</td>\n      <td>0.0</td>\n      <td>https://ejadelomax.itch.io/stay</td>\n      <td>Released</td>\n      <td>4.9</td>\n      <td>0.0</td>\n      <td>Fantasy, LGBTQIA</td>\n      <td>0</td>\n      <td>0.0</td>\n      <td>0.0</td>\n      <td>1.0</td>\n      <td>0.0</td>\n      <td>0.0</td>\n      <td>0.0</td>\n      <td>0.0</td>\n      <td>0.0</td>\n    </tr>\n    <tr>\n      <th>5080</th>\n      <td>5676</td>\n      <td>Arc Symphony</td>\n      <td>Aether Interactive</td>\n      <td>2.99</td>\n      <td>https://aetherinteractive.itch.io/arc-symphony</td>\n      <td>Released</td>\n      <td>4.5</td>\n      <td>Twine</td>\n      <td>Story Rich, Twine</td>\n      <td>0</td>\n      <td>0.0</td>\n      <td>1.0</td>\n      <td>0.0</td>\n      <td>0.0</td>\n      <td>0.0</td>\n      <td>0.0</td>\n      <td>1.0</td>\n      <td>1.0</td>\n    </tr>\n    <tr>\n      <th>5081</th>\n      <td>5677</td>\n      <td>Sounds of Her Love ~We'll always be together~</td>\n      <td>ds-sans</td>\n      <td>0.0</td>\n      <td>https://ds-sans.itch.io/soundsofherlove-wabt</td>\n      <td>Released</td>\n      <td>4.4</td>\n      <td>Ren'Py</td>\n      <td>Anime, Cute, drama, Romance</td>\n      <td>0</td>\n      <td>0.0</td>\n      <td>1.0</td>\n      <td>0.0</td>\n      <td>0.0</td>\n      <td>0.0</td>\n      <td>0.0</td>\n      <td>1.0</td>\n      <td>1.0</td>\n    </tr>\n    <tr>\n      <th>5082</th>\n      <td>5678</td>\n      <td>I'm Still Here</td>\n      <td>Cozy Game Pals</td>\n      <td>0.0</td>\n      <td>https://cozygamepals.itch.io/im-still-here</td>\n      <td>Released</td>\n      <td>4.3</td>\n      <td>0.0</td>\n      <td>3D, Atmospheric, Casual, Cute, Dark, Horror, R...</td>\n      <td>0</td>\n      <td>0.0</td>\n      <td>1.0</td>\n      <td>0.0</td>\n      <td>0.0</td>\n      <td>0.0</td>\n      <td>0.0</td>\n      <td>1.0</td>\n      <td>1.0</td>\n    </tr>\n    <tr>\n      <th>5083</th>\n      <td>5679</td>\n      <td>Cohabitation</td>\n      <td>AlgebraFalcon</td>\n      <td>0.0</td>\n      <td>https://algebrafalcon.itch.io/cohabitation</td>\n      <td>Released</td>\n      <td>4.8</td>\n      <td>RPG Maker</td>\n      <td>2D, Creepy, Dating Sim, Horror, Psychological ...</td>\n      <td>0</td>\n      <td>0.0</td>\n      <td>0.0</td>\n      <td>1.0</td>\n      <td>0.0</td>\n      <td>0.0</td>\n      <td>0.0</td>\n      <td>1.0</td>\n      <td>1.0</td>\n    </tr>\n  </tbody>\n</table>\n<p>5084 rows × 18 columns</p>\n</div>"
     },
     "execution_count": 27,
     "metadata": {},
     "output_type": "execute_result"
    }
   ],
   "source": [
    "df2 = column_to_bit_columns('platform', df1)\n",
    "df2"
   ],
   "metadata": {
    "collapsed": false,
    "pycharm": {
     "name": "#%%\n"
    }
   }
  },
  {
   "cell_type": "code",
   "execution_count": 28,
   "outputs": [
    {
     "data": {
      "text/plain": "      level_0                                          title  \\\n0           1                           Friday Night Funkin'   \n1           2                       Adventures With Anxiety!   \n2           3                                 Butterfly Soup   \n3           4                                   A Short Hike   \n4           5                                    Project Kat   \n...       ...                                            ...   \n5079     5675                                          Stay?   \n5080     5676                                   Arc Symphony   \n5081     5677  Sounds of Her Love ~We'll always be together~   \n5082     5678                                 I'm Still Here   \n5083     5679                                   Cohabitation   \n\n                  author price  \\\n0          ninjamuffin99   0.0   \n1            Nicky Case!   0.0   \n2            Brianna Lei   0.0   \n3               adamgryu  5.19   \n4              Leef 6010   0.0   \n...                  ...   ...   \n5079          ejadelomax   0.0   \n5080  Aether Interactive  2.99   \n5081             ds-sans   0.0   \n5082      Cozy Game Pals   0.0   \n5083       AlgebraFalcon   0.0   \n\n                                                 url          status  rating  \\\n0              https://ninja-muffin24.itch.io/funkin  In development     4.7   \n1                      https://ncase.itch.io/anxiety        Released     4.9   \n2         https://brianna-lei.itch.io/butterfly-soup        Released     4.9   \n3              https://adamgryu.itch.io/a-short-hike        Released     4.9   \n4                https://leef6010.itch.io/projectkat        Released     4.8   \n...                                              ...             ...     ...   \n5079                 https://ejadelomax.itch.io/stay        Released     4.9   \n5080  https://aetherinteractive.itch.io/arc-symphony        Released     4.5   \n5081    https://ds-sans.itch.io/soundsofherlove-wabt        Released     4.4   \n5082      https://cozygamepals.itch.io/im-still-here        Released     4.3   \n5083      https://algebrafalcon.itch.io/cohabitation        Released     4.8   \n\n                            made_with  \\\n0             OpenFL, IndieCade, Haxe   \n1                                 0.0   \n2                              Ren'Py   \n3                               Unity   \n4     Paint Tool SAI, Godot, Aseprite   \n...                               ...   \n5079                              0.0   \n5080                            Twine   \n5081                           Ren'Py   \n5082                              0.0   \n5083                        RPG Maker   \n\n                                          accessibility  ASL  ...    8  \\\n0                                                     0  0.0  ...  0.0   \n1                                                     0  0.0  ...  0.0   \n2                                                     0  0.0  ...  0.0   \n3                      Subtitles, Configurable controls  0.0  ...  0.0   \n4     Subtitles, Configurable controls, Interactive ...  0.0  ...  0.0   \n...                                                 ...  ...  ...  ...   \n5079                                                  0  0.0  ...  0.0   \n5080                                                  0  0.0  ...  0.0   \n5081                                                  0  0.0  ...  0.0   \n5082                                                  0  0.0  ...  0.0   \n5083                                                  0  0.0  ...  0.0   \n\n      conspiracy  mace  Historical  chaos  mac-plus  horror-games  movement  \\\n0            0.0   0.0         0.0    0.0       0.0           0.0       0.0   \n1            0.0   0.0         0.0    0.0       0.0           0.0       0.0   \n2            0.0   0.0         0.0    0.0       0.0           0.0       0.0   \n3            0.0   0.0         0.0    0.0       0.0           0.0       0.0   \n4            0.0   0.0         0.0    0.0       0.0           0.0       0.0   \n...          ...   ...         ...    ...       ...           ...       ...   \n5079         0.0   0.0         0.0    0.0       0.0           0.0       0.0   \n5080         0.0   0.0         0.0    0.0       0.0           0.0       0.0   \n5081         0.0   0.0         0.0    0.0       0.0           0.0       0.0   \n5082         0.0   0.0         0.0    0.0       0.0           0.0       0.0   \n5083         0.0   0.0         0.0    0.0       0.0           0.0       0.0   \n\n      arabic-game  relationships  \n0             0.0            0.0  \n1             0.0            0.0  \n2             0.0            0.0  \n3             0.0            0.0  \n4             0.0            0.0  \n...           ...            ...  \n5079          0.0            0.0  \n5080          0.0            0.0  \n5081          0.0            0.0  \n5082          0.0            0.0  \n5083          0.0            0.0  \n\n[5084 rows x 2718 columns]",
      "text/html": "<div>\n<style scoped>\n    .dataframe tbody tr th:only-of-type {\n        vertical-align: middle;\n    }\n\n    .dataframe tbody tr th {\n        vertical-align: top;\n    }\n\n    .dataframe thead th {\n        text-align: right;\n    }\n</style>\n<table border=\"1\" class=\"dataframe\">\n  <thead>\n    <tr style=\"text-align: right;\">\n      <th></th>\n      <th>level_0</th>\n      <th>title</th>\n      <th>author</th>\n      <th>price</th>\n      <th>url</th>\n      <th>status</th>\n      <th>rating</th>\n      <th>made_with</th>\n      <th>accessibility</th>\n      <th>ASL</th>\n      <th>...</th>\n      <th>8</th>\n      <th>conspiracy</th>\n      <th>mace</th>\n      <th>Historical</th>\n      <th>chaos</th>\n      <th>mac-plus</th>\n      <th>horror-games</th>\n      <th>movement</th>\n      <th>arabic-game</th>\n      <th>relationships</th>\n    </tr>\n  </thead>\n  <tbody>\n    <tr>\n      <th>0</th>\n      <td>1</td>\n      <td>Friday Night Funkin'</td>\n      <td>ninjamuffin99</td>\n      <td>0.0</td>\n      <td>https://ninja-muffin24.itch.io/funkin</td>\n      <td>In development</td>\n      <td>4.7</td>\n      <td>OpenFL, IndieCade, Haxe</td>\n      <td>0</td>\n      <td>0.0</td>\n      <td>...</td>\n      <td>0.0</td>\n      <td>0.0</td>\n      <td>0.0</td>\n      <td>0.0</td>\n      <td>0.0</td>\n      <td>0.0</td>\n      <td>0.0</td>\n      <td>0.0</td>\n      <td>0.0</td>\n      <td>0.0</td>\n    </tr>\n    <tr>\n      <th>1</th>\n      <td>2</td>\n      <td>Adventures With Anxiety!</td>\n      <td>Nicky Case!</td>\n      <td>0.0</td>\n      <td>https://ncase.itch.io/anxiety</td>\n      <td>Released</td>\n      <td>4.9</td>\n      <td>0.0</td>\n      <td>0</td>\n      <td>0.0</td>\n      <td>...</td>\n      <td>0.0</td>\n      <td>0.0</td>\n      <td>0.0</td>\n      <td>0.0</td>\n      <td>0.0</td>\n      <td>0.0</td>\n      <td>0.0</td>\n      <td>0.0</td>\n      <td>0.0</td>\n      <td>0.0</td>\n    </tr>\n    <tr>\n      <th>2</th>\n      <td>3</td>\n      <td>Butterfly Soup</td>\n      <td>Brianna Lei</td>\n      <td>0.0</td>\n      <td>https://brianna-lei.itch.io/butterfly-soup</td>\n      <td>Released</td>\n      <td>4.9</td>\n      <td>Ren'Py</td>\n      <td>0</td>\n      <td>0.0</td>\n      <td>...</td>\n      <td>0.0</td>\n      <td>0.0</td>\n      <td>0.0</td>\n      <td>0.0</td>\n      <td>0.0</td>\n      <td>0.0</td>\n      <td>0.0</td>\n      <td>0.0</td>\n      <td>0.0</td>\n      <td>0.0</td>\n    </tr>\n    <tr>\n      <th>3</th>\n      <td>4</td>\n      <td>A Short Hike</td>\n      <td>adamgryu</td>\n      <td>5.19</td>\n      <td>https://adamgryu.itch.io/a-short-hike</td>\n      <td>Released</td>\n      <td>4.9</td>\n      <td>Unity</td>\n      <td>Subtitles, Configurable controls</td>\n      <td>0.0</td>\n      <td>...</td>\n      <td>0.0</td>\n      <td>0.0</td>\n      <td>0.0</td>\n      <td>0.0</td>\n      <td>0.0</td>\n      <td>0.0</td>\n      <td>0.0</td>\n      <td>0.0</td>\n      <td>0.0</td>\n      <td>0.0</td>\n    </tr>\n    <tr>\n      <th>4</th>\n      <td>5</td>\n      <td>Project Kat</td>\n      <td>Leef 6010</td>\n      <td>0.0</td>\n      <td>https://leef6010.itch.io/projectkat</td>\n      <td>Released</td>\n      <td>4.8</td>\n      <td>Paint Tool SAI, Godot, Aseprite</td>\n      <td>Subtitles, Configurable controls, Interactive ...</td>\n      <td>0.0</td>\n      <td>...</td>\n      <td>0.0</td>\n      <td>0.0</td>\n      <td>0.0</td>\n      <td>0.0</td>\n      <td>0.0</td>\n      <td>0.0</td>\n      <td>0.0</td>\n      <td>0.0</td>\n      <td>0.0</td>\n      <td>0.0</td>\n    </tr>\n    <tr>\n      <th>...</th>\n      <td>...</td>\n      <td>...</td>\n      <td>...</td>\n      <td>...</td>\n      <td>...</td>\n      <td>...</td>\n      <td>...</td>\n      <td>...</td>\n      <td>...</td>\n      <td>...</td>\n      <td>...</td>\n      <td>...</td>\n      <td>...</td>\n      <td>...</td>\n      <td>...</td>\n      <td>...</td>\n      <td>...</td>\n      <td>...</td>\n      <td>...</td>\n      <td>...</td>\n      <td>...</td>\n    </tr>\n    <tr>\n      <th>5079</th>\n      <td>5675</td>\n      <td>Stay?</td>\n      <td>ejadelomax</td>\n      <td>0.0</td>\n      <td>https://ejadelomax.itch.io/stay</td>\n      <td>Released</td>\n      <td>4.9</td>\n      <td>0.0</td>\n      <td>0</td>\n      <td>0.0</td>\n      <td>...</td>\n      <td>0.0</td>\n      <td>0.0</td>\n      <td>0.0</td>\n      <td>0.0</td>\n      <td>0.0</td>\n      <td>0.0</td>\n      <td>0.0</td>\n      <td>0.0</td>\n      <td>0.0</td>\n      <td>0.0</td>\n    </tr>\n    <tr>\n      <th>5080</th>\n      <td>5676</td>\n      <td>Arc Symphony</td>\n      <td>Aether Interactive</td>\n      <td>2.99</td>\n      <td>https://aetherinteractive.itch.io/arc-symphony</td>\n      <td>Released</td>\n      <td>4.5</td>\n      <td>Twine</td>\n      <td>0</td>\n      <td>0.0</td>\n      <td>...</td>\n      <td>0.0</td>\n      <td>0.0</td>\n      <td>0.0</td>\n      <td>0.0</td>\n      <td>0.0</td>\n      <td>0.0</td>\n      <td>0.0</td>\n      <td>0.0</td>\n      <td>0.0</td>\n      <td>0.0</td>\n    </tr>\n    <tr>\n      <th>5081</th>\n      <td>5677</td>\n      <td>Sounds of Her Love ~We'll always be together~</td>\n      <td>ds-sans</td>\n      <td>0.0</td>\n      <td>https://ds-sans.itch.io/soundsofherlove-wabt</td>\n      <td>Released</td>\n      <td>4.4</td>\n      <td>Ren'Py</td>\n      <td>0</td>\n      <td>0.0</td>\n      <td>...</td>\n      <td>0.0</td>\n      <td>0.0</td>\n      <td>0.0</td>\n      <td>0.0</td>\n      <td>0.0</td>\n      <td>0.0</td>\n      <td>0.0</td>\n      <td>0.0</td>\n      <td>0.0</td>\n      <td>0.0</td>\n    </tr>\n    <tr>\n      <th>5082</th>\n      <td>5678</td>\n      <td>I'm Still Here</td>\n      <td>Cozy Game Pals</td>\n      <td>0.0</td>\n      <td>https://cozygamepals.itch.io/im-still-here</td>\n      <td>Released</td>\n      <td>4.3</td>\n      <td>0.0</td>\n      <td>0</td>\n      <td>0.0</td>\n      <td>...</td>\n      <td>0.0</td>\n      <td>0.0</td>\n      <td>0.0</td>\n      <td>0.0</td>\n      <td>0.0</td>\n      <td>0.0</td>\n      <td>0.0</td>\n      <td>0.0</td>\n      <td>0.0</td>\n      <td>0.0</td>\n    </tr>\n    <tr>\n      <th>5083</th>\n      <td>5679</td>\n      <td>Cohabitation</td>\n      <td>AlgebraFalcon</td>\n      <td>0.0</td>\n      <td>https://algebrafalcon.itch.io/cohabitation</td>\n      <td>Released</td>\n      <td>4.8</td>\n      <td>RPG Maker</td>\n      <td>0</td>\n      <td>0.0</td>\n      <td>...</td>\n      <td>0.0</td>\n      <td>0.0</td>\n      <td>0.0</td>\n      <td>0.0</td>\n      <td>0.0</td>\n      <td>0.0</td>\n      <td>0.0</td>\n      <td>0.0</td>\n      <td>0.0</td>\n      <td>0.0</td>\n    </tr>\n  </tbody>\n</table>\n<p>5084 rows × 2718 columns</p>\n</div>"
     },
     "execution_count": 28,
     "metadata": {},
     "output_type": "execute_result"
    }
   ],
   "source": [
    "df2 = column_to_bit_columns('tags', df2)\n",
    "df2"
   ],
   "metadata": {
    "collapsed": false,
    "pycharm": {
     "name": "#%%\n"
    }
   }
  },
  {
   "cell_type": "code",
   "execution_count": 29,
   "outputs": [],
   "source": [
    "df2[\"status\"]= df2[\"status\"].astype('category')\n",
    "replace_map = {'In development':1,'Released':2,'On hold':3,'Prototype':4,'Canceled':5}\n",
    "df2.replace(replace_map, inplace=True)"
   ],
   "metadata": {
    "collapsed": false,
    "pycharm": {
     "name": "#%%\n"
    }
   }
  },
  {
   "cell_type": "code",
   "execution_count": 30,
   "outputs": [
    {
     "data": {
      "text/plain": "      level_0                                          title price  \\\n0           1                           Friday Night Funkin'   0.0   \n1           2                       Adventures With Anxiety!   0.0   \n2           3                                 Butterfly Soup   0.0   \n3           4                                   A Short Hike  5.19   \n4           5                                    Project Kat   0.0   \n...       ...                                            ...   ...   \n5079     5675                                          Stay?   0.0   \n5080     5676                                   Arc Symphony  2.99   \n5081     5677  Sounds of Her Love ~We'll always be together~   0.0   \n5082     5678                                 I'm Still Here   0.0   \n5083     5679                                   Cohabitation   0.0   \n\n                                                 url status  rating  \\\n0              https://ninja-muffin24.itch.io/funkin      1     4.7   \n1                      https://ncase.itch.io/anxiety      2     4.9   \n2         https://brianna-lei.itch.io/butterfly-soup      2     4.9   \n3              https://adamgryu.itch.io/a-short-hike      2     4.9   \n4                https://leef6010.itch.io/projectkat      2     4.8   \n...                                              ...    ...     ...   \n5079                 https://ejadelomax.itch.io/stay      2     4.9   \n5080  https://aetherinteractive.itch.io/arc-symphony      2     4.5   \n5081    https://ds-sans.itch.io/soundsofherlove-wabt      2     4.4   \n5082      https://cozygamepals.itch.io/im-still-here      2     4.3   \n5083      https://algebrafalcon.itch.io/cohabitation      2     4.8   \n\n                                          accessibility  Linux  HTML5  \\\n0                                                     0    1.0    1.0   \n1                                                     0    0.0    1.0   \n2                                                     0    1.0    0.0   \n3                      Subtitles, Configurable controls    1.0    0.0   \n4     Subtitles, Configurable controls, Interactive ...    1.0    0.0   \n...                                                 ...    ...    ...   \n5079                                                  0    0.0    1.0   \n5080                                                  0    1.0    0.0   \n5081                                                  0    1.0    0.0   \n5082                                                  0    1.0    0.0   \n5083                                                  0    0.0    1.0   \n\n      Android  ...    8  conspiracy  mace  Historical  chaos  mac-plus  \\\n0         0.0  ...  0.0         0.0   0.0         0.0    0.0       0.0   \n1         0.0  ...  0.0         0.0   0.0         0.0    0.0       0.0   \n2         0.0  ...  0.0         0.0   0.0         0.0    0.0       0.0   \n3         0.0  ...  0.0         0.0   0.0         0.0    0.0       0.0   \n4         0.0  ...  0.0         0.0   0.0         0.0    0.0       0.0   \n...       ...  ...  ...         ...   ...         ...    ...       ...   \n5079      0.0  ...  0.0         0.0   0.0         0.0    0.0       0.0   \n5080      0.0  ...  0.0         0.0   0.0         0.0    0.0       0.0   \n5081      0.0  ...  0.0         0.0   0.0         0.0    0.0       0.0   \n5082      0.0  ...  0.0         0.0   0.0         0.0    0.0       0.0   \n5083      0.0  ...  0.0         0.0   0.0         0.0    0.0       0.0   \n\n      horror-games  movement  arabic-game  relationships  \n0              0.0       0.0          0.0            0.0  \n1              0.0       0.0          0.0            0.0  \n2              0.0       0.0          0.0            0.0  \n3              0.0       0.0          0.0            0.0  \n4              0.0       0.0          0.0            0.0  \n...            ...       ...          ...            ...  \n5079           0.0       0.0          0.0            0.0  \n5080           0.0       0.0          0.0            0.0  \n5081           0.0       0.0          0.0            0.0  \n5082           0.0       0.0          0.0            0.0  \n5083           0.0       0.0          0.0            0.0  \n\n[5084 rows x 2715 columns]",
      "text/html": "<div>\n<style scoped>\n    .dataframe tbody tr th:only-of-type {\n        vertical-align: middle;\n    }\n\n    .dataframe tbody tr th {\n        vertical-align: top;\n    }\n\n    .dataframe thead th {\n        text-align: right;\n    }\n</style>\n<table border=\"1\" class=\"dataframe\">\n  <thead>\n    <tr style=\"text-align: right;\">\n      <th></th>\n      <th>level_0</th>\n      <th>title</th>\n      <th>price</th>\n      <th>url</th>\n      <th>status</th>\n      <th>rating</th>\n      <th>accessibility</th>\n      <th>Linux</th>\n      <th>HTML5</th>\n      <th>Android</th>\n      <th>...</th>\n      <th>8</th>\n      <th>conspiracy</th>\n      <th>mace</th>\n      <th>Historical</th>\n      <th>chaos</th>\n      <th>mac-plus</th>\n      <th>horror-games</th>\n      <th>movement</th>\n      <th>arabic-game</th>\n      <th>relationships</th>\n    </tr>\n  </thead>\n  <tbody>\n    <tr>\n      <th>0</th>\n      <td>1</td>\n      <td>Friday Night Funkin'</td>\n      <td>0.0</td>\n      <td>https://ninja-muffin24.itch.io/funkin</td>\n      <td>1</td>\n      <td>4.7</td>\n      <td>0</td>\n      <td>1.0</td>\n      <td>1.0</td>\n      <td>0.0</td>\n      <td>...</td>\n      <td>0.0</td>\n      <td>0.0</td>\n      <td>0.0</td>\n      <td>0.0</td>\n      <td>0.0</td>\n      <td>0.0</td>\n      <td>0.0</td>\n      <td>0.0</td>\n      <td>0.0</td>\n      <td>0.0</td>\n    </tr>\n    <tr>\n      <th>1</th>\n      <td>2</td>\n      <td>Adventures With Anxiety!</td>\n      <td>0.0</td>\n      <td>https://ncase.itch.io/anxiety</td>\n      <td>2</td>\n      <td>4.9</td>\n      <td>0</td>\n      <td>0.0</td>\n      <td>1.0</td>\n      <td>0.0</td>\n      <td>...</td>\n      <td>0.0</td>\n      <td>0.0</td>\n      <td>0.0</td>\n      <td>0.0</td>\n      <td>0.0</td>\n      <td>0.0</td>\n      <td>0.0</td>\n      <td>0.0</td>\n      <td>0.0</td>\n      <td>0.0</td>\n    </tr>\n    <tr>\n      <th>2</th>\n      <td>3</td>\n      <td>Butterfly Soup</td>\n      <td>0.0</td>\n      <td>https://brianna-lei.itch.io/butterfly-soup</td>\n      <td>2</td>\n      <td>4.9</td>\n      <td>0</td>\n      <td>1.0</td>\n      <td>0.0</td>\n      <td>0.0</td>\n      <td>...</td>\n      <td>0.0</td>\n      <td>0.0</td>\n      <td>0.0</td>\n      <td>0.0</td>\n      <td>0.0</td>\n      <td>0.0</td>\n      <td>0.0</td>\n      <td>0.0</td>\n      <td>0.0</td>\n      <td>0.0</td>\n    </tr>\n    <tr>\n      <th>3</th>\n      <td>4</td>\n      <td>A Short Hike</td>\n      <td>5.19</td>\n      <td>https://adamgryu.itch.io/a-short-hike</td>\n      <td>2</td>\n      <td>4.9</td>\n      <td>Subtitles, Configurable controls</td>\n      <td>1.0</td>\n      <td>0.0</td>\n      <td>0.0</td>\n      <td>...</td>\n      <td>0.0</td>\n      <td>0.0</td>\n      <td>0.0</td>\n      <td>0.0</td>\n      <td>0.0</td>\n      <td>0.0</td>\n      <td>0.0</td>\n      <td>0.0</td>\n      <td>0.0</td>\n      <td>0.0</td>\n    </tr>\n    <tr>\n      <th>4</th>\n      <td>5</td>\n      <td>Project Kat</td>\n      <td>0.0</td>\n      <td>https://leef6010.itch.io/projectkat</td>\n      <td>2</td>\n      <td>4.8</td>\n      <td>Subtitles, Configurable controls, Interactive ...</td>\n      <td>1.0</td>\n      <td>0.0</td>\n      <td>0.0</td>\n      <td>...</td>\n      <td>0.0</td>\n      <td>0.0</td>\n      <td>0.0</td>\n      <td>0.0</td>\n      <td>0.0</td>\n      <td>0.0</td>\n      <td>0.0</td>\n      <td>0.0</td>\n      <td>0.0</td>\n      <td>0.0</td>\n    </tr>\n    <tr>\n      <th>...</th>\n      <td>...</td>\n      <td>...</td>\n      <td>...</td>\n      <td>...</td>\n      <td>...</td>\n      <td>...</td>\n      <td>...</td>\n      <td>...</td>\n      <td>...</td>\n      <td>...</td>\n      <td>...</td>\n      <td>...</td>\n      <td>...</td>\n      <td>...</td>\n      <td>...</td>\n      <td>...</td>\n      <td>...</td>\n      <td>...</td>\n      <td>...</td>\n      <td>...</td>\n      <td>...</td>\n    </tr>\n    <tr>\n      <th>5079</th>\n      <td>5675</td>\n      <td>Stay?</td>\n      <td>0.0</td>\n      <td>https://ejadelomax.itch.io/stay</td>\n      <td>2</td>\n      <td>4.9</td>\n      <td>0</td>\n      <td>0.0</td>\n      <td>1.0</td>\n      <td>0.0</td>\n      <td>...</td>\n      <td>0.0</td>\n      <td>0.0</td>\n      <td>0.0</td>\n      <td>0.0</td>\n      <td>0.0</td>\n      <td>0.0</td>\n      <td>0.0</td>\n      <td>0.0</td>\n      <td>0.0</td>\n      <td>0.0</td>\n    </tr>\n    <tr>\n      <th>5080</th>\n      <td>5676</td>\n      <td>Arc Symphony</td>\n      <td>2.99</td>\n      <td>https://aetherinteractive.itch.io/arc-symphony</td>\n      <td>2</td>\n      <td>4.5</td>\n      <td>0</td>\n      <td>1.0</td>\n      <td>0.0</td>\n      <td>0.0</td>\n      <td>...</td>\n      <td>0.0</td>\n      <td>0.0</td>\n      <td>0.0</td>\n      <td>0.0</td>\n      <td>0.0</td>\n      <td>0.0</td>\n      <td>0.0</td>\n      <td>0.0</td>\n      <td>0.0</td>\n      <td>0.0</td>\n    </tr>\n    <tr>\n      <th>5081</th>\n      <td>5677</td>\n      <td>Sounds of Her Love ~We'll always be together~</td>\n      <td>0.0</td>\n      <td>https://ds-sans.itch.io/soundsofherlove-wabt</td>\n      <td>2</td>\n      <td>4.4</td>\n      <td>0</td>\n      <td>1.0</td>\n      <td>0.0</td>\n      <td>0.0</td>\n      <td>...</td>\n      <td>0.0</td>\n      <td>0.0</td>\n      <td>0.0</td>\n      <td>0.0</td>\n      <td>0.0</td>\n      <td>0.0</td>\n      <td>0.0</td>\n      <td>0.0</td>\n      <td>0.0</td>\n      <td>0.0</td>\n    </tr>\n    <tr>\n      <th>5082</th>\n      <td>5678</td>\n      <td>I'm Still Here</td>\n      <td>0.0</td>\n      <td>https://cozygamepals.itch.io/im-still-here</td>\n      <td>2</td>\n      <td>4.3</td>\n      <td>0</td>\n      <td>1.0</td>\n      <td>0.0</td>\n      <td>0.0</td>\n      <td>...</td>\n      <td>0.0</td>\n      <td>0.0</td>\n      <td>0.0</td>\n      <td>0.0</td>\n      <td>0.0</td>\n      <td>0.0</td>\n      <td>0.0</td>\n      <td>0.0</td>\n      <td>0.0</td>\n      <td>0.0</td>\n    </tr>\n    <tr>\n      <th>5083</th>\n      <td>5679</td>\n      <td>Cohabitation</td>\n      <td>0.0</td>\n      <td>https://algebrafalcon.itch.io/cohabitation</td>\n      <td>2</td>\n      <td>4.8</td>\n      <td>0</td>\n      <td>0.0</td>\n      <td>1.0</td>\n      <td>0.0</td>\n      <td>...</td>\n      <td>0.0</td>\n      <td>0.0</td>\n      <td>0.0</td>\n      <td>0.0</td>\n      <td>0.0</td>\n      <td>0.0</td>\n      <td>0.0</td>\n      <td>0.0</td>\n      <td>0.0</td>\n      <td>0.0</td>\n    </tr>\n  </tbody>\n</table>\n<p>5084 rows × 2715 columns</p>\n</div>"
     },
     "execution_count": 30,
     "metadata": {},
     "output_type": "execute_result"
    }
   ],
   "source": [
    "columns_to_drop = ['ASL','made_with','author','level_0','url']\n",
    "df2_encoded = df2.drop(columns_to_drop, 1)\n",
    "df2_encoded"
   ],
   "metadata": {
    "collapsed": false,
    "pycharm": {
     "name": "#%%\n"
    }
   }
  },
  {
   "cell_type": "code",
   "execution_count": 31,
   "outputs": [],
   "source": [
    "df2_encoded.to_csv('results_big_data.csv', sep='\\t')"
   ],
   "metadata": {
    "collapsed": false,
    "pycharm": {
     "name": "#%%\n"
    }
   }
  },
  {
   "cell_type": "code",
   "execution_count": 34,
   "outputs": [
    {
     "data": {
      "text/plain": "count    5084.000000\nmean        0.820024\nstd         0.384206\nmin         0.000000\n25%         1.000000\n50%         1.000000\n75%         1.000000\nmax         1.000000\nName: Windows, dtype: float64"
     },
     "execution_count": 34,
     "metadata": {},
     "output_type": "execute_result"
    }
   ],
   "source": [
    "freq_df=pd.dataframe()\n",
    "freq_df.columns=['tag','freq']\n",
    "columns_to_drop_bin =['ASL','made_with','author','level_0','url']"
   ],
   "metadata": {
    "collapsed": false,
    "pycharm": {
     "name": "#%%\n"
    }
   }
  },
  {
   "cell_type": "code",
   "execution_count": 39,
   "outputs": [
    {
     "name": "stdout",
     "output_type": "stream",
     "text": [
      "1       1\n",
      "3768    1\n",
      "3775    1\n",
      "3774    1\n",
      "3773    1\n",
      "       ..\n",
      "1852    1\n",
      "1851    1\n",
      "1850    1\n",
      "1849    1\n",
      "5679    1\n",
      "Name: level_0, Length: 5084, dtype: int64\n",
      "reunion                                3\n",
      "The Other Side                         3\n",
      "Close Your Eyes                        3\n",
      "Friday Night Funkin'                   2\n",
      "so obscure;                            2\n",
      "                                      ..\n",
      "What's up in a Kharkiv bomb shelter    1\n",
      "The Gannet                             1\n",
      "Zorlok: Preview                        1\n",
      "YOU ARE A WIZARD                       1\n",
      "Cohabitation                           1\n",
      "Name: title, Length: 3773, dtype: int64\n",
      "0.0      3968\n",
      "9.99       75\n",
      "4.99       72\n",
      "2.99       61\n",
      "14.99      56\n",
      "         ... \n",
      "13.79       1\n",
      "13.39       1\n",
      "2.97        1\n",
      "1.05        1\n",
      "13.99       1\n",
      "Name: price, Length: 164, dtype: int64\n",
      "https://ninja-muffin24.itch.io/funkin                   2\n",
      "https://incisor-studios.itch.io/fostering-apocalypse    2\n",
      "https://craftinglegends.itch.io/deathtrash              2\n",
      "https://galaxytrail.itch.io/petal-crash                 2\n",
      "https://thomasbowker.itch.io/lyne                       2\n",
      "                                                       ..\n",
      "https://hthr.itch.io/yaaw                               1\n",
      "https://mesiro101.itch.io/holotyping                    1\n",
      "https://galengames.itch.io/dufe-cadenza                 1\n",
      "https://blackcrosstaylor.itch.io/bff                    1\n",
      "https://algebrafalcon.itch.io/cohabitation              1\n",
      "Name: url, Length: 3777, dtype: int64\n",
      "2    3822\n",
      "1    1024\n",
      "4     187\n",
      "3      33\n",
      "5      18\n",
      "Name: status, dtype: int64\n",
      "4.8    1130\n",
      "4.7    1021\n",
      "4.9     802\n",
      "4.6     688\n",
      "5.0     429\n",
      "4.5     396\n",
      "4.4     228\n",
      "4.3     145\n",
      "4.2      68\n",
      "4.1      61\n",
      "4.0      45\n",
      "3.9      25\n",
      "3.8      11\n",
      "3.7       8\n",
      "3.5       7\n",
      "3.3       5\n",
      "3.6       4\n",
      "3.0       4\n",
      "3.4       2\n",
      "1.0       2\n",
      "3.1       1\n",
      "3.2       1\n",
      "2.0       1\n",
      "Name: rating, dtype: int64\n",
      "0                                                                                  3967\n",
      "Subtitles                                                                           251\n",
      "Configurable controls                                                               112\n",
      "One button                                                                           89\n",
      "Subtitles, One button                                                                49\n",
      "                                                                                   ... \n",
      "Subtitles, Configurable controls, High-contrast, Interactive tutorial, Textless       1\n",
      "Subtitles, Interactive tutorial, Blind friendly                                       1\n",
      "Subtitles, High-contrast, One button, Blind friendly                                  1\n",
      "Color-blind friendly, Blind friendly, Textless                                        1\n",
      "Color-blind friendly, Configurable controls, Interactive tutorial, One button         1\n",
      "Name: accessibility, Length: 91, dtype: int64\n",
      "0.0    3055\n",
      "1.0    2029\n",
      "Name: Linux, dtype: int64\n",
      "0.0    3470\n",
      "1.0    1614\n",
      "Name: HTML5, dtype: int64\n",
      "0.0    4689\n",
      "1.0     395\n",
      "Name: Android, dtype: int64\n"
     ]
    },
    {
     "ename": "ValueError",
     "evalue": "Grouper for 'Unity' not 1-dimensional",
     "output_type": "error",
     "traceback": [
      "\u001B[1;31m---------------------------------------------------------------------------\u001B[0m",
      "\u001B[1;31mValueError\u001B[0m                                Traceback (most recent call last)",
      "Input \u001B[1;32mIn [39]\u001B[0m, in \u001B[0;36m<cell line: 1>\u001B[1;34m()\u001B[0m\n\u001B[0;32m      1\u001B[0m \u001B[38;5;28;01mfor\u001B[39;00m column \u001B[38;5;129;01min\u001B[39;00m df2:\n\u001B[1;32m----> 2\u001B[0m     \u001B[38;5;28mprint\u001B[39m(\u001B[43mdf2\u001B[49m\u001B[43m[\u001B[49m\u001B[43mcolumn\u001B[49m\u001B[43m]\u001B[49m\u001B[38;5;241;43m.\u001B[39;49m\u001B[43mvalue_counts\u001B[49m\u001B[43m(\u001B[49m\u001B[43m)\u001B[49m)\n",
      "File \u001B[1;32m~\\anaconda3\\envs\\DataScience\\lib\\site-packages\\pandas\\core\\frame.py:6570\u001B[0m, in \u001B[0;36mDataFrame.value_counts\u001B[1;34m(self, subset, normalize, sort, ascending, dropna)\u001B[0m\n\u001B[0;32m   6567\u001B[0m \u001B[38;5;28;01mif\u001B[39;00m subset \u001B[38;5;129;01mis\u001B[39;00m \u001B[38;5;28;01mNone\u001B[39;00m:\n\u001B[0;32m   6568\u001B[0m     subset \u001B[38;5;241m=\u001B[39m \u001B[38;5;28mself\u001B[39m\u001B[38;5;241m.\u001B[39mcolumns\u001B[38;5;241m.\u001B[39mtolist()\n\u001B[1;32m-> 6570\u001B[0m counts \u001B[38;5;241m=\u001B[39m \u001B[38;5;28;43mself\u001B[39;49m\u001B[38;5;241;43m.\u001B[39;49m\u001B[43mgroupby\u001B[49m\u001B[43m(\u001B[49m\u001B[43msubset\u001B[49m\u001B[43m,\u001B[49m\u001B[43m \u001B[49m\u001B[43mdropna\u001B[49m\u001B[38;5;241;43m=\u001B[39;49m\u001B[43mdropna\u001B[49m\u001B[43m)\u001B[49m\u001B[38;5;241m.\u001B[39mgrouper\u001B[38;5;241m.\u001B[39msize()\n\u001B[0;32m   6572\u001B[0m \u001B[38;5;28;01mif\u001B[39;00m sort:\n\u001B[0;32m   6573\u001B[0m     counts \u001B[38;5;241m=\u001B[39m counts\u001B[38;5;241m.\u001B[39msort_values(ascending\u001B[38;5;241m=\u001B[39mascending)\n",
      "File \u001B[1;32m~\\anaconda3\\envs\\DataScience\\lib\\site-packages\\pandas\\core\\frame.py:7712\u001B[0m, in \u001B[0;36mDataFrame.groupby\u001B[1;34m(self, by, axis, level, as_index, sort, group_keys, squeeze, observed, dropna)\u001B[0m\n\u001B[0;32m   7707\u001B[0m axis \u001B[38;5;241m=\u001B[39m \u001B[38;5;28mself\u001B[39m\u001B[38;5;241m.\u001B[39m_get_axis_number(axis)\n\u001B[0;32m   7709\u001B[0m \u001B[38;5;66;03m# https://github.com/python/mypy/issues/7642\u001B[39;00m\n\u001B[0;32m   7710\u001B[0m \u001B[38;5;66;03m# error: Argument \"squeeze\" to \"DataFrameGroupBy\" has incompatible type\u001B[39;00m\n\u001B[0;32m   7711\u001B[0m \u001B[38;5;66;03m# \"Union[bool, NoDefault]\"; expected \"bool\"\u001B[39;00m\n\u001B[1;32m-> 7712\u001B[0m \u001B[38;5;28;01mreturn\u001B[39;00m \u001B[43mDataFrameGroupBy\u001B[49m\u001B[43m(\u001B[49m\n\u001B[0;32m   7713\u001B[0m \u001B[43m    \u001B[49m\u001B[43mobj\u001B[49m\u001B[38;5;241;43m=\u001B[39;49m\u001B[38;5;28;43mself\u001B[39;49m\u001B[43m,\u001B[49m\n\u001B[0;32m   7714\u001B[0m \u001B[43m    \u001B[49m\u001B[43mkeys\u001B[49m\u001B[38;5;241;43m=\u001B[39;49m\u001B[43mby\u001B[49m\u001B[43m,\u001B[49m\n\u001B[0;32m   7715\u001B[0m \u001B[43m    \u001B[49m\u001B[43maxis\u001B[49m\u001B[38;5;241;43m=\u001B[39;49m\u001B[43maxis\u001B[49m\u001B[43m,\u001B[49m\n\u001B[0;32m   7716\u001B[0m \u001B[43m    \u001B[49m\u001B[43mlevel\u001B[49m\u001B[38;5;241;43m=\u001B[39;49m\u001B[43mlevel\u001B[49m\u001B[43m,\u001B[49m\n\u001B[0;32m   7717\u001B[0m \u001B[43m    \u001B[49m\u001B[43mas_index\u001B[49m\u001B[38;5;241;43m=\u001B[39;49m\u001B[43mas_index\u001B[49m\u001B[43m,\u001B[49m\n\u001B[0;32m   7718\u001B[0m \u001B[43m    \u001B[49m\u001B[43msort\u001B[49m\u001B[38;5;241;43m=\u001B[39;49m\u001B[43msort\u001B[49m\u001B[43m,\u001B[49m\n\u001B[0;32m   7719\u001B[0m \u001B[43m    \u001B[49m\u001B[43mgroup_keys\u001B[49m\u001B[38;5;241;43m=\u001B[39;49m\u001B[43mgroup_keys\u001B[49m\u001B[43m,\u001B[49m\n\u001B[0;32m   7720\u001B[0m \u001B[43m    \u001B[49m\u001B[43msqueeze\u001B[49m\u001B[38;5;241;43m=\u001B[39;49m\u001B[43msqueeze\u001B[49m\u001B[43m,\u001B[49m\u001B[43m  \u001B[49m\u001B[38;5;66;43;03m# type: ignore[arg-type]\u001B[39;49;00m\n\u001B[0;32m   7721\u001B[0m \u001B[43m    \u001B[49m\u001B[43mobserved\u001B[49m\u001B[38;5;241;43m=\u001B[39;49m\u001B[43mobserved\u001B[49m\u001B[43m,\u001B[49m\n\u001B[0;32m   7722\u001B[0m \u001B[43m    \u001B[49m\u001B[43mdropna\u001B[49m\u001B[38;5;241;43m=\u001B[39;49m\u001B[43mdropna\u001B[49m\u001B[43m,\u001B[49m\n\u001B[0;32m   7723\u001B[0m \u001B[43m\u001B[49m\u001B[43m)\u001B[49m\n",
      "File \u001B[1;32m~\\anaconda3\\envs\\DataScience\\lib\\site-packages\\pandas\\core\\groupby\\groupby.py:882\u001B[0m, in \u001B[0;36mGroupBy.__init__\u001B[1;34m(self, obj, keys, axis, level, grouper, exclusions, selection, as_index, sort, group_keys, squeeze, observed, mutated, dropna)\u001B[0m\n\u001B[0;32m    879\u001B[0m \u001B[38;5;28;01mif\u001B[39;00m grouper \u001B[38;5;129;01mis\u001B[39;00m \u001B[38;5;28;01mNone\u001B[39;00m:\n\u001B[0;32m    880\u001B[0m     \u001B[38;5;28;01mfrom\u001B[39;00m \u001B[38;5;21;01mpandas\u001B[39;00m\u001B[38;5;21;01m.\u001B[39;00m\u001B[38;5;21;01mcore\u001B[39;00m\u001B[38;5;21;01m.\u001B[39;00m\u001B[38;5;21;01mgroupby\u001B[39;00m\u001B[38;5;21;01m.\u001B[39;00m\u001B[38;5;21;01mgrouper\u001B[39;00m \u001B[38;5;28;01mimport\u001B[39;00m get_grouper\n\u001B[1;32m--> 882\u001B[0m     grouper, exclusions, obj \u001B[38;5;241m=\u001B[39m \u001B[43mget_grouper\u001B[49m\u001B[43m(\u001B[49m\n\u001B[0;32m    883\u001B[0m \u001B[43m        \u001B[49m\u001B[43mobj\u001B[49m\u001B[43m,\u001B[49m\n\u001B[0;32m    884\u001B[0m \u001B[43m        \u001B[49m\u001B[43mkeys\u001B[49m\u001B[43m,\u001B[49m\n\u001B[0;32m    885\u001B[0m \u001B[43m        \u001B[49m\u001B[43maxis\u001B[49m\u001B[38;5;241;43m=\u001B[39;49m\u001B[43maxis\u001B[49m\u001B[43m,\u001B[49m\n\u001B[0;32m    886\u001B[0m \u001B[43m        \u001B[49m\u001B[43mlevel\u001B[49m\u001B[38;5;241;43m=\u001B[39;49m\u001B[43mlevel\u001B[49m\u001B[43m,\u001B[49m\n\u001B[0;32m    887\u001B[0m \u001B[43m        \u001B[49m\u001B[43msort\u001B[49m\u001B[38;5;241;43m=\u001B[39;49m\u001B[43msort\u001B[49m\u001B[43m,\u001B[49m\n\u001B[0;32m    888\u001B[0m \u001B[43m        \u001B[49m\u001B[43mobserved\u001B[49m\u001B[38;5;241;43m=\u001B[39;49m\u001B[43mobserved\u001B[49m\u001B[43m,\u001B[49m\n\u001B[0;32m    889\u001B[0m \u001B[43m        \u001B[49m\u001B[43mmutated\u001B[49m\u001B[38;5;241;43m=\u001B[39;49m\u001B[38;5;28;43mself\u001B[39;49m\u001B[38;5;241;43m.\u001B[39;49m\u001B[43mmutated\u001B[49m\u001B[43m,\u001B[49m\n\u001B[0;32m    890\u001B[0m \u001B[43m        \u001B[49m\u001B[43mdropna\u001B[49m\u001B[38;5;241;43m=\u001B[39;49m\u001B[38;5;28;43mself\u001B[39;49m\u001B[38;5;241;43m.\u001B[39;49m\u001B[43mdropna\u001B[49m\u001B[43m,\u001B[49m\n\u001B[0;32m    891\u001B[0m \u001B[43m    \u001B[49m\u001B[43m)\u001B[49m\n\u001B[0;32m    893\u001B[0m \u001B[38;5;28mself\u001B[39m\u001B[38;5;241m.\u001B[39mobj \u001B[38;5;241m=\u001B[39m obj\n\u001B[0;32m    894\u001B[0m \u001B[38;5;28mself\u001B[39m\u001B[38;5;241m.\u001B[39maxis \u001B[38;5;241m=\u001B[39m obj\u001B[38;5;241m.\u001B[39m_get_axis_number(axis)\n",
      "File \u001B[1;32m~\\anaconda3\\envs\\DataScience\\lib\\site-packages\\pandas\\core\\groupby\\grouper.py:877\u001B[0m, in \u001B[0;36mget_grouper\u001B[1;34m(obj, key, axis, level, sort, observed, mutated, validate, dropna)\u001B[0m\n\u001B[0;32m    873\u001B[0m     in_axis, name, gpr \u001B[38;5;241m=\u001B[39m \u001B[38;5;28;01mTrue\u001B[39;00m, gpr, obj[gpr]\n\u001B[0;32m    874\u001B[0m     \u001B[38;5;28;01mif\u001B[39;00m gpr\u001B[38;5;241m.\u001B[39mndim \u001B[38;5;241m!=\u001B[39m \u001B[38;5;241m1\u001B[39m:\n\u001B[0;32m    875\u001B[0m         \u001B[38;5;66;03m# non-unique columns; raise here to get the name in the\u001B[39;00m\n\u001B[0;32m    876\u001B[0m         \u001B[38;5;66;03m# exception message\u001B[39;00m\n\u001B[1;32m--> 877\u001B[0m         \u001B[38;5;28;01mraise\u001B[39;00m \u001B[38;5;167;01mValueError\u001B[39;00m(\u001B[38;5;124mf\u001B[39m\u001B[38;5;124m\"\u001B[39m\u001B[38;5;124mGrouper for \u001B[39m\u001B[38;5;124m'\u001B[39m\u001B[38;5;132;01m{\u001B[39;00mname\u001B[38;5;132;01m}\u001B[39;00m\u001B[38;5;124m'\u001B[39m\u001B[38;5;124m not 1-dimensional\u001B[39m\u001B[38;5;124m\"\u001B[39m)\n\u001B[0;32m    878\u001B[0m     exclusions\u001B[38;5;241m.\u001B[39madd(name)\n\u001B[0;32m    879\u001B[0m \u001B[38;5;28;01melif\u001B[39;00m obj\u001B[38;5;241m.\u001B[39m_is_level_reference(gpr, axis\u001B[38;5;241m=\u001B[39maxis):\n",
      "\u001B[1;31mValueError\u001B[0m: Grouper for 'Unity' not 1-dimensional"
     ]
    }
   ],
   "source": [
    "for column in df2:\n",
    "    print(df2[column].value_counts())"
   ],
   "metadata": {
    "collapsed": false,
    "pycharm": {
     "name": "#%%\n"
    }
   }
  },
  {
   "cell_type": "code",
   "execution_count": null,
   "outputs": [],
   "source": [],
   "metadata": {
    "collapsed": false,
    "pycharm": {
     "name": "#%%\n",
     "is_executing": true
    }
   }
  },
  {
   "cell_type": "code",
   "execution_count": 34,
   "outputs": [],
   "source": [],
   "metadata": {
    "collapsed": false,
    "pycharm": {
     "name": "#%%\n"
    }
   }
  },
  {
   "cell_type": "code",
   "execution_count": 35,
   "outputs": [],
   "source": [
    "#test.to_csv('test.csv',sep='\\t', index=False)"
   ],
   "metadata": {
    "collapsed": false,
    "pycharm": {
     "name": "#%%\n"
    }
   }
  },
  {
   "cell_type": "markdown",
   "source": [],
   "metadata": {
    "collapsed": false,
    "pycharm": {
     "name": "#%% md\n"
    }
   }
  },
  {
   "cell_type": "code",
   "execution_count": 35,
   "outputs": [],
   "source": [
    "\n"
   ],
   "metadata": {
    "collapsed": false,
    "pycharm": {
     "name": "#%%\n"
    }
   }
  },
  {
   "cell_type": "code",
   "execution_count": 36,
   "outputs": [],
   "source": [
    "#test1 = pd.read_csv(\"test.csv \",error_bad_lines=False,sep='\\t')"
   ],
   "metadata": {
    "collapsed": false,
    "pycharm": {
     "name": "#%%\n"
    }
   }
  },
  {
   "cell_type": "code",
   "execution_count": null,
   "outputs": [],
   "source": [],
   "metadata": {
    "collapsed": false,
    "pycharm": {
     "name": "#%%\n",
     "is_executing": true
    }
   }
  },
  {
   "cell_type": "code",
   "execution_count": null,
   "outputs": [],
   "source": [],
   "metadata": {
    "collapsed": false,
    "pycharm": {
     "name": "#%%\n",
     "is_executing": true
    }
   }
  },
  {
   "cell_type": "code",
   "execution_count": null,
   "outputs": [],
   "source": [],
   "metadata": {
    "collapsed": false,
    "pycharm": {
     "name": "#%%\n",
     "is_executing": true
    }
   }
  },
  {
   "cell_type": "code",
   "execution_count": null,
   "outputs": [],
   "source": [],
   "metadata": {
    "collapsed": false,
    "pycharm": {
     "name": "#%%\n",
     "is_executing": true
    }
   }
  },
  {
   "cell_type": "code",
   "execution_count": 60,
   "outputs": [],
   "source": [],
   "metadata": {
    "collapsed": false,
    "pycharm": {
     "name": "#%%\n"
    }
   }
  },
  {
   "cell_type": "markdown",
   "source": [
    "You can use the package sklearn and its associated preprocessing utilities to normalize the data."
   ],
   "metadata": {
    "collapsed": false,
    "pycharm": {
     "name": "#%% md\n"
    }
   }
  },
  {
   "cell_type": "code",
   "execution_count": null,
   "outputs": [],
   "source": [],
   "metadata": {
    "collapsed": false,
    "pycharm": {
     "name": "#%%\n",
     "is_executing": true
    }
   }
  },
  {
   "cell_type": "code",
   "execution_count": null,
   "outputs": [],
   "source": [],
   "metadata": {
    "collapsed": false,
    "pycharm": {
     "name": "#%%\n",
     "is_executing": true
    }
   }
  },
  {
   "cell_type": "code",
   "execution_count": 43,
   "outputs": [],
   "source": [],
   "metadata": {
    "collapsed": false,
    "pycharm": {
     "name": "#%%\n"
    }
   }
  }
 ],
 "metadata": {
  "kernelspec": {
   "display_name": "Python 3",
   "language": "python",
   "name": "python3"
  },
  "language_info": {
   "codemirror_mode": {
    "name": "ipython",
    "version": 2
   },
   "file_extension": ".py",
   "mimetype": "text/x-python",
   "name": "python",
   "nbconvert_exporter": "python",
   "pygments_lexer": "ipython2",
   "version": "2.7.6"
  }
 },
 "nbformat": 4,
 "nbformat_minor": 0
}