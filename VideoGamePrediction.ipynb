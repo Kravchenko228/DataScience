{
 "cells": [
  {
   "cell_type": "markdown",
   "source": [
    "Data Handling"
   ],
   "metadata": {
    "collapsed": false,
    "pycharm": {
     "name": "#%% md\n"
    }
   }
  },
  {
   "cell_type": "code",
   "execution_count": 1,
   "outputs": [],
   "source": [
    "import matplotlib.pyplot as plt\n",
    "import numpy as np\n",
    "import matplotlib.pyplot as plt\n",
    "from matplotlib import patches\n",
    "import warnings;\n",
    "import csv\n",
    "import pandas as pd\n",
    "warnings.simplefilter('ignore')"
   ],
   "metadata": {
    "collapsed": false,
    "pycharm": {
     "name": "#%%import pandas as pd\n"
    }
   }
  },
  {
   "cell_type": "markdown",
   "source": [
    "Open Crawled Data csv file"
   ],
   "metadata": {
    "collapsed": false,
    "pycharm": {
     "name": "#%% md\n"
    }
   }
  },
  {
   "cell_type": "code",
   "execution_count": 82,
   "outputs": [
    {
     "data": {
      "text/plain": "                               title           author  price  \\\n0     ​Our Life: Beginnings & Always          GBPatch    NaN   \n1               Friday Night Funkin'    ninjamuffin99    NaN   \n2           Adventures With Anxiety!      Nicky Case!    NaN   \n3                     Butterfly Soup      Brianna Lei    NaN   \n4                       A Short Hike         adamgryu  $5.19   \n...                              ...              ...    ...   \n2615                         Epitaph    Max Kreminski    NaN   \n2616                         10mg :)          torcado     $3   \n2617         VTM - Heartless Lullaby  Entalto Studios    NaN   \n2618  everybody wants to be a tortle            onion    NaN   \n2619               what's your name?            jelli    NaN   \n\n                                                    url          status  \\\n0                      https://gbpatch.itch.io/our-life             NaN   \n1                 https://ninja-muffin24.itch.io/funkin  In development   \n2                         https://ncase.itch.io/anxiety        Released   \n3            https://brianna-lei.itch.io/butterfly-soup        Released   \n4                 https://adamgryu.itch.io/a-short-hike        Released   \n...                                                 ...             ...   \n2615                   https://mkremins.itch.io/epitaph        Released   \n2616                      https://torcado.itch.io/smile        Released   \n2617  https://entaltostudios.itch.io/vtm-heartless-l...        Released   \n2618                 https://le-onionboi.itch.io/tortle        Released   \n2619                    https://sxilin.itch.io/namegame        Released   \n\n                          platform  rating                made_with  \\\n0                              NaN     NaN                      NaN   \n1     Windows, macOS, Linux, HTML5     4.7  OpenFL, IndieCade, Haxe   \n2                            HTML5     4.9                      NaN   \n3            Windows, macOS, Linux     4.9                   Ren'Py   \n4            Windows, macOS, Linux     4.9                    Unity   \n...                            ...     ...                      ...   \n2615                         HTML5     4.6                      NaN   \n2616         Windows, macOS, Linux     4.9                      NaN   \n2617                Windows, macOS     4.9                    Unity   \n2618                         HTML5     4.9                    Bitsy   \n2619         Windows, macOS, Linux     4.9                      NaN   \n\n                                                   tags  \\\n0                                                   NaN   \n1                                                    2D   \n2                      Comedy, Mental Health, Narrative   \n3     2D, Anime, Female Protagonist, LGBT, Ren'Py, R...   \n4     3D, Atmospheric, Cute, Funny, nature, Relaxing...   \n...                                                 ...   \n2615  Aliens, fermijam, Procedural Generation, Text ...   \n2616  10mg, 10-minute-games, Cute, Minimalist, Short...   \n2617  Dark, Horror, Isometric, Meaningful Choices, M...   \n2618              Bitsy, everyone-is-nonbinary, turtles   \n2619                             Furry, LGBT, Narrative   \n\n                         accessibility  ASL  \n0                                  NaN  NaN  \n1                                  NaN  NaN  \n2                                  NaN  NaN  \n3                                  NaN  NaN  \n4     Subtitles, Configurable controls  NaN  \n...                                ...  ...  \n2615                               NaN  NaN  \n2616                               NaN  NaN  \n2617                         Subtitles  NaN  \n2618                               NaN  NaN  \n2619                               NaN  NaN  \n\n[2620 rows x 11 columns]",
      "text/html": "<div>\n<style scoped>\n    .dataframe tbody tr th:only-of-type {\n        vertical-align: middle;\n    }\n\n    .dataframe tbody tr th {\n        vertical-align: top;\n    }\n\n    .dataframe thead th {\n        text-align: right;\n    }\n</style>\n<table border=\"1\" class=\"dataframe\">\n  <thead>\n    <tr style=\"text-align: right;\">\n      <th></th>\n      <th>title</th>\n      <th>author</th>\n      <th>price</th>\n      <th>url</th>\n      <th>status</th>\n      <th>platform</th>\n      <th>rating</th>\n      <th>made_with</th>\n      <th>tags</th>\n      <th>accessibility</th>\n      <th>ASL</th>\n    </tr>\n  </thead>\n  <tbody>\n    <tr>\n      <th>0</th>\n      <td>​Our Life: Beginnings &amp; Always</td>\n      <td>GBPatch</td>\n      <td>NaN</td>\n      <td>https://gbpatch.itch.io/our-life</td>\n      <td>NaN</td>\n      <td>NaN</td>\n      <td>NaN</td>\n      <td>NaN</td>\n      <td>NaN</td>\n      <td>NaN</td>\n      <td>NaN</td>\n    </tr>\n    <tr>\n      <th>1</th>\n      <td>Friday Night Funkin'</td>\n      <td>ninjamuffin99</td>\n      <td>NaN</td>\n      <td>https://ninja-muffin24.itch.io/funkin</td>\n      <td>In development</td>\n      <td>Windows, macOS, Linux, HTML5</td>\n      <td>4.7</td>\n      <td>OpenFL, IndieCade, Haxe</td>\n      <td>2D</td>\n      <td>NaN</td>\n      <td>NaN</td>\n    </tr>\n    <tr>\n      <th>2</th>\n      <td>Adventures With Anxiety!</td>\n      <td>Nicky Case!</td>\n      <td>NaN</td>\n      <td>https://ncase.itch.io/anxiety</td>\n      <td>Released</td>\n      <td>HTML5</td>\n      <td>4.9</td>\n      <td>NaN</td>\n      <td>Comedy, Mental Health, Narrative</td>\n      <td>NaN</td>\n      <td>NaN</td>\n    </tr>\n    <tr>\n      <th>3</th>\n      <td>Butterfly Soup</td>\n      <td>Brianna Lei</td>\n      <td>NaN</td>\n      <td>https://brianna-lei.itch.io/butterfly-soup</td>\n      <td>Released</td>\n      <td>Windows, macOS, Linux</td>\n      <td>4.9</td>\n      <td>Ren'Py</td>\n      <td>2D, Anime, Female Protagonist, LGBT, Ren'Py, R...</td>\n      <td>NaN</td>\n      <td>NaN</td>\n    </tr>\n    <tr>\n      <th>4</th>\n      <td>A Short Hike</td>\n      <td>adamgryu</td>\n      <td>$5.19</td>\n      <td>https://adamgryu.itch.io/a-short-hike</td>\n      <td>Released</td>\n      <td>Windows, macOS, Linux</td>\n      <td>4.9</td>\n      <td>Unity</td>\n      <td>3D, Atmospheric, Cute, Funny, nature, Relaxing...</td>\n      <td>Subtitles, Configurable controls</td>\n      <td>NaN</td>\n    </tr>\n    <tr>\n      <th>...</th>\n      <td>...</td>\n      <td>...</td>\n      <td>...</td>\n      <td>...</td>\n      <td>...</td>\n      <td>...</td>\n      <td>...</td>\n      <td>...</td>\n      <td>...</td>\n      <td>...</td>\n      <td>...</td>\n    </tr>\n    <tr>\n      <th>2615</th>\n      <td>Epitaph</td>\n      <td>Max Kreminski</td>\n      <td>NaN</td>\n      <td>https://mkremins.itch.io/epitaph</td>\n      <td>Released</td>\n      <td>HTML5</td>\n      <td>4.6</td>\n      <td>NaN</td>\n      <td>Aliens, fermijam, Procedural Generation, Text ...</td>\n      <td>NaN</td>\n      <td>NaN</td>\n    </tr>\n    <tr>\n      <th>2616</th>\n      <td>10mg :)</td>\n      <td>torcado</td>\n      <td>$3</td>\n      <td>https://torcado.itch.io/smile</td>\n      <td>Released</td>\n      <td>Windows, macOS, Linux</td>\n      <td>4.9</td>\n      <td>NaN</td>\n      <td>10mg, 10-minute-games, Cute, Minimalist, Short...</td>\n      <td>NaN</td>\n      <td>NaN</td>\n    </tr>\n    <tr>\n      <th>2617</th>\n      <td>VTM - Heartless Lullaby</td>\n      <td>Entalto Studios</td>\n      <td>NaN</td>\n      <td>https://entaltostudios.itch.io/vtm-heartless-l...</td>\n      <td>Released</td>\n      <td>Windows, macOS</td>\n      <td>4.9</td>\n      <td>Unity</td>\n      <td>Dark, Horror, Isometric, Meaningful Choices, M...</td>\n      <td>Subtitles</td>\n      <td>NaN</td>\n    </tr>\n    <tr>\n      <th>2618</th>\n      <td>everybody wants to be a tortle</td>\n      <td>onion</td>\n      <td>NaN</td>\n      <td>https://le-onionboi.itch.io/tortle</td>\n      <td>Released</td>\n      <td>HTML5</td>\n      <td>4.9</td>\n      <td>Bitsy</td>\n      <td>Bitsy, everyone-is-nonbinary, turtles</td>\n      <td>NaN</td>\n      <td>NaN</td>\n    </tr>\n    <tr>\n      <th>2619</th>\n      <td>what's your name?</td>\n      <td>jelli</td>\n      <td>NaN</td>\n      <td>https://sxilin.itch.io/namegame</td>\n      <td>Released</td>\n      <td>Windows, macOS, Linux</td>\n      <td>4.9</td>\n      <td>NaN</td>\n      <td>Furry, LGBT, Narrative</td>\n      <td>NaN</td>\n      <td>NaN</td>\n    </tr>\n  </tbody>\n</table>\n<p>2620 rows × 11 columns</p>\n</div>"
     },
     "execution_count": 82,
     "metadata": {},
     "output_type": "execute_result"
    }
   ],
   "source": [
    "df = pd.read_csv(\"D:/study/VideoGamesPred/DataScience/final_data.csv \",error_bad_lines=False,sep='\\t')\n",
    "#data = pd.read_csv(\"file1.csv\", error_bad_lines=False)\n",
    "df"
   ],
   "metadata": {
    "collapsed": false,
    "pycharm": {
     "name": "#%%\n"
    }
   }
  },
  {
   "cell_type": "code",
   "execution_count": 25,
   "outputs": [],
   "source": [
    "platforms = df['platform'].unique()\n",
    "\n",
    "\n"
   ],
   "metadata": {
    "collapsed": false,
    "pycharm": {
     "name": "#%%\n"
    }
   }
  },
  {
   "cell_type": "code",
   "execution_count": 58,
   "outputs": [],
   "source": [
    "def division_of_data(df,col_name,uni_sign):\n",
    "    return pd.concat(df,df[col_name].fillna('').apply(lambda x:pd.Series(x.split(uni_sign)).value_counts().convert_dtypes()),axis=1)"
   ],
   "metadata": {
    "collapsed": false,
    "pycharm": {
     "name": "#%%\n"
    }
   }
  },
  {
   "cell_type": "markdown",
   "source": [],
   "metadata": {
    "collapsed": false,
    "pycharm": {
     "name": "#%% md\n"
    }
   }
  },
  {
   "cell_type": "code",
   "execution_count": 59,
   "outputs": [
    {
     "ename": "AttributeError",
     "evalue": "'float' object has no attribute 'split'",
     "output_type": "error",
     "traceback": [
      "\u001B[1;31m---------------------------------------------------------------------------\u001B[0m",
      "\u001B[1;31mAttributeError\u001B[0m                            Traceback (most recent call last)",
      "Input \u001B[1;32mIn [59]\u001B[0m, in \u001B[0;36m<cell line: 1>\u001B[1;34m()\u001B[0m\n\u001B[1;32m----> 1\u001B[0m test\u001B[38;5;241m=\u001B[39m\u001B[43mdivision_of_data\u001B[49m\u001B[43m(\u001B[49m\u001B[43mdf\u001B[49m\u001B[43m,\u001B[49m\u001B[38;5;124;43m'\u001B[39;49m\u001B[38;5;124;43mplatform\u001B[39;49m\u001B[38;5;124;43m'\u001B[39;49m\u001B[43m,\u001B[49m\u001B[38;5;124;43m'\u001B[39;49m\u001B[38;5;130;43;01m\\n\u001B[39;49;00m\u001B[38;5;124;43m'\u001B[39;49m\u001B[43m)\u001B[49m\n",
      "Input \u001B[1;32mIn [58]\u001B[0m, in \u001B[0;36mdivision_of_data\u001B[1;34m(df, col_name, uni_sign)\u001B[0m\n\u001B[0;32m      1\u001B[0m \u001B[38;5;28;01mdef\u001B[39;00m \u001B[38;5;21mdivision_of_data\u001B[39m(df,col_name,uni_sign):\n\u001B[1;32m----> 2\u001B[0m     \u001B[38;5;28;01mreturn\u001B[39;00m pd\u001B[38;5;241m.\u001B[39mconcat(df,\u001B[43mdf\u001B[49m\u001B[43m[\u001B[49m\u001B[43mcol_name\u001B[49m\u001B[43m]\u001B[49m\u001B[38;5;241;43m.\u001B[39;49m\u001B[43mapply\u001B[49m\u001B[43m(\u001B[49m\u001B[38;5;28;43;01mlambda\u001B[39;49;00m\u001B[43m \u001B[49m\u001B[43mx\u001B[49m\u001B[43m:\u001B[49m\u001B[43mpd\u001B[49m\u001B[38;5;241;43m.\u001B[39;49m\u001B[43mSeries\u001B[49m\u001B[43m(\u001B[49m\u001B[43mx\u001B[49m\u001B[38;5;241;43m.\u001B[39;49m\u001B[43msplit\u001B[49m\u001B[43m(\u001B[49m\u001B[43muni_sign\u001B[49m\u001B[43m)\u001B[49m\u001B[43m)\u001B[49m\u001B[38;5;241;43m.\u001B[39;49m\u001B[43mvalue_counts\u001B[49m\u001B[43m(\u001B[49m\u001B[43m)\u001B[49m\u001B[38;5;241;43m.\u001B[39;49m\u001B[43mconvert_dtypes\u001B[49m\u001B[43m(\u001B[49m\u001B[43m)\u001B[49m\u001B[43m)\u001B[49m\u001B[38;5;241m.\u001B[39mfillna(\u001B[38;5;124m'\u001B[39m\u001B[38;5;124m \u001B[39m\u001B[38;5;124m'\u001B[39m),axis\u001B[38;5;241m=\u001B[39m\u001B[38;5;241m1\u001B[39m)\n",
      "File \u001B[1;32m~\\anaconda3\\envs\\DataScience\\lib\\site-packages\\pandas\\core\\series.py:4433\u001B[0m, in \u001B[0;36mSeries.apply\u001B[1;34m(self, func, convert_dtype, args, **kwargs)\u001B[0m\n\u001B[0;32m   4323\u001B[0m \u001B[38;5;28;01mdef\u001B[39;00m \u001B[38;5;21mapply\u001B[39m(\n\u001B[0;32m   4324\u001B[0m     \u001B[38;5;28mself\u001B[39m,\n\u001B[0;32m   4325\u001B[0m     func: AggFuncType,\n\u001B[1;32m   (...)\u001B[0m\n\u001B[0;32m   4328\u001B[0m     \u001B[38;5;241m*\u001B[39m\u001B[38;5;241m*\u001B[39mkwargs,\n\u001B[0;32m   4329\u001B[0m ) \u001B[38;5;241m-\u001B[39m\u001B[38;5;241m>\u001B[39m DataFrame \u001B[38;5;241m|\u001B[39m Series:\n\u001B[0;32m   4330\u001B[0m     \u001B[38;5;124;03m\"\"\"\u001B[39;00m\n\u001B[0;32m   4331\u001B[0m \u001B[38;5;124;03m    Invoke function on values of Series.\u001B[39;00m\n\u001B[0;32m   4332\u001B[0m \n\u001B[1;32m   (...)\u001B[0m\n\u001B[0;32m   4431\u001B[0m \u001B[38;5;124;03m    dtype: float64\u001B[39;00m\n\u001B[0;32m   4432\u001B[0m \u001B[38;5;124;03m    \"\"\"\u001B[39;00m\n\u001B[1;32m-> 4433\u001B[0m     \u001B[38;5;28;01mreturn\u001B[39;00m \u001B[43mSeriesApply\u001B[49m\u001B[43m(\u001B[49m\u001B[38;5;28;43mself\u001B[39;49m\u001B[43m,\u001B[49m\u001B[43m \u001B[49m\u001B[43mfunc\u001B[49m\u001B[43m,\u001B[49m\u001B[43m \u001B[49m\u001B[43mconvert_dtype\u001B[49m\u001B[43m,\u001B[49m\u001B[43m \u001B[49m\u001B[43margs\u001B[49m\u001B[43m,\u001B[49m\u001B[43m \u001B[49m\u001B[43mkwargs\u001B[49m\u001B[43m)\u001B[49m\u001B[38;5;241;43m.\u001B[39;49m\u001B[43mapply\u001B[49m\u001B[43m(\u001B[49m\u001B[43m)\u001B[49m\n",
      "File \u001B[1;32m~\\anaconda3\\envs\\DataScience\\lib\\site-packages\\pandas\\core\\apply.py:1082\u001B[0m, in \u001B[0;36mSeriesApply.apply\u001B[1;34m(self)\u001B[0m\n\u001B[0;32m   1078\u001B[0m \u001B[38;5;28;01mif\u001B[39;00m \u001B[38;5;28misinstance\u001B[39m(\u001B[38;5;28mself\u001B[39m\u001B[38;5;241m.\u001B[39mf, \u001B[38;5;28mstr\u001B[39m):\n\u001B[0;32m   1079\u001B[0m     \u001B[38;5;66;03m# if we are a string, try to dispatch\u001B[39;00m\n\u001B[0;32m   1080\u001B[0m     \u001B[38;5;28;01mreturn\u001B[39;00m \u001B[38;5;28mself\u001B[39m\u001B[38;5;241m.\u001B[39mapply_str()\n\u001B[1;32m-> 1082\u001B[0m \u001B[38;5;28;01mreturn\u001B[39;00m \u001B[38;5;28;43mself\u001B[39;49m\u001B[38;5;241;43m.\u001B[39;49m\u001B[43mapply_standard\u001B[49m\u001B[43m(\u001B[49m\u001B[43m)\u001B[49m\n",
      "File \u001B[1;32m~\\anaconda3\\envs\\DataScience\\lib\\site-packages\\pandas\\core\\apply.py:1137\u001B[0m, in \u001B[0;36mSeriesApply.apply_standard\u001B[1;34m(self)\u001B[0m\n\u001B[0;32m   1131\u001B[0m         values \u001B[38;5;241m=\u001B[39m obj\u001B[38;5;241m.\u001B[39mastype(\u001B[38;5;28mobject\u001B[39m)\u001B[38;5;241m.\u001B[39m_values\n\u001B[0;32m   1132\u001B[0m         \u001B[38;5;66;03m# error: Argument 2 to \"map_infer\" has incompatible type\u001B[39;00m\n\u001B[0;32m   1133\u001B[0m         \u001B[38;5;66;03m# \"Union[Callable[..., Any], str, List[Union[Callable[..., Any], str]],\u001B[39;00m\n\u001B[0;32m   1134\u001B[0m         \u001B[38;5;66;03m# Dict[Hashable, Union[Union[Callable[..., Any], str],\u001B[39;00m\n\u001B[0;32m   1135\u001B[0m         \u001B[38;5;66;03m# List[Union[Callable[..., Any], str]]]]]\"; expected\u001B[39;00m\n\u001B[0;32m   1136\u001B[0m         \u001B[38;5;66;03m# \"Callable[[Any], Any]\"\u001B[39;00m\n\u001B[1;32m-> 1137\u001B[0m         mapped \u001B[38;5;241m=\u001B[39m \u001B[43mlib\u001B[49m\u001B[38;5;241;43m.\u001B[39;49m\u001B[43mmap_infer\u001B[49m\u001B[43m(\u001B[49m\n\u001B[0;32m   1138\u001B[0m \u001B[43m            \u001B[49m\u001B[43mvalues\u001B[49m\u001B[43m,\u001B[49m\n\u001B[0;32m   1139\u001B[0m \u001B[43m            \u001B[49m\u001B[43mf\u001B[49m\u001B[43m,\u001B[49m\u001B[43m  \u001B[49m\u001B[38;5;66;43;03m# type: ignore[arg-type]\u001B[39;49;00m\n\u001B[0;32m   1140\u001B[0m \u001B[43m            \u001B[49m\u001B[43mconvert\u001B[49m\u001B[38;5;241;43m=\u001B[39;49m\u001B[38;5;28;43mself\u001B[39;49m\u001B[38;5;241;43m.\u001B[39;49m\u001B[43mconvert_dtype\u001B[49m\u001B[43m,\u001B[49m\n\u001B[0;32m   1141\u001B[0m \u001B[43m        \u001B[49m\u001B[43m)\u001B[49m\n\u001B[0;32m   1143\u001B[0m \u001B[38;5;28;01mif\u001B[39;00m \u001B[38;5;28mlen\u001B[39m(mapped) \u001B[38;5;129;01mand\u001B[39;00m \u001B[38;5;28misinstance\u001B[39m(mapped[\u001B[38;5;241m0\u001B[39m], ABCSeries):\n\u001B[0;32m   1144\u001B[0m     \u001B[38;5;66;03m# GH#43986 Need to do list(mapped) in order to get treated as nested\u001B[39;00m\n\u001B[0;32m   1145\u001B[0m     \u001B[38;5;66;03m#  See also GH#25959 regarding EA support\u001B[39;00m\n\u001B[0;32m   1146\u001B[0m     \u001B[38;5;28;01mreturn\u001B[39;00m obj\u001B[38;5;241m.\u001B[39m_constructor_expanddim(\u001B[38;5;28mlist\u001B[39m(mapped), index\u001B[38;5;241m=\u001B[39mobj\u001B[38;5;241m.\u001B[39mindex)\n",
      "File \u001B[1;32m~\\anaconda3\\envs\\DataScience\\lib\\site-packages\\pandas\\_libs\\lib.pyx:2870\u001B[0m, in \u001B[0;36mpandas._libs.lib.map_infer\u001B[1;34m()\u001B[0m\n",
      "Input \u001B[1;32mIn [58]\u001B[0m, in \u001B[0;36mdivision_of_data.<locals>.<lambda>\u001B[1;34m(x)\u001B[0m\n\u001B[0;32m      1\u001B[0m \u001B[38;5;28;01mdef\u001B[39;00m \u001B[38;5;21mdivision_of_data\u001B[39m(df,col_name,uni_sign):\n\u001B[1;32m----> 2\u001B[0m     \u001B[38;5;28;01mreturn\u001B[39;00m pd\u001B[38;5;241m.\u001B[39mconcat(df,df[col_name]\u001B[38;5;241m.\u001B[39mapply(\u001B[38;5;28;01mlambda\u001B[39;00m x:pd\u001B[38;5;241m.\u001B[39mSeries(\u001B[43mx\u001B[49m\u001B[38;5;241;43m.\u001B[39;49m\u001B[43msplit\u001B[49m(uni_sign))\u001B[38;5;241m.\u001B[39mvalue_counts()\u001B[38;5;241m.\u001B[39mconvert_dtypes())\u001B[38;5;241m.\u001B[39mfillna(\u001B[38;5;124m'\u001B[39m\u001B[38;5;124m \u001B[39m\u001B[38;5;124m'\u001B[39m),axis\u001B[38;5;241m=\u001B[39m\u001B[38;5;241m1\u001B[39m)\n",
      "\u001B[1;31mAttributeError\u001B[0m: 'float' object has no attribute 'split'"
     ]
    }
   ],
   "source": [
    "test=division_of_data(df,'platform','\\n')\n",
    "#platforms=platforms.pd.series.value_counts()\n"
   ],
   "metadata": {
    "collapsed": false,
    "pycharm": {
     "name": "#%%test=division_of_data(df,'platform','\\n')\n"
    }
   }
  },
  {
   "cell_type": "code",
   "execution_count": null,
   "outputs": [],
   "source": [
    "platforms.fillna(0).apply(lambda x:pd.Series(x.split('\\n')).value_counts().convert_dtypes())"
   ],
   "metadata": {
    "collapsed": false,
    "pycharm": {
     "name": "#%%\n"
    }
   }
  },
  {
   "cell_type": "code",
   "execution_count": null,
   "outputs": [],
   "source": [
    "df2= pd.read_csv(\"D:/study/VideoGamesPred/DataScience/final_datacopy.csv \",error_bad_lines=False,sep='\\t')\n",
    "df2"
   ],
   "metadata": {
    "collapsed": false,
    "pycharm": {
     "name": "#%%\n"
    }
   }
  },
  {
   "cell_type": "code",
   "execution_count": null,
   "outputs": [],
   "source": [
    "df2"
   ],
   "metadata": {
    "collapsed": false,
    "pycharm": {
     "name": "#%%\n"
    }
   }
  },
  {
   "cell_type": "code",
   "execution_count": 104,
   "outputs": [],
   "source": [
    "test=df\n"
   ],
   "metadata": {
    "collapsed": false,
    "pycharm": {
     "name": "#%%\n"
    }
   }
  },
  {
   "cell_type": "code",
   "execution_count": 93,
   "outputs": [
    {
     "name": "stdout",
     "output_type": "stream",
     "text": [
      "<class 'pandas.core.frame.DataFrame'>\n",
      "Int64Index: 2619 entries, 0 to 2619\n",
      "Data columns (total 11 columns):\n",
      " #   Column         Non-Null Count  Dtype  \n",
      "---  ------         --------------  -----  \n",
      " 0   title          2619 non-null   object \n",
      " 1   author         2619 non-null   object \n",
      " 2   price          429 non-null    object \n",
      " 3   url            2619 non-null   object \n",
      " 4   status         2571 non-null   object \n",
      " 5   platform       2466 non-null   object \n",
      " 6   rating         2571 non-null   float64\n",
      " 7   made_with      1507 non-null   object \n",
      " 8   tags           2481 non-null   object \n",
      " 9   accessibility  500 non-null    object \n",
      " 10  ASL            0 non-null      float64\n",
      "dtypes: float64(2), object(9)\n",
      "memory usage: 245.5+ KB\n",
      "None\n",
      "            rating  ASL\n",
      "count  2571.000000  0.0\n",
      "mean      4.778374  NaN\n",
      "std       0.140258  NaN\n",
      "min       4.200000  NaN\n",
      "25%       4.700000  NaN\n",
      "50%       4.800000  NaN\n",
      "75%       4.900000  NaN\n",
      "max       5.000000  NaN\n"
     ]
    },
    {
     "data": {
      "text/plain": "                               title           author  price  \\\n0     ​Our Life: Beginnings & Always          GBPatch    NaN   \n1               Friday Night Funkin'    ninjamuffin99    NaN   \n3                     Butterfly Soup      Brianna Lei    NaN   \n4                       A Short Hike         adamgryu  $5.19   \n5                        Project Kat        Leef 6010    NaN   \n...                              ...              ...    ...   \n2615                         Epitaph    Max Kreminski    NaN   \n2616                         10mg :)          torcado     $3   \n2617         VTM - Heartless Lullaby  Entalto Studios    NaN   \n2618  everybody wants to be a tortle            onion    NaN   \n2619               what's your name?            jelli    NaN   \n\n                                                    url          status  \\\n0                      https://gbpatch.itch.io/our-life             NaN   \n1                 https://ninja-muffin24.itch.io/funkin  In development   \n3            https://brianna-lei.itch.io/butterfly-soup        Released   \n4                 https://adamgryu.itch.io/a-short-hike        Released   \n5                   https://leef6010.itch.io/projectkat        Released   \n...                                                 ...             ...   \n2615                   https://mkremins.itch.io/epitaph        Released   \n2616                      https://torcado.itch.io/smile        Released   \n2617  https://entaltostudios.itch.io/vtm-heartless-l...        Released   \n2618                 https://le-onionboi.itch.io/tortle        Released   \n2619                    https://sxilin.itch.io/namegame        Released   \n\n                          platform  rating                        made_with  \\\n0                              NaN     NaN                              NaN   \n1     Windows, macOS, Linux, HTML5     4.7          OpenFL, IndieCade, Haxe   \n3            Windows, macOS, Linux     4.9                           Ren'Py   \n4            Windows, macOS, Linux     4.9                            Unity   \n5            Windows, macOS, Linux     4.8  Paint Tool SAI, Godot, Aseprite   \n...                            ...     ...                              ...   \n2615                         HTML5     4.6                              NaN   \n2616         Windows, macOS, Linux     4.9                              NaN   \n2617                Windows, macOS     4.9                            Unity   \n2618                         HTML5     4.9                            Bitsy   \n2619         Windows, macOS, Linux     4.9                              NaN   \n\n                                                   tags  \\\n0                                                   NaN   \n1                                                    2D   \n3     2D, Anime, Female Protagonist, LGBT, Ren'Py, R...   \n4     3D, Atmospheric, Cute, Funny, nature, Relaxing...   \n5     2D, Anime, Cute, Horror, Pixel Art, RPG Maker,...   \n...                                                 ...   \n2615  Aliens, fermijam, Procedural Generation, Text ...   \n2616  10mg, 10-minute-games, Cute, Minimalist, Short...   \n2617  Dark, Horror, Isometric, Meaningful Choices, M...   \n2618              Bitsy, everyone-is-nonbinary, turtles   \n2619                             Furry, LGBT, Narrative   \n\n                                          accessibility  ASL  \n0                                                   NaN  NaN  \n1                                                   NaN  NaN  \n3                                                   NaN  NaN  \n4                      Subtitles, Configurable controls  NaN  \n5     Subtitles, Configurable controls, Interactive ...  NaN  \n...                                                 ...  ...  \n2615                                                NaN  NaN  \n2616                                                NaN  NaN  \n2617                                          Subtitles  NaN  \n2618                                                NaN  NaN  \n2619                                                NaN  NaN  \n\n[2619 rows x 11 columns]",
      "text/html": "<div>\n<style scoped>\n    .dataframe tbody tr th:only-of-type {\n        vertical-align: middle;\n    }\n\n    .dataframe tbody tr th {\n        vertical-align: top;\n    }\n\n    .dataframe thead th {\n        text-align: right;\n    }\n</style>\n<table border=\"1\" class=\"dataframe\">\n  <thead>\n    <tr style=\"text-align: right;\">\n      <th></th>\n      <th>title</th>\n      <th>author</th>\n      <th>price</th>\n      <th>url</th>\n      <th>status</th>\n      <th>platform</th>\n      <th>rating</th>\n      <th>made_with</th>\n      <th>tags</th>\n      <th>accessibility</th>\n      <th>ASL</th>\n    </tr>\n  </thead>\n  <tbody>\n    <tr>\n      <th>0</th>\n      <td>​Our Life: Beginnings &amp; Always</td>\n      <td>GBPatch</td>\n      <td>NaN</td>\n      <td>https://gbpatch.itch.io/our-life</td>\n      <td>NaN</td>\n      <td>NaN</td>\n      <td>NaN</td>\n      <td>NaN</td>\n      <td>NaN</td>\n      <td>NaN</td>\n      <td>NaN</td>\n    </tr>\n    <tr>\n      <th>1</th>\n      <td>Friday Night Funkin'</td>\n      <td>ninjamuffin99</td>\n      <td>NaN</td>\n      <td>https://ninja-muffin24.itch.io/funkin</td>\n      <td>In development</td>\n      <td>Windows, macOS, Linux, HTML5</td>\n      <td>4.7</td>\n      <td>OpenFL, IndieCade, Haxe</td>\n      <td>2D</td>\n      <td>NaN</td>\n      <td>NaN</td>\n    </tr>\n    <tr>\n      <th>3</th>\n      <td>Butterfly Soup</td>\n      <td>Brianna Lei</td>\n      <td>NaN</td>\n      <td>https://brianna-lei.itch.io/butterfly-soup</td>\n      <td>Released</td>\n      <td>Windows, macOS, Linux</td>\n      <td>4.9</td>\n      <td>Ren'Py</td>\n      <td>2D, Anime, Female Protagonist, LGBT, Ren'Py, R...</td>\n      <td>NaN</td>\n      <td>NaN</td>\n    </tr>\n    <tr>\n      <th>4</th>\n      <td>A Short Hike</td>\n      <td>adamgryu</td>\n      <td>$5.19</td>\n      <td>https://adamgryu.itch.io/a-short-hike</td>\n      <td>Released</td>\n      <td>Windows, macOS, Linux</td>\n      <td>4.9</td>\n      <td>Unity</td>\n      <td>3D, Atmospheric, Cute, Funny, nature, Relaxing...</td>\n      <td>Subtitles, Configurable controls</td>\n      <td>NaN</td>\n    </tr>\n    <tr>\n      <th>5</th>\n      <td>Project Kat</td>\n      <td>Leef 6010</td>\n      <td>NaN</td>\n      <td>https://leef6010.itch.io/projectkat</td>\n      <td>Released</td>\n      <td>Windows, macOS, Linux</td>\n      <td>4.8</td>\n      <td>Paint Tool SAI, Godot, Aseprite</td>\n      <td>2D, Anime, Cute, Horror, Pixel Art, RPG Maker,...</td>\n      <td>Subtitles, Configurable controls, Interactive ...</td>\n      <td>NaN</td>\n    </tr>\n    <tr>\n      <th>...</th>\n      <td>...</td>\n      <td>...</td>\n      <td>...</td>\n      <td>...</td>\n      <td>...</td>\n      <td>...</td>\n      <td>...</td>\n      <td>...</td>\n      <td>...</td>\n      <td>...</td>\n      <td>...</td>\n    </tr>\n    <tr>\n      <th>2615</th>\n      <td>Epitaph</td>\n      <td>Max Kreminski</td>\n      <td>NaN</td>\n      <td>https://mkremins.itch.io/epitaph</td>\n      <td>Released</td>\n      <td>HTML5</td>\n      <td>4.6</td>\n      <td>NaN</td>\n      <td>Aliens, fermijam, Procedural Generation, Text ...</td>\n      <td>NaN</td>\n      <td>NaN</td>\n    </tr>\n    <tr>\n      <th>2616</th>\n      <td>10mg :)</td>\n      <td>torcado</td>\n      <td>$3</td>\n      <td>https://torcado.itch.io/smile</td>\n      <td>Released</td>\n      <td>Windows, macOS, Linux</td>\n      <td>4.9</td>\n      <td>NaN</td>\n      <td>10mg, 10-minute-games, Cute, Minimalist, Short...</td>\n      <td>NaN</td>\n      <td>NaN</td>\n    </tr>\n    <tr>\n      <th>2617</th>\n      <td>VTM - Heartless Lullaby</td>\n      <td>Entalto Studios</td>\n      <td>NaN</td>\n      <td>https://entaltostudios.itch.io/vtm-heartless-l...</td>\n      <td>Released</td>\n      <td>Windows, macOS</td>\n      <td>4.9</td>\n      <td>Unity</td>\n      <td>Dark, Horror, Isometric, Meaningful Choices, M...</td>\n      <td>Subtitles</td>\n      <td>NaN</td>\n    </tr>\n    <tr>\n      <th>2618</th>\n      <td>everybody wants to be a tortle</td>\n      <td>onion</td>\n      <td>NaN</td>\n      <td>https://le-onionboi.itch.io/tortle</td>\n      <td>Released</td>\n      <td>HTML5</td>\n      <td>4.9</td>\n      <td>Bitsy</td>\n      <td>Bitsy, everyone-is-nonbinary, turtles</td>\n      <td>NaN</td>\n      <td>NaN</td>\n    </tr>\n    <tr>\n      <th>2619</th>\n      <td>what's your name?</td>\n      <td>jelli</td>\n      <td>NaN</td>\n      <td>https://sxilin.itch.io/namegame</td>\n      <td>Released</td>\n      <td>Windows, macOS, Linux</td>\n      <td>4.9</td>\n      <td>NaN</td>\n      <td>Furry, LGBT, Narrative</td>\n      <td>NaN</td>\n      <td>NaN</td>\n    </tr>\n  </tbody>\n</table>\n<p>2619 rows × 11 columns</p>\n</div>"
     },
     "execution_count": 93,
     "metadata": {},
     "output_type": "execute_result"
    }
   ],
   "source": [
    "print(df.info())\n",
    "print(df.describe())\n",
    "ndf=df\n",
    "ndf"
   ],
   "metadata": {
    "collapsed": false,
    "pycharm": {
     "name": "#%%\n"
    }
   }
  },
  {
   "cell_type": "code",
   "execution_count": 119,
   "outputs": [
    {
     "data": {
      "text/plain": "                               title           author  price  \\\n1               Friday Night Funkin'    ninjamuffin99      0   \n3                     Butterfly Soup      Brianna Lei      0   \n4                       A Short Hike         adamgryu  $5.19   \n5                        Project Kat        Leef 6010      0   \n6                     Blooming Panic       robobarbie      0   \n...                              ...              ...    ...   \n2615                         Epitaph    Max Kreminski      0   \n2616                         10mg :)          torcado     $3   \n2617         VTM - Heartless Lullaby  Entalto Studios      0   \n2618  everybody wants to be a tortle            onion      0   \n2619               what's your name?            jelli      0   \n\n                                                    url          status  \\\n1                 https://ninja-muffin24.itch.io/funkin  In development   \n3            https://brianna-lei.itch.io/butterfly-soup        Released   \n4                 https://adamgryu.itch.io/a-short-hike        Released   \n5                   https://leef6010.itch.io/projectkat        Released   \n6             https://robobarbie.itch.io/blooming-panic        Released   \n...                                                 ...             ...   \n2615                   https://mkremins.itch.io/epitaph        Released   \n2616                      https://torcado.itch.io/smile        Released   \n2617  https://entaltostudios.itch.io/vtm-heartless-l...        Released   \n2618                 https://le-onionboi.itch.io/tortle        Released   \n2619                    https://sxilin.itch.io/namegame        Released   \n\n                          platform  rating                        made_with  \\\n1     Windows, macOS, Linux, HTML5     4.7          OpenFL, IndieCade, Haxe   \n3            Windows, macOS, Linux     4.9                           Ren'Py   \n4            Windows, macOS, Linux     4.9                            Unity   \n5            Windows, macOS, Linux     4.8  Paint Tool SAI, Godot, Aseprite   \n6                   Windows, macOS     4.9                              NaN   \n...                            ...     ...                              ...   \n2615                         HTML5     4.6                              NaN   \n2616         Windows, macOS, Linux     4.9                              NaN   \n2617                Windows, macOS     4.9                            Unity   \n2618                         HTML5     4.9                            Bitsy   \n2619         Windows, macOS, Linux     4.9                              NaN   \n\n                                                   tags  \\\n1                                                    2D   \n3     2D, Anime, Female Protagonist, LGBT, Ren'Py, R...   \n4     3D, Atmospheric, Cute, Funny, nature, Relaxing...   \n5     2D, Anime, Cute, Horror, Pixel Art, RPG Maker,...   \n6     Comedy, Mystery, Otome, Ren'Py, Romance, Voice...   \n...                                                 ...   \n2615  Aliens, fermijam, Procedural Generation, Text ...   \n2616  10mg, 10-minute-games, Cute, Minimalist, Short...   \n2617  Dark, Horror, Isometric, Meaningful Choices, M...   \n2618              Bitsy, everyone-is-nonbinary, turtles   \n2619                             Furry, LGBT, Narrative   \n\n                                          accessibility  ASL  \n1                                                   NaN  NaN  \n3                                                   NaN  NaN  \n4                      Subtitles, Configurable controls  NaN  \n5     Subtitles, Configurable controls, Interactive ...  NaN  \n6                                                   NaN  NaN  \n...                                                 ...  ...  \n2615                                                NaN  NaN  \n2616                                                NaN  NaN  \n2617                                          Subtitles  NaN  \n2618                                                NaN  NaN  \n2619                                                NaN  NaN  \n\n[2464 rows x 11 columns]",
      "text/html": "<div>\n<style scoped>\n    .dataframe tbody tr th:only-of-type {\n        vertical-align: middle;\n    }\n\n    .dataframe tbody tr th {\n        vertical-align: top;\n    }\n\n    .dataframe thead th {\n        text-align: right;\n    }\n</style>\n<table border=\"1\" class=\"dataframe\">\n  <thead>\n    <tr style=\"text-align: right;\">\n      <th></th>\n      <th>title</th>\n      <th>author</th>\n      <th>price</th>\n      <th>url</th>\n      <th>status</th>\n      <th>platform</th>\n      <th>rating</th>\n      <th>made_with</th>\n      <th>tags</th>\n      <th>accessibility</th>\n      <th>ASL</th>\n    </tr>\n  </thead>\n  <tbody>\n    <tr>\n      <th>1</th>\n      <td>Friday Night Funkin'</td>\n      <td>ninjamuffin99</td>\n      <td>0</td>\n      <td>https://ninja-muffin24.itch.io/funkin</td>\n      <td>In development</td>\n      <td>Windows, macOS, Linux, HTML5</td>\n      <td>4.7</td>\n      <td>OpenFL, IndieCade, Haxe</td>\n      <td>2D</td>\n      <td>NaN</td>\n      <td>NaN</td>\n    </tr>\n    <tr>\n      <th>3</th>\n      <td>Butterfly Soup</td>\n      <td>Brianna Lei</td>\n      <td>0</td>\n      <td>https://brianna-lei.itch.io/butterfly-soup</td>\n      <td>Released</td>\n      <td>Windows, macOS, Linux</td>\n      <td>4.9</td>\n      <td>Ren'Py</td>\n      <td>2D, Anime, Female Protagonist, LGBT, Ren'Py, R...</td>\n      <td>NaN</td>\n      <td>NaN</td>\n    </tr>\n    <tr>\n      <th>4</th>\n      <td>A Short Hike</td>\n      <td>adamgryu</td>\n      <td>$5.19</td>\n      <td>https://adamgryu.itch.io/a-short-hike</td>\n      <td>Released</td>\n      <td>Windows, macOS, Linux</td>\n      <td>4.9</td>\n      <td>Unity</td>\n      <td>3D, Atmospheric, Cute, Funny, nature, Relaxing...</td>\n      <td>Subtitles, Configurable controls</td>\n      <td>NaN</td>\n    </tr>\n    <tr>\n      <th>5</th>\n      <td>Project Kat</td>\n      <td>Leef 6010</td>\n      <td>0</td>\n      <td>https://leef6010.itch.io/projectkat</td>\n      <td>Released</td>\n      <td>Windows, macOS, Linux</td>\n      <td>4.8</td>\n      <td>Paint Tool SAI, Godot, Aseprite</td>\n      <td>2D, Anime, Cute, Horror, Pixel Art, RPG Maker,...</td>\n      <td>Subtitles, Configurable controls, Interactive ...</td>\n      <td>NaN</td>\n    </tr>\n    <tr>\n      <th>6</th>\n      <td>Blooming Panic</td>\n      <td>robobarbie</td>\n      <td>0</td>\n      <td>https://robobarbie.itch.io/blooming-panic</td>\n      <td>Released</td>\n      <td>Windows, macOS</td>\n      <td>4.9</td>\n      <td>NaN</td>\n      <td>Comedy, Mystery, Otome, Ren'Py, Romance, Voice...</td>\n      <td>NaN</td>\n      <td>NaN</td>\n    </tr>\n    <tr>\n      <th>...</th>\n      <td>...</td>\n      <td>...</td>\n      <td>...</td>\n      <td>...</td>\n      <td>...</td>\n      <td>...</td>\n      <td>...</td>\n      <td>...</td>\n      <td>...</td>\n      <td>...</td>\n      <td>...</td>\n    </tr>\n    <tr>\n      <th>2615</th>\n      <td>Epitaph</td>\n      <td>Max Kreminski</td>\n      <td>0</td>\n      <td>https://mkremins.itch.io/epitaph</td>\n      <td>Released</td>\n      <td>HTML5</td>\n      <td>4.6</td>\n      <td>NaN</td>\n      <td>Aliens, fermijam, Procedural Generation, Text ...</td>\n      <td>NaN</td>\n      <td>NaN</td>\n    </tr>\n    <tr>\n      <th>2616</th>\n      <td>10mg :)</td>\n      <td>torcado</td>\n      <td>$3</td>\n      <td>https://torcado.itch.io/smile</td>\n      <td>Released</td>\n      <td>Windows, macOS, Linux</td>\n      <td>4.9</td>\n      <td>NaN</td>\n      <td>10mg, 10-minute-games, Cute, Minimalist, Short...</td>\n      <td>NaN</td>\n      <td>NaN</td>\n    </tr>\n    <tr>\n      <th>2617</th>\n      <td>VTM - Heartless Lullaby</td>\n      <td>Entalto Studios</td>\n      <td>0</td>\n      <td>https://entaltostudios.itch.io/vtm-heartless-l...</td>\n      <td>Released</td>\n      <td>Windows, macOS</td>\n      <td>4.9</td>\n      <td>Unity</td>\n      <td>Dark, Horror, Isometric, Meaningful Choices, M...</td>\n      <td>Subtitles</td>\n      <td>NaN</td>\n    </tr>\n    <tr>\n      <th>2618</th>\n      <td>everybody wants to be a tortle</td>\n      <td>onion</td>\n      <td>0</td>\n      <td>https://le-onionboi.itch.io/tortle</td>\n      <td>Released</td>\n      <td>HTML5</td>\n      <td>4.9</td>\n      <td>Bitsy</td>\n      <td>Bitsy, everyone-is-nonbinary, turtles</td>\n      <td>NaN</td>\n      <td>NaN</td>\n    </tr>\n    <tr>\n      <th>2619</th>\n      <td>what's your name?</td>\n      <td>jelli</td>\n      <td>0</td>\n      <td>https://sxilin.itch.io/namegame</td>\n      <td>Released</td>\n      <td>Windows, macOS, Linux</td>\n      <td>4.9</td>\n      <td>NaN</td>\n      <td>Furry, LGBT, Narrative</td>\n      <td>NaN</td>\n      <td>NaN</td>\n    </tr>\n  </tbody>\n</table>\n<p>2464 rows × 11 columns</p>\n</div>"
     },
     "execution_count": 119,
     "metadata": {},
     "output_type": "execute_result"
    }
   ],
   "source": [
    "\n",
    "test1=test.fillna(value = {'price':'0'})\n",
    "test1=test1.dropna(subset=['platform','rating'])\n",
    "test1"
   ],
   "metadata": {
    "collapsed": false,
    "pycharm": {
     "name": "#%%\n"
    }
   }
  },
  {
   "cell_type": "code",
   "execution_count": 110,
   "outputs": [
    {
     "data": {
      "text/plain": "                               title           author  price  \\\n1               Friday Night Funkin'    ninjamuffin99      0   \n3                     Butterfly Soup      Brianna Lei      0   \n4                       A Short Hike         adamgryu  $5.19   \n5                        Project Kat        Leef 6010      0   \n6                     Blooming Panic       robobarbie      0   \n...                              ...              ...    ...   \n2615                         Epitaph    Max Kreminski      0   \n2616                         10mg :)          torcado     $3   \n2617         VTM - Heartless Lullaby  Entalto Studios      0   \n2618  everybody wants to be a tortle            onion      0   \n2619               what's your name?            jelli      0   \n\n                                                    url          status  \\\n1                 https://ninja-muffin24.itch.io/funkin  In development   \n3            https://brianna-lei.itch.io/butterfly-soup        Released   \n4                 https://adamgryu.itch.io/a-short-hike        Released   \n5                   https://leef6010.itch.io/projectkat        Released   \n6             https://robobarbie.itch.io/blooming-panic        Released   \n...                                                 ...             ...   \n2615                   https://mkremins.itch.io/epitaph        Released   \n2616                      https://torcado.itch.io/smile        Released   \n2617  https://entaltostudios.itch.io/vtm-heartless-l...        Released   \n2618                 https://le-onionboi.itch.io/tortle        Released   \n2619                    https://sxilin.itch.io/namegame        Released   \n\n                          platform  rating                        made_with  \\\n1     Windows, macOS, Linux, HTML5     4.7          OpenFL, IndieCade, Haxe   \n3            Windows, macOS, Linux     4.9                           Ren'Py   \n4            Windows, macOS, Linux     4.9                            Unity   \n5            Windows, macOS, Linux     4.8  Paint Tool SAI, Godot, Aseprite   \n6                   Windows, macOS     4.9                              NaN   \n...                            ...     ...                              ...   \n2615                         HTML5     4.6                              NaN   \n2616         Windows, macOS, Linux     4.9                              NaN   \n2617                Windows, macOS     4.9                            Unity   \n2618                         HTML5     4.9                            Bitsy   \n2619         Windows, macOS, Linux     4.9                              NaN   \n\n                                                   tags  \\\n1                                                    2D   \n3     2D, Anime, Female Protagonist, LGBT, Ren'Py, R...   \n4     3D, Atmospheric, Cute, Funny, nature, Relaxing...   \n5     2D, Anime, Cute, Horror, Pixel Art, RPG Maker,...   \n6     Comedy, Mystery, Otome, Ren'Py, Romance, Voice...   \n...                                                 ...   \n2615  Aliens, fermijam, Procedural Generation, Text ...   \n2616  10mg, 10-minute-games, Cute, Minimalist, Short...   \n2617  Dark, Horror, Isometric, Meaningful Choices, M...   \n2618              Bitsy, everyone-is-nonbinary, turtles   \n2619                             Furry, LGBT, Narrative   \n\n                                          accessibility  ASL  \n1                                                   NaN  NaN  \n3                                                   NaN  NaN  \n4                      Subtitles, Configurable controls  NaN  \n5     Subtitles, Configurable controls, Interactive ...  NaN  \n6                                                   NaN  NaN  \n...                                                 ...  ...  \n2615                                                NaN  NaN  \n2616                                                NaN  NaN  \n2617                                          Subtitles  NaN  \n2618                                                NaN  NaN  \n2619                                                NaN  NaN  \n\n[2464 rows x 11 columns]",
      "text/html": "<div>\n<style scoped>\n    .dataframe tbody tr th:only-of-type {\n        vertical-align: middle;\n    }\n\n    .dataframe tbody tr th {\n        vertical-align: top;\n    }\n\n    .dataframe thead th {\n        text-align: right;\n    }\n</style>\n<table border=\"1\" class=\"dataframe\">\n  <thead>\n    <tr style=\"text-align: right;\">\n      <th></th>\n      <th>title</th>\n      <th>author</th>\n      <th>price</th>\n      <th>url</th>\n      <th>status</th>\n      <th>platform</th>\n      <th>rating</th>\n      <th>made_with</th>\n      <th>tags</th>\n      <th>accessibility</th>\n      <th>ASL</th>\n    </tr>\n  </thead>\n  <tbody>\n    <tr>\n      <th>1</th>\n      <td>Friday Night Funkin'</td>\n      <td>ninjamuffin99</td>\n      <td>0</td>\n      <td>https://ninja-muffin24.itch.io/funkin</td>\n      <td>In development</td>\n      <td>Windows, macOS, Linux, HTML5</td>\n      <td>4.7</td>\n      <td>OpenFL, IndieCade, Haxe</td>\n      <td>2D</td>\n      <td>NaN</td>\n      <td>NaN</td>\n    </tr>\n    <tr>\n      <th>3</th>\n      <td>Butterfly Soup</td>\n      <td>Brianna Lei</td>\n      <td>0</td>\n      <td>https://brianna-lei.itch.io/butterfly-soup</td>\n      <td>Released</td>\n      <td>Windows, macOS, Linux</td>\n      <td>4.9</td>\n      <td>Ren'Py</td>\n      <td>2D, Anime, Female Protagonist, LGBT, Ren'Py, R...</td>\n      <td>NaN</td>\n      <td>NaN</td>\n    </tr>\n    <tr>\n      <th>4</th>\n      <td>A Short Hike</td>\n      <td>adamgryu</td>\n      <td>$5.19</td>\n      <td>https://adamgryu.itch.io/a-short-hike</td>\n      <td>Released</td>\n      <td>Windows, macOS, Linux</td>\n      <td>4.9</td>\n      <td>Unity</td>\n      <td>3D, Atmospheric, Cute, Funny, nature, Relaxing...</td>\n      <td>Subtitles, Configurable controls</td>\n      <td>NaN</td>\n    </tr>\n    <tr>\n      <th>5</th>\n      <td>Project Kat</td>\n      <td>Leef 6010</td>\n      <td>0</td>\n      <td>https://leef6010.itch.io/projectkat</td>\n      <td>Released</td>\n      <td>Windows, macOS, Linux</td>\n      <td>4.8</td>\n      <td>Paint Tool SAI, Godot, Aseprite</td>\n      <td>2D, Anime, Cute, Horror, Pixel Art, RPG Maker,...</td>\n      <td>Subtitles, Configurable controls, Interactive ...</td>\n      <td>NaN</td>\n    </tr>\n    <tr>\n      <th>6</th>\n      <td>Blooming Panic</td>\n      <td>robobarbie</td>\n      <td>0</td>\n      <td>https://robobarbie.itch.io/blooming-panic</td>\n      <td>Released</td>\n      <td>Windows, macOS</td>\n      <td>4.9</td>\n      <td>NaN</td>\n      <td>Comedy, Mystery, Otome, Ren'Py, Romance, Voice...</td>\n      <td>NaN</td>\n      <td>NaN</td>\n    </tr>\n    <tr>\n      <th>...</th>\n      <td>...</td>\n      <td>...</td>\n      <td>...</td>\n      <td>...</td>\n      <td>...</td>\n      <td>...</td>\n      <td>...</td>\n      <td>...</td>\n      <td>...</td>\n      <td>...</td>\n      <td>...</td>\n    </tr>\n    <tr>\n      <th>2615</th>\n      <td>Epitaph</td>\n      <td>Max Kreminski</td>\n      <td>0</td>\n      <td>https://mkremins.itch.io/epitaph</td>\n      <td>Released</td>\n      <td>HTML5</td>\n      <td>4.6</td>\n      <td>NaN</td>\n      <td>Aliens, fermijam, Procedural Generation, Text ...</td>\n      <td>NaN</td>\n      <td>NaN</td>\n    </tr>\n    <tr>\n      <th>2616</th>\n      <td>10mg :)</td>\n      <td>torcado</td>\n      <td>$3</td>\n      <td>https://torcado.itch.io/smile</td>\n      <td>Released</td>\n      <td>Windows, macOS, Linux</td>\n      <td>4.9</td>\n      <td>NaN</td>\n      <td>10mg, 10-minute-games, Cute, Minimalist, Short...</td>\n      <td>NaN</td>\n      <td>NaN</td>\n    </tr>\n    <tr>\n      <th>2617</th>\n      <td>VTM - Heartless Lullaby</td>\n      <td>Entalto Studios</td>\n      <td>0</td>\n      <td>https://entaltostudios.itch.io/vtm-heartless-l...</td>\n      <td>Released</td>\n      <td>Windows, macOS</td>\n      <td>4.9</td>\n      <td>Unity</td>\n      <td>Dark, Horror, Isometric, Meaningful Choices, M...</td>\n      <td>Subtitles</td>\n      <td>NaN</td>\n    </tr>\n    <tr>\n      <th>2618</th>\n      <td>everybody wants to be a tortle</td>\n      <td>onion</td>\n      <td>0</td>\n      <td>https://le-onionboi.itch.io/tortle</td>\n      <td>Released</td>\n      <td>HTML5</td>\n      <td>4.9</td>\n      <td>Bitsy</td>\n      <td>Bitsy, everyone-is-nonbinary, turtles</td>\n      <td>NaN</td>\n      <td>NaN</td>\n    </tr>\n    <tr>\n      <th>2619</th>\n      <td>what's your name?</td>\n      <td>jelli</td>\n      <td>0</td>\n      <td>https://sxilin.itch.io/namegame</td>\n      <td>Released</td>\n      <td>Windows, macOS, Linux</td>\n      <td>4.9</td>\n      <td>NaN</td>\n      <td>Furry, LGBT, Narrative</td>\n      <td>NaN</td>\n      <td>NaN</td>\n    </tr>\n  </tbody>\n</table>\n<p>2464 rows × 11 columns</p>\n</div>"
     },
     "execution_count": 110,
     "metadata": {},
     "output_type": "execute_result"
    }
   ],
   "source": [
    "#test1['price']=test1['price'].astype(float)\n",
    "test1['rating']=test1['rating'].astype(float)\n",
    "test1"
   ],
   "metadata": {
    "collapsed": false,
    "pycharm": {
     "name": "#%%\n"
    }
   }
  },
  {
   "cell_type": "code",
   "execution_count": 120,
   "outputs": [],
   "source": [
    "test1=test.fillna(value = {'price':'0'})\n",
    "test1['price'] = test1['price'].str.extract('(\\d+.\\d+)').astype(float)\n",
    "test1['rating']=test1['rating'].astype(float)\n",
    "#test1['price']=test1['price'].astype(float)"
   ],
   "metadata": {
    "collapsed": false,
    "pycharm": {
     "name": "#%%\n"
    }
   }
  },
  {
   "cell_type": "code",
   "execution_count": null,
   "outputs": [],
   "source": [
    "test1['price']=test1['price'].fillna(0)\n",
    "test1"
   ],
   "metadata": {
    "collapsed": false,
    "pycharm": {
     "name": "#%%\n"
    }
   }
  },
  {
   "cell_type": "code",
   "execution_count": null,
   "outputs": [],
   "source": [
    "#test1.status.unique()\n",
    "test2=test1.dropna(subset=['status'])\n",
    "test2"
   ],
   "metadata": {
    "collapsed": false,
    "pycharm": {
     "name": "#%%\n"
    }
   }
  },
  {
   "cell_type": "code",
   "execution_count": null,
   "outputs": [],
   "source": [
    "test2=test2.fillna(value = {'accessibility':'0'})\n",
    "#df[df != 0] = 1\n",
    "test2.accessibility[test2.accessibility != '0'] = 1\n",
    "test2"
   ],
   "metadata": {
    "collapsed": false,
    "pycharm": {
     "name": "#%%\n"
    }
   }
  },
  {
   "cell_type": "code",
   "execution_count": 131,
   "outputs": [
    {
     "data": {
      "text/plain": "array(['OpenFL, IndieCade, Haxe', \"Ren'Py\", 'Unity',\n       'Paint Tool SAI, Godot, Aseprite', nan, 'PixiJS',\n       'GameMaker: Studio', 'XNA, FNA, Aseprite',\n       'Adobe Photoshop, Unity', 'Twine', 'libGDX', 'Phaser', 'RPG Maker',\n       'Bitsy', \"Clip Studio Paint, LMMS, FL Studio, Ren'Py\",\n       \"Clip Studio Paint, Ren'Py\", 'Unity, Blender',\n       'Blender, Paint.net, Adobe Photoshop, Unity, Audacity',\n       'Adventure Game Studio', 'Unity, Paint Tool SAI',\n       \"Ren'Py, FL Studio, Clip Studio Paint\", 'Twine, Clip Studio Paint',\n       'FL Studio, Unity, Paint Tool SAI', 'Haxe', 'IndieCade', 'PICO-8',\n       \"Clip Studio Paint, Adobe Photoshop, Ren'Py\",\n       'Aseprite, GameMaker: Studio', 'Construct', 'Clickteam Fusion',\n       'Adobe Photoshop, Godot, Aseprite', 'Unreal Engine, Unity, Godot',\n       \"Adobe Photoshop, Ren'Py\",\n       'Blender, Adobe Photoshop, Unity, Adobe Illustrator',\n       'FL Studio, Unity, Audacity',\n       \"Clip Studio Paint, FL Studio, Audacity, Ren'Py\", 'Godot',\n       'Godot, Krita', 'Three.js, Blender',\n       'PICO-8, Aseprite, Sublime Text',\n       'RPG Maker, Clip Studio Paint, Paint Tool SAI, Aseprite',\n       'GameMaker: Studio, Adobe Photoshop, Audacity, ChipTone', 'Impact',\n       \"Clip Studio Paint, FL Studio, Paint Tool SAI, Ren'Py\",\n       'Unity, Audacity', 'Adobe Photoshop, RPG Maker', \"Krita, Ren'Py\",\n       'Unity, Aseprite', 'Adobe Photoshop, Adobe After Effects, Blender',\n       'Aseprite', \"Ren'Py, Clip Studio Paint, Audacity\",\n       'GIMP, Inkscape, Blender, Unity', 'Twine, Aseprite',\n       'Doodle Studio 95!, Unity, Paint Tool SAI, Maya',\n       'Unity, Audacity, GIMP', 'Bosca Ceoil, Unity',\n       'Haxe, Paint.net, PixiJS', 'RPG Maker, Clip Studio Paint',\n       'Unreal Engine, Substance Painter & designer, Blender',\n       'Adobe Photoshop', 'Allegro', 'SDL',\n       'Adobe Photoshop, Aseprite, PICO-8',\n       'Blender, Adobe Photoshop, Unity, Audacity',\n       \"Clip Studio Paint, Adobe Photoshop, Adobe Illustrator, Ren'Py\",\n       \"Paint Tool SAI, Ren'Py\", 'HTC Vive, Oculus Rift, SDL, Audacity',\n       'Unity, Paint Tool SAI, Adobe Illustrator, GIMP, Clip Studio Paint, Inkscape, Adobe Photoshop, Blender',\n       'Godot, Aseprite', 'Adobe Photoshop, Unity, Maya',\n       'Blender, Adobe Photoshop, Unreal Engine',\n       'MagicaVoxel, Unity, Blender',\n       'Adobe Photoshop, Unity, Clip Studio Paint',\n       'FL Studio, Unity, Aseprite', 'Tiled', 'OpenFL, FlashDevelop',\n       'libGDX, Adobe Photoshop', 'GIMP, FL Studio, Unity',\n       'Unreal Engine, Maya, Aseprite', 'Unity, Clip Studio Paint',\n       'Unreal Engine', 'LMMS, FL Studio, Paint Tool SAI, RPG Maker',\n       'TyranoBuilder', 'Bitsy, Twine', 'Aseprite, PICO-8',\n       'Pixelmator, Audacity, Godot', 'Unreal Engine, Audacity, Maya',\n       'Unity, Audacity, Aseprite', 'Adobe Photoshop, Unity, Blender',\n       \"GIMP, Ren'Py\", 'Adobe Photoshop, Unity, Audacity, Maya',\n       \"Paint Tool SAI, Adobe Photoshop, Ren'Py\",\n       'Unity, Audacity, Blender',\n       'libGDX, Lightweight Java Game Library', 'Tiled, Construct',\n       'Haxe, OpenFL', 'PICO-8, Adobe Photoshop', 'Unity, Maya, ZBrush',\n       'Blender, Adobe Photoshop, FL Studio, Adobe After Effects, Audacity, Adobe Illustrator, Unreal Engine',\n       \"Audacity, Adobe Photoshop, Ren'Py\", 'Sublime Text',\n       'GameMaker: Studio, Adobe Photoshop, FL Studio, Aseprite',\n       'Adobe Photoshop, Construct, Adobe Illustrator',\n       'Pyxel Edit, Bitsy', 'Adobe Photoshop, Piskel, GameMaker: Studio',\n       'Audacity, Aseprite, Haxe', 'Unity, Aseprite, Blender',\n       'Blender, Adobe Photoshop, Unity, Audacity, Adobe Illustrator',\n       'GIMP, Inkscape, Blender, Audacity, Godot',\n       'GIMP, Godot, Aseprite', 'Clip Studio Paint, Construct, Audacity',\n       'Clip Studio Paint, Godot',\n       'Adobe Photoshop, Unity, Maya, Adobe Illustrator',\n       'Blender, FL Studio, Godot, GIMP', 'GB Studio',\n       \"Clip Studio Paint, Adobe Photoshop, Paint Tool SAI, Ren'Py\",\n       'GIMP, Inkscape, Blender, Adobe Photoshop, Unity, Substance Painter & designer',\n       'Doodle Studio 95!, Adobe Photoshop, Unity, Maya',\n       'GIMP, RPG Maker', 'Aseprite, Construct',\n       'Adobe Photoshop, Substance Painter & designer, Maya, Unreal Engine',\n       'Bitsy, Audacity, Aseprite', 'OpenFL, Stencyl, Inkscape, LMMS',\n       'LÖVE', 'OpenFL', 'Construct, Audacity, Aseprite',\n       'GameMaker: Studio, Adobe Photoshop, Aseprite, Bfxr',\n       'FL Studio, Unity, Aseprite, Tiled',\n       'Blender, FL Studio, Unity, Aseprite', 'FL Studio, Unity, Blender',\n       'Blender, Krita, SDL, Audacity, Bullet (Physics Engine)',\n       'Blender, Adobe Photoshop, Substance Painter & designer, Unreal Engine',\n       'GB Studio, Aseprite, Tiled',\n       'Inkscape, Audacity, Godot, Aseprite, Sublime Text', 'Stencyl',\n       'SFML', 'Audacity, Godot, Aseprite', 'IndieCade, Unity',\n       'Krita, Audacity, Godot', 'Bitsy, Sublime Text',\n       'ChipTone, OpenFL, Stencyl, Inkscape, LMMS',\n       'Blender, Adobe Photoshop, Substance Painter & designer, Maya, Unreal Engine',\n       'Adobe Photoshop, Unity, Aseprite', 'Aseprite, GIMP, Construct',\n       'Aseprite, Tiled, PixiJS', 'OpenFL, Stencyl',\n       'Cinema 4D, SketchUp, Unreal Engine', 'FL Studio, Godot, Aseprite',\n       'Adobe Photoshop, Adobe After Effects, Unity, Adobe Illustrator',\n       'Paint.net, FL Studio, SDL', 'FL Studio',\n       'Paint.net, FL Studio, Unity, Audacity', 'Rust', 'FNA',\n       'Aseprite, Bitsy',\n       'Clip Studio Paint, Blender, Adobe Photoshop, Audacity',\n       'FL Studio, Aseprite, GameMaker: Studio', 'FL Studio, Unity',\n       \"Aseprite, Ren'Py\", 'RPG Maker, Clip Studio Paint, FL Studio',\n       'Adobe Photoshop, Unity, Audacity, 3ds Max',\n       'FL Studio, Clip Studio Paint, Godot',\n       'Paint Tool SAI, Audacity, Aseprite, RPG Maker',\n       'Aseprite, MonoGame', \"Ren'Py, Clip Studio Paint, Paint Tool SAI\",\n       'Adobe Photoshop, Unity, Audacity',\n       'Blender, SketchUp, Adobe Photoshop, Unity',\n       'Blender, Adobe Photoshop, FL Studio, Unity, Audacity',\n       'Blender, Adobe Photoshop, Three.js, Adobe Illustrator',\n       'Inkscape, Adobe Photoshop, Adobe After Effects, Substance Painter & designer, Maya, 3ds Max, Blender, FL Studio, Unity, Audacity, Adobe Illustrator, GIMP',\n       \"Krita, LMMS, GIMP, Ren'Py\", 'Paint.net, Unity',\n       'Clip Studio Paint, GameMaker: Studio, Adobe Photoshop, FL Studio',\n       'Blender, Paint.net, FL Studio, Unity, Audacity, GIMP',\n       'Godot, Pyxel Edit, Bfxr', 'MonoGame', 'Krita, FL Studio, Unity',\n       'Blender, Adobe Photoshop, Unity, Aseprite',\n       'LMMS, Adobe Photoshop, FL Studio, Godot',\n       'Audacity, Godot, Blender',\n       'Adobe Photoshop, FL Studio, Unity, Aseprite',\n       'Unity, Doodle Studio 95!',\n       'Adobe Photoshop, Adobe Illustrator, Twine',\n       'Adobe Photoshop, Aseprite, GameMaker: Studio',\n       \"IndieCade, Ren'Py\", 'OpenFL, FlashDevelop, Haxe, Adobe Photoshop',\n       'Audacity, Aseprite, libGDX, Bfxr', 'Blender, Krita, Unity, GIMP',\n       'p5.js',\n       'GameMaker: Studio, Paint.net, Adobe Photoshop, Audacity, Aseprite, GIMP',\n       'Adobe After Effects, Unity, Blender', 'Audacity, Krita',\n       'GIMP, Godot, Blender', \"Pyxel Edit, Ren'Py\",\n       'GameMaker: Studio, Adobe Photoshop',\n       'Blender, Paint.net, FL Studio, Unity, Audacity',\n       \"Adobe Photoshop, Paint Tool SAI, Audacity, Ren'Py\",\n       'PixiJS, Clip Studio Paint, Aseprite',\n       'Audacity, Aseprite, MonoGame',\n       'Audacity, Aseprite, GameMaker: Studio',\n       'Substance Painter & designer, Maya, ZBrush, Unreal Engine',\n       'Logic Pro, GameMaker: Studio', 'Unity, Cinema 4D', 'Blender',\n       'HTC Vive, Oculus Rift, Unity',\n       'Adobe Photoshop, RPG Maker, Audacity',\n       'PixiJS, RPG Maker, Audacity', 'Audacity, Godot, Pyxel Edit',\n       'Paint.net',\n       'Blender, Audacity, Substance Painter & designer, GIMP, Unreal Engine',\n       'Paint.net, Unity, Audacity', 'Godot, Blender', 'GDevelop, PixiJS',\n       'GIMP, Unity, Blender',\n       'FL Studio, Paint Tool SAI, Audacity, Logic Pro, Aseprite, Adobe Illustrator, GIMP, Piskel, GameMaker: Studio, Paint.net, Adobe Photoshop, Adobe After Effects',\n       'Adobe Photoshop, Unity, Substance Painter & designer, Maya',\n       'Blender, Unity, Audacity, Aseprite',\n       'Adobe Illustrator, Adobe Photoshop, Unity',\n       'FL Studio, Paint Tool SAI, Godot',\n       'Blender, Unity, Aseprite, GIMP',\n       'Blender, Audacity, GIMP, Unreal Engine', 'Blender, Tiled, GIMP',\n       'Adobe Photoshop, Adobe After Effects, Unity',\n       'Clip Studio Paint, Aseprite, GameMaker: Studio',\n       'Audacity, Aseprite', 'PuzzleScript', '3ds Max, Unity, Blender',\n       'Paint.net, Unity, Audacity, Aseprite, GIMP', 'Krita, Unity',\n       'Adobe Illustrator',\n       'Blender, Krita, Adobe Photoshop, Unity, Substance Painter & designer',\n       'Blender, Paint.net, Unity, Audacity',\n       'Aseprite, GameMaker: Studio, Bfxr',\n       'Unity, Clip Studio Paint, Aseprite',\n       \"Logic Pro, Adobe Photoshop, Ren'Py\",\n       'Adobe Photoshop, Unity, Maya, 3ds Max', 'Unity, Maya',\n       'GameMaker: Studio, Adobe Illustrator',\n       'Phaser, Clip Studio Paint', 'Paint.net, Construct',\n       'Audacity, Unreal Engine', 'GameMaker: Studio, GIMP', 'Flickgame',\n       'Defold', 'Krita, Twine, Audacity', 'GDevelop, PixiJS, GIMP',\n       'OGRE', 'IndieCade, Twine', 'Pyxel Edit, SDL, Audacity, GIMP'],\n      dtype=object)"
     },
     "execution_count": 131,
     "metadata": {},
     "output_type": "execute_result"
    }
   ],
   "source": [],
   "metadata": {
    "collapsed": false,
    "pycharm": {
     "name": "#%%\n"
    }
   }
  }
 ],
 "metadata": {
  "kernelspec": {
   "display_name": "Python 3",
   "language": "python",
   "name": "python3"
  },
  "language_info": {
   "codemirror_mode": {
    "name": "ipython",
    "version": 2
   },
   "file_extension": ".py",
   "mimetype": "text/x-python",
   "name": "python",
   "nbconvert_exporter": "python",
   "pygments_lexer": "ipython2",
   "version": "2.7.6"
  }
 },
 "nbformat": 4,
 "nbformat_minor": 0
}