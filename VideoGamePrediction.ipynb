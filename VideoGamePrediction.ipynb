{
 "cells": [
  {
   "cell_type": "markdown",
   "source": [
    "Data Handling"
   ],
   "metadata": {
    "collapsed": false,
    "pycharm": {
     "name": "#%% md\n"
    }
   }
  },
  {
   "cell_type": "code",
   "execution_count": 3,
   "outputs": [],
   "source": [
    "import matplotlib.pyplot as plt\n",
    "import numpy as np\n",
    "import matplotlib.pyplot as plt\n",
    "from matplotlib import patches\n",
    "import warnings;\n",
    "import csv\n",
    "import pandas as pd\n",
    "warnings.simplefilter('ignore')"
   ],
   "metadata": {
    "collapsed": false,
    "pycharm": {
     "name": "#%%import pandas as pd\n"
    }
   }
  },
  {
   "cell_type": "markdown",
   "source": [
    "Open Crawled Data csv file"
   ],
   "metadata": {
    "collapsed": false,
    "pycharm": {
     "name": "#%% md\n"
    }
   }
  },
  {
   "cell_type": "code",
   "execution_count": 10,
   "outputs": [
    {
     "data": {
      "text/plain": "                      title           author price  \\\n0                  HoloCure           Kay Yu   NaN   \n1               mirror mine             alli   NaN   \n2         Addled (Playdate)  playdateStephen    $2   \n3            Trees in Space     HildeVandela   NaN   \n4              Oopi's Quest           Kenney   NaN   \n...                     ...              ...   ...   \n1087      Basic Cube Runner      goonsgaming   NaN   \n1088          Emoji Defense         TeamUBER   NaN   \n1089                    فكر       Cube Games   NaN   \n1090  Slime Flying The Game   Bang GameCraft   NaN   \n1091             EM Returns            ukibs   NaN   \n\n                                                    url          status  \\\n0                       https://kay-yu.itch.io/holocure  In development   \n1                 https://allialden.itch.io/mirror-mine  In development   \n2       https://playdatestephen.itch.io/addled-playdate  In development   \n3             https://hildevandela.itch.io/treesinspace       Prototype   \n4                    https://kenney.itch.io/oopis-quest        Released   \n...                                                 ...             ...   \n1087      https://goonsgaming.itch.io/basic-cube-runner       Prototype   \n1088             https://teamuber.itch.io/emoji-defense       Prototype   \n1089                  https://cube-gamesv.itch.io/fakar        Released   \n1090  https://bang-gamecraft.itch.io/slime-flying-th...  In development   \n1091                   https://ukibs.itch.io/em-returns       Prototype   \n\n      platform  rating          made_with  \\\n0          NaN     5.0  GameMaker: Studio   \n1          NaN     4.9                NaN   \n2          NaN     NaN                NaN   \n3          NaN     3.8                NaN   \n4          NaN     4.5                NaN   \n...        ...     ...                ...   \n1087       NaN     NaN                NaN   \n1088       NaN     NaN                NaN   \n1089       NaN     5.0                NaN   \n1090       NaN     NaN                NaN   \n1091       NaN     NaN                NaN   \n\n                                                   tags accessibility  ASL  \n0     Fangame, hololive, Pixel Art, Roguelite, Singl...           NaN  NaN  \n1                                                   NaN           NaN  NaN  \n2     Black and White, Pixel Art, Playdate, puzznic,...           NaN  NaN  \n3                             Idle, Incremental, Sci-fi           NaN  NaN  \n4     NES (Nintendo Entertainment System), NES ROM, ...           NaN  NaN  \n...                                                 ...           ...  ...  \n1087  alpha, Casual, cube, Endless Runner, Singleplayer           NaN  NaN  \n1088       Endless, Third-Person Shooter, Unreal Engine           NaN  NaN  \n1089                                                NaN           NaN  NaN  \n1090  2D, Anime, Cute, Mouse only, Pixel Art, Single...           NaN  NaN  \n1091                                   gamepad, Physics           NaN  NaN  \n\n[1092 rows x 11 columns]",
      "text/html": "<div>\n<style scoped>\n    .dataframe tbody tr th:only-of-type {\n        vertical-align: middle;\n    }\n\n    .dataframe tbody tr th {\n        vertical-align: top;\n    }\n\n    .dataframe thead th {\n        text-align: right;\n    }\n</style>\n<table border=\"1\" class=\"dataframe\">\n  <thead>\n    <tr style=\"text-align: right;\">\n      <th></th>\n      <th>title</th>\n      <th>author</th>\n      <th>price</th>\n      <th>url</th>\n      <th>status</th>\n      <th>platform</th>\n      <th>rating</th>\n      <th>made_with</th>\n      <th>tags</th>\n      <th>accessibility</th>\n      <th>ASL</th>\n    </tr>\n  </thead>\n  <tbody>\n    <tr>\n      <th>0</th>\n      <td>HoloCure</td>\n      <td>Kay Yu</td>\n      <td>NaN</td>\n      <td>https://kay-yu.itch.io/holocure</td>\n      <td>In development</td>\n      <td>NaN</td>\n      <td>5.0</td>\n      <td>GameMaker: Studio</td>\n      <td>Fangame, hololive, Pixel Art, Roguelite, Singl...</td>\n      <td>NaN</td>\n      <td>NaN</td>\n    </tr>\n    <tr>\n      <th>1</th>\n      <td>mirror mine</td>\n      <td>alli</td>\n      <td>NaN</td>\n      <td>https://allialden.itch.io/mirror-mine</td>\n      <td>In development</td>\n      <td>NaN</td>\n      <td>4.9</td>\n      <td>NaN</td>\n      <td>NaN</td>\n      <td>NaN</td>\n      <td>NaN</td>\n    </tr>\n    <tr>\n      <th>2</th>\n      <td>Addled (Playdate)</td>\n      <td>playdateStephen</td>\n      <td>$2</td>\n      <td>https://playdatestephen.itch.io/addled-playdate</td>\n      <td>In development</td>\n      <td>NaN</td>\n      <td>NaN</td>\n      <td>NaN</td>\n      <td>Black and White, Pixel Art, Playdate, puzznic,...</td>\n      <td>NaN</td>\n      <td>NaN</td>\n    </tr>\n    <tr>\n      <th>3</th>\n      <td>Trees in Space</td>\n      <td>HildeVandela</td>\n      <td>NaN</td>\n      <td>https://hildevandela.itch.io/treesinspace</td>\n      <td>Prototype</td>\n      <td>NaN</td>\n      <td>3.8</td>\n      <td>NaN</td>\n      <td>Idle, Incremental, Sci-fi</td>\n      <td>NaN</td>\n      <td>NaN</td>\n    </tr>\n    <tr>\n      <th>4</th>\n      <td>Oopi's Quest</td>\n      <td>Kenney</td>\n      <td>NaN</td>\n      <td>https://kenney.itch.io/oopis-quest</td>\n      <td>Released</td>\n      <td>NaN</td>\n      <td>4.5</td>\n      <td>NaN</td>\n      <td>NES (Nintendo Entertainment System), NES ROM, ...</td>\n      <td>NaN</td>\n      <td>NaN</td>\n    </tr>\n    <tr>\n      <th>...</th>\n      <td>...</td>\n      <td>...</td>\n      <td>...</td>\n      <td>...</td>\n      <td>...</td>\n      <td>...</td>\n      <td>...</td>\n      <td>...</td>\n      <td>...</td>\n      <td>...</td>\n      <td>...</td>\n    </tr>\n    <tr>\n      <th>1087</th>\n      <td>Basic Cube Runner</td>\n      <td>goonsgaming</td>\n      <td>NaN</td>\n      <td>https://goonsgaming.itch.io/basic-cube-runner</td>\n      <td>Prototype</td>\n      <td>NaN</td>\n      <td>NaN</td>\n      <td>NaN</td>\n      <td>alpha, Casual, cube, Endless Runner, Singleplayer</td>\n      <td>NaN</td>\n      <td>NaN</td>\n    </tr>\n    <tr>\n      <th>1088</th>\n      <td>Emoji Defense</td>\n      <td>TeamUBER</td>\n      <td>NaN</td>\n      <td>https://teamuber.itch.io/emoji-defense</td>\n      <td>Prototype</td>\n      <td>NaN</td>\n      <td>NaN</td>\n      <td>NaN</td>\n      <td>Endless, Third-Person Shooter, Unreal Engine</td>\n      <td>NaN</td>\n      <td>NaN</td>\n    </tr>\n    <tr>\n      <th>1089</th>\n      <td>فكر</td>\n      <td>Cube Games</td>\n      <td>NaN</td>\n      <td>https://cube-gamesv.itch.io/fakar</td>\n      <td>Released</td>\n      <td>NaN</td>\n      <td>5.0</td>\n      <td>NaN</td>\n      <td>NaN</td>\n      <td>NaN</td>\n      <td>NaN</td>\n    </tr>\n    <tr>\n      <th>1090</th>\n      <td>Slime Flying The Game</td>\n      <td>Bang GameCraft</td>\n      <td>NaN</td>\n      <td>https://bang-gamecraft.itch.io/slime-flying-th...</td>\n      <td>In development</td>\n      <td>NaN</td>\n      <td>NaN</td>\n      <td>NaN</td>\n      <td>2D, Anime, Cute, Mouse only, Pixel Art, Single...</td>\n      <td>NaN</td>\n      <td>NaN</td>\n    </tr>\n    <tr>\n      <th>1091</th>\n      <td>EM Returns</td>\n      <td>ukibs</td>\n      <td>NaN</td>\n      <td>https://ukibs.itch.io/em-returns</td>\n      <td>Prototype</td>\n      <td>NaN</td>\n      <td>NaN</td>\n      <td>NaN</td>\n      <td>gamepad, Physics</td>\n      <td>NaN</td>\n      <td>NaN</td>\n    </tr>\n  </tbody>\n</table>\n<p>1092 rows × 11 columns</p>\n</div>"
     },
     "execution_count": 10,
     "metadata": {},
     "output_type": "execute_result"
    }
   ],
   "source": [
    "df = pd.read_csv(\"D:/study/VideoGamesPred/DataScience/Unhandled_data.csv \",error_bad_lines=False,sep='\\t')\n",
    "#data = pd.read_csv(\"file1.csv\", error_bad_lines=False)\n",
    "df"
   ],
   "metadata": {
    "collapsed": false,
    "pycharm": {
     "name": "#%%\n"
    }
   }
  },
  {
   "cell_type": "code",
   "execution_count": 11,
   "outputs": [
    {
     "data": {
      "text/plain": "array([nan])"
     },
     "execution_count": 11,
     "metadata": {},
     "output_type": "execute_result"
    }
   ],
   "source": [
    "platforms = df['platform'].unique()\n",
    "platforms"
   ],
   "metadata": {
    "collapsed": false,
    "pycharm": {
     "name": "#%%\n"
    }
   }
  }
 ],
 "metadata": {
  "kernelspec": {
   "display_name": "Python 3",
   "language": "python",
   "name": "python3"
  },
  "language_info": {
   "codemirror_mode": {
    "name": "ipython",
    "version": 2
   },
   "file_extension": ".py",
   "mimetype": "text/x-python",
   "name": "python",
   "nbconvert_exporter": "python",
   "pygments_lexer": "ipython2",
   "version": "2.7.6"
  }
 },
 "nbformat": 4,
 "nbformat_minor": 0
}