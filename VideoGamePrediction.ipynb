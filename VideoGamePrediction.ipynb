{
 "cells": [
  {
   "cell_type": "markdown",
   "source": [
    "Data Handling"
   ],
   "metadata": {
    "collapsed": false,
    "pycharm": {
     "name": "#%% md\n"
    }
   }
  },
  {
   "cell_type": "code",
   "execution_count": 1,
   "outputs": [],
   "source": [
    "import pandas as pd"
   ],
   "metadata": {
    "collapsed": false,
    "pycharm": {
     "name": "#%%import pandas as pd\n"
    }
   }
  },
  {
   "cell_type": "markdown",
   "source": [
    "Open Crawled Data csv file"
   ],
   "metadata": {
    "collapsed": false,
    "pycharm": {
     "name": "#%% md\n"
    }
   }
  },
  {
   "cell_type": "code",
   "execution_count": 2,
   "outputs": [
    {
     "data": {
      "text/plain": "      level_0                                          title  \\\n0           0                              Showdown (Mega65)   \n1           1                                Drop Dimensions   \n2           2                                 Logica Emotica   \n3           3                                       DinoLife   \n4           4                            Sanevol Incident 44   \n...       ...                                            ...   \n7475     5675                                          Stay?   \n7476     5676                                   Arc Symphony   \n7477     5677  Sounds of Her Love ~We'll always be together~   \n7478     5678                                 I'm Still Here   \n7479     5679                                   Cohabitation   \n\n                  author  price  \\\n0      Badgerpunch Games     $5   \n1       HeavenlySoftware     $1   \n2              bartbonte  $2.99   \n3          Swofski Games     $4   \n4          AzaGameStudio  $2.99   \n...                  ...    ...   \n7475          ejadelomax    NaN   \n7476  Aether Interactive  $2.99   \n7477             ds-sans    NaN   \n7478      Cozy Game Pals    NaN   \n7479       AlgebraFalcon    NaN   \n\n                                                    url          status  \\\n0           https://badgerpunch.itch.io/showdown-mega65  In development   \n1      https://heavenlysoftware.itch.io/drop-dimensions        Released   \n2              https://bartbonte.itch.io/logica-emotica        Released   \n3                 https://swofskigames.itch.io/dinolife             NaN   \n4     https://azagamestudio.itch.io/sanevol-incident-44        Released   \n...                                                 ...             ...   \n7475                    https://ejadelomax.itch.io/stay        Released   \n7476     https://aetherinteractive.itch.io/arc-symphony        Released   \n7477       https://ds-sans.itch.io/soundsofherlove-wabt        Released   \n7478         https://cozygamepals.itch.io/im-still-here        Released   \n7479         https://algebrafalcon.itch.io/cohabitation        Released   \n\n                   platform  rating  made_with  \\\n0                       NaN     NaN        NaN   \n1     Windows, macOS, Linux     NaN   MonoGame   \n2                   Windows     4.0        NaN   \n3                       NaN     NaN        NaN   \n4                   Windows     5.0        NaN   \n...                     ...     ...        ...   \n7475                  HTML5     4.9        NaN   \n7476  Windows, macOS, Linux     4.5      Twine   \n7477  Windows, macOS, Linux     4.4     Ren'Py   \n7478  Windows, macOS, Linux     4.3        NaN   \n7479  Windows, macOS, HTML5     4.8  RPG Maker   \n\n                                                   tags         accessibility  \\\n0        8-Bit, Local multiplayer, mega65, Singleplayer                   NaN   \n1           Arcade, Characters, Endless, Endless Runner  Interactive tutorial   \n2       2D, Casual, emoji, Funny, Singleplayer, Sokoban                   NaN   \n3                                                   NaN                   NaN   \n4     3D, Atmospheric, First-Person, Horror, Multipl...                   NaN   \n...                                                 ...                   ...   \n7475                                   Fantasy, LGBTQIA                   NaN   \n7476                                  Story Rich, Twine                   NaN   \n7477                        Anime, Cute, drama, Romance                   NaN   \n7478  3D, Atmospheric, Casual, Cute, Dark, Horror, R...                   NaN   \n7479  2D, Creepy, Dating Sim, Horror, Psychological ...                   NaN   \n\n      ASL   index  \n0     NaN     NaN  \n1     NaN     NaN  \n2     NaN     NaN  \n3     NaN     NaN  \n4     NaN     NaN  \n...   ...     ...  \n7475  NaN  1949.0  \n7476  NaN  1950.0  \n7477  NaN  1951.0  \n7478  NaN  1952.0  \n7479  NaN  1953.0  \n\n[7480 rows x 13 columns]",
      "text/html": "<div>\n<style scoped>\n    .dataframe tbody tr th:only-of-type {\n        vertical-align: middle;\n    }\n\n    .dataframe tbody tr th {\n        vertical-align: top;\n    }\n\n    .dataframe thead th {\n        text-align: right;\n    }\n</style>\n<table border=\"1\" class=\"dataframe\">\n  <thead>\n    <tr style=\"text-align: right;\">\n      <th></th>\n      <th>level_0</th>\n      <th>title</th>\n      <th>author</th>\n      <th>price</th>\n      <th>url</th>\n      <th>status</th>\n      <th>platform</th>\n      <th>rating</th>\n      <th>made_with</th>\n      <th>tags</th>\n      <th>accessibility</th>\n      <th>ASL</th>\n      <th>index</th>\n    </tr>\n  </thead>\n  <tbody>\n    <tr>\n      <th>0</th>\n      <td>0</td>\n      <td>Showdown (Mega65)</td>\n      <td>Badgerpunch Games</td>\n      <td>$5</td>\n      <td>https://badgerpunch.itch.io/showdown-mega65</td>\n      <td>In development</td>\n      <td>NaN</td>\n      <td>NaN</td>\n      <td>NaN</td>\n      <td>8-Bit, Local multiplayer, mega65, Singleplayer</td>\n      <td>NaN</td>\n      <td>NaN</td>\n      <td>NaN</td>\n    </tr>\n    <tr>\n      <th>1</th>\n      <td>1</td>\n      <td>Drop Dimensions</td>\n      <td>HeavenlySoftware</td>\n      <td>$1</td>\n      <td>https://heavenlysoftware.itch.io/drop-dimensions</td>\n      <td>Released</td>\n      <td>Windows, macOS, Linux</td>\n      <td>NaN</td>\n      <td>MonoGame</td>\n      <td>Arcade, Characters, Endless, Endless Runner</td>\n      <td>Interactive tutorial</td>\n      <td>NaN</td>\n      <td>NaN</td>\n    </tr>\n    <tr>\n      <th>2</th>\n      <td>2</td>\n      <td>Logica Emotica</td>\n      <td>bartbonte</td>\n      <td>$2.99</td>\n      <td>https://bartbonte.itch.io/logica-emotica</td>\n      <td>Released</td>\n      <td>Windows</td>\n      <td>4.0</td>\n      <td>NaN</td>\n      <td>2D, Casual, emoji, Funny, Singleplayer, Sokoban</td>\n      <td>NaN</td>\n      <td>NaN</td>\n      <td>NaN</td>\n    </tr>\n    <tr>\n      <th>3</th>\n      <td>3</td>\n      <td>DinoLife</td>\n      <td>Swofski Games</td>\n      <td>$4</td>\n      <td>https://swofskigames.itch.io/dinolife</td>\n      <td>NaN</td>\n      <td>NaN</td>\n      <td>NaN</td>\n      <td>NaN</td>\n      <td>NaN</td>\n      <td>NaN</td>\n      <td>NaN</td>\n      <td>NaN</td>\n    </tr>\n    <tr>\n      <th>4</th>\n      <td>4</td>\n      <td>Sanevol Incident 44</td>\n      <td>AzaGameStudio</td>\n      <td>$2.99</td>\n      <td>https://azagamestudio.itch.io/sanevol-incident-44</td>\n      <td>Released</td>\n      <td>Windows</td>\n      <td>5.0</td>\n      <td>NaN</td>\n      <td>3D, Atmospheric, First-Person, Horror, Multipl...</td>\n      <td>NaN</td>\n      <td>NaN</td>\n      <td>NaN</td>\n    </tr>\n    <tr>\n      <th>...</th>\n      <td>...</td>\n      <td>...</td>\n      <td>...</td>\n      <td>...</td>\n      <td>...</td>\n      <td>...</td>\n      <td>...</td>\n      <td>...</td>\n      <td>...</td>\n      <td>...</td>\n      <td>...</td>\n      <td>...</td>\n      <td>...</td>\n    </tr>\n    <tr>\n      <th>7475</th>\n      <td>5675</td>\n      <td>Stay?</td>\n      <td>ejadelomax</td>\n      <td>NaN</td>\n      <td>https://ejadelomax.itch.io/stay</td>\n      <td>Released</td>\n      <td>HTML5</td>\n      <td>4.9</td>\n      <td>NaN</td>\n      <td>Fantasy, LGBTQIA</td>\n      <td>NaN</td>\n      <td>NaN</td>\n      <td>1949.0</td>\n    </tr>\n    <tr>\n      <th>7476</th>\n      <td>5676</td>\n      <td>Arc Symphony</td>\n      <td>Aether Interactive</td>\n      <td>$2.99</td>\n      <td>https://aetherinteractive.itch.io/arc-symphony</td>\n      <td>Released</td>\n      <td>Windows, macOS, Linux</td>\n      <td>4.5</td>\n      <td>Twine</td>\n      <td>Story Rich, Twine</td>\n      <td>NaN</td>\n      <td>NaN</td>\n      <td>1950.0</td>\n    </tr>\n    <tr>\n      <th>7477</th>\n      <td>5677</td>\n      <td>Sounds of Her Love ~We'll always be together~</td>\n      <td>ds-sans</td>\n      <td>NaN</td>\n      <td>https://ds-sans.itch.io/soundsofherlove-wabt</td>\n      <td>Released</td>\n      <td>Windows, macOS, Linux</td>\n      <td>4.4</td>\n      <td>Ren'Py</td>\n      <td>Anime, Cute, drama, Romance</td>\n      <td>NaN</td>\n      <td>NaN</td>\n      <td>1951.0</td>\n    </tr>\n    <tr>\n      <th>7478</th>\n      <td>5678</td>\n      <td>I'm Still Here</td>\n      <td>Cozy Game Pals</td>\n      <td>NaN</td>\n      <td>https://cozygamepals.itch.io/im-still-here</td>\n      <td>Released</td>\n      <td>Windows, macOS, Linux</td>\n      <td>4.3</td>\n      <td>NaN</td>\n      <td>3D, Atmospheric, Casual, Cute, Dark, Horror, R...</td>\n      <td>NaN</td>\n      <td>NaN</td>\n      <td>1952.0</td>\n    </tr>\n    <tr>\n      <th>7479</th>\n      <td>5679</td>\n      <td>Cohabitation</td>\n      <td>AlgebraFalcon</td>\n      <td>NaN</td>\n      <td>https://algebrafalcon.itch.io/cohabitation</td>\n      <td>Released</td>\n      <td>Windows, macOS, HTML5</td>\n      <td>4.8</td>\n      <td>RPG Maker</td>\n      <td>2D, Creepy, Dating Sim, Horror, Psychological ...</td>\n      <td>NaN</td>\n      <td>NaN</td>\n      <td>1953.0</td>\n    </tr>\n  </tbody>\n</table>\n<p>7480 rows × 13 columns</p>\n</div>"
     },
     "execution_count": 2,
     "metadata": {},
     "output_type": "execute_result"
    }
   ],
   "source": [
    "df = pd.read_csv(\"game_data_final.tsv \", sep='\\t')\n",
    "#data = pd.read_csv(\"file1.csv\", error_bad_lines=False)\n",
    "df"
   ],
   "metadata": {
    "collapsed": false,
    "pycharm": {
     "name": "#%%\n"
    }
   }
  },
  {
   "cell_type": "markdown",
   "source": [],
   "metadata": {
    "collapsed": false,
    "pycharm": {
     "name": "#%% md\n"
    }
   }
  },
  {
   "cell_type": "code",
   "execution_count": 3,
   "outputs": [],
   "source": [
    "df1 = df\n",
    "df1=df1.drop(['level_0'],axis=1)\n"
   ],
   "metadata": {
    "collapsed": false,
    "pycharm": {
     "name": "#%%\n"
    }
   }
  },
  {
   "cell_type": "markdown",
   "source": [
    "Data preparation"
   ],
   "metadata": {
    "collapsed": false,
    "pycharm": {
     "name": "#%% md\n"
    }
   }
  },
  {
   "cell_type": "code",
   "execution_count": 4,
   "outputs": [
    {
     "data": {
      "text/plain": "                                              title              author  \\\n0                                 Showdown (Mega65)   Badgerpunch Games   \n1                                   Drop Dimensions    HeavenlySoftware   \n2                                    Logica Emotica           bartbonte   \n3                                          DinoLife       Swofski Games   \n4                               Sanevol Incident 44       AzaGameStudio   \n...                                             ...                 ...   \n7475                                          Stay?          ejadelomax   \n7476                                   Arc Symphony  Aether Interactive   \n7477  Sounds of Her Love ~We'll always be together~             ds-sans   \n7478                                 I'm Still Here      Cozy Game Pals   \n7479                                   Cohabitation       AlgebraFalcon   \n\n      price                                                url  status  \\\n0        $5        https://badgerpunch.itch.io/showdown-mega65     1.0   \n1        $1   https://heavenlysoftware.itch.io/drop-dimensions     2.0   \n2     $2.99           https://bartbonte.itch.io/logica-emotica     2.0   \n3        $4              https://swofskigames.itch.io/dinolife     NaN   \n4     $2.99  https://azagamestudio.itch.io/sanevol-incident-44     2.0   \n...     ...                                                ...     ...   \n7475    0.0                    https://ejadelomax.itch.io/stay     2.0   \n7476  $2.99     https://aetherinteractive.itch.io/arc-symphony     2.0   \n7477    0.0       https://ds-sans.itch.io/soundsofherlove-wabt     2.0   \n7478    0.0         https://cozygamepals.itch.io/im-still-here     2.0   \n7479    0.0         https://algebrafalcon.itch.io/cohabitation     2.0   \n\n                   platform  rating  made_with  \\\n0                       NaN     NaN        NaN   \n1     Windows, macOS, Linux     NaN   MonoGame   \n2                   Windows     4.0        NaN   \n3                       NaN     NaN        NaN   \n4                   Windows     5.0        NaN   \n...                     ...     ...        ...   \n7475                  HTML5     4.9        NaN   \n7476  Windows, macOS, Linux     4.5      Twine   \n7477  Windows, macOS, Linux     4.4     Ren'Py   \n7478  Windows, macOS, Linux     4.3        NaN   \n7479  Windows, macOS, HTML5     4.8  RPG Maker   \n\n                                                   tags         accessibility  \\\n0        8-Bit, Local multiplayer, mega65, Singleplayer                   NaN   \n1           Arcade, Characters, Endless, Endless Runner  Interactive tutorial   \n2       2D, Casual, emoji, Funny, Singleplayer, Sokoban                   NaN   \n3                                                   NaN                   NaN   \n4     3D, Atmospheric, First-Person, Horror, Multipl...                   NaN   \n...                                                 ...                   ...   \n7475                                   Fantasy, LGBTQIA                   NaN   \n7476                                  Story Rich, Twine                   NaN   \n7477                        Anime, Cute, drama, Romance                   NaN   \n7478  3D, Atmospheric, Casual, Cute, Dark, Horror, R...                   NaN   \n7479  2D, Creepy, Dating Sim, Horror, Psychological ...                   NaN   \n\n      ASL   index  \n0     NaN     NaN  \n1     NaN     NaN  \n2     NaN     NaN  \n3     NaN     NaN  \n4     NaN     NaN  \n...   ...     ...  \n7475  NaN  1949.0  \n7476  NaN  1950.0  \n7477  NaN  1951.0  \n7478  NaN  1952.0  \n7479  NaN  1953.0  \n\n[7480 rows x 12 columns]",
      "text/html": "<div>\n<style scoped>\n    .dataframe tbody tr th:only-of-type {\n        vertical-align: middle;\n    }\n\n    .dataframe tbody tr th {\n        vertical-align: top;\n    }\n\n    .dataframe thead th {\n        text-align: right;\n    }\n</style>\n<table border=\"1\" class=\"dataframe\">\n  <thead>\n    <tr style=\"text-align: right;\">\n      <th></th>\n      <th>title</th>\n      <th>author</th>\n      <th>price</th>\n      <th>url</th>\n      <th>status</th>\n      <th>platform</th>\n      <th>rating</th>\n      <th>made_with</th>\n      <th>tags</th>\n      <th>accessibility</th>\n      <th>ASL</th>\n      <th>index</th>\n    </tr>\n  </thead>\n  <tbody>\n    <tr>\n      <th>0</th>\n      <td>Showdown (Mega65)</td>\n      <td>Badgerpunch Games</td>\n      <td>$5</td>\n      <td>https://badgerpunch.itch.io/showdown-mega65</td>\n      <td>1.0</td>\n      <td>NaN</td>\n      <td>NaN</td>\n      <td>NaN</td>\n      <td>8-Bit, Local multiplayer, mega65, Singleplayer</td>\n      <td>NaN</td>\n      <td>NaN</td>\n      <td>NaN</td>\n    </tr>\n    <tr>\n      <th>1</th>\n      <td>Drop Dimensions</td>\n      <td>HeavenlySoftware</td>\n      <td>$1</td>\n      <td>https://heavenlysoftware.itch.io/drop-dimensions</td>\n      <td>2.0</td>\n      <td>Windows, macOS, Linux</td>\n      <td>NaN</td>\n      <td>MonoGame</td>\n      <td>Arcade, Characters, Endless, Endless Runner</td>\n      <td>Interactive tutorial</td>\n      <td>NaN</td>\n      <td>NaN</td>\n    </tr>\n    <tr>\n      <th>2</th>\n      <td>Logica Emotica</td>\n      <td>bartbonte</td>\n      <td>$2.99</td>\n      <td>https://bartbonte.itch.io/logica-emotica</td>\n      <td>2.0</td>\n      <td>Windows</td>\n      <td>4.0</td>\n      <td>NaN</td>\n      <td>2D, Casual, emoji, Funny, Singleplayer, Sokoban</td>\n      <td>NaN</td>\n      <td>NaN</td>\n      <td>NaN</td>\n    </tr>\n    <tr>\n      <th>3</th>\n      <td>DinoLife</td>\n      <td>Swofski Games</td>\n      <td>$4</td>\n      <td>https://swofskigames.itch.io/dinolife</td>\n      <td>NaN</td>\n      <td>NaN</td>\n      <td>NaN</td>\n      <td>NaN</td>\n      <td>NaN</td>\n      <td>NaN</td>\n      <td>NaN</td>\n      <td>NaN</td>\n    </tr>\n    <tr>\n      <th>4</th>\n      <td>Sanevol Incident 44</td>\n      <td>AzaGameStudio</td>\n      <td>$2.99</td>\n      <td>https://azagamestudio.itch.io/sanevol-incident-44</td>\n      <td>2.0</td>\n      <td>Windows</td>\n      <td>5.0</td>\n      <td>NaN</td>\n      <td>3D, Atmospheric, First-Person, Horror, Multipl...</td>\n      <td>NaN</td>\n      <td>NaN</td>\n      <td>NaN</td>\n    </tr>\n    <tr>\n      <th>...</th>\n      <td>...</td>\n      <td>...</td>\n      <td>...</td>\n      <td>...</td>\n      <td>...</td>\n      <td>...</td>\n      <td>...</td>\n      <td>...</td>\n      <td>...</td>\n      <td>...</td>\n      <td>...</td>\n      <td>...</td>\n    </tr>\n    <tr>\n      <th>7475</th>\n      <td>Stay?</td>\n      <td>ejadelomax</td>\n      <td>0.0</td>\n      <td>https://ejadelomax.itch.io/stay</td>\n      <td>2.0</td>\n      <td>HTML5</td>\n      <td>4.9</td>\n      <td>NaN</td>\n      <td>Fantasy, LGBTQIA</td>\n      <td>NaN</td>\n      <td>NaN</td>\n      <td>1949.0</td>\n    </tr>\n    <tr>\n      <th>7476</th>\n      <td>Arc Symphony</td>\n      <td>Aether Interactive</td>\n      <td>$2.99</td>\n      <td>https://aetherinteractive.itch.io/arc-symphony</td>\n      <td>2.0</td>\n      <td>Windows, macOS, Linux</td>\n      <td>4.5</td>\n      <td>Twine</td>\n      <td>Story Rich, Twine</td>\n      <td>NaN</td>\n      <td>NaN</td>\n      <td>1950.0</td>\n    </tr>\n    <tr>\n      <th>7477</th>\n      <td>Sounds of Her Love ~We'll always be together~</td>\n      <td>ds-sans</td>\n      <td>0.0</td>\n      <td>https://ds-sans.itch.io/soundsofherlove-wabt</td>\n      <td>2.0</td>\n      <td>Windows, macOS, Linux</td>\n      <td>4.4</td>\n      <td>Ren'Py</td>\n      <td>Anime, Cute, drama, Romance</td>\n      <td>NaN</td>\n      <td>NaN</td>\n      <td>1951.0</td>\n    </tr>\n    <tr>\n      <th>7478</th>\n      <td>I'm Still Here</td>\n      <td>Cozy Game Pals</td>\n      <td>0.0</td>\n      <td>https://cozygamepals.itch.io/im-still-here</td>\n      <td>2.0</td>\n      <td>Windows, macOS, Linux</td>\n      <td>4.3</td>\n      <td>NaN</td>\n      <td>3D, Atmospheric, Casual, Cute, Dark, Horror, R...</td>\n      <td>NaN</td>\n      <td>NaN</td>\n      <td>1952.0</td>\n    </tr>\n    <tr>\n      <th>7479</th>\n      <td>Cohabitation</td>\n      <td>AlgebraFalcon</td>\n      <td>0.0</td>\n      <td>https://algebrafalcon.itch.io/cohabitation</td>\n      <td>2.0</td>\n      <td>Windows, macOS, HTML5</td>\n      <td>4.8</td>\n      <td>RPG Maker</td>\n      <td>2D, Creepy, Dating Sim, Horror, Psychological ...</td>\n      <td>NaN</td>\n      <td>NaN</td>\n      <td>1953.0</td>\n    </tr>\n  </tbody>\n</table>\n<p>7480 rows × 12 columns</p>\n</div>"
     },
     "execution_count": 4,
     "metadata": {},
     "output_type": "execute_result"
    }
   ],
   "source": [
    "df1 = df1.fillna(value={'price': 0.0})\n",
    "replace_map = {'In development':1,'Released':2,'On hold':3,'Prototype':4,'Canceled':5}\n",
    "df1.replace(replace_map, inplace=True)\n",
    "df1=df1.drop_duplicates()\n",
    "df1\n",
    "\n"
   ],
   "metadata": {
    "collapsed": false,
    "pycharm": {
     "name": "#%%\n"
    }
   }
  },
  {
   "cell_type": "code",
   "execution_count": 5,
   "outputs": [
    {
     "data": {
      "text/plain": "      level_0                                          title  \\\n0           2                                 Logica Emotica   \n1           4                            Sanevol Incident 44   \n2          17                                     Axis Mundi   \n3          18                           The True Ingredients   \n4          20                    Camp Palut: A Queer Mystery   \n...       ...                                            ...   \n5492     7475                                          Stay?   \n5493     7476                                   Arc Symphony   \n5494     7477  Sounds of Her Love ~We'll always be together~   \n5495     7478                                 I'm Still Here   \n5496     7479                                   Cohabitation   \n\n                    author   price  \\\n0                bartbonte   $2.99   \n1            AzaGameStudio   $2.99   \n2        Philisophic Games   $2.50   \n3                 RenderPi   $4.01   \n4     Bearly Playing Games  $13.99   \n...                    ...     ...   \n5492            ejadelomax     0.0   \n5493    Aether Interactive   $2.99   \n5494               ds-sans     0.0   \n5495        Cozy Game Pals     0.0   \n5496         AlgebraFalcon     0.0   \n\n                                                    url  status  \\\n0              https://bartbonte.itch.io/logica-emotica     2.0   \n1     https://azagamestudio.itch.io/sanevol-incident-44     2.0   \n2          https://philisophic-games.itch.io/axis-mundi     2.0   \n3         https://renderpi.itch.io/the-true-ingredients     2.0   \n4       https://bearly-playing-games.itch.io/camp-palut     2.0   \n...                                                 ...     ...   \n5492                    https://ejadelomax.itch.io/stay     2.0   \n5493     https://aetherinteractive.itch.io/arc-symphony     2.0   \n5494       https://ds-sans.itch.io/soundsofherlove-wabt     2.0   \n5495         https://cozygamepals.itch.io/im-still-here     2.0   \n5496         https://algebrafalcon.itch.io/cohabitation     2.0   \n\n                   platform  rating       made_with  \\\n0                   Windows     4.0             NaN   \n1                   Windows     5.0             NaN   \n2                   Windows     5.0             NaN   \n3     Windows, macOS, Linux     3.0  Unity, Blender   \n4     Windows, macOS, Linux     5.0             NaN   \n...                     ...     ...             ...   \n5492                  HTML5     4.9             NaN   \n5493  Windows, macOS, Linux     4.5           Twine   \n5494  Windows, macOS, Linux     4.4          Ren'Py   \n5495  Windows, macOS, Linux     4.3             NaN   \n5496  Windows, macOS, HTML5     4.8       RPG Maker   \n\n                                                   tags  \\\n0       2D, Casual, emoji, Funny, Singleplayer, Sokoban   \n1     3D, Atmospheric, First-Person, Horror, Multipl...   \n2     Atmospheric, First-Person, Folklore, FPS, Ghos...   \n3     3D, Funny, Horror, Short, shrek, silly, Single...   \n4     Cute, Dating Sim, demo, Lesbian, LGBT, Queer, ...   \n...                                                 ...   \n5492                                   Fantasy, LGBTQIA   \n5493                                  Story Rich, Twine   \n5494                        Anime, Cute, drama, Romance   \n5495  3D, Atmospheric, Casual, Cute, Dark, Horror, R...   \n5496  2D, Creepy, Dating Sim, Horror, Psychological ...   \n\n                         accessibility  ASL  \n0                                  NaN  NaN  \n1                                  NaN  NaN  \n2                                  NaN  NaN  \n3     Subtitles, Configurable controls  NaN  \n4                                  NaN  NaN  \n...                                ...  ...  \n5492                               NaN  NaN  \n5493                               NaN  NaN  \n5494                               NaN  NaN  \n5495                               NaN  NaN  \n5496                               NaN  NaN  \n\n[5497 rows x 12 columns]",
      "text/html": "<div>\n<style scoped>\n    .dataframe tbody tr th:only-of-type {\n        vertical-align: middle;\n    }\n\n    .dataframe tbody tr th {\n        vertical-align: top;\n    }\n\n    .dataframe thead th {\n        text-align: right;\n    }\n</style>\n<table border=\"1\" class=\"dataframe\">\n  <thead>\n    <tr style=\"text-align: right;\">\n      <th></th>\n      <th>level_0</th>\n      <th>title</th>\n      <th>author</th>\n      <th>price</th>\n      <th>url</th>\n      <th>status</th>\n      <th>platform</th>\n      <th>rating</th>\n      <th>made_with</th>\n      <th>tags</th>\n      <th>accessibility</th>\n      <th>ASL</th>\n    </tr>\n  </thead>\n  <tbody>\n    <tr>\n      <th>0</th>\n      <td>2</td>\n      <td>Logica Emotica</td>\n      <td>bartbonte</td>\n      <td>$2.99</td>\n      <td>https://bartbonte.itch.io/logica-emotica</td>\n      <td>2.0</td>\n      <td>Windows</td>\n      <td>4.0</td>\n      <td>NaN</td>\n      <td>2D, Casual, emoji, Funny, Singleplayer, Sokoban</td>\n      <td>NaN</td>\n      <td>NaN</td>\n    </tr>\n    <tr>\n      <th>1</th>\n      <td>4</td>\n      <td>Sanevol Incident 44</td>\n      <td>AzaGameStudio</td>\n      <td>$2.99</td>\n      <td>https://azagamestudio.itch.io/sanevol-incident-44</td>\n      <td>2.0</td>\n      <td>Windows</td>\n      <td>5.0</td>\n      <td>NaN</td>\n      <td>3D, Atmospheric, First-Person, Horror, Multipl...</td>\n      <td>NaN</td>\n      <td>NaN</td>\n    </tr>\n    <tr>\n      <th>2</th>\n      <td>17</td>\n      <td>Axis Mundi</td>\n      <td>Philisophic Games</td>\n      <td>$2.50</td>\n      <td>https://philisophic-games.itch.io/axis-mundi</td>\n      <td>2.0</td>\n      <td>Windows</td>\n      <td>5.0</td>\n      <td>NaN</td>\n      <td>Atmospheric, First-Person, Folklore, FPS, Ghos...</td>\n      <td>NaN</td>\n      <td>NaN</td>\n    </tr>\n    <tr>\n      <th>3</th>\n      <td>18</td>\n      <td>The True Ingredients</td>\n      <td>RenderPi</td>\n      <td>$4.01</td>\n      <td>https://renderpi.itch.io/the-true-ingredients</td>\n      <td>2.0</td>\n      <td>Windows, macOS, Linux</td>\n      <td>3.0</td>\n      <td>Unity, Blender</td>\n      <td>3D, Funny, Horror, Short, shrek, silly, Single...</td>\n      <td>Subtitles, Configurable controls</td>\n      <td>NaN</td>\n    </tr>\n    <tr>\n      <th>4</th>\n      <td>20</td>\n      <td>Camp Palut: A Queer Mystery</td>\n      <td>Bearly Playing Games</td>\n      <td>$13.99</td>\n      <td>https://bearly-playing-games.itch.io/camp-palut</td>\n      <td>2.0</td>\n      <td>Windows, macOS, Linux</td>\n      <td>5.0</td>\n      <td>NaN</td>\n      <td>Cute, Dating Sim, demo, Lesbian, LGBT, Queer, ...</td>\n      <td>NaN</td>\n      <td>NaN</td>\n    </tr>\n    <tr>\n      <th>...</th>\n      <td>...</td>\n      <td>...</td>\n      <td>...</td>\n      <td>...</td>\n      <td>...</td>\n      <td>...</td>\n      <td>...</td>\n      <td>...</td>\n      <td>...</td>\n      <td>...</td>\n      <td>...</td>\n      <td>...</td>\n    </tr>\n    <tr>\n      <th>5492</th>\n      <td>7475</td>\n      <td>Stay?</td>\n      <td>ejadelomax</td>\n      <td>0.0</td>\n      <td>https://ejadelomax.itch.io/stay</td>\n      <td>2.0</td>\n      <td>HTML5</td>\n      <td>4.9</td>\n      <td>NaN</td>\n      <td>Fantasy, LGBTQIA</td>\n      <td>NaN</td>\n      <td>NaN</td>\n    </tr>\n    <tr>\n      <th>5493</th>\n      <td>7476</td>\n      <td>Arc Symphony</td>\n      <td>Aether Interactive</td>\n      <td>$2.99</td>\n      <td>https://aetherinteractive.itch.io/arc-symphony</td>\n      <td>2.0</td>\n      <td>Windows, macOS, Linux</td>\n      <td>4.5</td>\n      <td>Twine</td>\n      <td>Story Rich, Twine</td>\n      <td>NaN</td>\n      <td>NaN</td>\n    </tr>\n    <tr>\n      <th>5494</th>\n      <td>7477</td>\n      <td>Sounds of Her Love ~We'll always be together~</td>\n      <td>ds-sans</td>\n      <td>0.0</td>\n      <td>https://ds-sans.itch.io/soundsofherlove-wabt</td>\n      <td>2.0</td>\n      <td>Windows, macOS, Linux</td>\n      <td>4.4</td>\n      <td>Ren'Py</td>\n      <td>Anime, Cute, drama, Romance</td>\n      <td>NaN</td>\n      <td>NaN</td>\n    </tr>\n    <tr>\n      <th>5495</th>\n      <td>7478</td>\n      <td>I'm Still Here</td>\n      <td>Cozy Game Pals</td>\n      <td>0.0</td>\n      <td>https://cozygamepals.itch.io/im-still-here</td>\n      <td>2.0</td>\n      <td>Windows, macOS, Linux</td>\n      <td>4.3</td>\n      <td>NaN</td>\n      <td>3D, Atmospheric, Casual, Cute, Dark, Horror, R...</td>\n      <td>NaN</td>\n      <td>NaN</td>\n    </tr>\n    <tr>\n      <th>5496</th>\n      <td>7479</td>\n      <td>Cohabitation</td>\n      <td>AlgebraFalcon</td>\n      <td>0.0</td>\n      <td>https://algebrafalcon.itch.io/cohabitation</td>\n      <td>2.0</td>\n      <td>Windows, macOS, HTML5</td>\n      <td>4.8</td>\n      <td>RPG Maker</td>\n      <td>2D, Creepy, Dating Sim, Horror, Psychological ...</td>\n      <td>NaN</td>\n      <td>NaN</td>\n    </tr>\n  </tbody>\n</table>\n<p>5497 rows × 12 columns</p>\n</div>"
     },
     "execution_count": 5,
     "metadata": {},
     "output_type": "execute_result"
    }
   ],
   "source": [
    "df1 = df1.dropna(subset=['platform', 'rating', 'tags', 'status'])\n",
    "df1 = df1.reset_index()\n",
    "df1 = df1.drop('index', axis=1)\n",
    "df1"
   ],
   "metadata": {
    "collapsed": false,
    "pycharm": {
     "name": "#%%\n"
    }
   }
  },
  {
   "cell_type": "code",
   "execution_count": 6,
   "outputs": [],
   "source": [
    "def column_to_bit_columns(column_name: str, base_df: pd.DataFrame):\n",
    "    cols = base_df.columns.tolist()\n",
    "    new_cols = list(set(', '.join(base_df[column_name].unique().tolist()).split(', ')))\n",
    "    cols.remove(column_name)\n",
    "    cols.extend(new_cols)\n",
    "    new_df = pd.DataFrame(columns=cols, data=base_df)\n",
    "\n",
    "    for i in range(len(base_df[column_name])):\n",
    "        for col in base_df.loc[i, column_name].split(', '):\n",
    "            new_df.loc[i, col] = 1.0\n",
    "\n",
    "    return new_df.fillna(0.0), new_cols"
   ],
   "metadata": {
    "collapsed": false,
    "pycharm": {
     "name": "#%%\n"
    }
   }
  },
  {
   "cell_type": "code",
   "execution_count": 7,
   "outputs": [
    {
     "data": {
      "text/plain": "(      level_0                                          title  \\\n 0           2                                 Logica Emotica   \n 1           4                            Sanevol Incident 44   \n 2          17                                     Axis Mundi   \n 3          18                           The True Ingredients   \n 4          20                    Camp Palut: A Queer Mystery   \n ...       ...                                            ...   \n 5492     7475                                          Stay?   \n 5493     7476                                   Arc Symphony   \n 5494     7477  Sounds of Her Love ~We'll always be together~   \n 5495     7478                                 I'm Still Here   \n 5496     7479                                   Cohabitation   \n \n                     author   price  \\\n 0                bartbonte   $2.99   \n 1            AzaGameStudio   $2.99   \n 2        Philisophic Games   $2.50   \n 3                 RenderPi   $4.01   \n 4     Bearly Playing Games  $13.99   \n ...                    ...     ...   \n 5492            ejadelomax     0.0   \n 5493    Aether Interactive   $2.99   \n 5494               ds-sans     0.0   \n 5495        Cozy Game Pals     0.0   \n 5496         AlgebraFalcon     0.0   \n \n                                                     url  status  rating  \\\n 0              https://bartbonte.itch.io/logica-emotica     2.0     4.0   \n 1     https://azagamestudio.itch.io/sanevol-incident-44     2.0     5.0   \n 2          https://philisophic-games.itch.io/axis-mundi     2.0     5.0   \n 3         https://renderpi.itch.io/the-true-ingredients     2.0     3.0   \n 4       https://bearly-playing-games.itch.io/camp-palut     2.0     5.0   \n ...                                                 ...     ...     ...   \n 5492                    https://ejadelomax.itch.io/stay     2.0     4.9   \n 5493     https://aetherinteractive.itch.io/arc-symphony     2.0     4.5   \n 5494       https://ds-sans.itch.io/soundsofherlove-wabt     2.0     4.4   \n 5495         https://cozygamepals.itch.io/im-still-here     2.0     4.3   \n 5496         https://algebrafalcon.itch.io/cohabitation     2.0     4.8   \n \n            made_with                                               tags  \\\n 0                0.0    2D, Casual, emoji, Funny, Singleplayer, Sokoban   \n 1                0.0  3D, Atmospheric, First-Person, Horror, Multipl...   \n 2                0.0  Atmospheric, First-Person, Folklore, FPS, Ghos...   \n 3     Unity, Blender  3D, Funny, Horror, Short, shrek, silly, Single...   \n 4                0.0  Cute, Dating Sim, demo, Lesbian, LGBT, Queer, ...   \n ...              ...                                                ...   \n 5492             0.0                                   Fantasy, LGBTQIA   \n 5493           Twine                                  Story Rich, Twine   \n 5494          Ren'Py                        Anime, Cute, drama, Romance   \n 5495             0.0  3D, Atmospheric, Casual, Cute, Dark, Horror, R...   \n 5496       RPG Maker  2D, Creepy, Dating Sim, Horror, Psychological ...   \n \n                          accessibility  ASL  HTML5  Flash  Unity  macOS  \\\n 0                                  0.0  0.0    0.0    0.0    0.0    0.0   \n 1                                  0.0  0.0    0.0    0.0    0.0    0.0   \n 2                                  0.0  0.0    0.0    0.0    0.0    0.0   \n 3     Subtitles, Configurable controls  0.0    0.0    0.0    0.0    1.0   \n 4                                  0.0  0.0    0.0    0.0    0.0    1.0   \n ...                                ...  ...    ...    ...    ...    ...   \n 5492                               0.0  0.0    1.0    0.0    0.0    0.0   \n 5493                               0.0  0.0    0.0    0.0    0.0    1.0   \n 5494                               0.0  0.0    0.0    0.0    0.0    1.0   \n 5495                               0.0  0.0    0.0    0.0    0.0    1.0   \n 5496                               0.0  0.0    1.0    0.0    0.0    1.0   \n \n       Linux  Windows  Android  \n 0       0.0      1.0      0.0  \n 1       0.0      1.0      0.0  \n 2       0.0      1.0      0.0  \n 3       1.0      1.0      0.0  \n 4       1.0      1.0      0.0  \n ...     ...      ...      ...  \n 5492    0.0      0.0      0.0  \n 5493    1.0      1.0      0.0  \n 5494    1.0      1.0      0.0  \n 5495    1.0      1.0      0.0  \n 5496    0.0      1.0      0.0  \n \n [5497 rows x 18 columns],\n ['HTML5', 'Flash', 'Unity', 'macOS', 'Linux', 'Windows', 'Android'])"
     },
     "execution_count": 7,
     "metadata": {},
     "output_type": "execute_result"
    }
   ],
   "source": [
    "df2, platforms = column_to_bit_columns('platform', df1)\n",
    "df2, platforms"
   ],
   "metadata": {
    "collapsed": false,
    "pycharm": {
     "name": "#%%\n"
    }
   }
  },
  {
   "cell_type": "code",
   "execution_count": 8,
   "outputs": [
    {
     "data": {
      "text/plain": "      level_0                                          title  \\\n0           2                                 Logica Emotica   \n1           4                            Sanevol Incident 44   \n2          17                                     Axis Mundi   \n3          18                           The True Ingredients   \n4          20                    Camp Palut: A Queer Mystery   \n...       ...                                            ...   \n5492     7475                                          Stay?   \n5493     7476                                   Arc Symphony   \n5494     7477  Sounds of Her Love ~We'll always be together~   \n5495     7478                                 I'm Still Here   \n5496     7479                                   Cohabitation   \n\n                    author   price  \\\n0                bartbonte   $2.99   \n1            AzaGameStudio   $2.99   \n2        Philisophic Games   $2.50   \n3                 RenderPi   $4.01   \n4     Bearly Playing Games  $13.99   \n...                    ...     ...   \n5492            ejadelomax     0.0   \n5493    Aether Interactive   $2.99   \n5494               ds-sans     0.0   \n5495        Cozy Game Pals     0.0   \n5496         AlgebraFalcon     0.0   \n\n                                                    url  status  rating  \\\n0              https://bartbonte.itch.io/logica-emotica     2.0     4.0   \n1     https://azagamestudio.itch.io/sanevol-incident-44     2.0     5.0   \n2          https://philisophic-games.itch.io/axis-mundi     2.0     5.0   \n3         https://renderpi.itch.io/the-true-ingredients     2.0     3.0   \n4       https://bearly-playing-games.itch.io/camp-palut     2.0     5.0   \n...                                                 ...     ...     ...   \n5492                    https://ejadelomax.itch.io/stay     2.0     4.9   \n5493     https://aetherinteractive.itch.io/arc-symphony     2.0     4.5   \n5494       https://ds-sans.itch.io/soundsofherlove-wabt     2.0     4.4   \n5495         https://cozygamepals.itch.io/im-still-here     2.0     4.3   \n5496         https://algebrafalcon.itch.io/cohabitation     2.0     4.8   \n\n           made_with                     accessibility  ASL  ...  rolling  \\\n0                0.0                               0.0  0.0  ...      0.0   \n1                0.0                               0.0  0.0  ...      0.0   \n2                0.0                               0.0  0.0  ...      0.0   \n3     Unity, Blender  Subtitles, Configurable controls  0.0  ...      0.0   \n4                0.0                               0.0  0.0  ...      0.0   \n...              ...                               ...  ...  ...      ...   \n5492             0.0                               0.0  0.0  ...      0.0   \n5493           Twine                               0.0  0.0  ...      0.0   \n5494          Ren'Py                               0.0  0.0  ...      0.0   \n5495             0.0                               0.0  0.0  ...      0.0   \n5496       RPG Maker                               0.0  0.0  ...      0.0   \n\n      doll-maker  Dark Fantasy  jack-king-spooner  warioware  office  \\\n0            0.0           0.0                0.0        0.0     0.0   \n1            0.0           0.0                0.0        0.0     0.0   \n2            0.0           0.0                0.0        0.0     0.0   \n3            0.0           0.0                0.0        0.0     0.0   \n4            0.0           0.0                0.0        0.0     0.0   \n...          ...           ...                ...        ...     ...   \n5492         0.0           0.0                0.0        0.0     0.0   \n5493         0.0           0.0                0.0        0.0     0.0   \n5494         0.0           0.0                0.0        0.0     0.0   \n5495         0.0           0.0                0.0        0.0     0.0   \n5496         0.0           0.0                0.0        0.0     0.0   \n\n      euclidean-orbifold  yahtzee  Sandbox  ponies  \n0                    0.0      0.0      0.0     0.0  \n1                    0.0      0.0      0.0     0.0  \n2                    0.0      0.0      0.0     0.0  \n3                    0.0      0.0      0.0     0.0  \n4                    0.0      0.0      0.0     0.0  \n...                  ...      ...      ...     ...  \n5492                 0.0      0.0      0.0     0.0  \n5493                 0.0      0.0      0.0     0.0  \n5494                 0.0      0.0      0.0     0.0  \n5495                 0.0      0.0      0.0     0.0  \n5496                 0.0      0.0      0.0     0.0  \n\n[5497 rows x 2849 columns]",
      "text/html": "<div>\n<style scoped>\n    .dataframe tbody tr th:only-of-type {\n        vertical-align: middle;\n    }\n\n    .dataframe tbody tr th {\n        vertical-align: top;\n    }\n\n    .dataframe thead th {\n        text-align: right;\n    }\n</style>\n<table border=\"1\" class=\"dataframe\">\n  <thead>\n    <tr style=\"text-align: right;\">\n      <th></th>\n      <th>level_0</th>\n      <th>title</th>\n      <th>author</th>\n      <th>price</th>\n      <th>url</th>\n      <th>status</th>\n      <th>rating</th>\n      <th>made_with</th>\n      <th>accessibility</th>\n      <th>ASL</th>\n      <th>...</th>\n      <th>rolling</th>\n      <th>doll-maker</th>\n      <th>Dark Fantasy</th>\n      <th>jack-king-spooner</th>\n      <th>warioware</th>\n      <th>office</th>\n      <th>euclidean-orbifold</th>\n      <th>yahtzee</th>\n      <th>Sandbox</th>\n      <th>ponies</th>\n    </tr>\n  </thead>\n  <tbody>\n    <tr>\n      <th>0</th>\n      <td>2</td>\n      <td>Logica Emotica</td>\n      <td>bartbonte</td>\n      <td>$2.99</td>\n      <td>https://bartbonte.itch.io/logica-emotica</td>\n      <td>2.0</td>\n      <td>4.0</td>\n      <td>0.0</td>\n      <td>0.0</td>\n      <td>0.0</td>\n      <td>...</td>\n      <td>0.0</td>\n      <td>0.0</td>\n      <td>0.0</td>\n      <td>0.0</td>\n      <td>0.0</td>\n      <td>0.0</td>\n      <td>0.0</td>\n      <td>0.0</td>\n      <td>0.0</td>\n      <td>0.0</td>\n    </tr>\n    <tr>\n      <th>1</th>\n      <td>4</td>\n      <td>Sanevol Incident 44</td>\n      <td>AzaGameStudio</td>\n      <td>$2.99</td>\n      <td>https://azagamestudio.itch.io/sanevol-incident-44</td>\n      <td>2.0</td>\n      <td>5.0</td>\n      <td>0.0</td>\n      <td>0.0</td>\n      <td>0.0</td>\n      <td>...</td>\n      <td>0.0</td>\n      <td>0.0</td>\n      <td>0.0</td>\n      <td>0.0</td>\n      <td>0.0</td>\n      <td>0.0</td>\n      <td>0.0</td>\n      <td>0.0</td>\n      <td>0.0</td>\n      <td>0.0</td>\n    </tr>\n    <tr>\n      <th>2</th>\n      <td>17</td>\n      <td>Axis Mundi</td>\n      <td>Philisophic Games</td>\n      <td>$2.50</td>\n      <td>https://philisophic-games.itch.io/axis-mundi</td>\n      <td>2.0</td>\n      <td>5.0</td>\n      <td>0.0</td>\n      <td>0.0</td>\n      <td>0.0</td>\n      <td>...</td>\n      <td>0.0</td>\n      <td>0.0</td>\n      <td>0.0</td>\n      <td>0.0</td>\n      <td>0.0</td>\n      <td>0.0</td>\n      <td>0.0</td>\n      <td>0.0</td>\n      <td>0.0</td>\n      <td>0.0</td>\n    </tr>\n    <tr>\n      <th>3</th>\n      <td>18</td>\n      <td>The True Ingredients</td>\n      <td>RenderPi</td>\n      <td>$4.01</td>\n      <td>https://renderpi.itch.io/the-true-ingredients</td>\n      <td>2.0</td>\n      <td>3.0</td>\n      <td>Unity, Blender</td>\n      <td>Subtitles, Configurable controls</td>\n      <td>0.0</td>\n      <td>...</td>\n      <td>0.0</td>\n      <td>0.0</td>\n      <td>0.0</td>\n      <td>0.0</td>\n      <td>0.0</td>\n      <td>0.0</td>\n      <td>0.0</td>\n      <td>0.0</td>\n      <td>0.0</td>\n      <td>0.0</td>\n    </tr>\n    <tr>\n      <th>4</th>\n      <td>20</td>\n      <td>Camp Palut: A Queer Mystery</td>\n      <td>Bearly Playing Games</td>\n      <td>$13.99</td>\n      <td>https://bearly-playing-games.itch.io/camp-palut</td>\n      <td>2.0</td>\n      <td>5.0</td>\n      <td>0.0</td>\n      <td>0.0</td>\n      <td>0.0</td>\n      <td>...</td>\n      <td>0.0</td>\n      <td>0.0</td>\n      <td>0.0</td>\n      <td>0.0</td>\n      <td>0.0</td>\n      <td>0.0</td>\n      <td>0.0</td>\n      <td>0.0</td>\n      <td>0.0</td>\n      <td>0.0</td>\n    </tr>\n    <tr>\n      <th>...</th>\n      <td>...</td>\n      <td>...</td>\n      <td>...</td>\n      <td>...</td>\n      <td>...</td>\n      <td>...</td>\n      <td>...</td>\n      <td>...</td>\n      <td>...</td>\n      <td>...</td>\n      <td>...</td>\n      <td>...</td>\n      <td>...</td>\n      <td>...</td>\n      <td>...</td>\n      <td>...</td>\n      <td>...</td>\n      <td>...</td>\n      <td>...</td>\n      <td>...</td>\n      <td>...</td>\n    </tr>\n    <tr>\n      <th>5492</th>\n      <td>7475</td>\n      <td>Stay?</td>\n      <td>ejadelomax</td>\n      <td>0.0</td>\n      <td>https://ejadelomax.itch.io/stay</td>\n      <td>2.0</td>\n      <td>4.9</td>\n      <td>0.0</td>\n      <td>0.0</td>\n      <td>0.0</td>\n      <td>...</td>\n      <td>0.0</td>\n      <td>0.0</td>\n      <td>0.0</td>\n      <td>0.0</td>\n      <td>0.0</td>\n      <td>0.0</td>\n      <td>0.0</td>\n      <td>0.0</td>\n      <td>0.0</td>\n      <td>0.0</td>\n    </tr>\n    <tr>\n      <th>5493</th>\n      <td>7476</td>\n      <td>Arc Symphony</td>\n      <td>Aether Interactive</td>\n      <td>$2.99</td>\n      <td>https://aetherinteractive.itch.io/arc-symphony</td>\n      <td>2.0</td>\n      <td>4.5</td>\n      <td>Twine</td>\n      <td>0.0</td>\n      <td>0.0</td>\n      <td>...</td>\n      <td>0.0</td>\n      <td>0.0</td>\n      <td>0.0</td>\n      <td>0.0</td>\n      <td>0.0</td>\n      <td>0.0</td>\n      <td>0.0</td>\n      <td>0.0</td>\n      <td>0.0</td>\n      <td>0.0</td>\n    </tr>\n    <tr>\n      <th>5494</th>\n      <td>7477</td>\n      <td>Sounds of Her Love ~We'll always be together~</td>\n      <td>ds-sans</td>\n      <td>0.0</td>\n      <td>https://ds-sans.itch.io/soundsofherlove-wabt</td>\n      <td>2.0</td>\n      <td>4.4</td>\n      <td>Ren'Py</td>\n      <td>0.0</td>\n      <td>0.0</td>\n      <td>...</td>\n      <td>0.0</td>\n      <td>0.0</td>\n      <td>0.0</td>\n      <td>0.0</td>\n      <td>0.0</td>\n      <td>0.0</td>\n      <td>0.0</td>\n      <td>0.0</td>\n      <td>0.0</td>\n      <td>0.0</td>\n    </tr>\n    <tr>\n      <th>5495</th>\n      <td>7478</td>\n      <td>I'm Still Here</td>\n      <td>Cozy Game Pals</td>\n      <td>0.0</td>\n      <td>https://cozygamepals.itch.io/im-still-here</td>\n      <td>2.0</td>\n      <td>4.3</td>\n      <td>0.0</td>\n      <td>0.0</td>\n      <td>0.0</td>\n      <td>...</td>\n      <td>0.0</td>\n      <td>0.0</td>\n      <td>0.0</td>\n      <td>0.0</td>\n      <td>0.0</td>\n      <td>0.0</td>\n      <td>0.0</td>\n      <td>0.0</td>\n      <td>0.0</td>\n      <td>0.0</td>\n    </tr>\n    <tr>\n      <th>5496</th>\n      <td>7479</td>\n      <td>Cohabitation</td>\n      <td>AlgebraFalcon</td>\n      <td>0.0</td>\n      <td>https://algebrafalcon.itch.io/cohabitation</td>\n      <td>2.0</td>\n      <td>4.8</td>\n      <td>RPG Maker</td>\n      <td>0.0</td>\n      <td>0.0</td>\n      <td>...</td>\n      <td>0.0</td>\n      <td>0.0</td>\n      <td>0.0</td>\n      <td>0.0</td>\n      <td>0.0</td>\n      <td>0.0</td>\n      <td>0.0</td>\n      <td>0.0</td>\n      <td>0.0</td>\n      <td>0.0</td>\n    </tr>\n  </tbody>\n</table>\n<p>5497 rows × 2849 columns</p>\n</div>"
     },
     "execution_count": 8,
     "metadata": {},
     "output_type": "execute_result"
    }
   ],
   "source": [
    "df2, tags = column_to_bit_columns('tags', df2)\n",
    "df2"
   ],
   "metadata": {
    "collapsed": false,
    "pycharm": {
     "name": "#%%\n"
    }
   }
  },
  {
   "cell_type": "code",
   "execution_count": 9,
   "outputs": [
    {
     "data": {
      "text/plain": "      level_0                                          title  \\\n0           2                                 Logica Emotica   \n1           4                            Sanevol Incident 44   \n2          17                                     Axis Mundi   \n3          18                           The True Ingredients   \n4          20                    Camp Palut: A Queer Mystery   \n...       ...                                            ...   \n5492     7475                                          Stay?   \n5493     7476                                   Arc Symphony   \n5494     7477  Sounds of Her Love ~We'll always be together~   \n5495     7478                                 I'm Still Here   \n5496     7479                                   Cohabitation   \n\n                    author   price  \\\n0                bartbonte   $2.99   \n1            AzaGameStudio   $2.99   \n2        Philisophic Games   $2.50   \n3                 RenderPi   $4.01   \n4     Bearly Playing Games  $13.99   \n...                    ...     ...   \n5492            ejadelomax     0.0   \n5493    Aether Interactive   $2.99   \n5494               ds-sans     0.0   \n5495        Cozy Game Pals     0.0   \n5496         AlgebraFalcon     0.0   \n\n                                                    url  status  rating  \\\n0              https://bartbonte.itch.io/logica-emotica     2.0     4.0   \n1     https://azagamestudio.itch.io/sanevol-incident-44     2.0     5.0   \n2          https://philisophic-games.itch.io/axis-mundi     2.0     5.0   \n3         https://renderpi.itch.io/the-true-ingredients     2.0     3.0   \n4       https://bearly-playing-games.itch.io/camp-palut     2.0     5.0   \n...                                                 ...     ...     ...   \n5492                    https://ejadelomax.itch.io/stay     2.0     4.9   \n5493     https://aetherinteractive.itch.io/arc-symphony     2.0     4.5   \n5494       https://ds-sans.itch.io/soundsofherlove-wabt     2.0     4.4   \n5495         https://cozygamepals.itch.io/im-still-here     2.0     4.3   \n5496         https://algebrafalcon.itch.io/cohabitation     2.0     4.8   \n\n           made_with                     accessibility  ASL  ...  rolling  \\\n0                0.0                               0.0  0.0  ...      0.0   \n1                0.0                               0.0  0.0  ...      0.0   \n2                0.0                               0.0  0.0  ...      0.0   \n3     Unity, Blender  Subtitles, Configurable controls  0.0  ...      0.0   \n4                0.0                               0.0  0.0  ...      0.0   \n...              ...                               ...  ...  ...      ...   \n5492             0.0                               0.0  0.0  ...      0.0   \n5493           Twine                               0.0  0.0  ...      0.0   \n5494          Ren'Py                               0.0  0.0  ...      0.0   \n5495             0.0                               0.0  0.0  ...      0.0   \n5496       RPG Maker                               0.0  0.0  ...      0.0   \n\n      doll-maker  Dark Fantasy  jack-king-spooner  warioware  office  \\\n0            0.0           0.0                0.0        0.0     0.0   \n1            0.0           0.0                0.0        0.0     0.0   \n2            0.0           0.0                0.0        0.0     0.0   \n3            0.0           0.0                0.0        0.0     0.0   \n4            0.0           0.0                0.0        0.0     0.0   \n...          ...           ...                ...        ...     ...   \n5492         0.0           0.0                0.0        0.0     0.0   \n5493         0.0           0.0                0.0        0.0     0.0   \n5494         0.0           0.0                0.0        0.0     0.0   \n5495         0.0           0.0                0.0        0.0     0.0   \n5496         0.0           0.0                0.0        0.0     0.0   \n\n      euclidean-orbifold  yahtzee  Sandbox  ponies  \n0                    0.0      0.0      0.0     0.0  \n1                    0.0      0.0      0.0     0.0  \n2                    0.0      0.0      0.0     0.0  \n3                    0.0      0.0      0.0     0.0  \n4                    0.0      0.0      0.0     0.0  \n...                  ...      ...      ...     ...  \n5492                 0.0      0.0      0.0     0.0  \n5493                 0.0      0.0      0.0     0.0  \n5494                 0.0      0.0      0.0     0.0  \n5495                 0.0      0.0      0.0     0.0  \n5496                 0.0      0.0      0.0     0.0  \n\n[5497 rows x 2848 columns]",
      "text/html": "<div>\n<style scoped>\n    .dataframe tbody tr th:only-of-type {\n        vertical-align: middle;\n    }\n\n    .dataframe tbody tr th {\n        vertical-align: top;\n    }\n\n    .dataframe thead th {\n        text-align: right;\n    }\n</style>\n<table border=\"1\" class=\"dataframe\">\n  <thead>\n    <tr style=\"text-align: right;\">\n      <th></th>\n      <th>level_0</th>\n      <th>title</th>\n      <th>author</th>\n      <th>price</th>\n      <th>url</th>\n      <th>status</th>\n      <th>rating</th>\n      <th>made_with</th>\n      <th>accessibility</th>\n      <th>ASL</th>\n      <th>...</th>\n      <th>rolling</th>\n      <th>doll-maker</th>\n      <th>Dark Fantasy</th>\n      <th>jack-king-spooner</th>\n      <th>warioware</th>\n      <th>office</th>\n      <th>euclidean-orbifold</th>\n      <th>yahtzee</th>\n      <th>Sandbox</th>\n      <th>ponies</th>\n    </tr>\n  </thead>\n  <tbody>\n    <tr>\n      <th>0</th>\n      <td>2</td>\n      <td>Logica Emotica</td>\n      <td>bartbonte</td>\n      <td>$2.99</td>\n      <td>https://bartbonte.itch.io/logica-emotica</td>\n      <td>2.0</td>\n      <td>4.0</td>\n      <td>0.0</td>\n      <td>0.0</td>\n      <td>0.0</td>\n      <td>...</td>\n      <td>0.0</td>\n      <td>0.0</td>\n      <td>0.0</td>\n      <td>0.0</td>\n      <td>0.0</td>\n      <td>0.0</td>\n      <td>0.0</td>\n      <td>0.0</td>\n      <td>0.0</td>\n      <td>0.0</td>\n    </tr>\n    <tr>\n      <th>1</th>\n      <td>4</td>\n      <td>Sanevol Incident 44</td>\n      <td>AzaGameStudio</td>\n      <td>$2.99</td>\n      <td>https://azagamestudio.itch.io/sanevol-incident-44</td>\n      <td>2.0</td>\n      <td>5.0</td>\n      <td>0.0</td>\n      <td>0.0</td>\n      <td>0.0</td>\n      <td>...</td>\n      <td>0.0</td>\n      <td>0.0</td>\n      <td>0.0</td>\n      <td>0.0</td>\n      <td>0.0</td>\n      <td>0.0</td>\n      <td>0.0</td>\n      <td>0.0</td>\n      <td>0.0</td>\n      <td>0.0</td>\n    </tr>\n    <tr>\n      <th>2</th>\n      <td>17</td>\n      <td>Axis Mundi</td>\n      <td>Philisophic Games</td>\n      <td>$2.50</td>\n      <td>https://philisophic-games.itch.io/axis-mundi</td>\n      <td>2.0</td>\n      <td>5.0</td>\n      <td>0.0</td>\n      <td>0.0</td>\n      <td>0.0</td>\n      <td>...</td>\n      <td>0.0</td>\n      <td>0.0</td>\n      <td>0.0</td>\n      <td>0.0</td>\n      <td>0.0</td>\n      <td>0.0</td>\n      <td>0.0</td>\n      <td>0.0</td>\n      <td>0.0</td>\n      <td>0.0</td>\n    </tr>\n    <tr>\n      <th>3</th>\n      <td>18</td>\n      <td>The True Ingredients</td>\n      <td>RenderPi</td>\n      <td>$4.01</td>\n      <td>https://renderpi.itch.io/the-true-ingredients</td>\n      <td>2.0</td>\n      <td>3.0</td>\n      <td>Unity, Blender</td>\n      <td>Subtitles, Configurable controls</td>\n      <td>0.0</td>\n      <td>...</td>\n      <td>0.0</td>\n      <td>0.0</td>\n      <td>0.0</td>\n      <td>0.0</td>\n      <td>0.0</td>\n      <td>0.0</td>\n      <td>0.0</td>\n      <td>0.0</td>\n      <td>0.0</td>\n      <td>0.0</td>\n    </tr>\n    <tr>\n      <th>4</th>\n      <td>20</td>\n      <td>Camp Palut: A Queer Mystery</td>\n      <td>Bearly Playing Games</td>\n      <td>$13.99</td>\n      <td>https://bearly-playing-games.itch.io/camp-palut</td>\n      <td>2.0</td>\n      <td>5.0</td>\n      <td>0.0</td>\n      <td>0.0</td>\n      <td>0.0</td>\n      <td>...</td>\n      <td>0.0</td>\n      <td>0.0</td>\n      <td>0.0</td>\n      <td>0.0</td>\n      <td>0.0</td>\n      <td>0.0</td>\n      <td>0.0</td>\n      <td>0.0</td>\n      <td>0.0</td>\n      <td>0.0</td>\n    </tr>\n    <tr>\n      <th>...</th>\n      <td>...</td>\n      <td>...</td>\n      <td>...</td>\n      <td>...</td>\n      <td>...</td>\n      <td>...</td>\n      <td>...</td>\n      <td>...</td>\n      <td>...</td>\n      <td>...</td>\n      <td>...</td>\n      <td>...</td>\n      <td>...</td>\n      <td>...</td>\n      <td>...</td>\n      <td>...</td>\n      <td>...</td>\n      <td>...</td>\n      <td>...</td>\n      <td>...</td>\n      <td>...</td>\n    </tr>\n    <tr>\n      <th>5492</th>\n      <td>7475</td>\n      <td>Stay?</td>\n      <td>ejadelomax</td>\n      <td>0.0</td>\n      <td>https://ejadelomax.itch.io/stay</td>\n      <td>2.0</td>\n      <td>4.9</td>\n      <td>0.0</td>\n      <td>0.0</td>\n      <td>0.0</td>\n      <td>...</td>\n      <td>0.0</td>\n      <td>0.0</td>\n      <td>0.0</td>\n      <td>0.0</td>\n      <td>0.0</td>\n      <td>0.0</td>\n      <td>0.0</td>\n      <td>0.0</td>\n      <td>0.0</td>\n      <td>0.0</td>\n    </tr>\n    <tr>\n      <th>5493</th>\n      <td>7476</td>\n      <td>Arc Symphony</td>\n      <td>Aether Interactive</td>\n      <td>$2.99</td>\n      <td>https://aetherinteractive.itch.io/arc-symphony</td>\n      <td>2.0</td>\n      <td>4.5</td>\n      <td>Twine</td>\n      <td>0.0</td>\n      <td>0.0</td>\n      <td>...</td>\n      <td>0.0</td>\n      <td>0.0</td>\n      <td>0.0</td>\n      <td>0.0</td>\n      <td>0.0</td>\n      <td>0.0</td>\n      <td>0.0</td>\n      <td>0.0</td>\n      <td>0.0</td>\n      <td>0.0</td>\n    </tr>\n    <tr>\n      <th>5494</th>\n      <td>7477</td>\n      <td>Sounds of Her Love ~We'll always be together~</td>\n      <td>ds-sans</td>\n      <td>0.0</td>\n      <td>https://ds-sans.itch.io/soundsofherlove-wabt</td>\n      <td>2.0</td>\n      <td>4.4</td>\n      <td>Ren'Py</td>\n      <td>0.0</td>\n      <td>0.0</td>\n      <td>...</td>\n      <td>0.0</td>\n      <td>0.0</td>\n      <td>0.0</td>\n      <td>0.0</td>\n      <td>0.0</td>\n      <td>0.0</td>\n      <td>0.0</td>\n      <td>0.0</td>\n      <td>0.0</td>\n      <td>0.0</td>\n    </tr>\n    <tr>\n      <th>5495</th>\n      <td>7478</td>\n      <td>I'm Still Here</td>\n      <td>Cozy Game Pals</td>\n      <td>0.0</td>\n      <td>https://cozygamepals.itch.io/im-still-here</td>\n      <td>2.0</td>\n      <td>4.3</td>\n      <td>0.0</td>\n      <td>0.0</td>\n      <td>0.0</td>\n      <td>...</td>\n      <td>0.0</td>\n      <td>0.0</td>\n      <td>0.0</td>\n      <td>0.0</td>\n      <td>0.0</td>\n      <td>0.0</td>\n      <td>0.0</td>\n      <td>0.0</td>\n      <td>0.0</td>\n      <td>0.0</td>\n    </tr>\n    <tr>\n      <th>5496</th>\n      <td>7479</td>\n      <td>Cohabitation</td>\n      <td>AlgebraFalcon</td>\n      <td>0.0</td>\n      <td>https://algebrafalcon.itch.io/cohabitation</td>\n      <td>2.0</td>\n      <td>4.8</td>\n      <td>RPG Maker</td>\n      <td>0.0</td>\n      <td>0.0</td>\n      <td>...</td>\n      <td>0.0</td>\n      <td>0.0</td>\n      <td>0.0</td>\n      <td>0.0</td>\n      <td>0.0</td>\n      <td>0.0</td>\n      <td>0.0</td>\n      <td>0.0</td>\n      <td>0.0</td>\n      <td>0.0</td>\n    </tr>\n  </tbody>\n</table>\n<p>5497 rows × 2848 columns</p>\n</div>"
     },
     "execution_count": 9,
     "metadata": {},
     "output_type": "execute_result"
    }
   ],
   "source": [
    "df2 = df2.loc[:, ~df2.columns.duplicated()].copy()\n",
    "df2"
   ],
   "metadata": {
    "collapsed": false,
    "pycharm": {
     "name": "#%%\n"
    }
   }
  },
  {
   "cell_type": "code",
   "execution_count": 10,
   "outputs": [
    {
     "data": {
      "text/plain": "                    freq\ngrimdark             2.0\niwbtg                2.0\ntheme-park           2.0\ndaily                4.0\nbbpsx                2.0\n...                  ...\njack-king-spooner    2.0\nwarioware            2.0\noffice               2.0\neuclidean-orbifold   2.0\nSandbox             75.0\n\n[1509 rows x 1 columns]",
      "text/html": "<div>\n<style scoped>\n    .dataframe tbody tr th:only-of-type {\n        vertical-align: middle;\n    }\n\n    .dataframe tbody tr th {\n        vertical-align: top;\n    }\n\n    .dataframe thead th {\n        text-align: right;\n    }\n</style>\n<table border=\"1\" class=\"dataframe\">\n  <thead>\n    <tr style=\"text-align: right;\">\n      <th></th>\n      <th>freq</th>\n    </tr>\n  </thead>\n  <tbody>\n    <tr>\n      <th>grimdark</th>\n      <td>2.0</td>\n    </tr>\n    <tr>\n      <th>iwbtg</th>\n      <td>2.0</td>\n    </tr>\n    <tr>\n      <th>theme-park</th>\n      <td>2.0</td>\n    </tr>\n    <tr>\n      <th>daily</th>\n      <td>4.0</td>\n    </tr>\n    <tr>\n      <th>bbpsx</th>\n      <td>2.0</td>\n    </tr>\n    <tr>\n      <th>...</th>\n      <td>...</td>\n    </tr>\n    <tr>\n      <th>jack-king-spooner</th>\n      <td>2.0</td>\n    </tr>\n    <tr>\n      <th>warioware</th>\n      <td>2.0</td>\n    </tr>\n    <tr>\n      <th>office</th>\n      <td>2.0</td>\n    </tr>\n    <tr>\n      <th>euclidean-orbifold</th>\n      <td>2.0</td>\n    </tr>\n    <tr>\n      <th>Sandbox</th>\n      <td>75.0</td>\n    </tr>\n  </tbody>\n</table>\n<p>1509 rows × 1 columns</p>\n</div>"
     },
     "execution_count": 10,
     "metadata": {},
     "output_type": "execute_result"
    }
   ],
   "source": [
    "df_freq = pd.DataFrame(columns=['freq'])\n",
    "to_drop = []\n",
    "for idx, tag in zip(range(len(tags)), tags):\n",
    "    freq = sum(df2[tag])\n",
    "    if freq > 1.0:\n",
    "        df_freq.loc[tag] = freq\n",
    "    else:\n",
    "        to_drop.append(tag)\n",
    "\n",
    "df_freq"
   ],
   "metadata": {
    "collapsed": false,
    "pycharm": {
     "name": "#%%\n"
    }
   }
  },
  {
   "cell_type": "code",
   "execution_count": 15,
   "outputs": [
    {
     "data": {
      "text/plain": "      level_0                                          title  \\\n0           2                                 Logica Emotica   \n1           4                            Sanevol Incident 44   \n2          17                                     Axis Mundi   \n3          18                           The True Ingredients   \n4          20                    Camp Palut: A Queer Mystery   \n...       ...                                            ...   \n5492     7475                                          Stay?   \n5493     7476                                   Arc Symphony   \n5494     7477  Sounds of Her Love ~We'll always be together~   \n5495     7478                                 I'm Still Here   \n5496     7479                                   Cohabitation   \n\n                    author   price  \\\n0                bartbonte   $2.99   \n1            AzaGameStudio   $2.99   \n2        Philisophic Games   $2.50   \n3                 RenderPi   $4.01   \n4     Bearly Playing Games  $13.99   \n...                    ...     ...   \n5492            ejadelomax     0.0   \n5493    Aether Interactive   $2.99   \n5494               ds-sans     0.0   \n5495        Cozy Game Pals     0.0   \n5496         AlgebraFalcon     0.0   \n\n                                                    url  status  rating  \\\n0              https://bartbonte.itch.io/logica-emotica     2.0     4.0   \n1     https://azagamestudio.itch.io/sanevol-incident-44     2.0     5.0   \n2          https://philisophic-games.itch.io/axis-mundi     2.0     5.0   \n3         https://renderpi.itch.io/the-true-ingredients     2.0     3.0   \n4       https://bearly-playing-games.itch.io/camp-palut     2.0     5.0   \n...                                                 ...     ...     ...   \n5492                    https://ejadelomax.itch.io/stay     2.0     4.9   \n5493     https://aetherinteractive.itch.io/arc-symphony     2.0     4.5   \n5494       https://ds-sans.itch.io/soundsofherlove-wabt     2.0     4.4   \n5495         https://cozygamepals.itch.io/im-still-here     2.0     4.3   \n5496         https://algebrafalcon.itch.io/cohabitation     2.0     4.8   \n\n           made_with                     accessibility  ASL  ...  everything  \\\n0                0.0                               0.0  0.0  ...         0.0   \n1                0.0                               0.0  0.0  ...         0.0   \n2                0.0                               0.0  0.0  ...         0.0   \n3     Unity, Blender  Subtitles, Configurable controls  0.0  ...         0.0   \n4                0.0                               0.0  0.0  ...         0.0   \n...              ...                               ...  ...  ...         ...   \n5492             0.0                               0.0  0.0  ...         0.0   \n5493           Twine                               0.0  0.0  ...         0.0   \n5494          Ren'Py                               0.0  0.0  ...         0.0   \n5495             0.0                               0.0  0.0  ...         0.0   \n5496       RPG Maker                               0.0  0.0  ...         0.0   \n\n      ue5  drugs  doll-maker  Dark Fantasy  jack-king-spooner  warioware  \\\n0     0.0    0.0         0.0           0.0                0.0        0.0   \n1     0.0    0.0         0.0           0.0                0.0        0.0   \n2     0.0    0.0         0.0           0.0                0.0        0.0   \n3     0.0    0.0         0.0           0.0                0.0        0.0   \n4     0.0    0.0         0.0           0.0                0.0        0.0   \n...   ...    ...         ...           ...                ...        ...   \n5492  0.0    0.0         0.0           0.0                0.0        0.0   \n5493  0.0    0.0         0.0           0.0                0.0        0.0   \n5494  0.0    0.0         0.0           0.0                0.0        0.0   \n5495  0.0    0.0         0.0           0.0                0.0        0.0   \n5496  0.0    0.0         0.0           0.0                0.0        0.0   \n\n      office  euclidean-orbifold  Sandbox  \n0        0.0                 0.0      0.0  \n1        0.0                 0.0      0.0  \n2        0.0                 0.0      0.0  \n3        0.0                 0.0      0.0  \n4        0.0                 0.0      0.0  \n...      ...                 ...      ...  \n5492     0.0                 0.0      0.0  \n5493     0.0                 0.0      0.0  \n5494     0.0                 0.0      0.0  \n5495     0.0                 0.0      0.0  \n5496     0.0                 0.0      0.0  \n\n[5497 rows x 1525 columns]",
      "text/html": "<div>\n<style scoped>\n    .dataframe tbody tr th:only-of-type {\n        vertical-align: middle;\n    }\n\n    .dataframe tbody tr th {\n        vertical-align: top;\n    }\n\n    .dataframe thead th {\n        text-align: right;\n    }\n</style>\n<table border=\"1\" class=\"dataframe\">\n  <thead>\n    <tr style=\"text-align: right;\">\n      <th></th>\n      <th>level_0</th>\n      <th>title</th>\n      <th>author</th>\n      <th>price</th>\n      <th>url</th>\n      <th>status</th>\n      <th>rating</th>\n      <th>made_with</th>\n      <th>accessibility</th>\n      <th>ASL</th>\n      <th>...</th>\n      <th>everything</th>\n      <th>ue5</th>\n      <th>drugs</th>\n      <th>doll-maker</th>\n      <th>Dark Fantasy</th>\n      <th>jack-king-spooner</th>\n      <th>warioware</th>\n      <th>office</th>\n      <th>euclidean-orbifold</th>\n      <th>Sandbox</th>\n    </tr>\n  </thead>\n  <tbody>\n    <tr>\n      <th>0</th>\n      <td>2</td>\n      <td>Logica Emotica</td>\n      <td>bartbonte</td>\n      <td>$2.99</td>\n      <td>https://bartbonte.itch.io/logica-emotica</td>\n      <td>2.0</td>\n      <td>4.0</td>\n      <td>0.0</td>\n      <td>0.0</td>\n      <td>0.0</td>\n      <td>...</td>\n      <td>0.0</td>\n      <td>0.0</td>\n      <td>0.0</td>\n      <td>0.0</td>\n      <td>0.0</td>\n      <td>0.0</td>\n      <td>0.0</td>\n      <td>0.0</td>\n      <td>0.0</td>\n      <td>0.0</td>\n    </tr>\n    <tr>\n      <th>1</th>\n      <td>4</td>\n      <td>Sanevol Incident 44</td>\n      <td>AzaGameStudio</td>\n      <td>$2.99</td>\n      <td>https://azagamestudio.itch.io/sanevol-incident-44</td>\n      <td>2.0</td>\n      <td>5.0</td>\n      <td>0.0</td>\n      <td>0.0</td>\n      <td>0.0</td>\n      <td>...</td>\n      <td>0.0</td>\n      <td>0.0</td>\n      <td>0.0</td>\n      <td>0.0</td>\n      <td>0.0</td>\n      <td>0.0</td>\n      <td>0.0</td>\n      <td>0.0</td>\n      <td>0.0</td>\n      <td>0.0</td>\n    </tr>\n    <tr>\n      <th>2</th>\n      <td>17</td>\n      <td>Axis Mundi</td>\n      <td>Philisophic Games</td>\n      <td>$2.50</td>\n      <td>https://philisophic-games.itch.io/axis-mundi</td>\n      <td>2.0</td>\n      <td>5.0</td>\n      <td>0.0</td>\n      <td>0.0</td>\n      <td>0.0</td>\n      <td>...</td>\n      <td>0.0</td>\n      <td>0.0</td>\n      <td>0.0</td>\n      <td>0.0</td>\n      <td>0.0</td>\n      <td>0.0</td>\n      <td>0.0</td>\n      <td>0.0</td>\n      <td>0.0</td>\n      <td>0.0</td>\n    </tr>\n    <tr>\n      <th>3</th>\n      <td>18</td>\n      <td>The True Ingredients</td>\n      <td>RenderPi</td>\n      <td>$4.01</td>\n      <td>https://renderpi.itch.io/the-true-ingredients</td>\n      <td>2.0</td>\n      <td>3.0</td>\n      <td>Unity, Blender</td>\n      <td>Subtitles, Configurable controls</td>\n      <td>0.0</td>\n      <td>...</td>\n      <td>0.0</td>\n      <td>0.0</td>\n      <td>0.0</td>\n      <td>0.0</td>\n      <td>0.0</td>\n      <td>0.0</td>\n      <td>0.0</td>\n      <td>0.0</td>\n      <td>0.0</td>\n      <td>0.0</td>\n    </tr>\n    <tr>\n      <th>4</th>\n      <td>20</td>\n      <td>Camp Palut: A Queer Mystery</td>\n      <td>Bearly Playing Games</td>\n      <td>$13.99</td>\n      <td>https://bearly-playing-games.itch.io/camp-palut</td>\n      <td>2.0</td>\n      <td>5.0</td>\n      <td>0.0</td>\n      <td>0.0</td>\n      <td>0.0</td>\n      <td>...</td>\n      <td>0.0</td>\n      <td>0.0</td>\n      <td>0.0</td>\n      <td>0.0</td>\n      <td>0.0</td>\n      <td>0.0</td>\n      <td>0.0</td>\n      <td>0.0</td>\n      <td>0.0</td>\n      <td>0.0</td>\n    </tr>\n    <tr>\n      <th>...</th>\n      <td>...</td>\n      <td>...</td>\n      <td>...</td>\n      <td>...</td>\n      <td>...</td>\n      <td>...</td>\n      <td>...</td>\n      <td>...</td>\n      <td>...</td>\n      <td>...</td>\n      <td>...</td>\n      <td>...</td>\n      <td>...</td>\n      <td>...</td>\n      <td>...</td>\n      <td>...</td>\n      <td>...</td>\n      <td>...</td>\n      <td>...</td>\n      <td>...</td>\n      <td>...</td>\n    </tr>\n    <tr>\n      <th>5492</th>\n      <td>7475</td>\n      <td>Stay?</td>\n      <td>ejadelomax</td>\n      <td>0.0</td>\n      <td>https://ejadelomax.itch.io/stay</td>\n      <td>2.0</td>\n      <td>4.9</td>\n      <td>0.0</td>\n      <td>0.0</td>\n      <td>0.0</td>\n      <td>...</td>\n      <td>0.0</td>\n      <td>0.0</td>\n      <td>0.0</td>\n      <td>0.0</td>\n      <td>0.0</td>\n      <td>0.0</td>\n      <td>0.0</td>\n      <td>0.0</td>\n      <td>0.0</td>\n      <td>0.0</td>\n    </tr>\n    <tr>\n      <th>5493</th>\n      <td>7476</td>\n      <td>Arc Symphony</td>\n      <td>Aether Interactive</td>\n      <td>$2.99</td>\n      <td>https://aetherinteractive.itch.io/arc-symphony</td>\n      <td>2.0</td>\n      <td>4.5</td>\n      <td>Twine</td>\n      <td>0.0</td>\n      <td>0.0</td>\n      <td>...</td>\n      <td>0.0</td>\n      <td>0.0</td>\n      <td>0.0</td>\n      <td>0.0</td>\n      <td>0.0</td>\n      <td>0.0</td>\n      <td>0.0</td>\n      <td>0.0</td>\n      <td>0.0</td>\n      <td>0.0</td>\n    </tr>\n    <tr>\n      <th>5494</th>\n      <td>7477</td>\n      <td>Sounds of Her Love ~We'll always be together~</td>\n      <td>ds-sans</td>\n      <td>0.0</td>\n      <td>https://ds-sans.itch.io/soundsofherlove-wabt</td>\n      <td>2.0</td>\n      <td>4.4</td>\n      <td>Ren'Py</td>\n      <td>0.0</td>\n      <td>0.0</td>\n      <td>...</td>\n      <td>0.0</td>\n      <td>0.0</td>\n      <td>0.0</td>\n      <td>0.0</td>\n      <td>0.0</td>\n      <td>0.0</td>\n      <td>0.0</td>\n      <td>0.0</td>\n      <td>0.0</td>\n      <td>0.0</td>\n    </tr>\n    <tr>\n      <th>5495</th>\n      <td>7478</td>\n      <td>I'm Still Here</td>\n      <td>Cozy Game Pals</td>\n      <td>0.0</td>\n      <td>https://cozygamepals.itch.io/im-still-here</td>\n      <td>2.0</td>\n      <td>4.3</td>\n      <td>0.0</td>\n      <td>0.0</td>\n      <td>0.0</td>\n      <td>...</td>\n      <td>0.0</td>\n      <td>0.0</td>\n      <td>0.0</td>\n      <td>0.0</td>\n      <td>0.0</td>\n      <td>0.0</td>\n      <td>0.0</td>\n      <td>0.0</td>\n      <td>0.0</td>\n      <td>0.0</td>\n    </tr>\n    <tr>\n      <th>5496</th>\n      <td>7479</td>\n      <td>Cohabitation</td>\n      <td>AlgebraFalcon</td>\n      <td>0.0</td>\n      <td>https://algebrafalcon.itch.io/cohabitation</td>\n      <td>2.0</td>\n      <td>4.8</td>\n      <td>RPG Maker</td>\n      <td>0.0</td>\n      <td>0.0</td>\n      <td>...</td>\n      <td>0.0</td>\n      <td>0.0</td>\n      <td>0.0</td>\n      <td>0.0</td>\n      <td>0.0</td>\n      <td>0.0</td>\n      <td>0.0</td>\n      <td>0.0</td>\n      <td>0.0</td>\n      <td>0.0</td>\n    </tr>\n  </tbody>\n</table>\n<p>5497 rows × 1525 columns</p>\n</div>"
     },
     "execution_count": 15,
     "metadata": {},
     "output_type": "execute_result"
    }
   ],
   "source": [
    "df2"
   ],
   "metadata": {
    "collapsed": false,
    "pycharm": {
     "name": "#%%\n"
    }
   }
  },
  {
   "cell_type": "code",
   "execution_count": null,
   "outputs": [],
   "source": [
    "for col in to_drop:\n",
    "    df2 = df2.drop(col, axis=1)\n",
    "df2"
   ],
   "metadata": {
    "collapsed": false,
    "pycharm": {
     "name": "#%%\n"
    }
   }
  },
  {
   "cell_type": "code",
   "execution_count": 16,
   "outputs": [
    {
     "name": "stderr",
     "output_type": "stream",
     "text": [
      "C:\\Users\\User\\AppData\\Local\\Temp\\ipykernel_5308\\20728049.py:2: FutureWarning: The default value of regex will change from True to False in a future version. In addition, single character regular expressions will *not* be treated as literal strings when regex=True.\n",
      "  df2['price'] = df2['price'].str.replace('$','')\n",
      "C:\\Users\\User\\AppData\\Local\\Temp\\ipykernel_5308\\20728049.py:3: SettingWithCopyWarning: \n",
      "A value is trying to be set on a copy of a slice from a DataFrame\n",
      "\n",
      "See the caveats in the documentation: https://pandas.pydata.org/pandas-docs/stable/user_guide/indexing.html#returning-a-view-versus-a-copy\n",
      "  df2.accessibility[df2.accessibility != 0] = 1\n"
     ]
    },
    {
     "data": {
      "text/plain": "                                              title                author  \\\n0                                    Logica Emotica             bartbonte   \n1                               Sanevol Incident 44         AzaGameStudio   \n2                                        Axis Mundi     Philisophic Games   \n3                              The True Ingredients              RenderPi   \n4                       Camp Palut: A Queer Mystery  Bearly Playing Games   \n...                                             ...                   ...   \n5492                                          Stay?            ejadelomax   \n5493                                   Arc Symphony    Aether Interactive   \n5494  Sounds of Her Love ~We'll always be together~               ds-sans   \n5495                                 I'm Still Here        Cozy Game Pals   \n5496                                   Cohabitation         AlgebraFalcon   \n\n      price                                                url  status  \\\n0      2.99           https://bartbonte.itch.io/logica-emotica     2.0   \n1      2.99  https://azagamestudio.itch.io/sanevol-incident-44     2.0   \n2      2.50       https://philisophic-games.itch.io/axis-mundi     2.0   \n3      4.01      https://renderpi.itch.io/the-true-ingredients     2.0   \n4     13.99    https://bearly-playing-games.itch.io/camp-palut     2.0   \n...     ...                                                ...     ...   \n5492    NaN                    https://ejadelomax.itch.io/stay     2.0   \n5493   2.99     https://aetherinteractive.itch.io/arc-symphony     2.0   \n5494    NaN       https://ds-sans.itch.io/soundsofherlove-wabt     2.0   \n5495    NaN         https://cozygamepals.itch.io/im-still-here     2.0   \n5496    NaN         https://algebrafalcon.itch.io/cohabitation     2.0   \n\n      rating       made_with accessibility  ASL  HTML5  ...  everything  ue5  \\\n0        4.0             0.0           0.0  0.0    0.0  ...         0.0  0.0   \n1        5.0             0.0           0.0  0.0    0.0  ...         0.0  0.0   \n2        5.0             0.0           0.0  0.0    0.0  ...         0.0  0.0   \n3        3.0  Unity, Blender             1  0.0    0.0  ...         0.0  0.0   \n4        5.0             0.0           0.0  0.0    0.0  ...         0.0  0.0   \n...      ...             ...           ...  ...    ...  ...         ...  ...   \n5492     4.9             0.0           0.0  0.0    1.0  ...         0.0  0.0   \n5493     4.5           Twine           0.0  0.0    0.0  ...         0.0  0.0   \n5494     4.4          Ren'Py           0.0  0.0    0.0  ...         0.0  0.0   \n5495     4.3             0.0           0.0  0.0    0.0  ...         0.0  0.0   \n5496     4.8       RPG Maker           0.0  0.0    1.0  ...         0.0  0.0   \n\n      drugs  doll-maker  Dark Fantasy  jack-king-spooner  warioware  office  \\\n0       0.0         0.0           0.0                0.0        0.0     0.0   \n1       0.0         0.0           0.0                0.0        0.0     0.0   \n2       0.0         0.0           0.0                0.0        0.0     0.0   \n3       0.0         0.0           0.0                0.0        0.0     0.0   \n4       0.0         0.0           0.0                0.0        0.0     0.0   \n...     ...         ...           ...                ...        ...     ...   \n5492    0.0         0.0           0.0                0.0        0.0     0.0   \n5493    0.0         0.0           0.0                0.0        0.0     0.0   \n5494    0.0         0.0           0.0                0.0        0.0     0.0   \n5495    0.0         0.0           0.0                0.0        0.0     0.0   \n5496    0.0         0.0           0.0                0.0        0.0     0.0   \n\n      euclidean-orbifold  Sandbox  \n0                    0.0      0.0  \n1                    0.0      0.0  \n2                    0.0      0.0  \n3                    0.0      0.0  \n4                    0.0      0.0  \n...                  ...      ...  \n5492                 0.0      0.0  \n5493                 0.0      0.0  \n5494                 0.0      0.0  \n5495                 0.0      0.0  \n5496                 0.0      0.0  \n\n[5497 rows x 1524 columns]",
      "text/html": "<div>\n<style scoped>\n    .dataframe tbody tr th:only-of-type {\n        vertical-align: middle;\n    }\n\n    .dataframe tbody tr th {\n        vertical-align: top;\n    }\n\n    .dataframe thead th {\n        text-align: right;\n    }\n</style>\n<table border=\"1\" class=\"dataframe\">\n  <thead>\n    <tr style=\"text-align: right;\">\n      <th></th>\n      <th>title</th>\n      <th>author</th>\n      <th>price</th>\n      <th>url</th>\n      <th>status</th>\n      <th>rating</th>\n      <th>made_with</th>\n      <th>accessibility</th>\n      <th>ASL</th>\n      <th>HTML5</th>\n      <th>...</th>\n      <th>everything</th>\n      <th>ue5</th>\n      <th>drugs</th>\n      <th>doll-maker</th>\n      <th>Dark Fantasy</th>\n      <th>jack-king-spooner</th>\n      <th>warioware</th>\n      <th>office</th>\n      <th>euclidean-orbifold</th>\n      <th>Sandbox</th>\n    </tr>\n  </thead>\n  <tbody>\n    <tr>\n      <th>0</th>\n      <td>Logica Emotica</td>\n      <td>bartbonte</td>\n      <td>2.99</td>\n      <td>https://bartbonte.itch.io/logica-emotica</td>\n      <td>2.0</td>\n      <td>4.0</td>\n      <td>0.0</td>\n      <td>0.0</td>\n      <td>0.0</td>\n      <td>0.0</td>\n      <td>...</td>\n      <td>0.0</td>\n      <td>0.0</td>\n      <td>0.0</td>\n      <td>0.0</td>\n      <td>0.0</td>\n      <td>0.0</td>\n      <td>0.0</td>\n      <td>0.0</td>\n      <td>0.0</td>\n      <td>0.0</td>\n    </tr>\n    <tr>\n      <th>1</th>\n      <td>Sanevol Incident 44</td>\n      <td>AzaGameStudio</td>\n      <td>2.99</td>\n      <td>https://azagamestudio.itch.io/sanevol-incident-44</td>\n      <td>2.0</td>\n      <td>5.0</td>\n      <td>0.0</td>\n      <td>0.0</td>\n      <td>0.0</td>\n      <td>0.0</td>\n      <td>...</td>\n      <td>0.0</td>\n      <td>0.0</td>\n      <td>0.0</td>\n      <td>0.0</td>\n      <td>0.0</td>\n      <td>0.0</td>\n      <td>0.0</td>\n      <td>0.0</td>\n      <td>0.0</td>\n      <td>0.0</td>\n    </tr>\n    <tr>\n      <th>2</th>\n      <td>Axis Mundi</td>\n      <td>Philisophic Games</td>\n      <td>2.50</td>\n      <td>https://philisophic-games.itch.io/axis-mundi</td>\n      <td>2.0</td>\n      <td>5.0</td>\n      <td>0.0</td>\n      <td>0.0</td>\n      <td>0.0</td>\n      <td>0.0</td>\n      <td>...</td>\n      <td>0.0</td>\n      <td>0.0</td>\n      <td>0.0</td>\n      <td>0.0</td>\n      <td>0.0</td>\n      <td>0.0</td>\n      <td>0.0</td>\n      <td>0.0</td>\n      <td>0.0</td>\n      <td>0.0</td>\n    </tr>\n    <tr>\n      <th>3</th>\n      <td>The True Ingredients</td>\n      <td>RenderPi</td>\n      <td>4.01</td>\n      <td>https://renderpi.itch.io/the-true-ingredients</td>\n      <td>2.0</td>\n      <td>3.0</td>\n      <td>Unity, Blender</td>\n      <td>1</td>\n      <td>0.0</td>\n      <td>0.0</td>\n      <td>...</td>\n      <td>0.0</td>\n      <td>0.0</td>\n      <td>0.0</td>\n      <td>0.0</td>\n      <td>0.0</td>\n      <td>0.0</td>\n      <td>0.0</td>\n      <td>0.0</td>\n      <td>0.0</td>\n      <td>0.0</td>\n    </tr>\n    <tr>\n      <th>4</th>\n      <td>Camp Palut: A Queer Mystery</td>\n      <td>Bearly Playing Games</td>\n      <td>13.99</td>\n      <td>https://bearly-playing-games.itch.io/camp-palut</td>\n      <td>2.0</td>\n      <td>5.0</td>\n      <td>0.0</td>\n      <td>0.0</td>\n      <td>0.0</td>\n      <td>0.0</td>\n      <td>...</td>\n      <td>0.0</td>\n      <td>0.0</td>\n      <td>0.0</td>\n      <td>0.0</td>\n      <td>0.0</td>\n      <td>0.0</td>\n      <td>0.0</td>\n      <td>0.0</td>\n      <td>0.0</td>\n      <td>0.0</td>\n    </tr>\n    <tr>\n      <th>...</th>\n      <td>...</td>\n      <td>...</td>\n      <td>...</td>\n      <td>...</td>\n      <td>...</td>\n      <td>...</td>\n      <td>...</td>\n      <td>...</td>\n      <td>...</td>\n      <td>...</td>\n      <td>...</td>\n      <td>...</td>\n      <td>...</td>\n      <td>...</td>\n      <td>...</td>\n      <td>...</td>\n      <td>...</td>\n      <td>...</td>\n      <td>...</td>\n      <td>...</td>\n      <td>...</td>\n    </tr>\n    <tr>\n      <th>5492</th>\n      <td>Stay?</td>\n      <td>ejadelomax</td>\n      <td>NaN</td>\n      <td>https://ejadelomax.itch.io/stay</td>\n      <td>2.0</td>\n      <td>4.9</td>\n      <td>0.0</td>\n      <td>0.0</td>\n      <td>0.0</td>\n      <td>1.0</td>\n      <td>...</td>\n      <td>0.0</td>\n      <td>0.0</td>\n      <td>0.0</td>\n      <td>0.0</td>\n      <td>0.0</td>\n      <td>0.0</td>\n      <td>0.0</td>\n      <td>0.0</td>\n      <td>0.0</td>\n      <td>0.0</td>\n    </tr>\n    <tr>\n      <th>5493</th>\n      <td>Arc Symphony</td>\n      <td>Aether Interactive</td>\n      <td>2.99</td>\n      <td>https://aetherinteractive.itch.io/arc-symphony</td>\n      <td>2.0</td>\n      <td>4.5</td>\n      <td>Twine</td>\n      <td>0.0</td>\n      <td>0.0</td>\n      <td>0.0</td>\n      <td>...</td>\n      <td>0.0</td>\n      <td>0.0</td>\n      <td>0.0</td>\n      <td>0.0</td>\n      <td>0.0</td>\n      <td>0.0</td>\n      <td>0.0</td>\n      <td>0.0</td>\n      <td>0.0</td>\n      <td>0.0</td>\n    </tr>\n    <tr>\n      <th>5494</th>\n      <td>Sounds of Her Love ~We'll always be together~</td>\n      <td>ds-sans</td>\n      <td>NaN</td>\n      <td>https://ds-sans.itch.io/soundsofherlove-wabt</td>\n      <td>2.0</td>\n      <td>4.4</td>\n      <td>Ren'Py</td>\n      <td>0.0</td>\n      <td>0.0</td>\n      <td>0.0</td>\n      <td>...</td>\n      <td>0.0</td>\n      <td>0.0</td>\n      <td>0.0</td>\n      <td>0.0</td>\n      <td>0.0</td>\n      <td>0.0</td>\n      <td>0.0</td>\n      <td>0.0</td>\n      <td>0.0</td>\n      <td>0.0</td>\n    </tr>\n    <tr>\n      <th>5495</th>\n      <td>I'm Still Here</td>\n      <td>Cozy Game Pals</td>\n      <td>NaN</td>\n      <td>https://cozygamepals.itch.io/im-still-here</td>\n      <td>2.0</td>\n      <td>4.3</td>\n      <td>0.0</td>\n      <td>0.0</td>\n      <td>0.0</td>\n      <td>0.0</td>\n      <td>...</td>\n      <td>0.0</td>\n      <td>0.0</td>\n      <td>0.0</td>\n      <td>0.0</td>\n      <td>0.0</td>\n      <td>0.0</td>\n      <td>0.0</td>\n      <td>0.0</td>\n      <td>0.0</td>\n      <td>0.0</td>\n    </tr>\n    <tr>\n      <th>5496</th>\n      <td>Cohabitation</td>\n      <td>AlgebraFalcon</td>\n      <td>NaN</td>\n      <td>https://algebrafalcon.itch.io/cohabitation</td>\n      <td>2.0</td>\n      <td>4.8</td>\n      <td>RPG Maker</td>\n      <td>0.0</td>\n      <td>0.0</td>\n      <td>1.0</td>\n      <td>...</td>\n      <td>0.0</td>\n      <td>0.0</td>\n      <td>0.0</td>\n      <td>0.0</td>\n      <td>0.0</td>\n      <td>0.0</td>\n      <td>0.0</td>\n      <td>0.0</td>\n      <td>0.0</td>\n      <td>0.0</td>\n    </tr>\n  </tbody>\n</table>\n<p>5497 rows × 1524 columns</p>\n</div>"
     },
     "execution_count": 16,
     "metadata": {},
     "output_type": "execute_result"
    }
   ],
   "source": [
    "df2=df2.drop(['level_0','url','author','made_with','ASL'],axis=1)\n",
    "df2['price'] = df2['price'].str.replace('$','')\n",
    "df2.accessibility[df2.accessibility != 0] = 1\n",
    "df2"
   ],
   "metadata": {
    "collapsed": false,
    "pycharm": {
     "name": "#%%\n"
    }
   }
  },
  {
   "cell_type": "code",
   "execution_count": 19,
   "outputs": [],
   "source": [
    "\n",
    "df2.to_csv('results_final.tsv', sep='\\t')"
   ],
   "metadata": {
    "collapsed": false,
    "pycharm": {
     "name": "#%%\n"
    }
   }
  },
  {
   "cell_type": "code",
   "execution_count": 17,
   "outputs": [],
   "source": [
    "df2=df2.drop(['url','author','made_with','ASL'],axis=1)"
   ],
   "metadata": {
    "collapsed": false,
    "pycharm": {
     "name": "#%%\n"
    }
   }
  },
  {
   "cell_type": "code",
   "execution_count": 18,
   "outputs": [
    {
     "data": {
      "text/plain": "                                              title  price  status  rating  \\\n0                                    Logica Emotica   2.99     2.0     4.0   \n1                               Sanevol Incident 44   2.99     2.0     5.0   \n2                                        Axis Mundi   2.50     2.0     5.0   \n3                              The True Ingredients   4.01     2.0     3.0   \n4                       Camp Palut: A Queer Mystery  13.99     2.0     5.0   \n...                                             ...    ...     ...     ...   \n5492                                          Stay?    NaN     2.0     4.9   \n5493                                   Arc Symphony   2.99     2.0     4.5   \n5494  Sounds of Her Love ~We'll always be together~    NaN     2.0     4.4   \n5495                                 I'm Still Here    NaN     2.0     4.3   \n5496                                   Cohabitation    NaN     2.0     4.8   \n\n     accessibility  HTML5  Flash  Unity  macOS  Linux  ...  everything  ue5  \\\n0              0.0    0.0    0.0    0.0    0.0    0.0  ...         0.0  0.0   \n1              0.0    0.0    0.0    0.0    0.0    0.0  ...         0.0  0.0   \n2              0.0    0.0    0.0    0.0    0.0    0.0  ...         0.0  0.0   \n3                1    0.0    0.0    0.0    1.0    1.0  ...         0.0  0.0   \n4              0.0    0.0    0.0    0.0    1.0    1.0  ...         0.0  0.0   \n...            ...    ...    ...    ...    ...    ...  ...         ...  ...   \n5492           0.0    1.0    0.0    0.0    0.0    0.0  ...         0.0  0.0   \n5493           0.0    0.0    0.0    0.0    1.0    1.0  ...         0.0  0.0   \n5494           0.0    0.0    0.0    0.0    1.0    1.0  ...         0.0  0.0   \n5495           0.0    0.0    0.0    0.0    1.0    1.0  ...         0.0  0.0   \n5496           0.0    1.0    0.0    0.0    1.0    0.0  ...         0.0  0.0   \n\n      drugs  doll-maker  Dark Fantasy  jack-king-spooner  warioware  office  \\\n0       0.0         0.0           0.0                0.0        0.0     0.0   \n1       0.0         0.0           0.0                0.0        0.0     0.0   \n2       0.0         0.0           0.0                0.0        0.0     0.0   \n3       0.0         0.0           0.0                0.0        0.0     0.0   \n4       0.0         0.0           0.0                0.0        0.0     0.0   \n...     ...         ...           ...                ...        ...     ...   \n5492    0.0         0.0           0.0                0.0        0.0     0.0   \n5493    0.0         0.0           0.0                0.0        0.0     0.0   \n5494    0.0         0.0           0.0                0.0        0.0     0.0   \n5495    0.0         0.0           0.0                0.0        0.0     0.0   \n5496    0.0         0.0           0.0                0.0        0.0     0.0   \n\n      euclidean-orbifold  Sandbox  \n0                    0.0      0.0  \n1                    0.0      0.0  \n2                    0.0      0.0  \n3                    0.0      0.0  \n4                    0.0      0.0  \n...                  ...      ...  \n5492                 0.0      0.0  \n5493                 0.0      0.0  \n5494                 0.0      0.0  \n5495                 0.0      0.0  \n5496                 0.0      0.0  \n\n[5497 rows x 1520 columns]",
      "text/html": "<div>\n<style scoped>\n    .dataframe tbody tr th:only-of-type {\n        vertical-align: middle;\n    }\n\n    .dataframe tbody tr th {\n        vertical-align: top;\n    }\n\n    .dataframe thead th {\n        text-align: right;\n    }\n</style>\n<table border=\"1\" class=\"dataframe\">\n  <thead>\n    <tr style=\"text-align: right;\">\n      <th></th>\n      <th>title</th>\n      <th>price</th>\n      <th>status</th>\n      <th>rating</th>\n      <th>accessibility</th>\n      <th>HTML5</th>\n      <th>Flash</th>\n      <th>Unity</th>\n      <th>macOS</th>\n      <th>Linux</th>\n      <th>...</th>\n      <th>everything</th>\n      <th>ue5</th>\n      <th>drugs</th>\n      <th>doll-maker</th>\n      <th>Dark Fantasy</th>\n      <th>jack-king-spooner</th>\n      <th>warioware</th>\n      <th>office</th>\n      <th>euclidean-orbifold</th>\n      <th>Sandbox</th>\n    </tr>\n  </thead>\n  <tbody>\n    <tr>\n      <th>0</th>\n      <td>Logica Emotica</td>\n      <td>2.99</td>\n      <td>2.0</td>\n      <td>4.0</td>\n      <td>0.0</td>\n      <td>0.0</td>\n      <td>0.0</td>\n      <td>0.0</td>\n      <td>0.0</td>\n      <td>0.0</td>\n      <td>...</td>\n      <td>0.0</td>\n      <td>0.0</td>\n      <td>0.0</td>\n      <td>0.0</td>\n      <td>0.0</td>\n      <td>0.0</td>\n      <td>0.0</td>\n      <td>0.0</td>\n      <td>0.0</td>\n      <td>0.0</td>\n    </tr>\n    <tr>\n      <th>1</th>\n      <td>Sanevol Incident 44</td>\n      <td>2.99</td>\n      <td>2.0</td>\n      <td>5.0</td>\n      <td>0.0</td>\n      <td>0.0</td>\n      <td>0.0</td>\n      <td>0.0</td>\n      <td>0.0</td>\n      <td>0.0</td>\n      <td>...</td>\n      <td>0.0</td>\n      <td>0.0</td>\n      <td>0.0</td>\n      <td>0.0</td>\n      <td>0.0</td>\n      <td>0.0</td>\n      <td>0.0</td>\n      <td>0.0</td>\n      <td>0.0</td>\n      <td>0.0</td>\n    </tr>\n    <tr>\n      <th>2</th>\n      <td>Axis Mundi</td>\n      <td>2.50</td>\n      <td>2.0</td>\n      <td>5.0</td>\n      <td>0.0</td>\n      <td>0.0</td>\n      <td>0.0</td>\n      <td>0.0</td>\n      <td>0.0</td>\n      <td>0.0</td>\n      <td>...</td>\n      <td>0.0</td>\n      <td>0.0</td>\n      <td>0.0</td>\n      <td>0.0</td>\n      <td>0.0</td>\n      <td>0.0</td>\n      <td>0.0</td>\n      <td>0.0</td>\n      <td>0.0</td>\n      <td>0.0</td>\n    </tr>\n    <tr>\n      <th>3</th>\n      <td>The True Ingredients</td>\n      <td>4.01</td>\n      <td>2.0</td>\n      <td>3.0</td>\n      <td>1</td>\n      <td>0.0</td>\n      <td>0.0</td>\n      <td>0.0</td>\n      <td>1.0</td>\n      <td>1.0</td>\n      <td>...</td>\n      <td>0.0</td>\n      <td>0.0</td>\n      <td>0.0</td>\n      <td>0.0</td>\n      <td>0.0</td>\n      <td>0.0</td>\n      <td>0.0</td>\n      <td>0.0</td>\n      <td>0.0</td>\n      <td>0.0</td>\n    </tr>\n    <tr>\n      <th>4</th>\n      <td>Camp Palut: A Queer Mystery</td>\n      <td>13.99</td>\n      <td>2.0</td>\n      <td>5.0</td>\n      <td>0.0</td>\n      <td>0.0</td>\n      <td>0.0</td>\n      <td>0.0</td>\n      <td>1.0</td>\n      <td>1.0</td>\n      <td>...</td>\n      <td>0.0</td>\n      <td>0.0</td>\n      <td>0.0</td>\n      <td>0.0</td>\n      <td>0.0</td>\n      <td>0.0</td>\n      <td>0.0</td>\n      <td>0.0</td>\n      <td>0.0</td>\n      <td>0.0</td>\n    </tr>\n    <tr>\n      <th>...</th>\n      <td>...</td>\n      <td>...</td>\n      <td>...</td>\n      <td>...</td>\n      <td>...</td>\n      <td>...</td>\n      <td>...</td>\n      <td>...</td>\n      <td>...</td>\n      <td>...</td>\n      <td>...</td>\n      <td>...</td>\n      <td>...</td>\n      <td>...</td>\n      <td>...</td>\n      <td>...</td>\n      <td>...</td>\n      <td>...</td>\n      <td>...</td>\n      <td>...</td>\n      <td>...</td>\n    </tr>\n    <tr>\n      <th>5492</th>\n      <td>Stay?</td>\n      <td>NaN</td>\n      <td>2.0</td>\n      <td>4.9</td>\n      <td>0.0</td>\n      <td>1.0</td>\n      <td>0.0</td>\n      <td>0.0</td>\n      <td>0.0</td>\n      <td>0.0</td>\n      <td>...</td>\n      <td>0.0</td>\n      <td>0.0</td>\n      <td>0.0</td>\n      <td>0.0</td>\n      <td>0.0</td>\n      <td>0.0</td>\n      <td>0.0</td>\n      <td>0.0</td>\n      <td>0.0</td>\n      <td>0.0</td>\n    </tr>\n    <tr>\n      <th>5493</th>\n      <td>Arc Symphony</td>\n      <td>2.99</td>\n      <td>2.0</td>\n      <td>4.5</td>\n      <td>0.0</td>\n      <td>0.0</td>\n      <td>0.0</td>\n      <td>0.0</td>\n      <td>1.0</td>\n      <td>1.0</td>\n      <td>...</td>\n      <td>0.0</td>\n      <td>0.0</td>\n      <td>0.0</td>\n      <td>0.0</td>\n      <td>0.0</td>\n      <td>0.0</td>\n      <td>0.0</td>\n      <td>0.0</td>\n      <td>0.0</td>\n      <td>0.0</td>\n    </tr>\n    <tr>\n      <th>5494</th>\n      <td>Sounds of Her Love ~We'll always be together~</td>\n      <td>NaN</td>\n      <td>2.0</td>\n      <td>4.4</td>\n      <td>0.0</td>\n      <td>0.0</td>\n      <td>0.0</td>\n      <td>0.0</td>\n      <td>1.0</td>\n      <td>1.0</td>\n      <td>...</td>\n      <td>0.0</td>\n      <td>0.0</td>\n      <td>0.0</td>\n      <td>0.0</td>\n      <td>0.0</td>\n      <td>0.0</td>\n      <td>0.0</td>\n      <td>0.0</td>\n      <td>0.0</td>\n      <td>0.0</td>\n    </tr>\n    <tr>\n      <th>5495</th>\n      <td>I'm Still Here</td>\n      <td>NaN</td>\n      <td>2.0</td>\n      <td>4.3</td>\n      <td>0.0</td>\n      <td>0.0</td>\n      <td>0.0</td>\n      <td>0.0</td>\n      <td>1.0</td>\n      <td>1.0</td>\n      <td>...</td>\n      <td>0.0</td>\n      <td>0.0</td>\n      <td>0.0</td>\n      <td>0.0</td>\n      <td>0.0</td>\n      <td>0.0</td>\n      <td>0.0</td>\n      <td>0.0</td>\n      <td>0.0</td>\n      <td>0.0</td>\n    </tr>\n    <tr>\n      <th>5496</th>\n      <td>Cohabitation</td>\n      <td>NaN</td>\n      <td>2.0</td>\n      <td>4.8</td>\n      <td>0.0</td>\n      <td>1.0</td>\n      <td>0.0</td>\n      <td>0.0</td>\n      <td>1.0</td>\n      <td>0.0</td>\n      <td>...</td>\n      <td>0.0</td>\n      <td>0.0</td>\n      <td>0.0</td>\n      <td>0.0</td>\n      <td>0.0</td>\n      <td>0.0</td>\n      <td>0.0</td>\n      <td>0.0</td>\n      <td>0.0</td>\n      <td>0.0</td>\n    </tr>\n  </tbody>\n</table>\n<p>5497 rows × 1520 columns</p>\n</div>"
     },
     "execution_count": 18,
     "metadata": {},
     "output_type": "execute_result"
    }
   ],
   "source": [
    "df2"
   ],
   "metadata": {
    "collapsed": false,
    "pycharm": {
     "name": "#%%\n"
    }
   }
  },
  {
   "cell_type": "code",
   "execution_count": 13,
   "outputs": [],
   "source": [],
   "metadata": {
    "collapsed": false,
    "pycharm": {
     "name": "#%%\n"
    }
   }
  },
  {
   "cell_type": "code",
   "execution_count": 13,
   "outputs": [],
   "source": [],
   "metadata": {
    "collapsed": false,
    "pycharm": {
     "name": "#%%\n"
    }
   }
  },
  {
   "cell_type": "code",
   "execution_count": 13,
   "outputs": [],
   "source": [],
   "metadata": {
    "collapsed": false,
    "pycharm": {
     "name": "#%%\n"
    }
   }
  },
  {
   "cell_type": "code",
   "execution_count": 13,
   "outputs": [],
   "source": [],
   "metadata": {
    "collapsed": false,
    "pycharm": {
     "name": "#%%\n"
    }
   }
  },
  {
   "cell_type": "code",
   "execution_count": 13,
   "outputs": [],
   "source": [],
   "metadata": {
    "collapsed": false,
    "pycharm": {
     "name": "#%%\n"
    }
   }
  },
  {
   "cell_type": "code",
   "execution_count": 13,
   "outputs": [],
   "source": [],
   "metadata": {
    "collapsed": false,
    "pycharm": {
     "name": "#%%\n"
    }
   }
  },
  {
   "cell_type": "code",
   "execution_count": 13,
   "outputs": [],
   "source": [],
   "metadata": {
    "collapsed": false,
    "pycharm": {
     "name": "#%%\n"
    }
   }
  },
  {
   "cell_type": "code",
   "execution_count": 13,
   "outputs": [],
   "source": [],
   "metadata": {
    "collapsed": false,
    "pycharm": {
     "name": "#%%\n"
    }
   }
  },
  {
   "cell_type": "code",
   "execution_count": 13,
   "outputs": [],
   "source": [],
   "metadata": {
    "collapsed": false,
    "pycharm": {
     "name": "#%%\n"
    }
   }
  },
  {
   "cell_type": "markdown",
   "source": [],
   "metadata": {
    "collapsed": false,
    "pycharm": {
     "name": "#%% md\n"
    }
   }
  },
  {
   "cell_type": "code",
   "execution_count": 13,
   "outputs": [],
   "source": [],
   "metadata": {
    "collapsed": false,
    "pycharm": {
     "name": "#%%\n"
    }
   }
  },
  {
   "cell_type": "code",
   "execution_count": 13,
   "outputs": [],
   "source": [
    "\n"
   ],
   "metadata": {
    "collapsed": false,
    "pycharm": {
     "name": "#%%\n"
    }
   }
  },
  {
   "cell_type": "code",
   "execution_count": 13,
   "outputs": [],
   "source": [],
   "metadata": {
    "collapsed": false,
    "pycharm": {
     "name": "#%%\n"
    }
   }
  },
  {
   "cell_type": "markdown",
   "source": [],
   "metadata": {
    "collapsed": false,
    "pycharm": {
     "name": "#%% md\n"
    }
   }
  },
  {
   "cell_type": "code",
   "execution_count": 13,
   "outputs": [],
   "source": [
    "\n"
   ],
   "metadata": {
    "collapsed": false,
    "pycharm": {
     "name": "#%%\n"
    }
   }
  },
  {
   "cell_type": "code",
   "execution_count": 14,
   "outputs": [],
   "source": [
    "#test1 = pd.read_csv(\"test.csv \",error_bad_lines=False,sep='\\t')"
   ],
   "metadata": {
    "collapsed": false,
    "pycharm": {
     "name": "#%%\n"
    }
   }
  },
  {
   "cell_type": "code",
   "execution_count": 14,
   "outputs": [],
   "source": [],
   "metadata": {
    "collapsed": false,
    "pycharm": {
     "name": "#%%\n"
    }
   }
  },
  {
   "cell_type": "code",
   "execution_count": 14,
   "outputs": [],
   "source": [],
   "metadata": {
    "collapsed": false,
    "pycharm": {
     "name": "#%%\n"
    }
   }
  },
  {
   "cell_type": "code",
   "execution_count": 14,
   "outputs": [],
   "source": [],
   "metadata": {
    "collapsed": false,
    "pycharm": {
     "name": "#%%\n"
    }
   }
  },
  {
   "cell_type": "code",
   "execution_count": 14,
   "outputs": [],
   "source": [],
   "metadata": {
    "collapsed": false,
    "pycharm": {
     "name": "#%%\n"
    }
   }
  },
  {
   "cell_type": "code",
   "execution_count": 14,
   "outputs": [],
   "source": [],
   "metadata": {
    "collapsed": false,
    "pycharm": {
     "name": "#%%\n"
    }
   }
  },
  {
   "cell_type": "markdown",
   "source": [
    "You can use the package sklearn and its associated preprocessing utilities to normalize the data."
   ],
   "metadata": {
    "collapsed": false,
    "pycharm": {
     "name": "#%% md\n"
    }
   }
  },
  {
   "cell_type": "code",
   "execution_count": 14,
   "outputs": [],
   "source": [],
   "metadata": {
    "collapsed": false,
    "pycharm": {
     "name": "#%%\n"
    }
   }
  },
  {
   "cell_type": "code",
   "execution_count": 14,
   "outputs": [],
   "source": [],
   "metadata": {
    "collapsed": false,
    "pycharm": {
     "name": "#%%\n"
    }
   }
  },
  {
   "cell_type": "code",
   "execution_count": 14,
   "outputs": [],
   "source": [],
   "metadata": {
    "collapsed": false,
    "pycharm": {
     "name": "#%%\n"
    }
   }
  }
 ],
 "metadata": {
  "kernelspec": {
   "display_name": "Python 3",
   "language": "python",
   "name": "python3"
  },
  "language_info": {
   "codemirror_mode": {
    "name": "ipython",
    "version": 2
   },
   "file_extension": ".py",
   "mimetype": "text/x-python",
   "name": "python",
   "nbconvert_exporter": "python",
   "pygments_lexer": "ipython2",
   "version": "2.7.6"
  }
 },
 "nbformat": 4,
 "nbformat_minor": 0
}