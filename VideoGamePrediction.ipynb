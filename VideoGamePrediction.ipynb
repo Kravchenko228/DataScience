{
 "cells": [
  {
   "cell_type": "markdown",
   "source": [
    "Data Handling"
   ],
   "metadata": {
    "collapsed": false,
    "pycharm": {
     "name": "#%% md\n"
    }
   }
  },
  {
   "cell_type": "code",
   "execution_count": 1,
   "outputs": [],
   "source": [
    "import matplotlib.pyplot as plt\n",
    "import numpy as np\n",
    "from matplotlib import patches\n",
    "import warnings\n",
    "import csv\n",
    "import pandas as pd\n",
    "from array import *\n",
    "#warnings.simplefilter('ignore')"
   ],
   "metadata": {
    "collapsed": false,
    "pycharm": {
     "name": "#%%import pandas as pd\n"
    }
   }
  },
  {
   "cell_type": "markdown",
   "source": [
    "Open Crawled Data csv file"
   ],
   "metadata": {
    "collapsed": false,
    "pycharm": {
     "name": "#%% md\n"
    }
   }
  },
  {
   "cell_type": "code",
   "execution_count": 2,
   "outputs": [
    {
     "data": {
      "text/plain": "                               title           author  price  \\\n0     ​Our Life: Beginnings & Always          GBPatch    NaN   \n1               Friday Night Funkin'    ninjamuffin99    NaN   \n2           Adventures With Anxiety!      Nicky Case!    NaN   \n3                     Butterfly Soup      Brianna Lei    NaN   \n4                       A Short Hike         adamgryu  $5.19   \n...                              ...              ...    ...   \n2615                         Epitaph    Max Kreminski    NaN   \n2616                         10mg :)          torcado     $3   \n2617         VTM - Heartless Lullaby  Entalto Studios    NaN   \n2618  everybody wants to be a tortle            onion    NaN   \n2619               what's your name?            jelli    NaN   \n\n                                                    url          status  \\\n0                      https://gbpatch.itch.io/our-life             NaN   \n1                 https://ninja-muffin24.itch.io/funkin  In development   \n2                         https://ncase.itch.io/anxiety        Released   \n3            https://brianna-lei.itch.io/butterfly-soup        Released   \n4                 https://adamgryu.itch.io/a-short-hike        Released   \n...                                                 ...             ...   \n2615                   https://mkremins.itch.io/epitaph        Released   \n2616                      https://torcado.itch.io/smile        Released   \n2617  https://entaltostudios.itch.io/vtm-heartless-l...        Released   \n2618                 https://le-onionboi.itch.io/tortle        Released   \n2619                    https://sxilin.itch.io/namegame        Released   \n\n                          platform  rating                made_with  \\\n0                              NaN     NaN                      NaN   \n1     Windows, macOS, Linux, HTML5     4.7  OpenFL, IndieCade, Haxe   \n2                            HTML5     4.9                      NaN   \n3            Windows, macOS, Linux     4.9                   Ren'Py   \n4            Windows, macOS, Linux     4.9                    Unity   \n...                            ...     ...                      ...   \n2615                         HTML5     4.6                      NaN   \n2616         Windows, macOS, Linux     4.9                      NaN   \n2617                Windows, macOS     4.9                    Unity   \n2618                         HTML5     4.9                    Bitsy   \n2619         Windows, macOS, Linux     4.9                      NaN   \n\n                                                   tags  \\\n0                                                   NaN   \n1                                                    2D   \n2                      Comedy, Mental Health, Narrative   \n3     2D, Anime, Female Protagonist, LGBT, Ren'Py, R...   \n4     3D, Atmospheric, Cute, Funny, nature, Relaxing...   \n...                                                 ...   \n2615  Aliens, fermijam, Procedural Generation, Text ...   \n2616  10mg, 10-minute-games, Cute, Minimalist, Short...   \n2617  Dark, Horror, Isometric, Meaningful Choices, M...   \n2618              Bitsy, everyone-is-nonbinary, turtles   \n2619                             Furry, LGBT, Narrative   \n\n                         accessibility  ASL  \n0                                  NaN  NaN  \n1                                  NaN  NaN  \n2                                  NaN  NaN  \n3                                  NaN  NaN  \n4     Subtitles, Configurable controls  NaN  \n...                                ...  ...  \n2615                               NaN  NaN  \n2616                               NaN  NaN  \n2617                         Subtitles  NaN  \n2618                               NaN  NaN  \n2619                               NaN  NaN  \n\n[2620 rows x 11 columns]",
      "text/html": "<div>\n<style scoped>\n    .dataframe tbody tr th:only-of-type {\n        vertical-align: middle;\n    }\n\n    .dataframe tbody tr th {\n        vertical-align: top;\n    }\n\n    .dataframe thead th {\n        text-align: right;\n    }\n</style>\n<table border=\"1\" class=\"dataframe\">\n  <thead>\n    <tr style=\"text-align: right;\">\n      <th></th>\n      <th>title</th>\n      <th>author</th>\n      <th>price</th>\n      <th>url</th>\n      <th>status</th>\n      <th>platform</th>\n      <th>rating</th>\n      <th>made_with</th>\n      <th>tags</th>\n      <th>accessibility</th>\n      <th>ASL</th>\n    </tr>\n  </thead>\n  <tbody>\n    <tr>\n      <th>0</th>\n      <td>​Our Life: Beginnings &amp; Always</td>\n      <td>GBPatch</td>\n      <td>NaN</td>\n      <td>https://gbpatch.itch.io/our-life</td>\n      <td>NaN</td>\n      <td>NaN</td>\n      <td>NaN</td>\n      <td>NaN</td>\n      <td>NaN</td>\n      <td>NaN</td>\n      <td>NaN</td>\n    </tr>\n    <tr>\n      <th>1</th>\n      <td>Friday Night Funkin'</td>\n      <td>ninjamuffin99</td>\n      <td>NaN</td>\n      <td>https://ninja-muffin24.itch.io/funkin</td>\n      <td>In development</td>\n      <td>Windows, macOS, Linux, HTML5</td>\n      <td>4.7</td>\n      <td>OpenFL, IndieCade, Haxe</td>\n      <td>2D</td>\n      <td>NaN</td>\n      <td>NaN</td>\n    </tr>\n    <tr>\n      <th>2</th>\n      <td>Adventures With Anxiety!</td>\n      <td>Nicky Case!</td>\n      <td>NaN</td>\n      <td>https://ncase.itch.io/anxiety</td>\n      <td>Released</td>\n      <td>HTML5</td>\n      <td>4.9</td>\n      <td>NaN</td>\n      <td>Comedy, Mental Health, Narrative</td>\n      <td>NaN</td>\n      <td>NaN</td>\n    </tr>\n    <tr>\n      <th>3</th>\n      <td>Butterfly Soup</td>\n      <td>Brianna Lei</td>\n      <td>NaN</td>\n      <td>https://brianna-lei.itch.io/butterfly-soup</td>\n      <td>Released</td>\n      <td>Windows, macOS, Linux</td>\n      <td>4.9</td>\n      <td>Ren'Py</td>\n      <td>2D, Anime, Female Protagonist, LGBT, Ren'Py, R...</td>\n      <td>NaN</td>\n      <td>NaN</td>\n    </tr>\n    <tr>\n      <th>4</th>\n      <td>A Short Hike</td>\n      <td>adamgryu</td>\n      <td>$5.19</td>\n      <td>https://adamgryu.itch.io/a-short-hike</td>\n      <td>Released</td>\n      <td>Windows, macOS, Linux</td>\n      <td>4.9</td>\n      <td>Unity</td>\n      <td>3D, Atmospheric, Cute, Funny, nature, Relaxing...</td>\n      <td>Subtitles, Configurable controls</td>\n      <td>NaN</td>\n    </tr>\n    <tr>\n      <th>...</th>\n      <td>...</td>\n      <td>...</td>\n      <td>...</td>\n      <td>...</td>\n      <td>...</td>\n      <td>...</td>\n      <td>...</td>\n      <td>...</td>\n      <td>...</td>\n      <td>...</td>\n      <td>...</td>\n    </tr>\n    <tr>\n      <th>2615</th>\n      <td>Epitaph</td>\n      <td>Max Kreminski</td>\n      <td>NaN</td>\n      <td>https://mkremins.itch.io/epitaph</td>\n      <td>Released</td>\n      <td>HTML5</td>\n      <td>4.6</td>\n      <td>NaN</td>\n      <td>Aliens, fermijam, Procedural Generation, Text ...</td>\n      <td>NaN</td>\n      <td>NaN</td>\n    </tr>\n    <tr>\n      <th>2616</th>\n      <td>10mg :)</td>\n      <td>torcado</td>\n      <td>$3</td>\n      <td>https://torcado.itch.io/smile</td>\n      <td>Released</td>\n      <td>Windows, macOS, Linux</td>\n      <td>4.9</td>\n      <td>NaN</td>\n      <td>10mg, 10-minute-games, Cute, Minimalist, Short...</td>\n      <td>NaN</td>\n      <td>NaN</td>\n    </tr>\n    <tr>\n      <th>2617</th>\n      <td>VTM - Heartless Lullaby</td>\n      <td>Entalto Studios</td>\n      <td>NaN</td>\n      <td>https://entaltostudios.itch.io/vtm-heartless-l...</td>\n      <td>Released</td>\n      <td>Windows, macOS</td>\n      <td>4.9</td>\n      <td>Unity</td>\n      <td>Dark, Horror, Isometric, Meaningful Choices, M...</td>\n      <td>Subtitles</td>\n      <td>NaN</td>\n    </tr>\n    <tr>\n      <th>2618</th>\n      <td>everybody wants to be a tortle</td>\n      <td>onion</td>\n      <td>NaN</td>\n      <td>https://le-onionboi.itch.io/tortle</td>\n      <td>Released</td>\n      <td>HTML5</td>\n      <td>4.9</td>\n      <td>Bitsy</td>\n      <td>Bitsy, everyone-is-nonbinary, turtles</td>\n      <td>NaN</td>\n      <td>NaN</td>\n    </tr>\n    <tr>\n      <th>2619</th>\n      <td>what's your name?</td>\n      <td>jelli</td>\n      <td>NaN</td>\n      <td>https://sxilin.itch.io/namegame</td>\n      <td>Released</td>\n      <td>Windows, macOS, Linux</td>\n      <td>4.9</td>\n      <td>NaN</td>\n      <td>Furry, LGBT, Narrative</td>\n      <td>NaN</td>\n      <td>NaN</td>\n    </tr>\n  </tbody>\n</table>\n<p>2620 rows × 11 columns</p>\n</div>"
     },
     "execution_count": 2,
     "metadata": {},
     "output_type": "execute_result"
    }
   ],
   "source": [
    "df = pd.read_csv(\"final_data.csv \",sep='\\t')\n",
    "#data = pd.read_csv(\"file1.csv\", error_bad_lines=False)\n",
    "df"
   ],
   "metadata": {
    "collapsed": false,
    "pycharm": {
     "name": "#%%\n"
    }
   }
  },
  {
   "cell_type": "markdown",
   "source": [],
   "metadata": {
    "collapsed": false,
    "pycharm": {
     "name": "#%% md\n"
    }
   }
  },
  {
   "cell_type": "code",
   "execution_count": 3,
   "outputs": [],
   "source": [
    "df1=df\n",
    "df1"
   ],
   "metadata": {
    "collapsed": false,
    "pycharm": {
     "name": "#%%\n"
    }
   }
  },
  {
   "cell_type": "code",
   "execution_count": 4,
   "outputs": [],
   "source": [
    "df1=df1.fillna(value = {'price': 0.0})\n",
    "df1=df1.fillna(value = {'accessibility': 0})\n",
    "df1=df1.dropna(subset=['platform','rating','tags','status'])\n",
    "df1=df1.reset_index()\n",
    "df1=df1.drop('index', axis=1)\n",
    "df1\n",
    "\n",
    "\n"
   ],
   "metadata": {
    "collapsed": false,
    "pycharm": {
     "name": "#%%\n"
    }
   }
  },
  {
   "cell_type": "code",
   "execution_count": 5,
   "outputs": [],
   "source": [
    "def column_to_bit_columns(column_name: str, base_df: pd.DataFrame):\n",
    "    cols = base_df.columns.tolist()\n",
    "    new_cols = list(set(', '.join(base_df[column_name].unique().tolist()).split(', ')))\n",
    "    cols.remove(column_name)\n",
    "    cols.extend(new_cols)\n",
    "    new_df = pd.DataFrame(columns=cols, data=base_df)\n",
    "\n",
    "    for col in new_cols:\n",
    "        new_df[col] = new_df[col].astype('float64')\n",
    "\n",
    "    for i in range(len(base_df[column_name])):\n",
    "        for col in base_df.loc[:, column_name][i].split(', '):\n",
    "            new_df.loc[:, col][i] = 1.0\n",
    "\n",
    "    return new_df.fillna(0.0)"
   ],
   "metadata": {
    "collapsed": false,
    "pycharm": {
     "name": "#%%\n"
    }
   }
  },
  {
   "cell_type": "code",
   "execution_count": 6,
   "outputs": [],
   "source": [
    "df2 = column_to_bit_columns('platform', df1)\n",
    "df2"
   ],
   "metadata": {
    "collapsed": false,
    "pycharm": {
     "name": "#%%\n"
    }
   }
  },
  {
   "cell_type": "code",
   "execution_count": 7,
   "outputs": [],
   "source": [
    "df2 = column_to_bit_columns('tags', df2)\n",
    "df2"
   ],
   "metadata": {
    "collapsed": false,
    "pycharm": {
     "name": "#%%\n"
    }
   }
  },
  {
   "cell_type": "code",
   "execution_count": 8,
   "outputs": [],
   "source": [
    "df2[\"status\"]= df2[\"status\"].astype('category')\n",
    "replace_map = {'In development':1,'Released':2,'On hold':3,'Prototype':4,'Canceled':5}\n",
    "df2.replace(replace_map, inplace=True)"
   ],
   "metadata": {
    "collapsed": false,
    "pycharm": {
     "name": "#%%\n"
    }
   }
  },
  {
   "cell_type": "code",
   "execution_count": null,
   "outputs": [],
   "source": [
    "columns_to_drop = ['ASL','made_with','author']\n",
    "df2 = df2.drop(columns_to_drop, 1)\n",
    "df2"
   ],
   "metadata": {
    "collapsed": false,
    "pycharm": {
     "name": "#%%\n",
     "is_executing": true
    }
   }
  },
  {
   "cell_type": "code",
   "execution_count": 10,
   "outputs": [],
   "source": [
    "df2.to_csv('results.tsv', sep='\\t')"
   ],
   "metadata": {
    "collapsed": false,
    "pycharm": {
     "name": "#%%\n"
    }
   }
  },
  {
   "cell_type": "code",
   "execution_count": null,
   "outputs": [],
   "source": [],
   "metadata": {
    "collapsed": false,
    "pycharm": {
     "name": "#%%\n",
     "is_executing": true
    }
   }
  },
  {
   "cell_type": "code",
   "execution_count": null,
   "outputs": [],
   "source": [],
   "metadata": {
    "collapsed": false,
    "pycharm": {
     "name": "#%%\n",
     "is_executing": true
    }
   }
  },
  {
   "cell_type": "code",
   "execution_count": null,
   "outputs": [],
   "source": [],
   "metadata": {
    "collapsed": false,
    "pycharm": {
     "name": "#%%\n",
     "is_executing": true
    }
   }
  },
  {
   "cell_type": "code",
   "execution_count": 34,
   "outputs": [],
   "source": [],
   "metadata": {
    "collapsed": false,
    "pycharm": {
     "name": "#%%\n"
    }
   }
  },
  {
   "cell_type": "code",
   "execution_count": 35,
   "outputs": [],
   "source": [
    "#test.to_csv('test.csv',sep='\\t', index=False)"
   ],
   "metadata": {
    "collapsed": false,
    "pycharm": {
     "name": "#%%\n"
    }
   }
  },
  {
   "cell_type": "markdown",
   "source": [],
   "metadata": {
    "collapsed": false,
    "pycharm": {
     "name": "#%% md\n"
    }
   }
  },
  {
   "cell_type": "code",
   "execution_count": 35,
   "outputs": [],
   "source": [
    "\n"
   ],
   "metadata": {
    "collapsed": false,
    "pycharm": {
     "name": "#%%\n"
    }
   }
  },
  {
   "cell_type": "code",
   "execution_count": 36,
   "outputs": [],
   "source": [
    "#test1 = pd.read_csv(\"test.csv \",error_bad_lines=False,sep='\\t')"
   ],
   "metadata": {
    "collapsed": false,
    "pycharm": {
     "name": "#%%\n"
    }
   }
  },
  {
   "cell_type": "code",
   "execution_count": null,
   "outputs": [],
   "source": [],
   "metadata": {
    "collapsed": false,
    "pycharm": {
     "name": "#%%\n",
     "is_executing": true
    }
   }
  },
  {
   "cell_type": "code",
   "execution_count": null,
   "outputs": [],
   "source": [],
   "metadata": {
    "collapsed": false,
    "pycharm": {
     "name": "#%%\n",
     "is_executing": true
    }
   }
  },
  {
   "cell_type": "code",
   "execution_count": null,
   "outputs": [],
   "source": [],
   "metadata": {
    "collapsed": false,
    "pycharm": {
     "name": "#%%\n",
     "is_executing": true
    }
   }
  },
  {
   "cell_type": "code",
   "execution_count": null,
   "outputs": [],
   "source": [],
   "metadata": {
    "collapsed": false,
    "pycharm": {
     "name": "#%%\n",
     "is_executing": true
    }
   }
  },
  {
   "cell_type": "code",
   "execution_count": 60,
   "outputs": [],
   "source": [],
   "metadata": {
    "collapsed": false,
    "pycharm": {
     "name": "#%%\n"
    }
   }
  },
  {
   "cell_type": "markdown",
   "source": [
    "You can use the package sklearn and its associated preprocessing utilities to normalize the data."
   ],
   "metadata": {
    "collapsed": false,
    "pycharm": {
     "name": "#%% md\n"
    }
   }
  },
  {
   "cell_type": "code",
   "execution_count": null,
   "outputs": [],
   "source": [],
   "metadata": {
    "collapsed": false,
    "pycharm": {
     "name": "#%%\n",
     "is_executing": true
    }
   }
  },
  {
   "cell_type": "code",
   "execution_count": null,
   "outputs": [],
   "source": [],
   "metadata": {
    "collapsed": false,
    "pycharm": {
     "name": "#%%\n",
     "is_executing": true
    }
   }
  },
  {
   "cell_type": "code",
   "execution_count": 43,
   "outputs": [],
   "source": [],
   "metadata": {
    "collapsed": false,
    "pycharm": {
     "name": "#%%\n"
    }
   }
  }
 ],
 "metadata": {
  "kernelspec": {
   "display_name": "Python 3",
   "language": "python",
   "name": "python3"
  },
  "language_info": {
   "codemirror_mode": {
    "name": "ipython",
    "version": 2
   },
   "file_extension": ".py",
   "mimetype": "text/x-python",
   "name": "python",
   "nbconvert_exporter": "python",
   "pygments_lexer": "ipython2",
   "version": "2.7.6"
  }
 },
 "nbformat": 4,
 "nbformat_minor": 0
}