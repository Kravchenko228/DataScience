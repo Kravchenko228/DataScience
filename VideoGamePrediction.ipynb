{
 "cells": [
  {
   "cell_type": "markdown",
   "source": [
    "Data Handling"
   ],
   "metadata": {
    "collapsed": false,
    "pycharm": {
     "name": "#%% md\n"
    }
   }
  },
  {
   "cell_type": "code",
   "execution_count": 1,
   "outputs": [],
   "source": [
    "import matplotlib.pyplot as plt\n",
    "import numpy as np\n",
    "import matplotlib.pyplot as plt\n",
    "from matplotlib import patches\n",
    "import warnings;\n",
    "import csv\n",
    "import pandas as pd\n",
    "from array import *\n",
    "warnings.simplefilter('ignore')"
   ],
   "metadata": {
    "collapsed": false,
    "pycharm": {
     "name": "#%%import pandas as pd\n"
    }
   }
  },
  {
   "cell_type": "markdown",
   "source": [
    "Open Crawled Data csv file"
   ],
   "metadata": {
    "collapsed": false,
    "pycharm": {
     "name": "#%% md\n"
    }
   }
  },
  {
   "cell_type": "code",
   "execution_count": 2,
   "outputs": [
    {
     "data": {
      "text/plain": "                               title           author  price  \\\n0     ​Our Life: Beginnings & Always          GBPatch    NaN   \n1               Friday Night Funkin'    ninjamuffin99    NaN   \n2           Adventures With Anxiety!      Nicky Case!    NaN   \n3                     Butterfly Soup      Brianna Lei    NaN   \n4                       A Short Hike         adamgryu  $5.19   \n...                              ...              ...    ...   \n2615                         Epitaph    Max Kreminski    NaN   \n2616                         10mg :)          torcado     $3   \n2617         VTM - Heartless Lullaby  Entalto Studios    NaN   \n2618  everybody wants to be a tortle            onion    NaN   \n2619               what's your name?            jelli    NaN   \n\n                                                    url          status  \\\n0                      https://gbpatch.itch.io/our-life             NaN   \n1                 https://ninja-muffin24.itch.io/funkin  In development   \n2                         https://ncase.itch.io/anxiety        Released   \n3            https://brianna-lei.itch.io/butterfly-soup        Released   \n4                 https://adamgryu.itch.io/a-short-hike        Released   \n...                                                 ...             ...   \n2615                   https://mkremins.itch.io/epitaph        Released   \n2616                      https://torcado.itch.io/smile        Released   \n2617  https://entaltostudios.itch.io/vtm-heartless-l...        Released   \n2618                 https://le-onionboi.itch.io/tortle        Released   \n2619                    https://sxilin.itch.io/namegame        Released   \n\n                          platform  rating                made_with  \\\n0                              NaN     NaN                      NaN   \n1     Windows, macOS, Linux, HTML5     4.7  OpenFL, IndieCade, Haxe   \n2                            HTML5     4.9                      NaN   \n3            Windows, macOS, Linux     4.9                   Ren'Py   \n4            Windows, macOS, Linux     4.9                    Unity   \n...                            ...     ...                      ...   \n2615                         HTML5     4.6                      NaN   \n2616         Windows, macOS, Linux     4.9                      NaN   \n2617                Windows, macOS     4.9                    Unity   \n2618                         HTML5     4.9                    Bitsy   \n2619         Windows, macOS, Linux     4.9                      NaN   \n\n                                                   tags  \\\n0                                                   NaN   \n1                                                    2D   \n2                      Comedy, Mental Health, Narrative   \n3     2D, Anime, Female Protagonist, LGBT, Ren'Py, R...   \n4     3D, Atmospheric, Cute, Funny, nature, Relaxing...   \n...                                                 ...   \n2615  Aliens, fermijam, Procedural Generation, Text ...   \n2616  10mg, 10-minute-games, Cute, Minimalist, Short...   \n2617  Dark, Horror, Isometric, Meaningful Choices, M...   \n2618              Bitsy, everyone-is-nonbinary, turtles   \n2619                             Furry, LGBT, Narrative   \n\n                         accessibility  ASL  \n0                                  NaN  NaN  \n1                                  NaN  NaN  \n2                                  NaN  NaN  \n3                                  NaN  NaN  \n4     Subtitles, Configurable controls  NaN  \n...                                ...  ...  \n2615                               NaN  NaN  \n2616                               NaN  NaN  \n2617                         Subtitles  NaN  \n2618                               NaN  NaN  \n2619                               NaN  NaN  \n\n[2620 rows x 11 columns]",
      "text/html": "<div>\n<style scoped>\n    .dataframe tbody tr th:only-of-type {\n        vertical-align: middle;\n    }\n\n    .dataframe tbody tr th {\n        vertical-align: top;\n    }\n\n    .dataframe thead th {\n        text-align: right;\n    }\n</style>\n<table border=\"1\" class=\"dataframe\">\n  <thead>\n    <tr style=\"text-align: right;\">\n      <th></th>\n      <th>title</th>\n      <th>author</th>\n      <th>price</th>\n      <th>url</th>\n      <th>status</th>\n      <th>platform</th>\n      <th>rating</th>\n      <th>made_with</th>\n      <th>tags</th>\n      <th>accessibility</th>\n      <th>ASL</th>\n    </tr>\n  </thead>\n  <tbody>\n    <tr>\n      <th>0</th>\n      <td>​Our Life: Beginnings &amp; Always</td>\n      <td>GBPatch</td>\n      <td>NaN</td>\n      <td>https://gbpatch.itch.io/our-life</td>\n      <td>NaN</td>\n      <td>NaN</td>\n      <td>NaN</td>\n      <td>NaN</td>\n      <td>NaN</td>\n      <td>NaN</td>\n      <td>NaN</td>\n    </tr>\n    <tr>\n      <th>1</th>\n      <td>Friday Night Funkin'</td>\n      <td>ninjamuffin99</td>\n      <td>NaN</td>\n      <td>https://ninja-muffin24.itch.io/funkin</td>\n      <td>In development</td>\n      <td>Windows, macOS, Linux, HTML5</td>\n      <td>4.7</td>\n      <td>OpenFL, IndieCade, Haxe</td>\n      <td>2D</td>\n      <td>NaN</td>\n      <td>NaN</td>\n    </tr>\n    <tr>\n      <th>2</th>\n      <td>Adventures With Anxiety!</td>\n      <td>Nicky Case!</td>\n      <td>NaN</td>\n      <td>https://ncase.itch.io/anxiety</td>\n      <td>Released</td>\n      <td>HTML5</td>\n      <td>4.9</td>\n      <td>NaN</td>\n      <td>Comedy, Mental Health, Narrative</td>\n      <td>NaN</td>\n      <td>NaN</td>\n    </tr>\n    <tr>\n      <th>3</th>\n      <td>Butterfly Soup</td>\n      <td>Brianna Lei</td>\n      <td>NaN</td>\n      <td>https://brianna-lei.itch.io/butterfly-soup</td>\n      <td>Released</td>\n      <td>Windows, macOS, Linux</td>\n      <td>4.9</td>\n      <td>Ren'Py</td>\n      <td>2D, Anime, Female Protagonist, LGBT, Ren'Py, R...</td>\n      <td>NaN</td>\n      <td>NaN</td>\n    </tr>\n    <tr>\n      <th>4</th>\n      <td>A Short Hike</td>\n      <td>adamgryu</td>\n      <td>$5.19</td>\n      <td>https://adamgryu.itch.io/a-short-hike</td>\n      <td>Released</td>\n      <td>Windows, macOS, Linux</td>\n      <td>4.9</td>\n      <td>Unity</td>\n      <td>3D, Atmospheric, Cute, Funny, nature, Relaxing...</td>\n      <td>Subtitles, Configurable controls</td>\n      <td>NaN</td>\n    </tr>\n    <tr>\n      <th>...</th>\n      <td>...</td>\n      <td>...</td>\n      <td>...</td>\n      <td>...</td>\n      <td>...</td>\n      <td>...</td>\n      <td>...</td>\n      <td>...</td>\n      <td>...</td>\n      <td>...</td>\n      <td>...</td>\n    </tr>\n    <tr>\n      <th>2615</th>\n      <td>Epitaph</td>\n      <td>Max Kreminski</td>\n      <td>NaN</td>\n      <td>https://mkremins.itch.io/epitaph</td>\n      <td>Released</td>\n      <td>HTML5</td>\n      <td>4.6</td>\n      <td>NaN</td>\n      <td>Aliens, fermijam, Procedural Generation, Text ...</td>\n      <td>NaN</td>\n      <td>NaN</td>\n    </tr>\n    <tr>\n      <th>2616</th>\n      <td>10mg :)</td>\n      <td>torcado</td>\n      <td>$3</td>\n      <td>https://torcado.itch.io/smile</td>\n      <td>Released</td>\n      <td>Windows, macOS, Linux</td>\n      <td>4.9</td>\n      <td>NaN</td>\n      <td>10mg, 10-minute-games, Cute, Minimalist, Short...</td>\n      <td>NaN</td>\n      <td>NaN</td>\n    </tr>\n    <tr>\n      <th>2617</th>\n      <td>VTM - Heartless Lullaby</td>\n      <td>Entalto Studios</td>\n      <td>NaN</td>\n      <td>https://entaltostudios.itch.io/vtm-heartless-l...</td>\n      <td>Released</td>\n      <td>Windows, macOS</td>\n      <td>4.9</td>\n      <td>Unity</td>\n      <td>Dark, Horror, Isometric, Meaningful Choices, M...</td>\n      <td>Subtitles</td>\n      <td>NaN</td>\n    </tr>\n    <tr>\n      <th>2618</th>\n      <td>everybody wants to be a tortle</td>\n      <td>onion</td>\n      <td>NaN</td>\n      <td>https://le-onionboi.itch.io/tortle</td>\n      <td>Released</td>\n      <td>HTML5</td>\n      <td>4.9</td>\n      <td>Bitsy</td>\n      <td>Bitsy, everyone-is-nonbinary, turtles</td>\n      <td>NaN</td>\n      <td>NaN</td>\n    </tr>\n    <tr>\n      <th>2619</th>\n      <td>what's your name?</td>\n      <td>jelli</td>\n      <td>NaN</td>\n      <td>https://sxilin.itch.io/namegame</td>\n      <td>Released</td>\n      <td>Windows, macOS, Linux</td>\n      <td>4.9</td>\n      <td>NaN</td>\n      <td>Furry, LGBT, Narrative</td>\n      <td>NaN</td>\n      <td>NaN</td>\n    </tr>\n  </tbody>\n</table>\n<p>2620 rows × 11 columns</p>\n</div>"
     },
     "execution_count": 2,
     "metadata": {},
     "output_type": "execute_result"
    }
   ],
   "source": [
    "df = pd.read_csv(\"final_data.csv \",sep='\\t')\n",
    "#data = pd.read_csv(\"file1.csv\", error_bad_lines=False)\n",
    "df"
   ],
   "metadata": {
    "collapsed": false,
    "pycharm": {
     "name": "#%%\n"
    }
   }
  },
  {
   "cell_type": "markdown",
   "source": [],
   "metadata": {
    "collapsed": false,
    "pycharm": {
     "name": "#%% md\n"
    }
   }
  },
  {
   "cell_type": "code",
   "execution_count": 3,
   "outputs": [],
   "source": [
    "df1=df\n"
   ],
   "metadata": {
    "collapsed": false,
    "pycharm": {
     "name": "#%%\n"
    }
   }
  },
  {
   "cell_type": "code",
   "execution_count": 4,
   "outputs": [
    {
     "data": {
      "text/plain": "                               title           author  price  \\\n1               Friday Night Funkin'    ninjamuffin99      0   \n2           Adventures With Anxiety!      Nicky Case!      0   \n3                     Butterfly Soup      Brianna Lei      0   \n4                       A Short Hike         adamgryu  $5.19   \n5                        Project Kat        Leef 6010      0   \n...                              ...              ...    ...   \n2615                         Epitaph    Max Kreminski      0   \n2616                         10mg :)          torcado     $3   \n2617         VTM - Heartless Lullaby  Entalto Studios      0   \n2618  everybody wants to be a tortle            onion      0   \n2619               what's your name?            jelli      0   \n\n                                                    url          status  \\\n1                 https://ninja-muffin24.itch.io/funkin  In development   \n2                         https://ncase.itch.io/anxiety        Released   \n3            https://brianna-lei.itch.io/butterfly-soup        Released   \n4                 https://adamgryu.itch.io/a-short-hike        Released   \n5                   https://leef6010.itch.io/projectkat        Released   \n...                                                 ...             ...   \n2615                   https://mkremins.itch.io/epitaph        Released   \n2616                      https://torcado.itch.io/smile        Released   \n2617  https://entaltostudios.itch.io/vtm-heartless-l...        Released   \n2618                 https://le-onionboi.itch.io/tortle        Released   \n2619                    https://sxilin.itch.io/namegame        Released   \n\n                          platform  rating                        made_with  \\\n1     Windows, macOS, Linux, HTML5     4.7          OpenFL, IndieCade, Haxe   \n2                            HTML5     4.9                              NaN   \n3            Windows, macOS, Linux     4.9                           Ren'Py   \n4            Windows, macOS, Linux     4.9                            Unity   \n5            Windows, macOS, Linux     4.8  Paint Tool SAI, Godot, Aseprite   \n...                            ...     ...                              ...   \n2615                         HTML5     4.6                              NaN   \n2616         Windows, macOS, Linux     4.9                              NaN   \n2617                Windows, macOS     4.9                            Unity   \n2618                         HTML5     4.9                            Bitsy   \n2619         Windows, macOS, Linux     4.9                              NaN   \n\n                                                   tags accessibility  ASL  \n1                                                    2D             0  NaN  \n2                      Comedy, Mental Health, Narrative             0  NaN  \n3     2D, Anime, Female Protagonist, LGBT, Ren'Py, R...             0  NaN  \n4     3D, Atmospheric, Cute, Funny, nature, Relaxing...             1  NaN  \n5     2D, Anime, Cute, Horror, Pixel Art, RPG Maker,...             1  NaN  \n...                                                 ...           ...  ...  \n2615  Aliens, fermijam, Procedural Generation, Text ...             0  NaN  \n2616  10mg, 10-minute-games, Cute, Minimalist, Short...             0  NaN  \n2617  Dark, Horror, Isometric, Meaningful Choices, M...             1  NaN  \n2618              Bitsy, everyone-is-nonbinary, turtles             0  NaN  \n2619                             Furry, LGBT, Narrative             0  NaN  \n\n[2464 rows x 11 columns]",
      "text/html": "<div>\n<style scoped>\n    .dataframe tbody tr th:only-of-type {\n        vertical-align: middle;\n    }\n\n    .dataframe tbody tr th {\n        vertical-align: top;\n    }\n\n    .dataframe thead th {\n        text-align: right;\n    }\n</style>\n<table border=\"1\" class=\"dataframe\">\n  <thead>\n    <tr style=\"text-align: right;\">\n      <th></th>\n      <th>title</th>\n      <th>author</th>\n      <th>price</th>\n      <th>url</th>\n      <th>status</th>\n      <th>platform</th>\n      <th>rating</th>\n      <th>made_with</th>\n      <th>tags</th>\n      <th>accessibility</th>\n      <th>ASL</th>\n    </tr>\n  </thead>\n  <tbody>\n    <tr>\n      <th>1</th>\n      <td>Friday Night Funkin'</td>\n      <td>ninjamuffin99</td>\n      <td>0</td>\n      <td>https://ninja-muffin24.itch.io/funkin</td>\n      <td>In development</td>\n      <td>Windows, macOS, Linux, HTML5</td>\n      <td>4.7</td>\n      <td>OpenFL, IndieCade, Haxe</td>\n      <td>2D</td>\n      <td>0</td>\n      <td>NaN</td>\n    </tr>\n    <tr>\n      <th>2</th>\n      <td>Adventures With Anxiety!</td>\n      <td>Nicky Case!</td>\n      <td>0</td>\n      <td>https://ncase.itch.io/anxiety</td>\n      <td>Released</td>\n      <td>HTML5</td>\n      <td>4.9</td>\n      <td>NaN</td>\n      <td>Comedy, Mental Health, Narrative</td>\n      <td>0</td>\n      <td>NaN</td>\n    </tr>\n    <tr>\n      <th>3</th>\n      <td>Butterfly Soup</td>\n      <td>Brianna Lei</td>\n      <td>0</td>\n      <td>https://brianna-lei.itch.io/butterfly-soup</td>\n      <td>Released</td>\n      <td>Windows, macOS, Linux</td>\n      <td>4.9</td>\n      <td>Ren'Py</td>\n      <td>2D, Anime, Female Protagonist, LGBT, Ren'Py, R...</td>\n      <td>0</td>\n      <td>NaN</td>\n    </tr>\n    <tr>\n      <th>4</th>\n      <td>A Short Hike</td>\n      <td>adamgryu</td>\n      <td>$5.19</td>\n      <td>https://adamgryu.itch.io/a-short-hike</td>\n      <td>Released</td>\n      <td>Windows, macOS, Linux</td>\n      <td>4.9</td>\n      <td>Unity</td>\n      <td>3D, Atmospheric, Cute, Funny, nature, Relaxing...</td>\n      <td>1</td>\n      <td>NaN</td>\n    </tr>\n    <tr>\n      <th>5</th>\n      <td>Project Kat</td>\n      <td>Leef 6010</td>\n      <td>0</td>\n      <td>https://leef6010.itch.io/projectkat</td>\n      <td>Released</td>\n      <td>Windows, macOS, Linux</td>\n      <td>4.8</td>\n      <td>Paint Tool SAI, Godot, Aseprite</td>\n      <td>2D, Anime, Cute, Horror, Pixel Art, RPG Maker,...</td>\n      <td>1</td>\n      <td>NaN</td>\n    </tr>\n    <tr>\n      <th>...</th>\n      <td>...</td>\n      <td>...</td>\n      <td>...</td>\n      <td>...</td>\n      <td>...</td>\n      <td>...</td>\n      <td>...</td>\n      <td>...</td>\n      <td>...</td>\n      <td>...</td>\n      <td>...</td>\n    </tr>\n    <tr>\n      <th>2615</th>\n      <td>Epitaph</td>\n      <td>Max Kreminski</td>\n      <td>0</td>\n      <td>https://mkremins.itch.io/epitaph</td>\n      <td>Released</td>\n      <td>HTML5</td>\n      <td>4.6</td>\n      <td>NaN</td>\n      <td>Aliens, fermijam, Procedural Generation, Text ...</td>\n      <td>0</td>\n      <td>NaN</td>\n    </tr>\n    <tr>\n      <th>2616</th>\n      <td>10mg :)</td>\n      <td>torcado</td>\n      <td>$3</td>\n      <td>https://torcado.itch.io/smile</td>\n      <td>Released</td>\n      <td>Windows, macOS, Linux</td>\n      <td>4.9</td>\n      <td>NaN</td>\n      <td>10mg, 10-minute-games, Cute, Minimalist, Short...</td>\n      <td>0</td>\n      <td>NaN</td>\n    </tr>\n    <tr>\n      <th>2617</th>\n      <td>VTM - Heartless Lullaby</td>\n      <td>Entalto Studios</td>\n      <td>0</td>\n      <td>https://entaltostudios.itch.io/vtm-heartless-l...</td>\n      <td>Released</td>\n      <td>Windows, macOS</td>\n      <td>4.9</td>\n      <td>Unity</td>\n      <td>Dark, Horror, Isometric, Meaningful Choices, M...</td>\n      <td>1</td>\n      <td>NaN</td>\n    </tr>\n    <tr>\n      <th>2618</th>\n      <td>everybody wants to be a tortle</td>\n      <td>onion</td>\n      <td>0</td>\n      <td>https://le-onionboi.itch.io/tortle</td>\n      <td>Released</td>\n      <td>HTML5</td>\n      <td>4.9</td>\n      <td>Bitsy</td>\n      <td>Bitsy, everyone-is-nonbinary, turtles</td>\n      <td>0</td>\n      <td>NaN</td>\n    </tr>\n    <tr>\n      <th>2619</th>\n      <td>what's your name?</td>\n      <td>jelli</td>\n      <td>0</td>\n      <td>https://sxilin.itch.io/namegame</td>\n      <td>Released</td>\n      <td>Windows, macOS, Linux</td>\n      <td>4.9</td>\n      <td>NaN</td>\n      <td>Furry, LGBT, Narrative</td>\n      <td>0</td>\n      <td>NaN</td>\n    </tr>\n  </tbody>\n</table>\n<p>2464 rows × 11 columns</p>\n</div>"
     },
     "execution_count": 4,
     "metadata": {},
     "output_type": "execute_result"
    }
   ],
   "source": [
    "\n",
    "df1=df1.fillna(value = {'price':'0'})\n",
    "df1=df1.dropna(subset=['platform','rating'])\n",
    "df1=df1.fillna(value = {'price':'0'})\n",
    "df1=df1.dropna(subset=['status'])\n",
    "df1=df1.fillna(value = {'accessibility':'0'})\n",
    "df1.accessibility[df1.accessibility != '0'] = 1\n",
    "df1"
   ],
   "metadata": {
    "collapsed": false,
    "pycharm": {
     "name": "#%%\n"
    }
   }
  },
  {
   "cell_type": "code",
   "execution_count": 5,
   "outputs": [
    {
     "data": {
      "text/plain": "                               title           author  price  \\\n1               Friday Night Funkin'    ninjamuffin99   0.00   \n2           Adventures With Anxiety!      Nicky Case!   0.00   \n3                     Butterfly Soup      Brianna Lei   0.00   \n4                       A Short Hike         adamgryu   5.19   \n5                        Project Kat        Leef 6010   0.00   \n...                              ...              ...    ...   \n2615                         Epitaph    Max Kreminski   0.00   \n2616                         10mg :)          torcado   0.00   \n2617         VTM - Heartless Lullaby  Entalto Studios   0.00   \n2618  everybody wants to be a tortle            onion   0.00   \n2619               what's your name?            jelli   0.00   \n\n                                                    url          status  \\\n1                 https://ninja-muffin24.itch.io/funkin  In development   \n2                         https://ncase.itch.io/anxiety        Released   \n3            https://brianna-lei.itch.io/butterfly-soup        Released   \n4                 https://adamgryu.itch.io/a-short-hike        Released   \n5                   https://leef6010.itch.io/projectkat        Released   \n...                                                 ...             ...   \n2615                   https://mkremins.itch.io/epitaph        Released   \n2616                      https://torcado.itch.io/smile        Released   \n2617  https://entaltostudios.itch.io/vtm-heartless-l...        Released   \n2618                 https://le-onionboi.itch.io/tortle        Released   \n2619                    https://sxilin.itch.io/namegame        Released   \n\n                          platform  rating                        made_with  \\\n1     Windows, macOS, Linux, HTML5     4.7          OpenFL, IndieCade, Haxe   \n2                            HTML5     4.9                              NaN   \n3            Windows, macOS, Linux     4.9                           Ren'Py   \n4            Windows, macOS, Linux     4.9                            Unity   \n5            Windows, macOS, Linux     4.8  Paint Tool SAI, Godot, Aseprite   \n...                            ...     ...                              ...   \n2615                         HTML5     4.6                              NaN   \n2616         Windows, macOS, Linux     4.9                              NaN   \n2617                Windows, macOS     4.9                            Unity   \n2618                         HTML5     4.9                            Bitsy   \n2619         Windows, macOS, Linux     4.9                              NaN   \n\n                                                   tags accessibility  ASL  \n1                                                    2D             0  NaN  \n2                      Comedy, Mental Health, Narrative             0  NaN  \n3     2D, Anime, Female Protagonist, LGBT, Ren'Py, R...             0  NaN  \n4     3D, Atmospheric, Cute, Funny, nature, Relaxing...             1  NaN  \n5     2D, Anime, Cute, Horror, Pixel Art, RPG Maker,...             1  NaN  \n...                                                 ...           ...  ...  \n2615  Aliens, fermijam, Procedural Generation, Text ...             0  NaN  \n2616  10mg, 10-minute-games, Cute, Minimalist, Short...             0  NaN  \n2617  Dark, Horror, Isometric, Meaningful Choices, M...             1  NaN  \n2618              Bitsy, everyone-is-nonbinary, turtles             0  NaN  \n2619                             Furry, LGBT, Narrative             0  NaN  \n\n[2464 rows x 11 columns]",
      "text/html": "<div>\n<style scoped>\n    .dataframe tbody tr th:only-of-type {\n        vertical-align: middle;\n    }\n\n    .dataframe tbody tr th {\n        vertical-align: top;\n    }\n\n    .dataframe thead th {\n        text-align: right;\n    }\n</style>\n<table border=\"1\" class=\"dataframe\">\n  <thead>\n    <tr style=\"text-align: right;\">\n      <th></th>\n      <th>title</th>\n      <th>author</th>\n      <th>price</th>\n      <th>url</th>\n      <th>status</th>\n      <th>platform</th>\n      <th>rating</th>\n      <th>made_with</th>\n      <th>tags</th>\n      <th>accessibility</th>\n      <th>ASL</th>\n    </tr>\n  </thead>\n  <tbody>\n    <tr>\n      <th>1</th>\n      <td>Friday Night Funkin'</td>\n      <td>ninjamuffin99</td>\n      <td>0.00</td>\n      <td>https://ninja-muffin24.itch.io/funkin</td>\n      <td>In development</td>\n      <td>Windows, macOS, Linux, HTML5</td>\n      <td>4.7</td>\n      <td>OpenFL, IndieCade, Haxe</td>\n      <td>2D</td>\n      <td>0</td>\n      <td>NaN</td>\n    </tr>\n    <tr>\n      <th>2</th>\n      <td>Adventures With Anxiety!</td>\n      <td>Nicky Case!</td>\n      <td>0.00</td>\n      <td>https://ncase.itch.io/anxiety</td>\n      <td>Released</td>\n      <td>HTML5</td>\n      <td>4.9</td>\n      <td>NaN</td>\n      <td>Comedy, Mental Health, Narrative</td>\n      <td>0</td>\n      <td>NaN</td>\n    </tr>\n    <tr>\n      <th>3</th>\n      <td>Butterfly Soup</td>\n      <td>Brianna Lei</td>\n      <td>0.00</td>\n      <td>https://brianna-lei.itch.io/butterfly-soup</td>\n      <td>Released</td>\n      <td>Windows, macOS, Linux</td>\n      <td>4.9</td>\n      <td>Ren'Py</td>\n      <td>2D, Anime, Female Protagonist, LGBT, Ren'Py, R...</td>\n      <td>0</td>\n      <td>NaN</td>\n    </tr>\n    <tr>\n      <th>4</th>\n      <td>A Short Hike</td>\n      <td>adamgryu</td>\n      <td>5.19</td>\n      <td>https://adamgryu.itch.io/a-short-hike</td>\n      <td>Released</td>\n      <td>Windows, macOS, Linux</td>\n      <td>4.9</td>\n      <td>Unity</td>\n      <td>3D, Atmospheric, Cute, Funny, nature, Relaxing...</td>\n      <td>1</td>\n      <td>NaN</td>\n    </tr>\n    <tr>\n      <th>5</th>\n      <td>Project Kat</td>\n      <td>Leef 6010</td>\n      <td>0.00</td>\n      <td>https://leef6010.itch.io/projectkat</td>\n      <td>Released</td>\n      <td>Windows, macOS, Linux</td>\n      <td>4.8</td>\n      <td>Paint Tool SAI, Godot, Aseprite</td>\n      <td>2D, Anime, Cute, Horror, Pixel Art, RPG Maker,...</td>\n      <td>1</td>\n      <td>NaN</td>\n    </tr>\n    <tr>\n      <th>...</th>\n      <td>...</td>\n      <td>...</td>\n      <td>...</td>\n      <td>...</td>\n      <td>...</td>\n      <td>...</td>\n      <td>...</td>\n      <td>...</td>\n      <td>...</td>\n      <td>...</td>\n      <td>...</td>\n    </tr>\n    <tr>\n      <th>2615</th>\n      <td>Epitaph</td>\n      <td>Max Kreminski</td>\n      <td>0.00</td>\n      <td>https://mkremins.itch.io/epitaph</td>\n      <td>Released</td>\n      <td>HTML5</td>\n      <td>4.6</td>\n      <td>NaN</td>\n      <td>Aliens, fermijam, Procedural Generation, Text ...</td>\n      <td>0</td>\n      <td>NaN</td>\n    </tr>\n    <tr>\n      <th>2616</th>\n      <td>10mg :)</td>\n      <td>torcado</td>\n      <td>0.00</td>\n      <td>https://torcado.itch.io/smile</td>\n      <td>Released</td>\n      <td>Windows, macOS, Linux</td>\n      <td>4.9</td>\n      <td>NaN</td>\n      <td>10mg, 10-minute-games, Cute, Minimalist, Short...</td>\n      <td>0</td>\n      <td>NaN</td>\n    </tr>\n    <tr>\n      <th>2617</th>\n      <td>VTM - Heartless Lullaby</td>\n      <td>Entalto Studios</td>\n      <td>0.00</td>\n      <td>https://entaltostudios.itch.io/vtm-heartless-l...</td>\n      <td>Released</td>\n      <td>Windows, macOS</td>\n      <td>4.9</td>\n      <td>Unity</td>\n      <td>Dark, Horror, Isometric, Meaningful Choices, M...</td>\n      <td>1</td>\n      <td>NaN</td>\n    </tr>\n    <tr>\n      <th>2618</th>\n      <td>everybody wants to be a tortle</td>\n      <td>onion</td>\n      <td>0.00</td>\n      <td>https://le-onionboi.itch.io/tortle</td>\n      <td>Released</td>\n      <td>HTML5</td>\n      <td>4.9</td>\n      <td>Bitsy</td>\n      <td>Bitsy, everyone-is-nonbinary, turtles</td>\n      <td>0</td>\n      <td>NaN</td>\n    </tr>\n    <tr>\n      <th>2619</th>\n      <td>what's your name?</td>\n      <td>jelli</td>\n      <td>0.00</td>\n      <td>https://sxilin.itch.io/namegame</td>\n      <td>Released</td>\n      <td>Windows, macOS, Linux</td>\n      <td>4.9</td>\n      <td>NaN</td>\n      <td>Furry, LGBT, Narrative</td>\n      <td>0</td>\n      <td>NaN</td>\n    </tr>\n  </tbody>\n</table>\n<p>2464 rows × 11 columns</p>\n</div>"
     },
     "execution_count": 5,
     "metadata": {},
     "output_type": "execute_result"
    }
   ],
   "source": [
    "df1['price'] = df1['price'].str.extract('(\\d+.\\d+)').astype(float)\n",
    "df1['rating']=df1['rating'].astype(float)\n",
    "df1['price']=df1['price'].fillna(0)\n",
    "\n",
    "df1"
   ],
   "metadata": {
    "collapsed": false,
    "pycharm": {
     "name": "#%%\n"
    }
   }
  },
  {
   "cell_type": "code",
   "execution_count": 6,
   "outputs": [
    {
     "data": {
      "text/plain": "['title',\n 'author',\n 'price',\n 'url',\n 'status',\n 'rating',\n 'made_with',\n 'tags',\n 'accessibility',\n 'ASL',\n 'Unity',\n 'Flash',\n 'macOS',\n 'Windows',\n 'HTML5',\n 'Linux',\n 'Android']"
     },
     "execution_count": 6,
     "metadata": {},
     "output_type": "execute_result"
    }
   ],
   "source": [
    "\n",
    "cols = df1.columns.tolist()\n",
    "cols.remove('platform')\n",
    "cols.extend(list(set(', '.join(df1['platform'].unique().tolist()).split(', '))))\n",
    "cols\n"
   ],
   "metadata": {
    "collapsed": false,
    "pycharm": {
     "name": "#%%\n"
    }
   }
  },
  {
   "cell_type": "code",
   "execution_count": 7,
   "outputs": [
    {
     "data": {
      "text/plain": "                               title           author  price  \\\n1               Friday Night Funkin'    ninjamuffin99   0.00   \n2           Adventures With Anxiety!      Nicky Case!   0.00   \n3                     Butterfly Soup      Brianna Lei   0.00   \n4                       A Short Hike         adamgryu   5.19   \n5                        Project Kat        Leef 6010   0.00   \n...                              ...              ...    ...   \n2615                         Epitaph    Max Kreminski   0.00   \n2616                         10mg :)          torcado   0.00   \n2617         VTM - Heartless Lullaby  Entalto Studios   0.00   \n2618  everybody wants to be a tortle            onion   0.00   \n2619               what's your name?            jelli   0.00   \n\n                                                    url          status  \\\n1                 https://ninja-muffin24.itch.io/funkin  In development   \n2                         https://ncase.itch.io/anxiety        Released   \n3            https://brianna-lei.itch.io/butterfly-soup        Released   \n4                 https://adamgryu.itch.io/a-short-hike        Released   \n5                   https://leef6010.itch.io/projectkat        Released   \n...                                                 ...             ...   \n2615                   https://mkremins.itch.io/epitaph        Released   \n2616                      https://torcado.itch.io/smile        Released   \n2617  https://entaltostudios.itch.io/vtm-heartless-l...        Released   \n2618                 https://le-onionboi.itch.io/tortle        Released   \n2619                    https://sxilin.itch.io/namegame        Released   \n\n      rating                        made_with  \\\n1        4.7          OpenFL, IndieCade, Haxe   \n2        4.9                              NaN   \n3        4.9                           Ren'Py   \n4        4.9                            Unity   \n5        4.8  Paint Tool SAI, Godot, Aseprite   \n...      ...                              ...   \n2615     4.6                              NaN   \n2616     4.9                              NaN   \n2617     4.9                            Unity   \n2618     4.9                            Bitsy   \n2619     4.9                              NaN   \n\n                                                   tags accessibility  ASL  \\\n1                                                    2D             0  NaN   \n2                      Comedy, Mental Health, Narrative             0  NaN   \n3     2D, Anime, Female Protagonist, LGBT, Ren'Py, R...             0  NaN   \n4     3D, Atmospheric, Cute, Funny, nature, Relaxing...             1  NaN   \n5     2D, Anime, Cute, Horror, Pixel Art, RPG Maker,...             1  NaN   \n...                                                 ...           ...  ...   \n2615  Aliens, fermijam, Procedural Generation, Text ...             0  NaN   \n2616  10mg, 10-minute-games, Cute, Minimalist, Short...             0  NaN   \n2617  Dark, Horror, Isometric, Meaningful Choices, M...             1  NaN   \n2618              Bitsy, everyone-is-nonbinary, turtles             0  NaN   \n2619                             Furry, LGBT, Narrative             0  NaN   \n\n      Unity  Flash  macOS  Windows  HTML5  Linux  Android  \n1       NaN    NaN    NaN      NaN    NaN    NaN      NaN  \n2       NaN    NaN    NaN      NaN    NaN    NaN      NaN  \n3       NaN    NaN    NaN      NaN    NaN    NaN      NaN  \n4       NaN    NaN    NaN      NaN    NaN    NaN      NaN  \n5       NaN    NaN    NaN      NaN    NaN    NaN      NaN  \n...     ...    ...    ...      ...    ...    ...      ...  \n2615    NaN    NaN    NaN      NaN    NaN    NaN      NaN  \n2616    NaN    NaN    NaN      NaN    NaN    NaN      NaN  \n2617    NaN    NaN    NaN      NaN    NaN    NaN      NaN  \n2618    NaN    NaN    NaN      NaN    NaN    NaN      NaN  \n2619    NaN    NaN    NaN      NaN    NaN    NaN      NaN  \n\n[2464 rows x 17 columns]",
      "text/html": "<div>\n<style scoped>\n    .dataframe tbody tr th:only-of-type {\n        vertical-align: middle;\n    }\n\n    .dataframe tbody tr th {\n        vertical-align: top;\n    }\n\n    .dataframe thead th {\n        text-align: right;\n    }\n</style>\n<table border=\"1\" class=\"dataframe\">\n  <thead>\n    <tr style=\"text-align: right;\">\n      <th></th>\n      <th>title</th>\n      <th>author</th>\n      <th>price</th>\n      <th>url</th>\n      <th>status</th>\n      <th>rating</th>\n      <th>made_with</th>\n      <th>tags</th>\n      <th>accessibility</th>\n      <th>ASL</th>\n      <th>Unity</th>\n      <th>Flash</th>\n      <th>macOS</th>\n      <th>Windows</th>\n      <th>HTML5</th>\n      <th>Linux</th>\n      <th>Android</th>\n    </tr>\n  </thead>\n  <tbody>\n    <tr>\n      <th>1</th>\n      <td>Friday Night Funkin'</td>\n      <td>ninjamuffin99</td>\n      <td>0.00</td>\n      <td>https://ninja-muffin24.itch.io/funkin</td>\n      <td>In development</td>\n      <td>4.7</td>\n      <td>OpenFL, IndieCade, Haxe</td>\n      <td>2D</td>\n      <td>0</td>\n      <td>NaN</td>\n      <td>NaN</td>\n      <td>NaN</td>\n      <td>NaN</td>\n      <td>NaN</td>\n      <td>NaN</td>\n      <td>NaN</td>\n      <td>NaN</td>\n    </tr>\n    <tr>\n      <th>2</th>\n      <td>Adventures With Anxiety!</td>\n      <td>Nicky Case!</td>\n      <td>0.00</td>\n      <td>https://ncase.itch.io/anxiety</td>\n      <td>Released</td>\n      <td>4.9</td>\n      <td>NaN</td>\n      <td>Comedy, Mental Health, Narrative</td>\n      <td>0</td>\n      <td>NaN</td>\n      <td>NaN</td>\n      <td>NaN</td>\n      <td>NaN</td>\n      <td>NaN</td>\n      <td>NaN</td>\n      <td>NaN</td>\n      <td>NaN</td>\n    </tr>\n    <tr>\n      <th>3</th>\n      <td>Butterfly Soup</td>\n      <td>Brianna Lei</td>\n      <td>0.00</td>\n      <td>https://brianna-lei.itch.io/butterfly-soup</td>\n      <td>Released</td>\n      <td>4.9</td>\n      <td>Ren'Py</td>\n      <td>2D, Anime, Female Protagonist, LGBT, Ren'Py, R...</td>\n      <td>0</td>\n      <td>NaN</td>\n      <td>NaN</td>\n      <td>NaN</td>\n      <td>NaN</td>\n      <td>NaN</td>\n      <td>NaN</td>\n      <td>NaN</td>\n      <td>NaN</td>\n    </tr>\n    <tr>\n      <th>4</th>\n      <td>A Short Hike</td>\n      <td>adamgryu</td>\n      <td>5.19</td>\n      <td>https://adamgryu.itch.io/a-short-hike</td>\n      <td>Released</td>\n      <td>4.9</td>\n      <td>Unity</td>\n      <td>3D, Atmospheric, Cute, Funny, nature, Relaxing...</td>\n      <td>1</td>\n      <td>NaN</td>\n      <td>NaN</td>\n      <td>NaN</td>\n      <td>NaN</td>\n      <td>NaN</td>\n      <td>NaN</td>\n      <td>NaN</td>\n      <td>NaN</td>\n    </tr>\n    <tr>\n      <th>5</th>\n      <td>Project Kat</td>\n      <td>Leef 6010</td>\n      <td>0.00</td>\n      <td>https://leef6010.itch.io/projectkat</td>\n      <td>Released</td>\n      <td>4.8</td>\n      <td>Paint Tool SAI, Godot, Aseprite</td>\n      <td>2D, Anime, Cute, Horror, Pixel Art, RPG Maker,...</td>\n      <td>1</td>\n      <td>NaN</td>\n      <td>NaN</td>\n      <td>NaN</td>\n      <td>NaN</td>\n      <td>NaN</td>\n      <td>NaN</td>\n      <td>NaN</td>\n      <td>NaN</td>\n    </tr>\n    <tr>\n      <th>...</th>\n      <td>...</td>\n      <td>...</td>\n      <td>...</td>\n      <td>...</td>\n      <td>...</td>\n      <td>...</td>\n      <td>...</td>\n      <td>...</td>\n      <td>...</td>\n      <td>...</td>\n      <td>...</td>\n      <td>...</td>\n      <td>...</td>\n      <td>...</td>\n      <td>...</td>\n      <td>...</td>\n      <td>...</td>\n    </tr>\n    <tr>\n      <th>2615</th>\n      <td>Epitaph</td>\n      <td>Max Kreminski</td>\n      <td>0.00</td>\n      <td>https://mkremins.itch.io/epitaph</td>\n      <td>Released</td>\n      <td>4.6</td>\n      <td>NaN</td>\n      <td>Aliens, fermijam, Procedural Generation, Text ...</td>\n      <td>0</td>\n      <td>NaN</td>\n      <td>NaN</td>\n      <td>NaN</td>\n      <td>NaN</td>\n      <td>NaN</td>\n      <td>NaN</td>\n      <td>NaN</td>\n      <td>NaN</td>\n    </tr>\n    <tr>\n      <th>2616</th>\n      <td>10mg :)</td>\n      <td>torcado</td>\n      <td>0.00</td>\n      <td>https://torcado.itch.io/smile</td>\n      <td>Released</td>\n      <td>4.9</td>\n      <td>NaN</td>\n      <td>10mg, 10-minute-games, Cute, Minimalist, Short...</td>\n      <td>0</td>\n      <td>NaN</td>\n      <td>NaN</td>\n      <td>NaN</td>\n      <td>NaN</td>\n      <td>NaN</td>\n      <td>NaN</td>\n      <td>NaN</td>\n      <td>NaN</td>\n    </tr>\n    <tr>\n      <th>2617</th>\n      <td>VTM - Heartless Lullaby</td>\n      <td>Entalto Studios</td>\n      <td>0.00</td>\n      <td>https://entaltostudios.itch.io/vtm-heartless-l...</td>\n      <td>Released</td>\n      <td>4.9</td>\n      <td>Unity</td>\n      <td>Dark, Horror, Isometric, Meaningful Choices, M...</td>\n      <td>1</td>\n      <td>NaN</td>\n      <td>NaN</td>\n      <td>NaN</td>\n      <td>NaN</td>\n      <td>NaN</td>\n      <td>NaN</td>\n      <td>NaN</td>\n      <td>NaN</td>\n    </tr>\n    <tr>\n      <th>2618</th>\n      <td>everybody wants to be a tortle</td>\n      <td>onion</td>\n      <td>0.00</td>\n      <td>https://le-onionboi.itch.io/tortle</td>\n      <td>Released</td>\n      <td>4.9</td>\n      <td>Bitsy</td>\n      <td>Bitsy, everyone-is-nonbinary, turtles</td>\n      <td>0</td>\n      <td>NaN</td>\n      <td>NaN</td>\n      <td>NaN</td>\n      <td>NaN</td>\n      <td>NaN</td>\n      <td>NaN</td>\n      <td>NaN</td>\n      <td>NaN</td>\n    </tr>\n    <tr>\n      <th>2619</th>\n      <td>what's your name?</td>\n      <td>jelli</td>\n      <td>0.00</td>\n      <td>https://sxilin.itch.io/namegame</td>\n      <td>Released</td>\n      <td>4.9</td>\n      <td>NaN</td>\n      <td>Furry, LGBT, Narrative</td>\n      <td>0</td>\n      <td>NaN</td>\n      <td>NaN</td>\n      <td>NaN</td>\n      <td>NaN</td>\n      <td>NaN</td>\n      <td>NaN</td>\n      <td>NaN</td>\n      <td>NaN</td>\n    </tr>\n  </tbody>\n</table>\n<p>2464 rows × 17 columns</p>\n</div>"
     },
     "execution_count": 7,
     "metadata": {},
     "output_type": "execute_result"
    }
   ],
   "source": [
    "new_df = pd.DataFrame(columns=cols, data=df1)\n",
    "new_df"
   ],
   "metadata": {
    "collapsed": false,
    "pycharm": {
     "name": "#%%\n"
    }
   }
  },
  {
   "cell_type": "code",
   "execution_count": 7,
   "outputs": [],
   "source": [],
   "metadata": {
    "collapsed": false,
    "pycharm": {
     "name": "#%%\n"
    }
   }
  },
  {
   "cell_type": "code",
   "execution_count": 8,
   "outputs": [],
   "source": [
    "#df1=pd.read_csv(\"test.csv \",error_bad_lines=False,sep='\\t')"
   ],
   "metadata": {
    "collapsed": false,
    "pycharm": {
     "name": "#%%\n"
    }
   }
  },
  {
   "cell_type": "code",
   "execution_count": 9,
   "outputs": [],
   "source": [
    "#test.to_csv('test.csv',sep='\\t', index=False)"
   ],
   "metadata": {
    "collapsed": false,
    "pycharm": {
     "name": "#%%\n"
    }
   }
  },
  {
   "cell_type": "code",
   "execution_count": 10,
   "outputs": [
    {
     "data": {
      "text/plain": "['title',\n 'author',\n 'price',\n 'url',\n 'status',\n 'rating',\n 'made_with',\n 'tags',\n 'accessibility',\n 'ASL',\n 'Unity',\n 'Flash',\n 'macOS',\n 'Windows',\n 'HTML5',\n 'Linux',\n 'Android']"
     },
     "execution_count": 10,
     "metadata": {},
     "output_type": "execute_result"
    }
   ],
   "source": [
    "cols = df1.columns.tolist()\n",
    "cols.remove('platform')\n",
    "cols.extend(list(set(', '.join(df1['platform'].unique().tolist()).split(', '))))\n",
    "cols"
   ],
   "metadata": {
    "collapsed": false,
    "pycharm": {
     "name": "#%%\n"
    }
   }
  },
  {
   "cell_type": "code",
   "execution_count": 11,
   "outputs": [],
   "source": [
    "#test1 = pd.read_csv(\"test.csv \",error_bad_lines=False,sep='\\t')"
   ],
   "metadata": {
    "collapsed": false,
    "pycharm": {
     "name": "#%%\n"
    }
   }
  },
  {
   "cell_type": "code",
   "execution_count": 12,
   "outputs": [
    {
     "data": {
      "text/plain": "                               title           author  price  \\\n1               Friday Night Funkin'    ninjamuffin99   0.00   \n2           Adventures With Anxiety!      Nicky Case!   0.00   \n3                     Butterfly Soup      Brianna Lei   0.00   \n4                       A Short Hike         adamgryu   5.19   \n5                        Project Kat        Leef 6010   0.00   \n...                              ...              ...    ...   \n2615                         Epitaph    Max Kreminski   0.00   \n2616                         10mg :)          torcado   0.00   \n2617         VTM - Heartless Lullaby  Entalto Studios   0.00   \n2618  everybody wants to be a tortle            onion   0.00   \n2619               what's your name?            jelli   0.00   \n\n                                                    url          status  \\\n1                 https://ninja-muffin24.itch.io/funkin  In development   \n2                         https://ncase.itch.io/anxiety        Released   \n3            https://brianna-lei.itch.io/butterfly-soup        Released   \n4                 https://adamgryu.itch.io/a-short-hike        Released   \n5                   https://leef6010.itch.io/projectkat        Released   \n...                                                 ...             ...   \n2615                   https://mkremins.itch.io/epitaph        Released   \n2616                      https://torcado.itch.io/smile        Released   \n2617  https://entaltostudios.itch.io/vtm-heartless-l...        Released   \n2618                 https://le-onionboi.itch.io/tortle        Released   \n2619                    https://sxilin.itch.io/namegame        Released   \n\n      rating                        made_with  \\\n1        4.7          OpenFL, IndieCade, Haxe   \n2        4.9                              NaN   \n3        4.9                           Ren'Py   \n4        4.9                            Unity   \n5        4.8  Paint Tool SAI, Godot, Aseprite   \n...      ...                              ...   \n2615     4.6                              NaN   \n2616     4.9                              NaN   \n2617     4.9                            Unity   \n2618     4.9                            Bitsy   \n2619     4.9                              NaN   \n\n                                                   tags accessibility  ASL  \\\n1                                                    2D             0  NaN   \n2                      Comedy, Mental Health, Narrative             0  NaN   \n3     2D, Anime, Female Protagonist, LGBT, Ren'Py, R...             0  NaN   \n4     3D, Atmospheric, Cute, Funny, nature, Relaxing...             1  NaN   \n5     2D, Anime, Cute, Horror, Pixel Art, RPG Maker,...             1  NaN   \n...                                                 ...           ...  ...   \n2615  Aliens, fermijam, Procedural Generation, Text ...             0  NaN   \n2616  10mg, 10-minute-games, Cute, Minimalist, Short...             0  NaN   \n2617  Dark, Horror, Isometric, Meaningful Choices, M...             1  NaN   \n2618              Bitsy, everyone-is-nonbinary, turtles             0  NaN   \n2619                             Furry, LGBT, Narrative             0  NaN   \n\n      Unity  Flash  macOS  Windows  HTML5  Linux  Android  \n1       NaN    NaN    NaN      NaN    NaN    NaN      NaN  \n2       NaN    NaN    NaN      NaN    NaN    NaN      NaN  \n3       NaN    NaN    NaN      NaN    NaN    NaN      NaN  \n4       NaN    NaN    NaN      NaN    NaN    NaN      NaN  \n5       NaN    NaN    NaN      NaN    NaN    NaN      NaN  \n...     ...    ...    ...      ...    ...    ...      ...  \n2615    NaN    NaN    NaN      NaN    NaN    NaN      NaN  \n2616    NaN    NaN    NaN      NaN    NaN    NaN      NaN  \n2617    NaN    NaN    NaN      NaN    NaN    NaN      NaN  \n2618    NaN    NaN    NaN      NaN    NaN    NaN      NaN  \n2619    NaN    NaN    NaN      NaN    NaN    NaN      NaN  \n\n[2464 rows x 17 columns]",
      "text/html": "<div>\n<style scoped>\n    .dataframe tbody tr th:only-of-type {\n        vertical-align: middle;\n    }\n\n    .dataframe tbody tr th {\n        vertical-align: top;\n    }\n\n    .dataframe thead th {\n        text-align: right;\n    }\n</style>\n<table border=\"1\" class=\"dataframe\">\n  <thead>\n    <tr style=\"text-align: right;\">\n      <th></th>\n      <th>title</th>\n      <th>author</th>\n      <th>price</th>\n      <th>url</th>\n      <th>status</th>\n      <th>rating</th>\n      <th>made_with</th>\n      <th>tags</th>\n      <th>accessibility</th>\n      <th>ASL</th>\n      <th>Unity</th>\n      <th>Flash</th>\n      <th>macOS</th>\n      <th>Windows</th>\n      <th>HTML5</th>\n      <th>Linux</th>\n      <th>Android</th>\n    </tr>\n  </thead>\n  <tbody>\n    <tr>\n      <th>1</th>\n      <td>Friday Night Funkin'</td>\n      <td>ninjamuffin99</td>\n      <td>0.00</td>\n      <td>https://ninja-muffin24.itch.io/funkin</td>\n      <td>In development</td>\n      <td>4.7</td>\n      <td>OpenFL, IndieCade, Haxe</td>\n      <td>2D</td>\n      <td>0</td>\n      <td>NaN</td>\n      <td>NaN</td>\n      <td>NaN</td>\n      <td>NaN</td>\n      <td>NaN</td>\n      <td>NaN</td>\n      <td>NaN</td>\n      <td>NaN</td>\n    </tr>\n    <tr>\n      <th>2</th>\n      <td>Adventures With Anxiety!</td>\n      <td>Nicky Case!</td>\n      <td>0.00</td>\n      <td>https://ncase.itch.io/anxiety</td>\n      <td>Released</td>\n      <td>4.9</td>\n      <td>NaN</td>\n      <td>Comedy, Mental Health, Narrative</td>\n      <td>0</td>\n      <td>NaN</td>\n      <td>NaN</td>\n      <td>NaN</td>\n      <td>NaN</td>\n      <td>NaN</td>\n      <td>NaN</td>\n      <td>NaN</td>\n      <td>NaN</td>\n    </tr>\n    <tr>\n      <th>3</th>\n      <td>Butterfly Soup</td>\n      <td>Brianna Lei</td>\n      <td>0.00</td>\n      <td>https://brianna-lei.itch.io/butterfly-soup</td>\n      <td>Released</td>\n      <td>4.9</td>\n      <td>Ren'Py</td>\n      <td>2D, Anime, Female Protagonist, LGBT, Ren'Py, R...</td>\n      <td>0</td>\n      <td>NaN</td>\n      <td>NaN</td>\n      <td>NaN</td>\n      <td>NaN</td>\n      <td>NaN</td>\n      <td>NaN</td>\n      <td>NaN</td>\n      <td>NaN</td>\n    </tr>\n    <tr>\n      <th>4</th>\n      <td>A Short Hike</td>\n      <td>adamgryu</td>\n      <td>5.19</td>\n      <td>https://adamgryu.itch.io/a-short-hike</td>\n      <td>Released</td>\n      <td>4.9</td>\n      <td>Unity</td>\n      <td>3D, Atmospheric, Cute, Funny, nature, Relaxing...</td>\n      <td>1</td>\n      <td>NaN</td>\n      <td>NaN</td>\n      <td>NaN</td>\n      <td>NaN</td>\n      <td>NaN</td>\n      <td>NaN</td>\n      <td>NaN</td>\n      <td>NaN</td>\n    </tr>\n    <tr>\n      <th>5</th>\n      <td>Project Kat</td>\n      <td>Leef 6010</td>\n      <td>0.00</td>\n      <td>https://leef6010.itch.io/projectkat</td>\n      <td>Released</td>\n      <td>4.8</td>\n      <td>Paint Tool SAI, Godot, Aseprite</td>\n      <td>2D, Anime, Cute, Horror, Pixel Art, RPG Maker,...</td>\n      <td>1</td>\n      <td>NaN</td>\n      <td>NaN</td>\n      <td>NaN</td>\n      <td>NaN</td>\n      <td>NaN</td>\n      <td>NaN</td>\n      <td>NaN</td>\n      <td>NaN</td>\n    </tr>\n    <tr>\n      <th>...</th>\n      <td>...</td>\n      <td>...</td>\n      <td>...</td>\n      <td>...</td>\n      <td>...</td>\n      <td>...</td>\n      <td>...</td>\n      <td>...</td>\n      <td>...</td>\n      <td>...</td>\n      <td>...</td>\n      <td>...</td>\n      <td>...</td>\n      <td>...</td>\n      <td>...</td>\n      <td>...</td>\n      <td>...</td>\n    </tr>\n    <tr>\n      <th>2615</th>\n      <td>Epitaph</td>\n      <td>Max Kreminski</td>\n      <td>0.00</td>\n      <td>https://mkremins.itch.io/epitaph</td>\n      <td>Released</td>\n      <td>4.6</td>\n      <td>NaN</td>\n      <td>Aliens, fermijam, Procedural Generation, Text ...</td>\n      <td>0</td>\n      <td>NaN</td>\n      <td>NaN</td>\n      <td>NaN</td>\n      <td>NaN</td>\n      <td>NaN</td>\n      <td>NaN</td>\n      <td>NaN</td>\n      <td>NaN</td>\n    </tr>\n    <tr>\n      <th>2616</th>\n      <td>10mg :)</td>\n      <td>torcado</td>\n      <td>0.00</td>\n      <td>https://torcado.itch.io/smile</td>\n      <td>Released</td>\n      <td>4.9</td>\n      <td>NaN</td>\n      <td>10mg, 10-minute-games, Cute, Minimalist, Short...</td>\n      <td>0</td>\n      <td>NaN</td>\n      <td>NaN</td>\n      <td>NaN</td>\n      <td>NaN</td>\n      <td>NaN</td>\n      <td>NaN</td>\n      <td>NaN</td>\n      <td>NaN</td>\n    </tr>\n    <tr>\n      <th>2617</th>\n      <td>VTM - Heartless Lullaby</td>\n      <td>Entalto Studios</td>\n      <td>0.00</td>\n      <td>https://entaltostudios.itch.io/vtm-heartless-l...</td>\n      <td>Released</td>\n      <td>4.9</td>\n      <td>Unity</td>\n      <td>Dark, Horror, Isometric, Meaningful Choices, M...</td>\n      <td>1</td>\n      <td>NaN</td>\n      <td>NaN</td>\n      <td>NaN</td>\n      <td>NaN</td>\n      <td>NaN</td>\n      <td>NaN</td>\n      <td>NaN</td>\n      <td>NaN</td>\n    </tr>\n    <tr>\n      <th>2618</th>\n      <td>everybody wants to be a tortle</td>\n      <td>onion</td>\n      <td>0.00</td>\n      <td>https://le-onionboi.itch.io/tortle</td>\n      <td>Released</td>\n      <td>4.9</td>\n      <td>Bitsy</td>\n      <td>Bitsy, everyone-is-nonbinary, turtles</td>\n      <td>0</td>\n      <td>NaN</td>\n      <td>NaN</td>\n      <td>NaN</td>\n      <td>NaN</td>\n      <td>NaN</td>\n      <td>NaN</td>\n      <td>NaN</td>\n      <td>NaN</td>\n    </tr>\n    <tr>\n      <th>2619</th>\n      <td>what's your name?</td>\n      <td>jelli</td>\n      <td>0.00</td>\n      <td>https://sxilin.itch.io/namegame</td>\n      <td>Released</td>\n      <td>4.9</td>\n      <td>NaN</td>\n      <td>Furry, LGBT, Narrative</td>\n      <td>0</td>\n      <td>NaN</td>\n      <td>NaN</td>\n      <td>NaN</td>\n      <td>NaN</td>\n      <td>NaN</td>\n      <td>NaN</td>\n      <td>NaN</td>\n      <td>NaN</td>\n    </tr>\n  </tbody>\n</table>\n<p>2464 rows × 17 columns</p>\n</div>"
     },
     "execution_count": 12,
     "metadata": {},
     "output_type": "execute_result"
    }
   ],
   "source": [
    "new_df = pd.DataFrame(columns=cols, data=df1)\n",
    "new_df"
   ],
   "metadata": {
    "collapsed": false,
    "pycharm": {
     "name": "#%%\n"
    }
   }
  },
  {
   "cell_type": "code",
   "execution_count": 14,
   "outputs": [
    {
     "ename": "KeyError",
     "evalue": "0",
     "output_type": "error",
     "traceback": [
      "\u001B[1;31m---------------------------------------------------------------------------\u001B[0m",
      "\u001B[1;31mKeyError\u001B[0m                                  Traceback (most recent call last)",
      "File \u001B[1;32m~\\anaconda3\\envs\\DataScience\\lib\\site-packages\\pandas\\core\\indexes\\base.py:3621\u001B[0m, in \u001B[0;36mIndex.get_loc\u001B[1;34m(self, key, method, tolerance)\u001B[0m\n\u001B[0;32m   3620\u001B[0m \u001B[38;5;28;01mtry\u001B[39;00m:\n\u001B[1;32m-> 3621\u001B[0m     \u001B[38;5;28;01mreturn\u001B[39;00m \u001B[38;5;28;43mself\u001B[39;49m\u001B[38;5;241;43m.\u001B[39;49m\u001B[43m_engine\u001B[49m\u001B[38;5;241;43m.\u001B[39;49m\u001B[43mget_loc\u001B[49m\u001B[43m(\u001B[49m\u001B[43mcasted_key\u001B[49m\u001B[43m)\u001B[49m\n\u001B[0;32m   3622\u001B[0m \u001B[38;5;28;01mexcept\u001B[39;00m \u001B[38;5;167;01mKeyError\u001B[39;00m \u001B[38;5;28;01mas\u001B[39;00m err:\n",
      "File \u001B[1;32m~\\anaconda3\\envs\\DataScience\\lib\\site-packages\\pandas\\_libs\\index.pyx:136\u001B[0m, in \u001B[0;36mpandas._libs.index.IndexEngine.get_loc\u001B[1;34m()\u001B[0m\n",
      "File \u001B[1;32m~\\anaconda3\\envs\\DataScience\\lib\\site-packages\\pandas\\_libs\\index.pyx:163\u001B[0m, in \u001B[0;36mpandas._libs.index.IndexEngine.get_loc\u001B[1;34m()\u001B[0m\n",
      "File \u001B[1;32mpandas\\_libs\\hashtable_class_helper.pxi:2131\u001B[0m, in \u001B[0;36mpandas._libs.hashtable.Int64HashTable.get_item\u001B[1;34m()\u001B[0m\n",
      "File \u001B[1;32mpandas\\_libs\\hashtable_class_helper.pxi:2140\u001B[0m, in \u001B[0;36mpandas._libs.hashtable.Int64HashTable.get_item\u001B[1;34m()\u001B[0m\n",
      "\u001B[1;31mKeyError\u001B[0m: 0",
      "\nThe above exception was the direct cause of the following exception:\n",
      "\u001B[1;31mKeyError\u001B[0m                                  Traceback (most recent call last)",
      "Input \u001B[1;32mIn [14]\u001B[0m, in \u001B[0;36m<cell line: 1>\u001B[1;34m()\u001B[0m\n\u001B[0;32m      1\u001B[0m \u001B[38;5;28;01mfor\u001B[39;00m i \u001B[38;5;129;01min\u001B[39;00m \u001B[38;5;28mrange\u001B[39m(\u001B[38;5;28mlen\u001B[39m(df1[\u001B[38;5;124m'\u001B[39m\u001B[38;5;124mplatform\u001B[39m\u001B[38;5;124m'\u001B[39m])):\n\u001B[1;32m----> 2\u001B[0m     \u001B[38;5;28;01mfor\u001B[39;00m col \u001B[38;5;129;01min\u001B[39;00m \u001B[43mdf1\u001B[49m\u001B[43m[\u001B[49m\u001B[38;5;124;43m'\u001B[39;49m\u001B[38;5;124;43mplatform\u001B[39;49m\u001B[38;5;124;43m'\u001B[39;49m\u001B[43m]\u001B[49m\u001B[43m[\u001B[49m\u001B[43mi\u001B[49m\u001B[43m]\u001B[49m\u001B[38;5;241m.\u001B[39msplit(\u001B[38;5;124m'\u001B[39m\u001B[38;5;124m, \u001B[39m\u001B[38;5;124m'\u001B[39m):\n\u001B[0;32m      3\u001B[0m         new_df[col][i] \u001B[38;5;241m=\u001B[39m \u001B[38;5;241m1\u001B[39m\n",
      "File \u001B[1;32m~\\anaconda3\\envs\\DataScience\\lib\\site-packages\\pandas\\core\\series.py:958\u001B[0m, in \u001B[0;36mSeries.__getitem__\u001B[1;34m(self, key)\u001B[0m\n\u001B[0;32m    955\u001B[0m     \u001B[38;5;28;01mreturn\u001B[39;00m \u001B[38;5;28mself\u001B[39m\u001B[38;5;241m.\u001B[39m_values[key]\n\u001B[0;32m    957\u001B[0m \u001B[38;5;28;01melif\u001B[39;00m key_is_scalar:\n\u001B[1;32m--> 958\u001B[0m     \u001B[38;5;28;01mreturn\u001B[39;00m \u001B[38;5;28;43mself\u001B[39;49m\u001B[38;5;241;43m.\u001B[39;49m\u001B[43m_get_value\u001B[49m\u001B[43m(\u001B[49m\u001B[43mkey\u001B[49m\u001B[43m)\u001B[49m\n\u001B[0;32m    960\u001B[0m \u001B[38;5;28;01mif\u001B[39;00m is_hashable(key):\n\u001B[0;32m    961\u001B[0m     \u001B[38;5;66;03m# Otherwise index.get_value will raise InvalidIndexError\u001B[39;00m\n\u001B[0;32m    962\u001B[0m     \u001B[38;5;28;01mtry\u001B[39;00m:\n\u001B[0;32m    963\u001B[0m         \u001B[38;5;66;03m# For labels that don't resolve as scalars like tuples and frozensets\u001B[39;00m\n",
      "File \u001B[1;32m~\\anaconda3\\envs\\DataScience\\lib\\site-packages\\pandas\\core\\series.py:1069\u001B[0m, in \u001B[0;36mSeries._get_value\u001B[1;34m(self, label, takeable)\u001B[0m\n\u001B[0;32m   1066\u001B[0m     \u001B[38;5;28;01mreturn\u001B[39;00m \u001B[38;5;28mself\u001B[39m\u001B[38;5;241m.\u001B[39m_values[label]\n\u001B[0;32m   1068\u001B[0m \u001B[38;5;66;03m# Similar to Index.get_value, but we do not fall back to positional\u001B[39;00m\n\u001B[1;32m-> 1069\u001B[0m loc \u001B[38;5;241m=\u001B[39m \u001B[38;5;28;43mself\u001B[39;49m\u001B[38;5;241;43m.\u001B[39;49m\u001B[43mindex\u001B[49m\u001B[38;5;241;43m.\u001B[39;49m\u001B[43mget_loc\u001B[49m\u001B[43m(\u001B[49m\u001B[43mlabel\u001B[49m\u001B[43m)\u001B[49m\n\u001B[0;32m   1070\u001B[0m \u001B[38;5;28;01mreturn\u001B[39;00m \u001B[38;5;28mself\u001B[39m\u001B[38;5;241m.\u001B[39mindex\u001B[38;5;241m.\u001B[39m_get_values_for_loc(\u001B[38;5;28mself\u001B[39m, loc, label)\n",
      "File \u001B[1;32m~\\anaconda3\\envs\\DataScience\\lib\\site-packages\\pandas\\core\\indexes\\base.py:3623\u001B[0m, in \u001B[0;36mIndex.get_loc\u001B[1;34m(self, key, method, tolerance)\u001B[0m\n\u001B[0;32m   3621\u001B[0m     \u001B[38;5;28;01mreturn\u001B[39;00m \u001B[38;5;28mself\u001B[39m\u001B[38;5;241m.\u001B[39m_engine\u001B[38;5;241m.\u001B[39mget_loc(casted_key)\n\u001B[0;32m   3622\u001B[0m \u001B[38;5;28;01mexcept\u001B[39;00m \u001B[38;5;167;01mKeyError\u001B[39;00m \u001B[38;5;28;01mas\u001B[39;00m err:\n\u001B[1;32m-> 3623\u001B[0m     \u001B[38;5;28;01mraise\u001B[39;00m \u001B[38;5;167;01mKeyError\u001B[39;00m(key) \u001B[38;5;28;01mfrom\u001B[39;00m \u001B[38;5;21;01merr\u001B[39;00m\n\u001B[0;32m   3624\u001B[0m \u001B[38;5;28;01mexcept\u001B[39;00m \u001B[38;5;167;01mTypeError\u001B[39;00m:\n\u001B[0;32m   3625\u001B[0m     \u001B[38;5;66;03m# If we have a listlike key, _check_indexing_error will raise\u001B[39;00m\n\u001B[0;32m   3626\u001B[0m     \u001B[38;5;66;03m#  InvalidIndexError. Otherwise we fall through and re-raise\u001B[39;00m\n\u001B[0;32m   3627\u001B[0m     \u001B[38;5;66;03m#  the TypeError.\u001B[39;00m\n\u001B[0;32m   3628\u001B[0m     \u001B[38;5;28mself\u001B[39m\u001B[38;5;241m.\u001B[39m_check_indexing_error(key)\n",
      "\u001B[1;31mKeyError\u001B[0m: 0"
     ]
    }
   ],
   "source": [
    "for i in range(len(df1['platform'])):\n",
    "    for col in df1['platform'][i].split(', '):\n",
    "        new_df[col][i] = 1"
   ],
   "metadata": {
    "collapsed": false,
    "pycharm": {
     "name": "#%%\n"
    }
   }
  },
  {
   "cell_type": "code",
   "execution_count": null,
   "outputs": [],
   "source": [
    "new_df = new_df.fillna('0')\n",
    "new_df"
   ],
   "metadata": {
    "collapsed": false,
    "pycharm": {
     "name": "#%%\n"
    }
   }
  },
  {
   "cell_type": "code",
   "execution_count": null,
   "outputs": [],
   "source": [
    "df1"
   ],
   "metadata": {
    "collapsed": false,
    "pycharm": {
     "name": "#%%\n"
    }
   }
  }
 ],
 "metadata": {
  "kernelspec": {
   "display_name": "Python 3",
   "language": "python",
   "name": "python3"
  },
  "language_info": {
   "codemirror_mode": {
    "name": "ipython",
    "version": 2
   },
   "file_extension": ".py",
   "mimetype": "text/x-python",
   "name": "python",
   "nbconvert_exporter": "python",
   "pygments_lexer": "ipython2",
   "version": "2.7.6"
  }
 },
 "nbformat": 4,
 "nbformat_minor": 0
}