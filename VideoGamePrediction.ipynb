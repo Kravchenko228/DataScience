{
 "cells": [
  {
   "cell_type": "markdown",
   "source": [
    "Data Handling"
   ],
   "metadata": {
    "collapsed": false,
    "pycharm": {
     "name": "#%% md\n"
    }
   }
  },
  {
   "cell_type": "code",
   "execution_count": 1,
   "outputs": [],
   "source": [
    "import matplotlib.pyplot as plt\n",
    "import numpy as np\n",
    "import matplotlib.pyplot as plt\n",
    "from matplotlib import patches\n",
    "import warnings;\n",
    "import csv\n",
    "import pandas as pd\n",
    "from array import *\n",
    "warnings.simplefilter('ignore')"
   ],
   "metadata": {
    "collapsed": false,
    "pycharm": {
     "name": "#%%import pandas as pd\n"
    }
   }
  },
  {
   "cell_type": "markdown",
   "source": [
    "Open Crawled Data csv file"
   ],
   "metadata": {
    "collapsed": false,
    "pycharm": {
     "name": "#%% md\n"
    }
   }
  },
  {
   "cell_type": "code",
   "execution_count": 2,
   "outputs": [
    {
     "data": {
      "text/plain": "                               title           author  price  \\\n0     ​Our Life: Beginnings & Always          GBPatch    NaN   \n1               Friday Night Funkin'    ninjamuffin99    NaN   \n2           Adventures With Anxiety!      Nicky Case!    NaN   \n3                     Butterfly Soup      Brianna Lei    NaN   \n4                       A Short Hike         adamgryu  $5.19   \n...                              ...              ...    ...   \n2615                         Epitaph    Max Kreminski    NaN   \n2616                         10mg :)          torcado     $3   \n2617         VTM - Heartless Lullaby  Entalto Studios    NaN   \n2618  everybody wants to be a tortle            onion    NaN   \n2619               what's your name?            jelli    NaN   \n\n                                                    url          status  \\\n0                      https://gbpatch.itch.io/our-life             NaN   \n1                 https://ninja-muffin24.itch.io/funkin  In development   \n2                         https://ncase.itch.io/anxiety        Released   \n3            https://brianna-lei.itch.io/butterfly-soup        Released   \n4                 https://adamgryu.itch.io/a-short-hike        Released   \n...                                                 ...             ...   \n2615                   https://mkremins.itch.io/epitaph        Released   \n2616                      https://torcado.itch.io/smile        Released   \n2617  https://entaltostudios.itch.io/vtm-heartless-l...        Released   \n2618                 https://le-onionboi.itch.io/tortle        Released   \n2619                    https://sxilin.itch.io/namegame        Released   \n\n                          platform  rating                made_with  \\\n0                              NaN     NaN                      NaN   \n1     Windows, macOS, Linux, HTML5     4.7  OpenFL, IndieCade, Haxe   \n2                            HTML5     4.9                      NaN   \n3            Windows, macOS, Linux     4.9                   Ren'Py   \n4            Windows, macOS, Linux     4.9                    Unity   \n...                            ...     ...                      ...   \n2615                         HTML5     4.6                      NaN   \n2616         Windows, macOS, Linux     4.9                      NaN   \n2617                Windows, macOS     4.9                    Unity   \n2618                         HTML5     4.9                    Bitsy   \n2619         Windows, macOS, Linux     4.9                      NaN   \n\n                                                   tags  \\\n0                                                   NaN   \n1                                                    2D   \n2                      Comedy, Mental Health, Narrative   \n3     2D, Anime, Female Protagonist, LGBT, Ren'Py, R...   \n4     3D, Atmospheric, Cute, Funny, nature, Relaxing...   \n...                                                 ...   \n2615  Aliens, fermijam, Procedural Generation, Text ...   \n2616  10mg, 10-minute-games, Cute, Minimalist, Short...   \n2617  Dark, Horror, Isometric, Meaningful Choices, M...   \n2618              Bitsy, everyone-is-nonbinary, turtles   \n2619                             Furry, LGBT, Narrative   \n\n                         accessibility  ASL  \n0                                  NaN  NaN  \n1                                  NaN  NaN  \n2                                  NaN  NaN  \n3                                  NaN  NaN  \n4     Subtitles, Configurable controls  NaN  \n...                                ...  ...  \n2615                               NaN  NaN  \n2616                               NaN  NaN  \n2617                         Subtitles  NaN  \n2618                               NaN  NaN  \n2619                               NaN  NaN  \n\n[2620 rows x 11 columns]",
      "text/html": "<div>\n<style scoped>\n    .dataframe tbody tr th:only-of-type {\n        vertical-align: middle;\n    }\n\n    .dataframe tbody tr th {\n        vertical-align: top;\n    }\n\n    .dataframe thead th {\n        text-align: right;\n    }\n</style>\n<table border=\"1\" class=\"dataframe\">\n  <thead>\n    <tr style=\"text-align: right;\">\n      <th></th>\n      <th>title</th>\n      <th>author</th>\n      <th>price</th>\n      <th>url</th>\n      <th>status</th>\n      <th>platform</th>\n      <th>rating</th>\n      <th>made_with</th>\n      <th>tags</th>\n      <th>accessibility</th>\n      <th>ASL</th>\n    </tr>\n  </thead>\n  <tbody>\n    <tr>\n      <th>0</th>\n      <td>​Our Life: Beginnings &amp; Always</td>\n      <td>GBPatch</td>\n      <td>NaN</td>\n      <td>https://gbpatch.itch.io/our-life</td>\n      <td>NaN</td>\n      <td>NaN</td>\n      <td>NaN</td>\n      <td>NaN</td>\n      <td>NaN</td>\n      <td>NaN</td>\n      <td>NaN</td>\n    </tr>\n    <tr>\n      <th>1</th>\n      <td>Friday Night Funkin'</td>\n      <td>ninjamuffin99</td>\n      <td>NaN</td>\n      <td>https://ninja-muffin24.itch.io/funkin</td>\n      <td>In development</td>\n      <td>Windows, macOS, Linux, HTML5</td>\n      <td>4.7</td>\n      <td>OpenFL, IndieCade, Haxe</td>\n      <td>2D</td>\n      <td>NaN</td>\n      <td>NaN</td>\n    </tr>\n    <tr>\n      <th>2</th>\n      <td>Adventures With Anxiety!</td>\n      <td>Nicky Case!</td>\n      <td>NaN</td>\n      <td>https://ncase.itch.io/anxiety</td>\n      <td>Released</td>\n      <td>HTML5</td>\n      <td>4.9</td>\n      <td>NaN</td>\n      <td>Comedy, Mental Health, Narrative</td>\n      <td>NaN</td>\n      <td>NaN</td>\n    </tr>\n    <tr>\n      <th>3</th>\n      <td>Butterfly Soup</td>\n      <td>Brianna Lei</td>\n      <td>NaN</td>\n      <td>https://brianna-lei.itch.io/butterfly-soup</td>\n      <td>Released</td>\n      <td>Windows, macOS, Linux</td>\n      <td>4.9</td>\n      <td>Ren'Py</td>\n      <td>2D, Anime, Female Protagonist, LGBT, Ren'Py, R...</td>\n      <td>NaN</td>\n      <td>NaN</td>\n    </tr>\n    <tr>\n      <th>4</th>\n      <td>A Short Hike</td>\n      <td>adamgryu</td>\n      <td>$5.19</td>\n      <td>https://adamgryu.itch.io/a-short-hike</td>\n      <td>Released</td>\n      <td>Windows, macOS, Linux</td>\n      <td>4.9</td>\n      <td>Unity</td>\n      <td>3D, Atmospheric, Cute, Funny, nature, Relaxing...</td>\n      <td>Subtitles, Configurable controls</td>\n      <td>NaN</td>\n    </tr>\n    <tr>\n      <th>...</th>\n      <td>...</td>\n      <td>...</td>\n      <td>...</td>\n      <td>...</td>\n      <td>...</td>\n      <td>...</td>\n      <td>...</td>\n      <td>...</td>\n      <td>...</td>\n      <td>...</td>\n      <td>...</td>\n    </tr>\n    <tr>\n      <th>2615</th>\n      <td>Epitaph</td>\n      <td>Max Kreminski</td>\n      <td>NaN</td>\n      <td>https://mkremins.itch.io/epitaph</td>\n      <td>Released</td>\n      <td>HTML5</td>\n      <td>4.6</td>\n      <td>NaN</td>\n      <td>Aliens, fermijam, Procedural Generation, Text ...</td>\n      <td>NaN</td>\n      <td>NaN</td>\n    </tr>\n    <tr>\n      <th>2616</th>\n      <td>10mg :)</td>\n      <td>torcado</td>\n      <td>$3</td>\n      <td>https://torcado.itch.io/smile</td>\n      <td>Released</td>\n      <td>Windows, macOS, Linux</td>\n      <td>4.9</td>\n      <td>NaN</td>\n      <td>10mg, 10-minute-games, Cute, Minimalist, Short...</td>\n      <td>NaN</td>\n      <td>NaN</td>\n    </tr>\n    <tr>\n      <th>2617</th>\n      <td>VTM - Heartless Lullaby</td>\n      <td>Entalto Studios</td>\n      <td>NaN</td>\n      <td>https://entaltostudios.itch.io/vtm-heartless-l...</td>\n      <td>Released</td>\n      <td>Windows, macOS</td>\n      <td>4.9</td>\n      <td>Unity</td>\n      <td>Dark, Horror, Isometric, Meaningful Choices, M...</td>\n      <td>Subtitles</td>\n      <td>NaN</td>\n    </tr>\n    <tr>\n      <th>2618</th>\n      <td>everybody wants to be a tortle</td>\n      <td>onion</td>\n      <td>NaN</td>\n      <td>https://le-onionboi.itch.io/tortle</td>\n      <td>Released</td>\n      <td>HTML5</td>\n      <td>4.9</td>\n      <td>Bitsy</td>\n      <td>Bitsy, everyone-is-nonbinary, turtles</td>\n      <td>NaN</td>\n      <td>NaN</td>\n    </tr>\n    <tr>\n      <th>2619</th>\n      <td>what's your name?</td>\n      <td>jelli</td>\n      <td>NaN</td>\n      <td>https://sxilin.itch.io/namegame</td>\n      <td>Released</td>\n      <td>Windows, macOS, Linux</td>\n      <td>4.9</td>\n      <td>NaN</td>\n      <td>Furry, LGBT, Narrative</td>\n      <td>NaN</td>\n      <td>NaN</td>\n    </tr>\n  </tbody>\n</table>\n<p>2620 rows × 11 columns</p>\n</div>"
     },
     "execution_count": 2,
     "metadata": {},
     "output_type": "execute_result"
    }
   ],
   "source": [
    "df = pd.read_csv(\"final_data.csv \",sep='\\t')\n",
    "#data = pd.read_csv(\"file1.csv\", error_bad_lines=False)\n",
    "df"
   ],
   "metadata": {
    "collapsed": false,
    "pycharm": {
     "name": "#%%\n"
    }
   }
  },
  {
   "cell_type": "markdown",
   "source": [],
   "metadata": {
    "collapsed": false,
    "pycharm": {
     "name": "#%% md\n"
    }
   }
  },
  {
   "cell_type": "code",
   "execution_count": 3,
   "outputs": [],
   "source": [
    "df1=df\n"
   ],
   "metadata": {
    "collapsed": false,
    "pycharm": {
     "name": "#%%\n"
    }
   }
  },
  {
   "cell_type": "code",
   "execution_count": 4,
   "outputs": [],
   "source": [
    "\n",
    "df1['price'] = df1['price'].str.extract('(\\d+.\\d+)').astype(float)\n",
    "\n",
    "\n"
   ],
   "metadata": {
    "collapsed": false,
    "pycharm": {
     "name": "#%%\n"
    }
   }
  },
  {
   "cell_type": "code",
   "execution_count": 5,
   "outputs": [],
   "source": [
    "df1=df1.fillna(value = {'price':'0'})"
   ],
   "metadata": {
    "collapsed": false,
    "pycharm": {
     "name": "#%%\n"
    }
   }
  },
  {
   "cell_type": "code",
   "execution_count": 6,
   "outputs": [],
   "source": [
    "df1=df1.fillna(value = {'accessibility':'0'})"
   ],
   "metadata": {
    "collapsed": false,
    "pycharm": {
     "name": "#%%\n"
    }
   }
  },
  {
   "cell_type": "code",
   "execution_count": 7,
   "outputs": [],
   "source": [
    "df1.accessibility[df1.accessibility != '0'] = 1"
   ],
   "metadata": {
    "collapsed": false,
    "pycharm": {
     "name": "#%%\n"
    }
   }
  },
  {
   "cell_type": "code",
   "execution_count": 8,
   "outputs": [],
   "source": [
    "df1=df1.dropna(subset=['platform','rating','tags','status'])\n",
    "df1=df1.reset_index()"
   ],
   "metadata": {
    "collapsed": false,
    "pycharm": {
     "name": "#%%\n"
    }
   }
  },
  {
   "cell_type": "code",
   "execution_count": 9,
   "outputs": [
    {
     "data": {
      "text/plain": "      index                           title           author price  \\\n0         1            Friday Night Funkin'    ninjamuffin99     0   \n1         2        Adventures With Anxiety!      Nicky Case!     0   \n2         3                  Butterfly Soup      Brianna Lei     0   \n3         4                    A Short Hike         adamgryu  5.19   \n4         5                     Project Kat        Leef 6010     0   \n...     ...                             ...              ...   ...   \n2368   2615                         Epitaph    Max Kreminski     0   \n2369   2616                         10mg :)          torcado     0   \n2370   2617         VTM - Heartless Lullaby  Entalto Studios     0   \n2371   2618  everybody wants to be a tortle            onion     0   \n2372   2619               what's your name?            jelli     0   \n\n                                                    url          status  \\\n0                 https://ninja-muffin24.itch.io/funkin  In development   \n1                         https://ncase.itch.io/anxiety        Released   \n2            https://brianna-lei.itch.io/butterfly-soup        Released   \n3                 https://adamgryu.itch.io/a-short-hike        Released   \n4                   https://leef6010.itch.io/projectkat        Released   \n...                                                 ...             ...   \n2368                   https://mkremins.itch.io/epitaph        Released   \n2369                      https://torcado.itch.io/smile        Released   \n2370  https://entaltostudios.itch.io/vtm-heartless-l...        Released   \n2371                 https://le-onionboi.itch.io/tortle        Released   \n2372                    https://sxilin.itch.io/namegame        Released   \n\n                          platform  rating                        made_with  \\\n0     Windows, macOS, Linux, HTML5     4.7          OpenFL, IndieCade, Haxe   \n1                            HTML5     4.9                              NaN   \n2            Windows, macOS, Linux     4.9                           Ren'Py   \n3            Windows, macOS, Linux     4.9                            Unity   \n4            Windows, macOS, Linux     4.8  Paint Tool SAI, Godot, Aseprite   \n...                            ...     ...                              ...   \n2368                         HTML5     4.6                              NaN   \n2369         Windows, macOS, Linux     4.9                              NaN   \n2370                Windows, macOS     4.9                            Unity   \n2371                         HTML5     4.9                            Bitsy   \n2372         Windows, macOS, Linux     4.9                              NaN   \n\n                                                   tags accessibility  ASL  \n0                                                    2D             0  NaN  \n1                      Comedy, Mental Health, Narrative             0  NaN  \n2     2D, Anime, Female Protagonist, LGBT, Ren'Py, R...             0  NaN  \n3     3D, Atmospheric, Cute, Funny, nature, Relaxing...             1  NaN  \n4     2D, Anime, Cute, Horror, Pixel Art, RPG Maker,...             1  NaN  \n...                                                 ...           ...  ...  \n2368  Aliens, fermijam, Procedural Generation, Text ...             0  NaN  \n2369  10mg, 10-minute-games, Cute, Minimalist, Short...             0  NaN  \n2370  Dark, Horror, Isometric, Meaningful Choices, M...             1  NaN  \n2371              Bitsy, everyone-is-nonbinary, turtles             0  NaN  \n2372                             Furry, LGBT, Narrative             0  NaN  \n\n[2373 rows x 12 columns]",
      "text/html": "<div>\n<style scoped>\n    .dataframe tbody tr th:only-of-type {\n        vertical-align: middle;\n    }\n\n    .dataframe tbody tr th {\n        vertical-align: top;\n    }\n\n    .dataframe thead th {\n        text-align: right;\n    }\n</style>\n<table border=\"1\" class=\"dataframe\">\n  <thead>\n    <tr style=\"text-align: right;\">\n      <th></th>\n      <th>index</th>\n      <th>title</th>\n      <th>author</th>\n      <th>price</th>\n      <th>url</th>\n      <th>status</th>\n      <th>platform</th>\n      <th>rating</th>\n      <th>made_with</th>\n      <th>tags</th>\n      <th>accessibility</th>\n      <th>ASL</th>\n    </tr>\n  </thead>\n  <tbody>\n    <tr>\n      <th>0</th>\n      <td>1</td>\n      <td>Friday Night Funkin'</td>\n      <td>ninjamuffin99</td>\n      <td>0</td>\n      <td>https://ninja-muffin24.itch.io/funkin</td>\n      <td>In development</td>\n      <td>Windows, macOS, Linux, HTML5</td>\n      <td>4.7</td>\n      <td>OpenFL, IndieCade, Haxe</td>\n      <td>2D</td>\n      <td>0</td>\n      <td>NaN</td>\n    </tr>\n    <tr>\n      <th>1</th>\n      <td>2</td>\n      <td>Adventures With Anxiety!</td>\n      <td>Nicky Case!</td>\n      <td>0</td>\n      <td>https://ncase.itch.io/anxiety</td>\n      <td>Released</td>\n      <td>HTML5</td>\n      <td>4.9</td>\n      <td>NaN</td>\n      <td>Comedy, Mental Health, Narrative</td>\n      <td>0</td>\n      <td>NaN</td>\n    </tr>\n    <tr>\n      <th>2</th>\n      <td>3</td>\n      <td>Butterfly Soup</td>\n      <td>Brianna Lei</td>\n      <td>0</td>\n      <td>https://brianna-lei.itch.io/butterfly-soup</td>\n      <td>Released</td>\n      <td>Windows, macOS, Linux</td>\n      <td>4.9</td>\n      <td>Ren'Py</td>\n      <td>2D, Anime, Female Protagonist, LGBT, Ren'Py, R...</td>\n      <td>0</td>\n      <td>NaN</td>\n    </tr>\n    <tr>\n      <th>3</th>\n      <td>4</td>\n      <td>A Short Hike</td>\n      <td>adamgryu</td>\n      <td>5.19</td>\n      <td>https://adamgryu.itch.io/a-short-hike</td>\n      <td>Released</td>\n      <td>Windows, macOS, Linux</td>\n      <td>4.9</td>\n      <td>Unity</td>\n      <td>3D, Atmospheric, Cute, Funny, nature, Relaxing...</td>\n      <td>1</td>\n      <td>NaN</td>\n    </tr>\n    <tr>\n      <th>4</th>\n      <td>5</td>\n      <td>Project Kat</td>\n      <td>Leef 6010</td>\n      <td>0</td>\n      <td>https://leef6010.itch.io/projectkat</td>\n      <td>Released</td>\n      <td>Windows, macOS, Linux</td>\n      <td>4.8</td>\n      <td>Paint Tool SAI, Godot, Aseprite</td>\n      <td>2D, Anime, Cute, Horror, Pixel Art, RPG Maker,...</td>\n      <td>1</td>\n      <td>NaN</td>\n    </tr>\n    <tr>\n      <th>...</th>\n      <td>...</td>\n      <td>...</td>\n      <td>...</td>\n      <td>...</td>\n      <td>...</td>\n      <td>...</td>\n      <td>...</td>\n      <td>...</td>\n      <td>...</td>\n      <td>...</td>\n      <td>...</td>\n      <td>...</td>\n    </tr>\n    <tr>\n      <th>2368</th>\n      <td>2615</td>\n      <td>Epitaph</td>\n      <td>Max Kreminski</td>\n      <td>0</td>\n      <td>https://mkremins.itch.io/epitaph</td>\n      <td>Released</td>\n      <td>HTML5</td>\n      <td>4.6</td>\n      <td>NaN</td>\n      <td>Aliens, fermijam, Procedural Generation, Text ...</td>\n      <td>0</td>\n      <td>NaN</td>\n    </tr>\n    <tr>\n      <th>2369</th>\n      <td>2616</td>\n      <td>10mg :)</td>\n      <td>torcado</td>\n      <td>0</td>\n      <td>https://torcado.itch.io/smile</td>\n      <td>Released</td>\n      <td>Windows, macOS, Linux</td>\n      <td>4.9</td>\n      <td>NaN</td>\n      <td>10mg, 10-minute-games, Cute, Minimalist, Short...</td>\n      <td>0</td>\n      <td>NaN</td>\n    </tr>\n    <tr>\n      <th>2370</th>\n      <td>2617</td>\n      <td>VTM - Heartless Lullaby</td>\n      <td>Entalto Studios</td>\n      <td>0</td>\n      <td>https://entaltostudios.itch.io/vtm-heartless-l...</td>\n      <td>Released</td>\n      <td>Windows, macOS</td>\n      <td>4.9</td>\n      <td>Unity</td>\n      <td>Dark, Horror, Isometric, Meaningful Choices, M...</td>\n      <td>1</td>\n      <td>NaN</td>\n    </tr>\n    <tr>\n      <th>2371</th>\n      <td>2618</td>\n      <td>everybody wants to be a tortle</td>\n      <td>onion</td>\n      <td>0</td>\n      <td>https://le-onionboi.itch.io/tortle</td>\n      <td>Released</td>\n      <td>HTML5</td>\n      <td>4.9</td>\n      <td>Bitsy</td>\n      <td>Bitsy, everyone-is-nonbinary, turtles</td>\n      <td>0</td>\n      <td>NaN</td>\n    </tr>\n    <tr>\n      <th>2372</th>\n      <td>2619</td>\n      <td>what's your name?</td>\n      <td>jelli</td>\n      <td>0</td>\n      <td>https://sxilin.itch.io/namegame</td>\n      <td>Released</td>\n      <td>Windows, macOS, Linux</td>\n      <td>4.9</td>\n      <td>NaN</td>\n      <td>Furry, LGBT, Narrative</td>\n      <td>0</td>\n      <td>NaN</td>\n    </tr>\n  </tbody>\n</table>\n<p>2373 rows × 12 columns</p>\n</div>"
     },
     "execution_count": 9,
     "metadata": {},
     "output_type": "execute_result"
    }
   ],
   "source": [
    "df1"
   ],
   "metadata": {
    "collapsed": false,
    "pycharm": {
     "name": "#%%\n"
    }
   }
  },
  {
   "cell_type": "code",
   "execution_count": 10,
   "outputs": [],
   "source": [
    "\n",
    "df1['rating']=df1['rating'].astype(float)\n"
   ],
   "metadata": {
    "collapsed": false,
    "pycharm": {
     "name": "#%%\n"
    }
   }
  },
  {
   "cell_type": "code",
   "execution_count": 11,
   "outputs": [
    {
     "data": {
      "text/plain": "['index',\n 'title',\n 'author',\n 'price',\n 'url',\n 'status',\n 'rating',\n 'made_with',\n 'accessibility',\n 'ASL',\n 'Linux',\n 'HTML5',\n 'Android',\n 'Unity',\n 'Flash',\n 'macOS',\n 'Windows',\n 'Superhero',\n 'Ludum Dare 35',\n 'Simple',\n 'glitch',\n 'baldi-mod',\n 'ink',\n 'Fishing',\n 'unity3d',\n 'outsider',\n 'heat',\n 'Action RPG',\n 'political-intrigue',\n 'Ludum Dare 30',\n 'alternative',\n 'mild-rumpus',\n 'island',\n 'Manga',\n 'punk-music',\n 'winged',\n 'mp2-games',\n 'crocodile',\n 'World War II',\n 'mac',\n 'teamseas',\n 'pewdiepie',\n 'housewife',\n 'cursed',\n 'muscle',\n 'girls-love',\n 'liminal',\n 'pixelhorrorjam',\n 'stg',\n 'real',\n 'Slasher',\n 'bonsai',\n 'dungeon',\n \"Shoot 'Em Up\",\n 'flash',\n 'thecatamites',\n 'dreamy',\n 'little-lands',\n 'vehicular-combat',\n 'superstition',\n 'rules',\n 'namco',\n 'spoons',\n 'non-binary',\n 'valentines-day',\n 'angels',\n 'hq-residential-house',\n 'job-hunting',\n 'gain',\n 'picrew',\n 'Time Travel',\n 'plurality',\n 'mining',\n 'metal-sonic',\n 'monster-girl',\n 'match-3',\n 'witch',\n 'samba',\n 'polyamorous',\n 'Gacha',\n 'packing',\n 'factory',\n 'ragdoll-physics',\n 'Characters',\n 'short-story',\n 'autumn',\n 'quiz',\n 'cryptid',\n 'Generator',\n 'Unity',\n 'pgmmv',\n 'gator',\n 'gmtk-2021',\n 'flare',\n 'vietnamese',\n 'autobattler',\n 'foul-mouthed',\n 'arena',\n 'unspeakable',\n 'Voice Acting',\n 'moe',\n 'Violent',\n 'fujibittersweet',\n 'easy',\n 'Gardening',\n 'aviation',\n 'star-trek-ish',\n 'Surreal',\n 'superheroes',\n 'gainjam2021',\n 'bounce',\n 'Soccer',\n 'hand',\n 'eastern',\n 'breakup',\n 'puzzles',\n 'sonic',\n 'fighting-game',\n 'fullbright',\n 'solo',\n 'Western',\n 'Comedy',\n 'celeste',\n 'university',\n 'chat-noir',\n 'tekken',\n 'randomnick',\n 'sleeping',\n 'Railroad',\n 'engineer',\n 'playstation',\n 'necromancy',\n 'sluggish',\n 'imposter',\n 'bugglebots',\n 'auto-chess',\n 'toilet',\n 'studio',\n 'one-button',\n 'fungus',\n 'studiodaeera',\n 'pony-island',\n 'balloons',\n 'hypno',\n 'flow',\n 'Crime',\n 'construct3',\n 'come',\n 'Demake',\n 'door',\n 'poetry',\n 'sisao',\n 'therian',\n 'proteus',\n 'graveyard',\n 'russian-roulette',\n 'no-text',\n 'obra',\n 'secrets',\n 'prologue',\n 'outside-the-box',\n 'animal',\n 'ue5',\n 'smpsf',\n 'escape',\n 'bartending',\n 'tower',\n 'jack-spinoza',\n 'lumpy',\n 'Narrative',\n 'Side Scroller',\n 'bitsy-editor',\n 'greek',\n 'fire-emblem',\n 'worker-placement',\n 'flashback',\n 'guitar',\n 'miraculous-ladybug',\n 'firemen',\n 'driller',\n 'logic',\n 'tuning',\n 'beat',\n 'free-roam',\n 'rc',\n 'windowsill',\n 'crowds',\n 'Indie',\n 'Psychological Horror',\n 'build',\n 'grocery',\n 'liar-liar',\n 'cars',\n 'drone',\n 'jasperraccoon',\n 'physics-simulation',\n 'sans',\n 'minecraft',\n '2000s',\n 'Game Jam',\n 'minimalistic',\n 'Superpowers',\n 'mecha-sonic',\n 'Bullet Hell',\n 'chillwave',\n 'eek3',\n 'john-wick',\n 'noa-calice',\n 'leaf',\n 'Sprites',\n 'digimon',\n 'Tentacles',\n 'horse',\n 'PvP',\n 'Local multiplayer',\n 'asexual',\n '8-Bit',\n 'parallax',\n 'seraphime-entertainment',\n 'Parkour',\n 'Robots',\n '2017',\n 'space-whale',\n 'Character Customization',\n 'literature',\n 'friends',\n \"Boys' Love\",\n 'jibaku-shounen-hanako-kun',\n 'sabot',\n 'hananene',\n 'SHARECART1000',\n 'fey',\n 'Clicker',\n 'Dungeon Crawler',\n 'raccoon',\n 'programming',\n 'paragliding',\n 'bug',\n 'hiding',\n 'newgrounds',\n 'zeldalike',\n 'party-game',\n 'interior-design',\n 'Survival Horror',\n 'creepycute',\n 'jdm',\n 'voice',\n 'tree',\n 'yandere',\n 'lunime',\n 'delicious',\n 'meteors',\n 'scp-foundation',\n 'hps1',\n 'audio-based',\n 'friendship',\n 'room-escape',\n 'Exploration',\n 'Cats',\n 'regency',\n 'lisa',\n 'gliding',\n 'superautopets',\n 'snes',\n 'musical',\n 'bit-rat',\n 'lizard',\n 'nanoreno2019',\n 'monkeyball',\n 'tpying',\n 'fpv',\n 'construct-3',\n 'water',\n 'eugenics',\n 'clouds',\n 'matt-makes-games',\n 'bbpsx',\n 'mlm',\n 'blazblue',\n 'doll-maker',\n 'memoir',\n 'day-of-the-tentacle',\n 'Controller',\n 'spindlewheel',\n 'collaborative',\n 'compilation',\n 'minigames',\n 'hospital',\n 'simpsons',\n 'killer',\n 'Ludum Dare 42',\n '90s',\n 'Slime',\n 'vintage',\n 'rock_raiders',\n 'mini',\n 'gothic-romance',\n 'picoday2021',\n 'narrative-design',\n 'jokes',\n 'Art Book',\n 'bisexual',\n 'Chess',\n 'jumping',\n 'short-game',\n 'king-spooner',\n 'vacation',\n 'Incremental',\n 'Emulator',\n 'impossible-spaces',\n 'maze',\n 'Top down shooter',\n 'transmigration',\n 'puppets',\n 'Female Protagonist',\n 'Mental Health',\n 'runouw',\n 'knuckles',\n 'haikyuu',\n 'Split Screen',\n 'Ludum Dare 31',\n 'rpg-maker-mv',\n 'sun',\n 'time-manipulation',\n 'ducklings',\n 'panda',\n 'Spooky',\n 'stardew-valley',\n 'plug--play',\n 'Physics',\n 'illustrated',\n 'boss',\n 'phaserjs',\n 'character-creator',\n 'Transgender',\n 'ld48',\n 'Kickstarter',\n 'Time Attack',\n 'Gore',\n 'zach-like',\n 'Oculus Rift',\n 'house',\n 'game-boy',\n 'stress',\n 'marching-band',\n 'ld43',\n 'documentary',\n 'live-action',\n 'first-person-perspective',\n 'dont',\n 'Parody',\n 'weird',\n 'combat',\n 'black-friday',\n 'bloodbornepsx',\n 'worms',\n 'scifi',\n 'sortinghatchats',\n 'mapcore',\n 'virtual-boy',\n 'wgi20',\n 'mafia',\n 'moba',\n 'maltese',\n '3dplatformer',\n 'bee',\n 'ragdoll',\n 'cards',\n 'Mouse only',\n 'dinosaursavers',\n 'artificial-intelligence',\n 'Lovecraftian Horror',\n 'meat',\n 'fatphobia',\n 'narrative-experiment',\n 'ps2',\n 'lovegod',\n 'feelings',\n 'catboy',\n 'Folklore',\n 'boss-rush',\n 'fps-platformer',\n 'sharply-dressed-demon-girls',\n 'domino',\n 'Moddable',\n 'orc',\n 'NES (Nintendo Entertainment System)',\n 'files',\n 'charming',\n 'military',\n 'lore',\n 'blocks',\n 'creatures',\n 'frost',\n 'threes',\n \"Game Maker's Toolkit Jam\",\n 'reflective',\n 'raymarching',\n 'mario',\n 'power-star-frenzy',\n 'Walking simulator',\n 'Word game',\n 'Breakout',\n 'clickteam-fusion',\n 'indigenous',\n 'submachine',\n 'enjmin',\n 'vive',\n 'cults',\n 'Synthwave',\n 'raft',\n 'mlp',\n 'bad-art',\n 'reef',\n 'Painting',\n 'Halloween',\n 'bean-fart',\n 'tetrageddon',\n 'mspaint',\n 'claim',\n 'angel',\n 'post-apocalyptic-1-bit-dogs',\n 'Turn-based Strategy',\n 'Top-Down',\n 'building',\n 'yellowstone',\n 'GM-Less',\n 'Family Friendly',\n 'blade-runner',\n 'grapple',\n 'webbed',\n 'ld49',\n 'Ludum Dare 29',\n 'oculus-quest-2',\n 'Instrument',\n 'ceda-cedovic',\n 'thinly-veiled-allegory',\n 'air-combat',\n 'euclidean-orbifold',\n 'deathmatch',\n 'choices-matter',\n 'nordic-game-jam',\n 'dinn',\n 'Unreal Engine',\n 'small',\n 'religion',\n 'hanggliding',\n 'homestuck',\n 'silly',\n 'game-a-week',\n 'gamepad',\n 'meta',\n 'Yuri',\n 'typeing',\n 'Ludum Dare 48',\n 'sunset',\n 'online',\n 'royal',\n 'Zombies',\n 'wallace-game',\n 'lgtb',\n 'intrigue',\n 'Doom',\n 'koshkamatew',\n 'Colorful',\n 'sacrifices',\n 'gameawekk2022',\n 'autobio',\n 'Difficult',\n 'wolfenstein3d',\n 'Animation',\n 'blood',\n 'ball',\n 'depression',\n 'flute',\n 'tea',\n 'the-magnus-archives',\n 'bitsy-jam',\n 'grid-based',\n 'example',\n 'morshu',\n 'Tarot',\n 'god',\n 'btpgamejam',\n 'nonbinary-protagonist',\n 'unreal-5',\n 'tile',\n 'socialist',\n 'City Builder',\n 'words',\n 'twists',\n 'combos',\n 'gb-studio',\n 'stupid',\n 'connected-worlds',\n 'speedrun-friendly',\n 'sleepover',\n 'museum',\n 'kids',\n 'creation',\n 'danganronpa',\n 'desktop-garden',\n 'Escape Game',\n 'ggj20',\n 'Tactical RPG',\n 'baldis-fun-new-school',\n 'womengamesjam',\n 'bitbuddy',\n 'castle',\n 'Visualization',\n 'cell-shading',\n 'storygame',\n 'haunted',\n 'challenges',\n 'Frogs',\n 'school',\n 'daymaretown',\n 'powerquest',\n 'body-image',\n 'army',\n 'Medieval',\n 'linux',\n 'sierra',\n 'marvel',\n 'flatgame',\n 'drama',\n 'cookie',\n 'philosophical',\n 'hauntedps1',\n 'Endless',\n 'kobold',\n 'Ludum Dare 34',\n 'satire',\n '7dfps',\n 'claymation',\n 'operating-system',\n 'vn',\n 'mmf2',\n 'pets',\n 'lion',\n 'love2drawmanga',\n 'skill-based',\n 'jhope',\n 'unsettling',\n 'video',\n 'polyamory',\n 'Strategy RPG',\n 'Fantasy',\n 'paper',\n 'snowman',\n 'html5',\n 'Idle',\n 'Automation',\n 'french',\n 'rock',\n 'wildlife',\n 'venice',\n 'art',\n 'Crafting',\n 'items',\n 'steam',\n 'Detective',\n '10mg',\n 'store',\n 'vandalism',\n 'nb-protagonist',\n 'hypnotic',\n 'binary',\n 'rant',\n 'daily',\n 'Oculus Quest',\n 'grindhouse',\n 'competition',\n 'story-driven',\n 'arthurian',\n 'megaman',\n 'blackthornprod',\n 'frog-jam',\n 'Slice Of Life',\n 'romantic-comedy',\n 'trump',\n 'minigame',\n 'robot-wars',\n 'hiking',\n 'poverty',\n 'entomology',\n 'cosy',\n 'World War I',\n 'marker-games',\n 'fnf-test',\n 'binaural',\n 'croc',\n 'Game Boy',\n 'Skeletons',\n 'chinese',\n 'Vector',\n 'pastel',\n 'gdscript',\n 'map',\n 'Action-Adventure',\n 'Immersive',\n '1-bit',\n 'icarly',\n 'dangan-ronpa',\n 'karamelow',\n 'First-Person',\n 'Gothic',\n 'civil-engineer',\n 'csgo',\n 'enchantment',\n 'baby',\n 'free',\n 'goblets',\n 'puzzle-plateformer',\n 'fiction',\n 'settler',\n 'architecture',\n 'adventurex-jam',\n 'teen',\n 'sweden',\n 'bobble',\n 'train',\n 'phone',\n 'villain-protagonist',\n 'PuzzleScript',\n 'pesterquest',\n 'seduce-me-2',\n 'castlevania',\n 'hiphop',\n 'christianity',\n 'xna',\n 'no-button',\n 'Cozy',\n 'bread',\n 'royalty',\n 'paranormal',\n 'bees',\n 'cowgirl',\n 'wholesome',\n 'Ghosts',\n 'alchemy',\n 'psf',\n 'Wizards',\n 'Ludum Dare 33',\n 'hexagon',\n 'k-pop',\n 'magic-school',\n 'harassment',\n 'art-deco',\n 'Meme',\n 'triad',\n 'deltarune',\n 'foofur',\n 'Pirates',\n 'ditherpunk',\n 'Mountains',\n 'mrbeast',\n 'mind-bending',\n 'time-pressure',\n 'artsy',\n 'Kinetic Novel',\n 'cool-dog',\n 'Relaxing',\n 'couch-coop',\n 'nudity',\n 'boop',\n 'impostor',\n 'brain',\n 'Ludum Dare 43',\n 'scalie',\n 'saopaulo',\n 'political',\n 'diving',\n 'loop',\n 'trexanddrago',\n 'carnaval',\n 'ship',\n 'everlasting-sapling',\n 'world-builder',\n 'cryptids',\n 'chatbot',\n 'otome-jam',\n '80s',\n 'Level Editor',\n 'abduction',\n 'game-dev-simulator',\n 'the-hex',\n 'pixelated',\n 'non-eucledian',\n 'black',\n 'silver',\n 'children',\n 'murder-mystery',\n 'russia',\n 'famicom',\n '3D',\n 'ecology',\n 'pony',\n 'hypnosis',\n 'Procedural Generation',\n 'spielbergian',\n 'toaster',\n 'frenzy',\n 'wilbur-soot',\n 'kemono-games',\n 'autobattle',\n 'timed-puzzle',\n 'nanoreno2017',\n 'ggj2022',\n 'defusal',\n 'mettaton',\n 'outcast',\n 'music-box',\n 'Point & Click',\n 'hypnospace',\n 'bitsyhd',\n 'summer-camp',\n 'train-station',\n 'bishoujo',\n 'Creative',\n 'orbs',\n 'couch-multiplayer',\n 'learn',\n 'outdoors',\n 'Yaoi',\n 'future',\n 'shark',\n 'Commodore 64',\n 'racer',\n 'battlebots',\n 'arcus',\n 'fat',\n 'software',\n 'anti-adventure',\n 'sm2',\n 'fvn',\n 'rococo',\n 'calm',\n 'prom',\n 'Typing',\n 'Tower Defense',\n 'User Interface (UI)',\n 'sitting-simulator',\n 'Co-op',\n 'mermaid',\n '5e',\n 'soviet',\n 'mif2017',\n 'cold',\n 'mythology',\n 'italian',\n 'witches',\n 'Metroidvania',\n 'not-sleeping',\n 'Perma Death',\n 'jeff-bezos',\n 'baldis-basics-plus',\n 'beastman',\n 'sliding-block-puzzle',\n 'amare',\n 'waterfall',\n 'power-star',\n 'clickteam',\n 'Dark Humor',\n 'protagonist-is-still-a-useless-gay',\n 'vinesauce',\n 'raiders',\n 'Atmospheric',\n 'murder',\n 'tma',\n 'precursors',\n 'roller',\n 'boston',\n 'nar8',\n 'hotline-miami',\n 'analog-horror',\n 'yandere-simulator',\n 'tamagotchi',\n 'Wobbly',\n 'filipino',\n 'goose',\n 'Non violent',\n 'mr-boop',\n 'desktop-goose',\n 'line',\n 'blind-accessible',\n 'pokemon',\n 'tools',\n 'realism',\n 'podcast',\n 'Meaningful Choices',\n 'Life Simulation',\n 'flower',\n 'armor',\n 'cf25',\n 'auto-battle',\n 'personal',\n 'ffxiv',\n 'Ludum Dare 49',\n 'die-alot',\n 'Tanks',\n 'turtles',\n 'computer',\n 'sock',\n 'Christmas',\n 'Construct 2',\n 'boyfriend',\n 'Ludum Dare 45',\n 'tiny',\n 'poc-made',\n 'sdr2',\n 'va-11-hall-a',\n 'PSX (PlayStation)',\n 'tiger',\n 'office',\n 'uncommon-breed',\n 'festival',\n 'rhythm-doctor',\n 'auto-biographical',\n 'civilization',\n 'romans-christmas',\n 'personality-test',\n 'horror-rpg',\n 'Gay',\n 'Casual',\n 'nightmare',\n 'rollercoaster',\n 'desktop',\n 'block',\n 'fantasy-console',\n 'magicbench',\n 'aromantic',\n 'snake',\n 'relaxed',\n 'girlfriend-farming-simulator',\n 'bendy',\n 'Ludum Dare 39',\n 'dani',\n 'Godot',\n 'hypnotism',\n 'metal',\n 'Roguelike',\n 'moonsprout-games',\n 'rock-raiders',\n 'physical-game',\n 'library',\n 'pet',\n 'sam',\n 'nathalie-lawhead',\n 'politics',\n 'battlefield',\n 'blacksmith',\n 'screensaver',\n 'fall',\n 'survive',\n 'virtual-pets',\n 'atgm',\n 'jack-king-spooner',\n 'koto',\n 'cathartic',\n 'fashion',\n 'Boss battle',\n 'GBJam',\n 'dress-up',\n 'build-a-boyfriend',\n 'your',\n 'wowie',\n 'gaywesternjam',\n 'clones',\n 'Massively multiplayer',\n 'tracks',\n 'realistic',\n 'contains-at-least-2-dogs',\n 'betty-boop',\n 'Tactical',\n 'atomic',\n 'ukraine',\n 'mood',\n 'Music',\n 'early-2000s',\n 'DRM Free',\n 'tanabata',\n 'flatjam',\n 'gay-visual-novel',\n 'feather',\n 'new-york',\n 'cuckoo',\n 'wasteland-kings',\n 'Tilemap',\n 'gacha-simulator',\n 'everything',\n 'wtf',\n 'five-nights-at-freddys',\n 'One-shot',\n 'managore',\n 'Post-apocalyptic',\n 'men',\n 'ojonmrag',\n 'asexuality',\n 'ten-seconds',\n 'egg',\n 'melon',\n 'Music Production',\n 'dog',\n 'labyrinth',\n 'mascot',\n 'Third Person',\n 'firespike33',\n 'Stencyl',\n 'flowey',\n 'remnants',\n 'birds',\n 'summon',\n 'customization',\n 'amusement-park',\n 'random-generator',\n 'alton-towers',\n 'Trains',\n 'parachute',\n 'hauntedpsx',\n 'soothing',\n 'crew',\n 'Neon',\n 'War',\n 'badtime',\n 'gallery',\n 'orders',\n 'transformers',\n 'dialogue',\n 'smile',\n 'self',\n 'greeting-cards',\n 'chat',\n 'kentucky',\n 'JRPG',\n 'quirky',\n 'Explosions',\n 'Experimental',\n 'comforting-sounds',\n 'digital-hybrid',\n 'Nuclear Throne',\n 'amaregame',\n 'devtober',\n 'miniboss',\n '4X',\n 'Local Co-Op',\n 'vtuber',\n 'lowrezjam2021',\n 'mashup',\n 'virtual-youtuber',\n 'Bara',\n 'quadcopter',\n 'hypertext',\n 'hmk',\n 'Space Sim',\n 'street-harassment',\n 'Stealth',\n 'non-fiction',\n 'the-witch-and-her-assistant',\n 'pigeon',\n 'pc',\n 'madness',\n 'hello-charlotte',\n 'Homebrew',\n 'Lo-fi',\n 'sword',\n 'yandev',\n 'arrows',\n 'family',\n 'base-building',\n 'fae',\n 'tonpa',\n 'make',\n 'crab',\n 'buddy-simulator-1984',\n 'Anime',\n 'directdoggo',\n 'jin',\n 'goblin',\n 'Ludum Dare 44',\n 'Versus',\n 'roommate',\n 'pixel',\n 'japan',\n 'camera',\n 'team-anpim',\n 'secret-santa',\n 'io',\n 'resource',\n 'morbius',\n 'bullet-time',\n 'gadget',\n 'Horror',\n 'gladiator',\n '4-player',\n 'punk',\n 'made-in-bitsy',\n 'Fast-Paced',\n 'text-boxes',\n 'oelvn',\n ...]"
     },
     "execution_count": 11,
     "metadata": {},
     "output_type": "execute_result"
    }
   ],
   "source": [
    "\n",
    "cols = df1.columns.tolist()\n",
    "cols.remove('platform')\n",
    "cols.extend(list(set(', '.join(df1['platform'].unique().tolist()).split(', '))))\n",
    "cols.remove('tags')\n",
    "cols.extend(list(set(', '.join(df1['tags'].unique().tolist()).split(', '))))\n",
    "cols\n"
   ],
   "metadata": {
    "collapsed": false,
    "pycharm": {
     "name": "#%%\n"
    }
   }
  },
  {
   "cell_type": "code",
   "execution_count": 12,
   "outputs": [
    {
     "data": {
      "text/plain": "      index                           title           author price  \\\n0         1            Friday Night Funkin'    ninjamuffin99     0   \n1         2        Adventures With Anxiety!      Nicky Case!     0   \n2         3                  Butterfly Soup      Brianna Lei     0   \n3         4                    A Short Hike         adamgryu  5.19   \n4         5                     Project Kat        Leef 6010     0   \n...     ...                             ...              ...   ...   \n2368   2615                         Epitaph    Max Kreminski     0   \n2369   2616                         10mg :)          torcado     0   \n2370   2617         VTM - Heartless Lullaby  Entalto Studios     0   \n2371   2618  everybody wants to be a tortle            onion     0   \n2372   2619               what's your name?            jelli     0   \n\n                                                    url          status  \\\n0                 https://ninja-muffin24.itch.io/funkin  In development   \n1                         https://ncase.itch.io/anxiety        Released   \n2            https://brianna-lei.itch.io/butterfly-soup        Released   \n3                 https://adamgryu.itch.io/a-short-hike        Released   \n4                   https://leef6010.itch.io/projectkat        Released   \n...                                                 ...             ...   \n2368                   https://mkremins.itch.io/epitaph        Released   \n2369                      https://torcado.itch.io/smile        Released   \n2370  https://entaltostudios.itch.io/vtm-heartless-l...        Released   \n2371                 https://le-onionboi.itch.io/tortle        Released   \n2372                    https://sxilin.itch.io/namegame        Released   \n\n      rating                        made_with accessibility  ASL  ...  deep  \\\n0        4.7          OpenFL, IndieCade, Haxe             0  NaN  ...   NaN   \n1        4.9                              NaN             0  NaN  ...   NaN   \n2        4.9                           Ren'Py             0  NaN  ...   NaN   \n3        4.9                            Unity             1  NaN  ...   NaN   \n4        4.8  Paint Tool SAI, Godot, Aseprite             1  NaN  ...   NaN   \n...      ...                              ...           ...  ...  ...   ...   \n2368     4.6                              NaN             0  NaN  ...   NaN   \n2369     4.9                              NaN             0  NaN  ...   NaN   \n2370     4.9                            Unity             1  NaN  ...   NaN   \n2371     4.9                            Bitsy             0  NaN  ...   NaN   \n2372     4.9                              NaN             0  NaN  ...   NaN   \n\n      dune2  Management  Magic   8  conspiracy  Historical  mac-plus  \\\n0       NaN         NaN    NaN NaN         NaN         NaN       NaN   \n1       NaN         NaN    NaN NaN         NaN         NaN       NaN   \n2       NaN         NaN    NaN NaN         NaN         NaN       NaN   \n3       NaN         NaN    NaN NaN         NaN         NaN       NaN   \n4       NaN         NaN    NaN NaN         NaN         NaN       NaN   \n...     ...         ...    ...  ..         ...         ...       ...   \n2368    NaN         NaN    NaN NaN         NaN         NaN       NaN   \n2369    NaN         NaN    NaN NaN         NaN         NaN       NaN   \n2370    NaN         NaN    NaN NaN         NaN         NaN       NaN   \n2371    NaN         NaN    NaN NaN         NaN         NaN       NaN   \n2372    NaN         NaN    NaN NaN         NaN         NaN       NaN   \n\n      movement  relationships  \n0          NaN            NaN  \n1          NaN            NaN  \n2          NaN            NaN  \n3          NaN            NaN  \n4          NaN            NaN  \n...        ...            ...  \n2368       NaN            NaN  \n2369       NaN            NaN  \n2370       NaN            NaN  \n2371       NaN            NaN  \n2372       NaN            NaN  \n\n[2373 rows x 1964 columns]",
      "text/html": "<div>\n<style scoped>\n    .dataframe tbody tr th:only-of-type {\n        vertical-align: middle;\n    }\n\n    .dataframe tbody tr th {\n        vertical-align: top;\n    }\n\n    .dataframe thead th {\n        text-align: right;\n    }\n</style>\n<table border=\"1\" class=\"dataframe\">\n  <thead>\n    <tr style=\"text-align: right;\">\n      <th></th>\n      <th>index</th>\n      <th>title</th>\n      <th>author</th>\n      <th>price</th>\n      <th>url</th>\n      <th>status</th>\n      <th>rating</th>\n      <th>made_with</th>\n      <th>accessibility</th>\n      <th>ASL</th>\n      <th>...</th>\n      <th>deep</th>\n      <th>dune2</th>\n      <th>Management</th>\n      <th>Magic</th>\n      <th>8</th>\n      <th>conspiracy</th>\n      <th>Historical</th>\n      <th>mac-plus</th>\n      <th>movement</th>\n      <th>relationships</th>\n    </tr>\n  </thead>\n  <tbody>\n    <tr>\n      <th>0</th>\n      <td>1</td>\n      <td>Friday Night Funkin'</td>\n      <td>ninjamuffin99</td>\n      <td>0</td>\n      <td>https://ninja-muffin24.itch.io/funkin</td>\n      <td>In development</td>\n      <td>4.7</td>\n      <td>OpenFL, IndieCade, Haxe</td>\n      <td>0</td>\n      <td>NaN</td>\n      <td>...</td>\n      <td>NaN</td>\n      <td>NaN</td>\n      <td>NaN</td>\n      <td>NaN</td>\n      <td>NaN</td>\n      <td>NaN</td>\n      <td>NaN</td>\n      <td>NaN</td>\n      <td>NaN</td>\n      <td>NaN</td>\n    </tr>\n    <tr>\n      <th>1</th>\n      <td>2</td>\n      <td>Adventures With Anxiety!</td>\n      <td>Nicky Case!</td>\n      <td>0</td>\n      <td>https://ncase.itch.io/anxiety</td>\n      <td>Released</td>\n      <td>4.9</td>\n      <td>NaN</td>\n      <td>0</td>\n      <td>NaN</td>\n      <td>...</td>\n      <td>NaN</td>\n      <td>NaN</td>\n      <td>NaN</td>\n      <td>NaN</td>\n      <td>NaN</td>\n      <td>NaN</td>\n      <td>NaN</td>\n      <td>NaN</td>\n      <td>NaN</td>\n      <td>NaN</td>\n    </tr>\n    <tr>\n      <th>2</th>\n      <td>3</td>\n      <td>Butterfly Soup</td>\n      <td>Brianna Lei</td>\n      <td>0</td>\n      <td>https://brianna-lei.itch.io/butterfly-soup</td>\n      <td>Released</td>\n      <td>4.9</td>\n      <td>Ren'Py</td>\n      <td>0</td>\n      <td>NaN</td>\n      <td>...</td>\n      <td>NaN</td>\n      <td>NaN</td>\n      <td>NaN</td>\n      <td>NaN</td>\n      <td>NaN</td>\n      <td>NaN</td>\n      <td>NaN</td>\n      <td>NaN</td>\n      <td>NaN</td>\n      <td>NaN</td>\n    </tr>\n    <tr>\n      <th>3</th>\n      <td>4</td>\n      <td>A Short Hike</td>\n      <td>adamgryu</td>\n      <td>5.19</td>\n      <td>https://adamgryu.itch.io/a-short-hike</td>\n      <td>Released</td>\n      <td>4.9</td>\n      <td>Unity</td>\n      <td>1</td>\n      <td>NaN</td>\n      <td>...</td>\n      <td>NaN</td>\n      <td>NaN</td>\n      <td>NaN</td>\n      <td>NaN</td>\n      <td>NaN</td>\n      <td>NaN</td>\n      <td>NaN</td>\n      <td>NaN</td>\n      <td>NaN</td>\n      <td>NaN</td>\n    </tr>\n    <tr>\n      <th>4</th>\n      <td>5</td>\n      <td>Project Kat</td>\n      <td>Leef 6010</td>\n      <td>0</td>\n      <td>https://leef6010.itch.io/projectkat</td>\n      <td>Released</td>\n      <td>4.8</td>\n      <td>Paint Tool SAI, Godot, Aseprite</td>\n      <td>1</td>\n      <td>NaN</td>\n      <td>...</td>\n      <td>NaN</td>\n      <td>NaN</td>\n      <td>NaN</td>\n      <td>NaN</td>\n      <td>NaN</td>\n      <td>NaN</td>\n      <td>NaN</td>\n      <td>NaN</td>\n      <td>NaN</td>\n      <td>NaN</td>\n    </tr>\n    <tr>\n      <th>...</th>\n      <td>...</td>\n      <td>...</td>\n      <td>...</td>\n      <td>...</td>\n      <td>...</td>\n      <td>...</td>\n      <td>...</td>\n      <td>...</td>\n      <td>...</td>\n      <td>...</td>\n      <td>...</td>\n      <td>...</td>\n      <td>...</td>\n      <td>...</td>\n      <td>...</td>\n      <td>...</td>\n      <td>...</td>\n      <td>...</td>\n      <td>...</td>\n      <td>...</td>\n      <td>...</td>\n    </tr>\n    <tr>\n      <th>2368</th>\n      <td>2615</td>\n      <td>Epitaph</td>\n      <td>Max Kreminski</td>\n      <td>0</td>\n      <td>https://mkremins.itch.io/epitaph</td>\n      <td>Released</td>\n      <td>4.6</td>\n      <td>NaN</td>\n      <td>0</td>\n      <td>NaN</td>\n      <td>...</td>\n      <td>NaN</td>\n      <td>NaN</td>\n      <td>NaN</td>\n      <td>NaN</td>\n      <td>NaN</td>\n      <td>NaN</td>\n      <td>NaN</td>\n      <td>NaN</td>\n      <td>NaN</td>\n      <td>NaN</td>\n    </tr>\n    <tr>\n      <th>2369</th>\n      <td>2616</td>\n      <td>10mg :)</td>\n      <td>torcado</td>\n      <td>0</td>\n      <td>https://torcado.itch.io/smile</td>\n      <td>Released</td>\n      <td>4.9</td>\n      <td>NaN</td>\n      <td>0</td>\n      <td>NaN</td>\n      <td>...</td>\n      <td>NaN</td>\n      <td>NaN</td>\n      <td>NaN</td>\n      <td>NaN</td>\n      <td>NaN</td>\n      <td>NaN</td>\n      <td>NaN</td>\n      <td>NaN</td>\n      <td>NaN</td>\n      <td>NaN</td>\n    </tr>\n    <tr>\n      <th>2370</th>\n      <td>2617</td>\n      <td>VTM - Heartless Lullaby</td>\n      <td>Entalto Studios</td>\n      <td>0</td>\n      <td>https://entaltostudios.itch.io/vtm-heartless-l...</td>\n      <td>Released</td>\n      <td>4.9</td>\n      <td>Unity</td>\n      <td>1</td>\n      <td>NaN</td>\n      <td>...</td>\n      <td>NaN</td>\n      <td>NaN</td>\n      <td>NaN</td>\n      <td>NaN</td>\n      <td>NaN</td>\n      <td>NaN</td>\n      <td>NaN</td>\n      <td>NaN</td>\n      <td>NaN</td>\n      <td>NaN</td>\n    </tr>\n    <tr>\n      <th>2371</th>\n      <td>2618</td>\n      <td>everybody wants to be a tortle</td>\n      <td>onion</td>\n      <td>0</td>\n      <td>https://le-onionboi.itch.io/tortle</td>\n      <td>Released</td>\n      <td>4.9</td>\n      <td>Bitsy</td>\n      <td>0</td>\n      <td>NaN</td>\n      <td>...</td>\n      <td>NaN</td>\n      <td>NaN</td>\n      <td>NaN</td>\n      <td>NaN</td>\n      <td>NaN</td>\n      <td>NaN</td>\n      <td>NaN</td>\n      <td>NaN</td>\n      <td>NaN</td>\n      <td>NaN</td>\n    </tr>\n    <tr>\n      <th>2372</th>\n      <td>2619</td>\n      <td>what's your name?</td>\n      <td>jelli</td>\n      <td>0</td>\n      <td>https://sxilin.itch.io/namegame</td>\n      <td>Released</td>\n      <td>4.9</td>\n      <td>NaN</td>\n      <td>0</td>\n      <td>NaN</td>\n      <td>...</td>\n      <td>NaN</td>\n      <td>NaN</td>\n      <td>NaN</td>\n      <td>NaN</td>\n      <td>NaN</td>\n      <td>NaN</td>\n      <td>NaN</td>\n      <td>NaN</td>\n      <td>NaN</td>\n      <td>NaN</td>\n    </tr>\n  </tbody>\n</table>\n<p>2373 rows × 1964 columns</p>\n</div>"
     },
     "execution_count": 12,
     "metadata": {},
     "output_type": "execute_result"
    }
   ],
   "source": [
    "new_df = pd.DataFrame(columns=cols, data=df1)\n",
    "new_df"
   ],
   "metadata": {
    "collapsed": false,
    "pycharm": {
     "name": "#%%\n"
    }
   }
  },
  {
   "cell_type": "code",
   "execution_count": 34,
   "outputs": [
    {
     "data": {
      "text/plain": "count      2373\nunique     2324\ntop       Bitsy\nfreq          6\nName: tags, dtype: object"
     },
     "execution_count": 34,
     "metadata": {},
     "output_type": "execute_result"
    }
   ],
   "source": [],
   "metadata": {
    "collapsed": false,
    "pycharm": {
     "name": "#%%\n"
    }
   }
  },
  {
   "cell_type": "code",
   "execution_count": 34,
   "outputs": [],
   "source": [],
   "metadata": {
    "collapsed": false,
    "pycharm": {
     "name": "#%%\n"
    }
   }
  },
  {
   "cell_type": "code",
   "execution_count": 35,
   "outputs": [],
   "source": [
    "#test.to_csv('test.csv',sep='\\t', index=False)"
   ],
   "metadata": {
    "collapsed": false,
    "pycharm": {
     "name": "#%%\n"
    }
   }
  },
  {
   "cell_type": "markdown",
   "source": [],
   "metadata": {
    "collapsed": false,
    "pycharm": {
     "name": "#%% md\n"
    }
   }
  },
  {
   "cell_type": "code",
   "execution_count": 35,
   "outputs": [],
   "source": [
    "\n"
   ],
   "metadata": {
    "collapsed": false,
    "pycharm": {
     "name": "#%%\n"
    }
   }
  },
  {
   "cell_type": "code",
   "execution_count": 36,
   "outputs": [],
   "source": [
    "#test1 = pd.read_csv(\"test.csv \",error_bad_lines=False,sep='\\t')"
   ],
   "metadata": {
    "collapsed": false,
    "pycharm": {
     "name": "#%%\n"
    }
   }
  },
  {
   "cell_type": "code",
   "execution_count": 13,
   "outputs": [
    {
     "data": {
      "text/plain": "      index                           title           author price  \\\n0         1            Friday Night Funkin'    ninjamuffin99     0   \n1         2        Adventures With Anxiety!      Nicky Case!     0   \n2         3                  Butterfly Soup      Brianna Lei     0   \n3         4                    A Short Hike         adamgryu  5.19   \n4         5                     Project Kat        Leef 6010     0   \n...     ...                             ...              ...   ...   \n2368   2615                         Epitaph    Max Kreminski     0   \n2369   2616                         10mg :)          torcado     0   \n2370   2617         VTM - Heartless Lullaby  Entalto Studios     0   \n2371   2618  everybody wants to be a tortle            onion     0   \n2372   2619               what's your name?            jelli     0   \n\n                                                    url          status  \\\n0                 https://ninja-muffin24.itch.io/funkin  In development   \n1                         https://ncase.itch.io/anxiety        Released   \n2            https://brianna-lei.itch.io/butterfly-soup        Released   \n3                 https://adamgryu.itch.io/a-short-hike        Released   \n4                   https://leef6010.itch.io/projectkat        Released   \n...                                                 ...             ...   \n2368                   https://mkremins.itch.io/epitaph        Released   \n2369                      https://torcado.itch.io/smile        Released   \n2370  https://entaltostudios.itch.io/vtm-heartless-l...        Released   \n2371                 https://le-onionboi.itch.io/tortle        Released   \n2372                    https://sxilin.itch.io/namegame        Released   \n\n      rating                        made_with accessibility  ASL  ...  deep  \\\n0        4.7          OpenFL, IndieCade, Haxe             0  NaN  ...   NaN   \n1        4.9                              NaN             0  NaN  ...   NaN   \n2        4.9                           Ren'Py             0  NaN  ...   NaN   \n3        4.9                            Unity             1  NaN  ...   NaN   \n4        4.8  Paint Tool SAI, Godot, Aseprite             1  NaN  ...   NaN   \n...      ...                              ...           ...  ...  ...   ...   \n2368     4.6                              NaN             0  NaN  ...   NaN   \n2369     4.9                              NaN             0  NaN  ...   NaN   \n2370     4.9                            Unity             1  NaN  ...   NaN   \n2371     4.9                            Bitsy             0  NaN  ...   NaN   \n2372     4.9                              NaN             0  NaN  ...   NaN   \n\n      Open World  day-of-the-tentacle  memoir  angst  protocorgi  come  \\\n0            NaN                  NaN     NaN    NaN         NaN   NaN   \n1            NaN                  NaN     NaN    NaN         NaN   NaN   \n2            NaN                  NaN     NaN    NaN         NaN   NaN   \n3            NaN                  NaN     NaN    NaN         NaN   NaN   \n4            NaN                  NaN     NaN    NaN         NaN   NaN   \n...          ...                  ...     ...    ...         ...   ...   \n2368         NaN                  NaN     NaN    NaN         NaN   NaN   \n2369         NaN                  NaN     NaN    NaN         NaN   NaN   \n2370         NaN                  NaN     NaN    NaN         NaN   NaN   \n2371         NaN                  NaN     NaN    NaN         NaN   NaN   \n2372         NaN                  NaN     NaN    NaN         NaN   NaN   \n\n      Ludum Dare 47  Psychological Horror  office  \n0               NaN                   NaN     NaN  \n1               NaN                   NaN     NaN  \n2               NaN                   NaN     NaN  \n3               NaN                   NaN     NaN  \n4               NaN                   NaN     NaN  \n...             ...                   ...     ...  \n2368            NaN                   NaN     NaN  \n2369            NaN                   NaN     NaN  \n2370            NaN                   NaN     NaN  \n2371            NaN                   NaN     NaN  \n2372            NaN                   NaN     NaN  \n\n[2373 rows x 1964 columns]",
      "text/html": "<div>\n<style scoped>\n    .dataframe tbody tr th:only-of-type {\n        vertical-align: middle;\n    }\n\n    .dataframe tbody tr th {\n        vertical-align: top;\n    }\n\n    .dataframe thead th {\n        text-align: right;\n    }\n</style>\n<table border=\"1\" class=\"dataframe\">\n  <thead>\n    <tr style=\"text-align: right;\">\n      <th></th>\n      <th>index</th>\n      <th>title</th>\n      <th>author</th>\n      <th>price</th>\n      <th>url</th>\n      <th>status</th>\n      <th>rating</th>\n      <th>made_with</th>\n      <th>accessibility</th>\n      <th>ASL</th>\n      <th>...</th>\n      <th>deep</th>\n      <th>Open World</th>\n      <th>day-of-the-tentacle</th>\n      <th>memoir</th>\n      <th>angst</th>\n      <th>protocorgi</th>\n      <th>come</th>\n      <th>Ludum Dare 47</th>\n      <th>Psychological Horror</th>\n      <th>office</th>\n    </tr>\n  </thead>\n  <tbody>\n    <tr>\n      <th>0</th>\n      <td>1</td>\n      <td>Friday Night Funkin'</td>\n      <td>ninjamuffin99</td>\n      <td>0</td>\n      <td>https://ninja-muffin24.itch.io/funkin</td>\n      <td>In development</td>\n      <td>4.7</td>\n      <td>OpenFL, IndieCade, Haxe</td>\n      <td>0</td>\n      <td>NaN</td>\n      <td>...</td>\n      <td>NaN</td>\n      <td>NaN</td>\n      <td>NaN</td>\n      <td>NaN</td>\n      <td>NaN</td>\n      <td>NaN</td>\n      <td>NaN</td>\n      <td>NaN</td>\n      <td>NaN</td>\n      <td>NaN</td>\n    </tr>\n    <tr>\n      <th>1</th>\n      <td>2</td>\n      <td>Adventures With Anxiety!</td>\n      <td>Nicky Case!</td>\n      <td>0</td>\n      <td>https://ncase.itch.io/anxiety</td>\n      <td>Released</td>\n      <td>4.9</td>\n      <td>NaN</td>\n      <td>0</td>\n      <td>NaN</td>\n      <td>...</td>\n      <td>NaN</td>\n      <td>NaN</td>\n      <td>NaN</td>\n      <td>NaN</td>\n      <td>NaN</td>\n      <td>NaN</td>\n      <td>NaN</td>\n      <td>NaN</td>\n      <td>NaN</td>\n      <td>NaN</td>\n    </tr>\n    <tr>\n      <th>2</th>\n      <td>3</td>\n      <td>Butterfly Soup</td>\n      <td>Brianna Lei</td>\n      <td>0</td>\n      <td>https://brianna-lei.itch.io/butterfly-soup</td>\n      <td>Released</td>\n      <td>4.9</td>\n      <td>Ren'Py</td>\n      <td>0</td>\n      <td>NaN</td>\n      <td>...</td>\n      <td>NaN</td>\n      <td>NaN</td>\n      <td>NaN</td>\n      <td>NaN</td>\n      <td>NaN</td>\n      <td>NaN</td>\n      <td>NaN</td>\n      <td>NaN</td>\n      <td>NaN</td>\n      <td>NaN</td>\n    </tr>\n    <tr>\n      <th>3</th>\n      <td>4</td>\n      <td>A Short Hike</td>\n      <td>adamgryu</td>\n      <td>5.19</td>\n      <td>https://adamgryu.itch.io/a-short-hike</td>\n      <td>Released</td>\n      <td>4.9</td>\n      <td>Unity</td>\n      <td>1</td>\n      <td>NaN</td>\n      <td>...</td>\n      <td>NaN</td>\n      <td>NaN</td>\n      <td>NaN</td>\n      <td>NaN</td>\n      <td>NaN</td>\n      <td>NaN</td>\n      <td>NaN</td>\n      <td>NaN</td>\n      <td>NaN</td>\n      <td>NaN</td>\n    </tr>\n    <tr>\n      <th>4</th>\n      <td>5</td>\n      <td>Project Kat</td>\n      <td>Leef 6010</td>\n      <td>0</td>\n      <td>https://leef6010.itch.io/projectkat</td>\n      <td>Released</td>\n      <td>4.8</td>\n      <td>Paint Tool SAI, Godot, Aseprite</td>\n      <td>1</td>\n      <td>NaN</td>\n      <td>...</td>\n      <td>NaN</td>\n      <td>NaN</td>\n      <td>NaN</td>\n      <td>NaN</td>\n      <td>NaN</td>\n      <td>NaN</td>\n      <td>NaN</td>\n      <td>NaN</td>\n      <td>NaN</td>\n      <td>NaN</td>\n    </tr>\n    <tr>\n      <th>...</th>\n      <td>...</td>\n      <td>...</td>\n      <td>...</td>\n      <td>...</td>\n      <td>...</td>\n      <td>...</td>\n      <td>...</td>\n      <td>...</td>\n      <td>...</td>\n      <td>...</td>\n      <td>...</td>\n      <td>...</td>\n      <td>...</td>\n      <td>...</td>\n      <td>...</td>\n      <td>...</td>\n      <td>...</td>\n      <td>...</td>\n      <td>...</td>\n      <td>...</td>\n      <td>...</td>\n    </tr>\n    <tr>\n      <th>2368</th>\n      <td>2615</td>\n      <td>Epitaph</td>\n      <td>Max Kreminski</td>\n      <td>0</td>\n      <td>https://mkremins.itch.io/epitaph</td>\n      <td>Released</td>\n      <td>4.6</td>\n      <td>NaN</td>\n      <td>0</td>\n      <td>NaN</td>\n      <td>...</td>\n      <td>NaN</td>\n      <td>NaN</td>\n      <td>NaN</td>\n      <td>NaN</td>\n      <td>NaN</td>\n      <td>NaN</td>\n      <td>NaN</td>\n      <td>NaN</td>\n      <td>NaN</td>\n      <td>NaN</td>\n    </tr>\n    <tr>\n      <th>2369</th>\n      <td>2616</td>\n      <td>10mg :)</td>\n      <td>torcado</td>\n      <td>0</td>\n      <td>https://torcado.itch.io/smile</td>\n      <td>Released</td>\n      <td>4.9</td>\n      <td>NaN</td>\n      <td>0</td>\n      <td>NaN</td>\n      <td>...</td>\n      <td>NaN</td>\n      <td>NaN</td>\n      <td>NaN</td>\n      <td>NaN</td>\n      <td>NaN</td>\n      <td>NaN</td>\n      <td>NaN</td>\n      <td>NaN</td>\n      <td>NaN</td>\n      <td>NaN</td>\n    </tr>\n    <tr>\n      <th>2370</th>\n      <td>2617</td>\n      <td>VTM - Heartless Lullaby</td>\n      <td>Entalto Studios</td>\n      <td>0</td>\n      <td>https://entaltostudios.itch.io/vtm-heartless-l...</td>\n      <td>Released</td>\n      <td>4.9</td>\n      <td>Unity</td>\n      <td>1</td>\n      <td>NaN</td>\n      <td>...</td>\n      <td>NaN</td>\n      <td>NaN</td>\n      <td>NaN</td>\n      <td>NaN</td>\n      <td>NaN</td>\n      <td>NaN</td>\n      <td>NaN</td>\n      <td>NaN</td>\n      <td>NaN</td>\n      <td>NaN</td>\n    </tr>\n    <tr>\n      <th>2371</th>\n      <td>2618</td>\n      <td>everybody wants to be a tortle</td>\n      <td>onion</td>\n      <td>0</td>\n      <td>https://le-onionboi.itch.io/tortle</td>\n      <td>Released</td>\n      <td>4.9</td>\n      <td>Bitsy</td>\n      <td>0</td>\n      <td>NaN</td>\n      <td>...</td>\n      <td>NaN</td>\n      <td>NaN</td>\n      <td>NaN</td>\n      <td>NaN</td>\n      <td>NaN</td>\n      <td>NaN</td>\n      <td>NaN</td>\n      <td>NaN</td>\n      <td>NaN</td>\n      <td>NaN</td>\n    </tr>\n    <tr>\n      <th>2372</th>\n      <td>2619</td>\n      <td>what's your name?</td>\n      <td>jelli</td>\n      <td>0</td>\n      <td>https://sxilin.itch.io/namegame</td>\n      <td>Released</td>\n      <td>4.9</td>\n      <td>NaN</td>\n      <td>0</td>\n      <td>NaN</td>\n      <td>...</td>\n      <td>NaN</td>\n      <td>NaN</td>\n      <td>NaN</td>\n      <td>NaN</td>\n      <td>NaN</td>\n      <td>NaN</td>\n      <td>NaN</td>\n      <td>NaN</td>\n      <td>NaN</td>\n      <td>NaN</td>\n    </tr>\n  </tbody>\n</table>\n<p>2373 rows × 1964 columns</p>\n</div>"
     },
     "execution_count": 13,
     "metadata": {},
     "output_type": "execute_result"
    }
   ],
   "source": [],
   "metadata": {
    "collapsed": false,
    "pycharm": {
     "name": "#%%\n"
    }
   }
  },
  {
   "cell_type": "code",
   "execution_count": 38,
   "outputs": [
    {
     "data": {
      "text/plain": "      index                           title           author price  \\\n0         1            Friday Night Funkin'    ninjamuffin99     0   \n1         2        Adventures With Anxiety!      Nicky Case!     0   \n2         3                  Butterfly Soup      Brianna Lei     0   \n3         4                    A Short Hike         adamgryu  5.19   \n4         5                     Project Kat        Leef 6010     0   \n...     ...                             ...              ...   ...   \n2368   2615                         Epitaph    Max Kreminski     0   \n2369   2616                         10mg :)          torcado     0   \n2370   2617         VTM - Heartless Lullaby  Entalto Studios     0   \n2371   2618  everybody wants to be a tortle            onion     0   \n2372   2619               what's your name?            jelli     0   \n\n                                                    url          status  \\\n0                 https://ninja-muffin24.itch.io/funkin  In development   \n1                         https://ncase.itch.io/anxiety        Released   \n2            https://brianna-lei.itch.io/butterfly-soup        Released   \n3                 https://adamgryu.itch.io/a-short-hike        Released   \n4                   https://leef6010.itch.io/projectkat        Released   \n...                                                 ...             ...   \n2368                   https://mkremins.itch.io/epitaph        Released   \n2369                      https://torcado.itch.io/smile        Released   \n2370  https://entaltostudios.itch.io/vtm-heartless-l...        Released   \n2371                 https://le-onionboi.itch.io/tortle        Released   \n2372                    https://sxilin.itch.io/namegame        Released   \n\n                          platform  rating                        made_with  \\\n0     Windows, macOS, Linux, HTML5     4.7          OpenFL, IndieCade, Haxe   \n1                            HTML5     4.9                              NaN   \n2            Windows, macOS, Linux     4.9                           Ren'Py   \n3            Windows, macOS, Linux     4.9                            Unity   \n4            Windows, macOS, Linux     4.8  Paint Tool SAI, Godot, Aseprite   \n...                            ...     ...                              ...   \n2368                         HTML5     4.6                              NaN   \n2369         Windows, macOS, Linux     4.9                              NaN   \n2370                Windows, macOS     4.9                            Unity   \n2371                         HTML5     4.9                            Bitsy   \n2372         Windows, macOS, Linux     4.9                              NaN   \n\n                                                   tags accessibility  ASL  \n0                                                    2D             0  NaN  \n1                      Comedy, Mental Health, Narrative             0  NaN  \n2     2D, Anime, Female Protagonist, LGBT, Ren'Py, R...             0  NaN  \n3     3D, Atmospheric, Cute, Funny, nature, Relaxing...             1  NaN  \n4     2D, Anime, Cute, Horror, Pixel Art, RPG Maker,...             1  NaN  \n...                                                 ...           ...  ...  \n2368  Aliens, fermijam, Procedural Generation, Text ...             0  NaN  \n2369  10mg, 10-minute-games, Cute, Minimalist, Short...             0  NaN  \n2370  Dark, Horror, Isometric, Meaningful Choices, M...             1  NaN  \n2371              Bitsy, everyone-is-nonbinary, turtles             0  NaN  \n2372                             Furry, LGBT, Narrative             0  NaN  \n\n[2373 rows x 12 columns]",
      "text/html": "<div>\n<style scoped>\n    .dataframe tbody tr th:only-of-type {\n        vertical-align: middle;\n    }\n\n    .dataframe tbody tr th {\n        vertical-align: top;\n    }\n\n    .dataframe thead th {\n        text-align: right;\n    }\n</style>\n<table border=\"1\" class=\"dataframe\">\n  <thead>\n    <tr style=\"text-align: right;\">\n      <th></th>\n      <th>index</th>\n      <th>title</th>\n      <th>author</th>\n      <th>price</th>\n      <th>url</th>\n      <th>status</th>\n      <th>platform</th>\n      <th>rating</th>\n      <th>made_with</th>\n      <th>tags</th>\n      <th>accessibility</th>\n      <th>ASL</th>\n    </tr>\n  </thead>\n  <tbody>\n    <tr>\n      <th>0</th>\n      <td>1</td>\n      <td>Friday Night Funkin'</td>\n      <td>ninjamuffin99</td>\n      <td>0</td>\n      <td>https://ninja-muffin24.itch.io/funkin</td>\n      <td>In development</td>\n      <td>Windows, macOS, Linux, HTML5</td>\n      <td>4.7</td>\n      <td>OpenFL, IndieCade, Haxe</td>\n      <td>2D</td>\n      <td>0</td>\n      <td>NaN</td>\n    </tr>\n    <tr>\n      <th>1</th>\n      <td>2</td>\n      <td>Adventures With Anxiety!</td>\n      <td>Nicky Case!</td>\n      <td>0</td>\n      <td>https://ncase.itch.io/anxiety</td>\n      <td>Released</td>\n      <td>HTML5</td>\n      <td>4.9</td>\n      <td>NaN</td>\n      <td>Comedy, Mental Health, Narrative</td>\n      <td>0</td>\n      <td>NaN</td>\n    </tr>\n    <tr>\n      <th>2</th>\n      <td>3</td>\n      <td>Butterfly Soup</td>\n      <td>Brianna Lei</td>\n      <td>0</td>\n      <td>https://brianna-lei.itch.io/butterfly-soup</td>\n      <td>Released</td>\n      <td>Windows, macOS, Linux</td>\n      <td>4.9</td>\n      <td>Ren'Py</td>\n      <td>2D, Anime, Female Protagonist, LGBT, Ren'Py, R...</td>\n      <td>0</td>\n      <td>NaN</td>\n    </tr>\n    <tr>\n      <th>3</th>\n      <td>4</td>\n      <td>A Short Hike</td>\n      <td>adamgryu</td>\n      <td>5.19</td>\n      <td>https://adamgryu.itch.io/a-short-hike</td>\n      <td>Released</td>\n      <td>Windows, macOS, Linux</td>\n      <td>4.9</td>\n      <td>Unity</td>\n      <td>3D, Atmospheric, Cute, Funny, nature, Relaxing...</td>\n      <td>1</td>\n      <td>NaN</td>\n    </tr>\n    <tr>\n      <th>4</th>\n      <td>5</td>\n      <td>Project Kat</td>\n      <td>Leef 6010</td>\n      <td>0</td>\n      <td>https://leef6010.itch.io/projectkat</td>\n      <td>Released</td>\n      <td>Windows, macOS, Linux</td>\n      <td>4.8</td>\n      <td>Paint Tool SAI, Godot, Aseprite</td>\n      <td>2D, Anime, Cute, Horror, Pixel Art, RPG Maker,...</td>\n      <td>1</td>\n      <td>NaN</td>\n    </tr>\n    <tr>\n      <th>...</th>\n      <td>...</td>\n      <td>...</td>\n      <td>...</td>\n      <td>...</td>\n      <td>...</td>\n      <td>...</td>\n      <td>...</td>\n      <td>...</td>\n      <td>...</td>\n      <td>...</td>\n      <td>...</td>\n      <td>...</td>\n    </tr>\n    <tr>\n      <th>2368</th>\n      <td>2615</td>\n      <td>Epitaph</td>\n      <td>Max Kreminski</td>\n      <td>0</td>\n      <td>https://mkremins.itch.io/epitaph</td>\n      <td>Released</td>\n      <td>HTML5</td>\n      <td>4.6</td>\n      <td>NaN</td>\n      <td>Aliens, fermijam, Procedural Generation, Text ...</td>\n      <td>0</td>\n      <td>NaN</td>\n    </tr>\n    <tr>\n      <th>2369</th>\n      <td>2616</td>\n      <td>10mg :)</td>\n      <td>torcado</td>\n      <td>0</td>\n      <td>https://torcado.itch.io/smile</td>\n      <td>Released</td>\n      <td>Windows, macOS, Linux</td>\n      <td>4.9</td>\n      <td>NaN</td>\n      <td>10mg, 10-minute-games, Cute, Minimalist, Short...</td>\n      <td>0</td>\n      <td>NaN</td>\n    </tr>\n    <tr>\n      <th>2370</th>\n      <td>2617</td>\n      <td>VTM - Heartless Lullaby</td>\n      <td>Entalto Studios</td>\n      <td>0</td>\n      <td>https://entaltostudios.itch.io/vtm-heartless-l...</td>\n      <td>Released</td>\n      <td>Windows, macOS</td>\n      <td>4.9</td>\n      <td>Unity</td>\n      <td>Dark, Horror, Isometric, Meaningful Choices, M...</td>\n      <td>1</td>\n      <td>NaN</td>\n    </tr>\n    <tr>\n      <th>2371</th>\n      <td>2618</td>\n      <td>everybody wants to be a tortle</td>\n      <td>onion</td>\n      <td>0</td>\n      <td>https://le-onionboi.itch.io/tortle</td>\n      <td>Released</td>\n      <td>HTML5</td>\n      <td>4.9</td>\n      <td>Bitsy</td>\n      <td>Bitsy, everyone-is-nonbinary, turtles</td>\n      <td>0</td>\n      <td>NaN</td>\n    </tr>\n    <tr>\n      <th>2372</th>\n      <td>2619</td>\n      <td>what's your name?</td>\n      <td>jelli</td>\n      <td>0</td>\n      <td>https://sxilin.itch.io/namegame</td>\n      <td>Released</td>\n      <td>Windows, macOS, Linux</td>\n      <td>4.9</td>\n      <td>NaN</td>\n      <td>Furry, LGBT, Narrative</td>\n      <td>0</td>\n      <td>NaN</td>\n    </tr>\n  </tbody>\n</table>\n<p>2373 rows × 12 columns</p>\n</div>"
     },
     "execution_count": 38,
     "metadata": {},
     "output_type": "execute_result"
    }
   ],
   "source": [
    "df1"
   ],
   "metadata": {
    "collapsed": false,
    "pycharm": {
     "name": "#%%\n"
    }
   }
  },
  {
   "cell_type": "code",
   "execution_count": 39,
   "outputs": [
    {
     "data": {
      "text/plain": "0       Windows, macOS, Linux, HTML5\n1                              HTML5\n2              Windows, macOS, Linux\n3              Windows, macOS, Linux\n4              Windows, macOS, Linux\n                    ...             \n2368                           HTML5\n2369           Windows, macOS, Linux\n2370                  Windows, macOS\n2371                           HTML5\n2372           Windows, macOS, Linux\nName: platform, Length: 2373, dtype: object"
     },
     "execution_count": 39,
     "metadata": {},
     "output_type": "execute_result"
    }
   ],
   "source": [
    "df1.platform"
   ],
   "metadata": {
    "collapsed": false,
    "pycharm": {
     "name": "#%%\n"
    }
   }
  },
  {
   "cell_type": "code",
   "execution_count": null,
   "outputs": [],
   "source": [
    "for i in range(len(df1['platform'])):\n",
    "    for col in df1['platform'][i].split(', '):\n",
    "        new_df[col][i] = 1\n",
    "\n",
    "print(new_df)\n"
   ],
   "metadata": {
    "collapsed": false,
    "pycharm": {
     "name": "#%%\n",
     "is_executing": true
    }
   }
  },
  {
   "cell_type": "code",
   "execution_count": 60,
   "outputs": [],
   "source": [
    "for i in range(len(df1['tags'])):\n",
    "    for col in df1['tags'][i].split(', '):\n",
    "        new_df[col][i] =1.0\n",
    "\n"
   ],
   "metadata": {
    "collapsed": false,
    "pycharm": {
     "name": "#%%\n"
    }
   }
  },
  {
   "cell_type": "code",
   "execution_count": 14,
   "outputs": [
    {
     "data": {
      "text/plain": "0      NaN\n1      NaN\n2      NaN\n3      NaN\n4      NaN\n        ..\n2368   NaN\n2369   NaN\n2370   NaN\n2371   NaN\n2372   NaN\nName: Windows, Length: 2373, dtype: float64"
     },
     "execution_count": 14,
     "metadata": {},
     "output_type": "execute_result"
    }
   ],
   "source": [
    "#new_df = new_df.fillna('0')\n",
    "new_df.Windows"
   ],
   "metadata": {
    "collapsed": false,
    "pycharm": {
     "name": "#%%\n"
    }
   }
  },
  {
   "cell_type": "code",
   "execution_count": 15,
   "outputs": [
    {
     "data": {
      "text/plain": "count    0.0\nmean     NaN\nstd      NaN\nmin      NaN\n25%      NaN\n50%      NaN\n75%      NaN\nmax      NaN\nName: Windows, dtype: float64"
     },
     "execution_count": 15,
     "metadata": {},
     "output_type": "execute_result"
    }
   ],
   "source": [
    "new_df.Windows.describe()"
   ],
   "metadata": {
    "collapsed": false,
    "pycharm": {
     "name": "#%%\n"
    }
   }
  },
  {
   "cell_type": "code",
   "execution_count": 43,
   "outputs": [],
   "source": [],
   "metadata": {
    "collapsed": false,
    "pycharm": {
     "name": "#%%\n"
    }
   }
  }
 ],
 "metadata": {
  "kernelspec": {
   "display_name": "Python 3",
   "language": "python",
   "name": "python3"
  },
  "language_info": {
   "codemirror_mode": {
    "name": "ipython",
    "version": 2
   },
   "file_extension": ".py",
   "mimetype": "text/x-python",
   "name": "python",
   "nbconvert_exporter": "python",
   "pygments_lexer": "ipython2",
   "version": "2.7.6"
  }
 },
 "nbformat": 4,
 "nbformat_minor": 0
}